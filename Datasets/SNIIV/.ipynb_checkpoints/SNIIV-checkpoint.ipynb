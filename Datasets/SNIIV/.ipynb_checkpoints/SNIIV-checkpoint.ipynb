{
 "cells": [
  {
   "cell_type": "markdown",
   "metadata": {},
   "source": [
    "# Sistema Nacional de Información e Indicadores de Vivienda"
   ]
  },
  {
   "cell_type": "markdown",
   "metadata": {},
   "source": [
    "ID |Descripción\n",
    "---|:----------\n",
    "P0405|Viviendas Verticales\n",
    "P0406|Viviendas urbanas en PCU U1 y U2\n",
    "P0411|Subsidios CONAVI"
   ]
  },
  {
   "cell_type": "code",
   "execution_count": 2,
   "metadata": {
    "collapsed": true
   },
   "outputs": [],
   "source": [
    "descripciones = {\n",
    "    'P0405': 'Viviendas Verticales',\n",
    "    'P0406': 'Viviendas urbanas en PCU U1 y U2',\n",
    "    'P0411': 'Subsidios CONAVI'\n",
    "}"
   ]
  },
  {
   "cell_type": "code",
   "execution_count": 92,
   "metadata": {},
   "outputs": [],
   "source": [
    "# Librerias utilizadas\n",
    "import pandas as pd\n",
    "import sys\n",
    "import urllib\n",
    "import os\n",
    "import csv\n",
    "import zeep\n",
    "import requests\n",
    "from lxml import etree\n",
    "import xmltodict"
   ]
  },
  {
   "cell_type": "code",
   "execution_count": 4,
   "metadata": {},
   "outputs": [
    {
     "name": "stdout",
     "output_type": "stream",
     "text": [
      "Python 3.6.1 |Anaconda 4.4.0 (64-bit)| (default, May 11 2017, 13:25:24) [MSC v.1900 64 bit (AMD64)] on win32\n",
      "Pandas version: 0.20.1\n",
      "Running on Windows 8.1\n"
     ]
    }
   ],
   "source": [
    "# Configuracion del sistema\n",
    "print('Python {} on {}'.format(sys.version, sys.platform))\n",
    "print('Pandas version: {}'.format(pd.__version__))\n",
    "import platform; print('Running on {} {}'.format(platform.system(), platform.release()))"
   ]
  },
  {
   "cell_type": "markdown",
   "metadata": {},
   "source": [
    "## 2. Descarga de datos\n",
    "Los datos se descargan por medio de una conexión a un servicio SOAP proporcionado por el SNIIV. Para acceder a los datos proporcionados por cada uno de los servicios del SNIIV, tiene que hacerse un POST request, especificando en el encabezado el servicio al que se busca acceder y en el cuerpo de la petición, un XML con parametros para que el servidor de SNIIV pueda regresar una respuesta "
   ]
  },
  {
   "cell_type": "code",
   "execution_count": 85,
   "metadata": {
    "collapsed": true
   },
   "outputs": [],
   "source": [
    "# Esta celda contiene textos estándar para los encabezados y el cuerpo de la operación que se solicita al servidor.\n",
    "# los textos entre corchetes {} sirven para especificar la operacion a la que se busca tener acceso\n",
    "scheme = r'http://www.conavi.gob.mx:8080/WS_App_SNIIV.asmx?WSDL'       #El scheme siempre es el mismo\n",
    "SOAPAction = ('http://www.conavi.gob.mx:8080/WS_App_SNIIV/{}')\n",
    "xmlbody = (\n",
    "'<?xml version=\"1.0\" encoding=\"utf-8\"?>'\n",
    "'<soap:Envelope xmlns:xsi=\"http://www.w3.org/2001/XMLSchema-instance\" xmlns:xsd=\"http://www.w3.org/2001/XMLSchema\" xmlns:soap=\"http://schemas.xmlsoap.org/soap/envelope/\">'\n",
    "  '<soap:Body>'\n",
    "    '<{} xmlns=\"http://www.conavi.gob.mx:8080/WS_App_SNIIV\">'\n",
    "      '<dat></dat>'\n",
    "    '</{}>'\n",
    "  '</soap:Body>'\n",
    "'</soap:Envelope>'\n",
    ")\n"
   ]
  },
  {
   "cell_type": "code",
   "execution_count": 119,
   "metadata": {
    "scrolled": true
   },
   "outputs": [
    {
     "name": "stdout",
     "output_type": "stream",
     "text": [
      "b'<?xml version=\"1.0\" encoding=\"utf-8\"?><soap:Envelope xmlns:soap=\"http://schemas.xmlsoap.org/soap/envelope/\" xmlns:xsi=\"http://www.w3.org/2001/XMLSchema-instance\" xmlns:xsd=\"http://www.w3.org/2001/XMLSchema\"><soap:Body><SubsidiosResponse xmlns=\"http://www.conavi.gob.mx:8080/WS_App_SNIIV\"><SubsidiosRe'\n"
     ]
    }
   ],
   "source": [
    "# Conexion y descarga de datos\n",
    "operacion = 'Subsidios'\n",
    "heads = {'Content-Type': 'text/xml; charset=utf-8', \n",
    "           'SOAPAction': SOAPAction.format(operacion)}\n",
    "body = xmlbody.format(operacion, operacion)\n",
    "r = requests.post(scheme, data=body, headers=heads)\n",
    "print(r.content[0:300])"
   ]
  },
  {
   "cell_type": "code",
   "execution_count": 131,
   "metadata": {},
   "outputs": [
    {
     "data": {
      "text/plain": [
       "['Cache-Control',\n",
       " 'Content-Type',\n",
       " 'Server',\n",
       " 'X-AspNet-Version',\n",
       " 'X-Powered-By',\n",
       " 'Date',\n",
       " 'Content-Length']"
      ]
     },
     "execution_count": 131,
     "metadata": {},
     "output_type": "execute_result"
    }
   ],
   "source": [
    "list(r.headers.keys())"
   ]
  },
  {
   "cell_type": "code",
   "execution_count": 103,
   "metadata": {
    "scrolled": true
   },
   "outputs": [
    {
     "data": {
      "text/plain": [
       "odict_keys(['soap:Envelope'])"
      ]
     },
     "execution_count": 103,
     "metadata": {},
     "output_type": "execute_result"
    }
   ],
   "source": [
    "r = xmltodict.parse(r.content)\n",
    "r.keys()"
   ]
  },
  {
   "cell_type": "code",
   "execution_count": 114,
   "metadata": {},
   "outputs": [
    {
     "data": {
      "text/plain": [
       "OrderedDict([('cve_ent', '01'),\n",
       "             ('tipo_ee', 'NO DISPONIBLE'),\n",
       "             ('modalidad', 'Autoproducción'),\n",
       "             ('acciones', '11'),\n",
       "             ('monto', '781626.56')])"
      ]
     },
     "execution_count": 114,
     "metadata": {},
     "output_type": "execute_result"
    }
   ],
   "source": [
    "# Después de parseada la respuesta a un diccionario de Python, los datos se encuentran varios niveles por debajo, por lo que es \n",
    "# necesario explorar estos niveles hasta llegar a los datos útiles\n",
    "rodict = r['soap:Envelope']['soap:Body']['{}Response'.format(operacion)]['{}Result'.format(operacion)]['app_sniiv_rep_subs']\n",
    "rodict[0]"
   ]
  },
  {
   "cell_type": "code",
   "execution_count": 116,
   "metadata": {},
   "outputs": [
    {
     "data": {
      "text/html": [
       "<div>\n",
       "<style>\n",
       "    .dataframe thead tr:only-child th {\n",
       "        text-align: right;\n",
       "    }\n",
       "\n",
       "    .dataframe thead th {\n",
       "        text-align: left;\n",
       "    }\n",
       "\n",
       "    .dataframe tbody tr th {\n",
       "        vertical-align: top;\n",
       "    }\n",
       "</style>\n",
       "<table border=\"1\" class=\"dataframe\">\n",
       "  <thead>\n",
       "    <tr style=\"text-align: right;\">\n",
       "      <th></th>\n",
       "      <th>cve_ent</th>\n",
       "      <th>tipo_ee</th>\n",
       "      <th>modalidad</th>\n",
       "      <th>acciones</th>\n",
       "      <th>monto</th>\n",
       "    </tr>\n",
       "  </thead>\n",
       "  <tbody>\n",
       "    <tr>\n",
       "      <th>0</th>\n",
       "      <td>01</td>\n",
       "      <td>NO DISPONIBLE</td>\n",
       "      <td>Autoproducción</td>\n",
       "      <td>11</td>\n",
       "      <td>781626.56</td>\n",
       "    </tr>\n",
       "    <tr>\n",
       "      <th>1</th>\n",
       "      <td>01</td>\n",
       "      <td>INFONAVIT</td>\n",
       "      <td>Nueva</td>\n",
       "      <td>234</td>\n",
       "      <td>13556833.79</td>\n",
       "    </tr>\n",
       "    <tr>\n",
       "      <th>2</th>\n",
       "      <td>01</td>\n",
       "      <td>INFONAVIT</td>\n",
       "      <td>Usada</td>\n",
       "      <td>6</td>\n",
       "      <td>318407.02</td>\n",
       "    </tr>\n",
       "    <tr>\n",
       "      <th>3</th>\n",
       "      <td>01</td>\n",
       "      <td>RIF - FOVI</td>\n",
       "      <td>Nueva</td>\n",
       "      <td>1</td>\n",
       "      <td>47500</td>\n",
       "    </tr>\n",
       "    <tr>\n",
       "      <th>4</th>\n",
       "      <td>02</td>\n",
       "      <td>INFONAVIT</td>\n",
       "      <td>Nueva</td>\n",
       "      <td>280</td>\n",
       "      <td>12989084.57</td>\n",
       "    </tr>\n",
       "  </tbody>\n",
       "</table>\n",
       "</div>"
      ],
      "text/plain": [
       "  cve_ent        tipo_ee       modalidad acciones        monto\n",
       "0      01  NO DISPONIBLE  Autoproducción       11    781626.56\n",
       "1      01      INFONAVIT           Nueva      234  13556833.79\n",
       "2      01      INFONAVIT           Usada        6    318407.02\n",
       "3      01     RIF - FOVI           Nueva        1        47500\n",
       "4      02      INFONAVIT           Nueva      280  12989084.57"
      ]
     },
     "execution_count": 116,
     "metadata": {},
     "output_type": "execute_result"
    }
   ],
   "source": [
    "# Con los datos parseados en forma de OrderedDict ya es posible hacer un DataFrame de la siguiente manera.\n",
    "pd.DataFrame(rodict, columns=rodict[0].keys()).head()"
   ]
  },
  {
   "cell_type": "markdown",
   "metadata": {},
   "source": [
    "Lo anterior es un ejemplo de cómo pueden obtenerse datos desde el servicio montado por el SNIIV. Con base en este ejemplo es posible hacer una función que realice las peticiones de manera más compacta en cada caso."
   ]
  },
  {
   "cell_type": "code",
   "execution_count": 144,
   "metadata": {
    "collapsed": true
   },
   "outputs": [],
   "source": [
    "def getsoap(operacion):\n",
    "    scheme = r'http://www.conavi.gob.mx:8080/WS_App_SNIIV.asmx?WSDL'       #El scheme siempre es el mismo\n",
    "    SOAPAction = ('http://www.conavi.gob.mx:8080/WS_App_SNIIV/{}')\n",
    "    xmlbody = (\n",
    "    '<?xml version=\"1.0\" encoding=\"utf-8\"?>'\n",
    "    '<soap:Envelope xmlns:xsi=\"http://www.w3.org/2001/XMLSchema-instance\" xmlns:xsd=\"http://www.w3.org/2001/XMLSchema\" xmlns:soap=\"http://schemas.xmlsoap.org/soap/envelope/\">'\n",
    "      '<soap:Body>'\n",
    "        '<{} xmlns=\"http://www.conavi.gob.mx:8080/WS_App_SNIIV\">'\n",
    "          '<dat></dat>'\n",
    "        '</{}>'\n",
    "      '</soap:Body>'\n",
    "    '</soap:Envelope>'\n",
    "    )\n",
    "    heads = {'Content-Type': 'text/xml; charset=utf-8', \n",
    "           'SOAPAction': SOAPAction.format(operacion)}\n",
    "    body = xmlbody.format(operacion, operacion)\n",
    "    r = requests.post(scheme, data=body, headers=heads)\n",
    "    if r.status_code != 200:          # \n",
    "        print('status: {}\\n**Operacion terminada**'.format(r.status_code))\n",
    "        return\n",
    "    else:\n",
    "        print('status: {}\\nContent Type: {}'.format(r.status_code, r.headers['Content-Type']))\n",
    "        print('Date: {}\\nContent Lenght: {}'.format(r.headers['Date'], r.headers['Content-Length']))\n",
    "        r = xmltodict.parse(r.content)\n",
    "#        return r\n",
    "        rodict = r['soap:Envelope']['soap:Body']['{}Response'.format(operacion)]['{}Result'.format(operacion)][list(test.keys())[0]]\n",
    "        return pd.DataFrame(rodict, columns=rodict[0].keys()).head()\n",
    "    "
   ]
  },
  {
   "cell_type": "code",
   "execution_count": 145,
   "metadata": {},
   "outputs": [
    {
     "name": "stdout",
     "output_type": "stream",
     "text": [
      "status: 200\n",
      "Content Type: text/xml; charset=utf-8\n",
      "Date: Fri, 20 Apr 2018 15:17:40 GMT\n",
      "Content Lenght: 8422\n"
     ]
    }
   ],
   "source": [
    "test = getsoap('viv_vig_x_avnc')"
   ]
  },
  {
   "cell_type": "code",
   "execution_count": 156,
   "metadata": {},
   "outputs": [
    {
     "data": {
      "text/plain": [
       "'app_sniiv_vv_x_avanc'"
      ]
     },
     "execution_count": 156,
     "metadata": {},
     "output_type": "execute_result"
    }
   ],
   "source": []
  },
  {
   "cell_type": "code",
   "execution_count": 146,
   "metadata": {},
   "outputs": [
    {
     "data": {
      "text/plain": [
       "OrderedDict([('app_sniiv_vv_x_avanc',\n",
       "              [OrderedDict([('cve_ent', '01'),\n",
       "                            ('entidad', 'AGUASCALIENTES'),\n",
       "                            ('viv_proc_m50', '4114'),\n",
       "                            ('viv_proc_50_99', '2485'),\n",
       "                            ('viv_term_rec', '1843'),\n",
       "                            ('viv_term_ant', '6353'),\n",
       "                            ('total', '14795')]),\n",
       "               OrderedDict([('cve_ent', '02'),\n",
       "                            ('entidad', 'BAJA CALIFORNIA'),\n",
       "                            ('viv_proc_m50', '6289'),\n",
       "                            ('viv_proc_50_99', '4476'),\n",
       "                            ('viv_term_rec', '2080'),\n",
       "                            ('viv_term_ant', '5959'),\n",
       "                            ('total', '18804')]),\n",
       "               OrderedDict([('cve_ent', '03'),\n",
       "                            ('entidad', 'BAJA CALIFORNIA SUR'),\n",
       "                            ('viv_proc_m50', '1358'),\n",
       "                            ('viv_proc_50_99', '837'),\n",
       "                            ('viv_term_rec', '871'),\n",
       "                            ('viv_term_ant', '2035'),\n",
       "                            ('total', '5101')]),\n",
       "               OrderedDict([('cve_ent', '04'),\n",
       "                            ('entidad', 'CAMPECHE'),\n",
       "                            ('viv_proc_m50', '328'),\n",
       "                            ('viv_proc_50_99', '461'),\n",
       "                            ('viv_term_rec', '70'),\n",
       "                            ('viv_term_ant', '1894'),\n",
       "                            ('total', '2753')]),\n",
       "               OrderedDict([('cve_ent', '05'),\n",
       "                            ('entidad', 'COAHUILA DE ZARAGOZA'),\n",
       "                            ('viv_proc_m50', '6635'),\n",
       "                            ('viv_proc_50_99', '3559'),\n",
       "                            ('viv_term_rec', '1949'),\n",
       "                            ('viv_term_ant', '5704'),\n",
       "                            ('total', '17847')]),\n",
       "               OrderedDict([('cve_ent', '06'),\n",
       "                            ('entidad', 'COLIMA'),\n",
       "                            ('viv_proc_m50', '2229'),\n",
       "                            ('viv_proc_50_99', '1625'),\n",
       "                            ('viv_term_rec', '1260'),\n",
       "                            ('viv_term_ant', '3319'),\n",
       "                            ('total', '8433')]),\n",
       "               OrderedDict([('cve_ent', '07'),\n",
       "                            ('entidad', 'CHIAPAS'),\n",
       "                            ('viv_proc_m50', '2451'),\n",
       "                            ('viv_proc_50_99', '2322'),\n",
       "                            ('viv_term_rec', '813'),\n",
       "                            ('viv_term_ant', '1468'),\n",
       "                            ('total', '7054')]),\n",
       "               OrderedDict([('cve_ent', '08'),\n",
       "                            ('entidad', 'CHIHUAHUA'),\n",
       "                            ('viv_proc_m50', '3958'),\n",
       "                            ('viv_proc_50_99', '3924'),\n",
       "                            ('viv_term_rec', '2207'),\n",
       "                            ('viv_term_ant', '6458'),\n",
       "                            ('total', '16547')]),\n",
       "               OrderedDict([('cve_ent', '09'),\n",
       "                            ('entidad', 'CIUDAD DE MÉXICO'),\n",
       "                            ('viv_proc_m50', '2553'),\n",
       "                            ('viv_proc_50_99', '3020'),\n",
       "                            ('viv_term_rec', '3233'),\n",
       "                            ('viv_term_ant', '6328'),\n",
       "                            ('total', '15134')]),\n",
       "               OrderedDict([('cve_ent', '10'),\n",
       "                            ('entidad', 'DURANGO'),\n",
       "                            ('viv_proc_m50', '1945'),\n",
       "                            ('viv_proc_50_99', '1116'),\n",
       "                            ('viv_term_rec', '867'),\n",
       "                            ('viv_term_ant', '1544'),\n",
       "                            ('total', '5472')]),\n",
       "               OrderedDict([('cve_ent', '11'),\n",
       "                            ('entidad', 'GUANAJUATO'),\n",
       "                            ('viv_proc_m50', '9196'),\n",
       "                            ('viv_proc_50_99', '6031'),\n",
       "                            ('viv_term_rec', '4589'),\n",
       "                            ('viv_term_ant', '13576'),\n",
       "                            ('total', '33392')]),\n",
       "               OrderedDict([('cve_ent', '12'),\n",
       "                            ('entidad', 'GUERRERO'),\n",
       "                            ('viv_proc_m50', '1823'),\n",
       "                            ('viv_proc_50_99', '1196'),\n",
       "                            ('viv_term_rec', '2098'),\n",
       "                            ('viv_term_ant', '1672'),\n",
       "                            ('total', '6789')]),\n",
       "               OrderedDict([('cve_ent', '13'),\n",
       "                            ('entidad', 'HIDALGO'),\n",
       "                            ('viv_proc_m50', '8279'),\n",
       "                            ('viv_proc_50_99', '5085'),\n",
       "                            ('viv_term_rec', '3844'),\n",
       "                            ('viv_term_ant', '8248'),\n",
       "                            ('total', '25456')]),\n",
       "               OrderedDict([('cve_ent', '14'),\n",
       "                            ('entidad', 'JALISCO'),\n",
       "                            ('viv_proc_m50', '18151'),\n",
       "                            ('viv_proc_50_99', '11949'),\n",
       "                            ('viv_term_rec', '5629'),\n",
       "                            ('viv_term_ant', '19173'),\n",
       "                            ('total', '54902')]),\n",
       "               OrderedDict([('cve_ent', '15'),\n",
       "                            ('entidad', 'MÉXICO'),\n",
       "                            ('viv_proc_m50', '13743'),\n",
       "                            ('viv_proc_50_99', '8942'),\n",
       "                            ('viv_term_rec', '5190'),\n",
       "                            ('viv_term_ant', '12919'),\n",
       "                            ('total', '40794')]),\n",
       "               OrderedDict([('cve_ent', '16'),\n",
       "                            ('entidad', 'MICHOACÁN DE OCAMPO'),\n",
       "                            ('viv_proc_m50', '3317'),\n",
       "                            ('viv_proc_50_99', '2710'),\n",
       "                            ('viv_term_rec', '1530'),\n",
       "                            ('viv_term_ant', '5973'),\n",
       "                            ('total', '13530')]),\n",
       "               OrderedDict([('cve_ent', '17'),\n",
       "                            ('entidad', 'MORELOS'),\n",
       "                            ('viv_proc_m50', '2224'),\n",
       "                            ('viv_proc_50_99', '1582'),\n",
       "                            ('viv_term_rec', '1480'),\n",
       "                            ('viv_term_ant', '3748'),\n",
       "                            ('total', '9034')]),\n",
       "               OrderedDict([('cve_ent', '18'),\n",
       "                            ('entidad', 'NAYARIT'),\n",
       "                            ('viv_proc_m50', '1837'),\n",
       "                            ('viv_proc_50_99', '935'),\n",
       "                            ('viv_term_rec', '864'),\n",
       "                            ('viv_term_ant', '2055'),\n",
       "                            ('total', '5691')]),\n",
       "               OrderedDict([('cve_ent', '19'),\n",
       "                            ('entidad', 'NUEVO LEÓN'),\n",
       "                            ('viv_proc_m50', '26889'),\n",
       "                            ('viv_proc_50_99', '11263'),\n",
       "                            ('viv_term_rec', '6961'),\n",
       "                            ('viv_term_ant', '23737'),\n",
       "                            ('total', '68850')]),\n",
       "               OrderedDict([('cve_ent', '20'),\n",
       "                            ('entidad', 'OAXACA'),\n",
       "                            ('viv_proc_m50', '657'),\n",
       "                            ('viv_proc_50_99', '1021'),\n",
       "                            ('viv_term_rec', '357'),\n",
       "                            ('viv_term_ant', '975'),\n",
       "                            ('total', '3010')]),\n",
       "               OrderedDict([('cve_ent', '21'),\n",
       "                            ('entidad', 'PUEBLA'),\n",
       "                            ('viv_proc_m50', '4141'),\n",
       "                            ('viv_proc_50_99', '4989'),\n",
       "                            ('viv_term_rec', '2231'),\n",
       "                            ('viv_term_ant', '6851'),\n",
       "                            ('total', '18212')]),\n",
       "               OrderedDict([('cve_ent', '22'),\n",
       "                            ('entidad', 'QUERÉTARO'),\n",
       "                            ('viv_proc_m50', '5991'),\n",
       "                            ('viv_proc_50_99', '4644'),\n",
       "                            ('viv_term_rec', '5011'),\n",
       "                            ('viv_term_ant', '11224'),\n",
       "                            ('total', '26870')]),\n",
       "               OrderedDict([('cve_ent', '23'),\n",
       "                            ('entidad', 'QUINTANA ROO'),\n",
       "                            ('viv_proc_m50', '10688'),\n",
       "                            ('viv_proc_50_99', '7142'),\n",
       "                            ('viv_term_rec', '4722'),\n",
       "                            ('viv_term_ant', '13247'),\n",
       "                            ('total', '35799')]),\n",
       "               OrderedDict([('cve_ent', '24'),\n",
       "                            ('entidad', 'SAN LUIS POTOSÍ'),\n",
       "                            ('viv_proc_m50', '2383'),\n",
       "                            ('viv_proc_50_99', '3668'),\n",
       "                            ('viv_term_rec', '2053'),\n",
       "                            ('viv_term_ant', '5781'),\n",
       "                            ('total', '13885')]),\n",
       "               OrderedDict([('cve_ent', '25'),\n",
       "                            ('entidad', 'SINALOA'),\n",
       "                            ('viv_proc_m50', '4567'),\n",
       "                            ('viv_proc_50_99', '3170'),\n",
       "                            ('viv_term_rec', '2733'),\n",
       "                            ('viv_term_ant', '7770'),\n",
       "                            ('total', '18240')]),\n",
       "               OrderedDict([('cve_ent', '26'),\n",
       "                            ('entidad', 'SONORA'),\n",
       "                            ('viv_proc_m50', '5418'),\n",
       "                            ('viv_proc_50_99', '3538'),\n",
       "                            ('viv_term_rec', '2388'),\n",
       "                            ('viv_term_ant', '5329'),\n",
       "                            ('total', '16673')]),\n",
       "               OrderedDict([('cve_ent', '27'),\n",
       "                            ('entidad', 'TABASCO'),\n",
       "                            ('viv_proc_m50', '947'),\n",
       "                            ('viv_proc_50_99', '338'),\n",
       "                            ('viv_term_rec', '235'),\n",
       "                            ('viv_term_ant', '1439'),\n",
       "                            ('total', '2959')]),\n",
       "               OrderedDict([('cve_ent', '28'),\n",
       "                            ('entidad', 'TAMAULIPAS'),\n",
       "                            ('viv_proc_m50', '8050'),\n",
       "                            ('viv_proc_50_99', '2381'),\n",
       "                            ('viv_term_rec', '2652'),\n",
       "                            ('viv_term_ant', '4418'),\n",
       "                            ('total', '17501')]),\n",
       "               OrderedDict([('cve_ent', '29'),\n",
       "                            ('entidad', 'TLAXCALA'),\n",
       "                            ('viv_proc_m50', '556'),\n",
       "                            ('viv_proc_50_99', '603'),\n",
       "                            ('viv_term_rec', '260'),\n",
       "                            ('viv_term_ant', '637'),\n",
       "                            ('total', '2056')]),\n",
       "               OrderedDict([('cve_ent', '30'),\n",
       "                            ('entidad', 'VERACRUZ DE IGNACIO DE LA LLAVE'),\n",
       "                            ('viv_proc_m50', '5973'),\n",
       "                            ('viv_proc_50_99', '4756'),\n",
       "                            ('viv_term_rec', '3326'),\n",
       "                            ('viv_term_ant', '8125'),\n",
       "                            ('total', '22180')]),\n",
       "               OrderedDict([('cve_ent', '31'),\n",
       "                            ('entidad', 'YUCATÁN'),\n",
       "                            ('viv_proc_m50', '4539'),\n",
       "                            ('viv_proc_50_99', '2989'),\n",
       "                            ('viv_term_rec', '2894'),\n",
       "                            ('viv_term_ant', '4843'),\n",
       "                            ('total', '15265')]),\n",
       "               OrderedDict([('cve_ent', '32'),\n",
       "                            ('entidad', 'ZACATECAS'),\n",
       "                            ('viv_proc_m50', '1242'),\n",
       "                            ('viv_proc_50_99', '559'),\n",
       "                            ('viv_term_rec', '335'),\n",
       "                            ('viv_term_ant', '870'),\n",
       "                            ('total', '3006')])])])"
      ]
     },
     "execution_count": 146,
     "metadata": {},
     "output_type": "execute_result"
    }
   ],
   "source": [
    "test"
   ]
  }
 ],
 "metadata": {
  "kernelspec": {
   "display_name": "Python 3",
   "language": "python",
   "name": "python3"
  },
  "language_info": {
   "codemirror_mode": {
    "name": "ipython",
    "version": 3
   },
   "file_extension": ".py",
   "mimetype": "text/x-python",
   "name": "python",
   "nbconvert_exporter": "python",
   "pygments_lexer": "ipython3",
   "version": "3.6.1"
  }
 },
 "nbformat": 4,
 "nbformat_minor": 2
}
