{
 "cells": [
  {
   "cell_type": "markdown",
   "metadata": {},
   "source": [
    "# Limpieza del dataset Censo de Poblacion y Vivienda 2010"
   ]
  },
  {
   "cell_type": "markdown",
   "metadata": {},
   "source": [
    "## 1. Introduccion\n",
    "El Censo de Población y vivienda contiene el siguiente parámetro para la PCCS:\n",
    "    \n",
    "ID|Descripcion\n",
    "--|-----------\n",
    "P0309|Total de viviendas\n",
    "\n",
    "## 2. Descarga de datos"
   ]
  },
  {
   "cell_type": "code",
   "execution_count": 1,
   "metadata": {
    "collapsed": true
   },
   "outputs": [],
   "source": [
    "# Librerias utilizadas\n",
    "import pandas as pd\n",
    "import sys\n",
    "import urllib\n",
    "import os\n",
    "import zipfile\n",
    "import csv\n",
    "import pprint\n",
    "import re"
   ]
  },
  {
   "cell_type": "code",
   "execution_count": 2,
   "metadata": {},
   "outputs": [
    {
     "name": "stdout",
     "output_type": "stream",
     "text": [
      "Python 3.6.1 |Anaconda 4.4.0 (64-bit)| (default, May 11 2017, 13:25:24) [MSC v.1900 64 bit (AMD64)] on win32\n",
      "Pandas version: 0.20.1\n",
      "Running on Windows 8.1\n"
     ]
    }
   ],
   "source": [
    "# Configuracion del sistema\n",
    "print('Python {} on {}'.format(sys.version, sys.platform))\n",
    "print('Pandas version: {}'.format(pd.__version__))\n",
    "import platform; print('Running on {} {}'.format(platform.system(), platform.release()))"
   ]
  },
  {
   "cell_type": "markdown",
   "metadata": {},
   "source": [
    "Existen tres maneras de descargar la información:\n",
    "\n",
    "1. **Datos para la República Mexicana**, con la ventaja de que es un solo archivo con variables procesadas y con la desventaja de que su nivel de desagregación es estatal.\n",
    "\n",
    "2. **Principales resultados por AGEB**, con la ventaja de que cuentan con desagregacion a nivel AGEB (Que puede agregarse a nivel Localidad, municipal y estatal) y con las desventajas de que la información está fragmentada en muchos archivos pues hay un archivo por estado, y que la informacion tiene una gran complejidad por el nivel de detalle con el que cuenta lo que también la hace más pesada.\n",
    "\n",
    "3. **Principales resultados por LOCALIDAD**, con la ventaja de que cuentan con desagregacion a nivel localidad (Que puede agregarse a nivel municipal y estatal) y con la desventaja de que la información está fragmentada en muchos archivos pues hay un archivo por estado.\n",
    "\n",
    "Se descargarán los datos por localidad (3)"
   ]
  },
  {
   "cell_type": "code",
   "execution_count": 3,
   "metadata": {
    "collapsed": true
   },
   "outputs": [],
   "source": [
    "# LIGAS PARA DESCARGA DE ARCHIVOS\n",
    "# Las ligas para descarga tienen una raiz URL común que cambia \n",
    "# dependiendo del indicador y estado que se busque descargar \n",
    "\n",
    "raiz = r'http://www.beta.inegi.org.mx/contenidos/proyectos/ccpv/2010/microdatos/iter/'\n",
    "links = {\n",
    "    '01' : raiz+'01_aguascalientes_2010_iter_zip.zip',\n",
    "    '02' : raiz+'02_baja_california_2010_iter_zip.zip',\n",
    "    '03' : raiz+'03_baja_california_sur_2010_iter_zip.zip',\n",
    "    '04' : raiz+'04_campeche_2010_iter_zip.zip',\n",
    "    '05' : raiz +'05_coahuila_2010_iter_zip.zip',\n",
    "    '06' : raiz +'06_colima_2010_iter_zip.zip',\n",
    "    '07' : raiz +'07_chiapas_2010_iter_zip.zip',\n",
    "    '08' : raiz +'08_chihuahua_2010_iter_zip.zip',\n",
    "    '09' : raiz +'09_distrito_federal_2010_iter_zip.zip',\n",
    "    '10' : raiz +'10_durango_2010_iter_zip.zip',\n",
    "    '11' : raiz +'11_guanajuato_2010_iter_zip.zip',\n",
    "    '12' : raiz +'12_guerrero_2010_iter_zip.zip',\n",
    "    '13' : raiz +'13_hidalgo_2010_iter_zip.zip',\n",
    "    '14' : raiz +'14_jalisco_2010_iter_zip.zip',\n",
    "    '15' : raiz +'15_mexico_2010_iter_zip.zip',\n",
    "    '16' : raiz +'16_michoacan_2010_iter_zip.zip',\n",
    "    '17' : raiz +'17_morelos_2010_iter_zip.zip',\n",
    "    '18' : raiz +'18_nayarit_2010_iter_zip.zip',\n",
    "    '19' : raiz +'19_nuevo_leon_2010_iter_zip.zip',\n",
    "    '20' : raiz +'20_oaxaca_2010_iter_zip.zip',\n",
    "    '21' : raiz +'21_puebla_2010_iter_zip.zip',\n",
    "    '22' : raiz +'22_queretaro_2010_iter_zip.zip',\n",
    "    '23' : raiz +'23_quintana_roo_2010_iter_zip.zip',\n",
    "    '24' : raiz +'24_san_luis_potosi_2010_iter_zip.zip',\n",
    "    '25' : raiz +'25_sinaloa_2010_iter_zip.zip',\n",
    "    '26' : raiz +'26_sonora_2010_iter_zip.zip',\n",
    "    '27' : raiz +'27_tabasco_2010_iter_zip.zip',\n",
    "    '28' : raiz +'28_tamaulipas_2010_iter_zip.zip',\n",
    "    '29' : raiz +'29_tlaxcala_2010_iter_zip.zip',\n",
    "    '30' : raiz +'30_veracruz_2010_iter_zip.zip',\n",
    "    '31' : raiz +'31_yucatan_2010_iter_zip.zip',\n",
    "    '32' : raiz +'32_zacatecas_2010_iter_zip.zip'\n",
    "}"
   ]
  },
  {
   "cell_type": "markdown",
   "metadata": {},
   "source": [
    "Key : CVE_EDO, val = Archivo"
   ]
  },
  {
   "cell_type": "code",
   "execution_count": 4,
   "metadata": {
    "scrolled": true
   },
   "outputs": [
    {
     "name": "stdout",
     "output_type": "stream",
     "text": [
      "Descargando D:\\PCCS\\00_RawData\\01_CSV\\CPV2010\\01.zip ... ... ... ... ... \n",
      "se descargó D:\\PCCS\\00_RawData\\01_CSV\\CPV2010\\01.zip\n",
      "Descargando D:\\PCCS\\00_RawData\\01_CSV\\CPV2010\\02.zip ... ... ... ... ... \n",
      "se descargó D:\\PCCS\\00_RawData\\01_CSV\\CPV2010\\02.zip\n",
      "Descargando D:\\PCCS\\00_RawData\\01_CSV\\CPV2010\\03.zip ... ... ... ... ... \n",
      "se descargó D:\\PCCS\\00_RawData\\01_CSV\\CPV2010\\03.zip\n",
      "Descargando D:\\PCCS\\00_RawData\\01_CSV\\CPV2010\\04.zip ... ... ... ... ... \n",
      "se descargó D:\\PCCS\\00_RawData\\01_CSV\\CPV2010\\04.zip\n",
      "Descargando D:\\PCCS\\00_RawData\\01_CSV\\CPV2010\\05.zip ... ... ... ... ... \n",
      "se descargó D:\\PCCS\\00_RawData\\01_CSV\\CPV2010\\05.zip\n",
      "Descargando D:\\PCCS\\00_RawData\\01_CSV\\CPV2010\\06.zip ... ... ... ... ... \n",
      "se descargó D:\\PCCS\\00_RawData\\01_CSV\\CPV2010\\06.zip\n",
      "Descargando D:\\PCCS\\00_RawData\\01_CSV\\CPV2010\\07.zip ... ... ... ... ... \n",
      "se descargó D:\\PCCS\\00_RawData\\01_CSV\\CPV2010\\07.zip\n",
      "Descargando D:\\PCCS\\00_RawData\\01_CSV\\CPV2010\\08.zip ... ... ... ... ... \n",
      "se descargó D:\\PCCS\\00_RawData\\01_CSV\\CPV2010\\08.zip\n",
      "Descargando D:\\PCCS\\00_RawData\\01_CSV\\CPV2010\\09.zip ... ... ... ... ... \n",
      "se descargó D:\\PCCS\\00_RawData\\01_CSV\\CPV2010\\09.zip\n",
      "Descargando D:\\PCCS\\00_RawData\\01_CSV\\CPV2010\\10.zip ... ... ... ... ... \n",
      "se descargó D:\\PCCS\\00_RawData\\01_CSV\\CPV2010\\10.zip\n",
      "Descargando D:\\PCCS\\00_RawData\\01_CSV\\CPV2010\\11.zip ... ... ... ... ... \n",
      "se descargó D:\\PCCS\\00_RawData\\01_CSV\\CPV2010\\11.zip\n",
      "Descargando D:\\PCCS\\00_RawData\\01_CSV\\CPV2010\\12.zip ... ... ... ... ... \n",
      "se descargó D:\\PCCS\\00_RawData\\01_CSV\\CPV2010\\12.zip\n",
      "Descargando D:\\PCCS\\00_RawData\\01_CSV\\CPV2010\\13.zip ... ... ... ... ... \n",
      "se descargó D:\\PCCS\\00_RawData\\01_CSV\\CPV2010\\13.zip\n",
      "Descargando D:\\PCCS\\00_RawData\\01_CSV\\CPV2010\\14.zip ... ... ... ... ... \n",
      "se descargó D:\\PCCS\\00_RawData\\01_CSV\\CPV2010\\14.zip\n",
      "Descargando D:\\PCCS\\00_RawData\\01_CSV\\CPV2010\\15.zip ... ... ... ... ... \n",
      "se descargó D:\\PCCS\\00_RawData\\01_CSV\\CPV2010\\15.zip\n",
      "Descargando D:\\PCCS\\00_RawData\\01_CSV\\CPV2010\\16.zip ... ... ... ... ... \n",
      "se descargó D:\\PCCS\\00_RawData\\01_CSV\\CPV2010\\16.zip\n",
      "Descargando D:\\PCCS\\00_RawData\\01_CSV\\CPV2010\\17.zip ... ... ... ... ... \n",
      "se descargó D:\\PCCS\\00_RawData\\01_CSV\\CPV2010\\17.zip\n",
      "Descargando D:\\PCCS\\00_RawData\\01_CSV\\CPV2010\\18.zip ... ... ... ... ... \n",
      "se descargó D:\\PCCS\\00_RawData\\01_CSV\\CPV2010\\18.zip\n",
      "Descargando D:\\PCCS\\00_RawData\\01_CSV\\CPV2010\\19.zip ... ... ... ... ... \n",
      "se descargó D:\\PCCS\\00_RawData\\01_CSV\\CPV2010\\19.zip\n",
      "Descargando D:\\PCCS\\00_RawData\\01_CSV\\CPV2010\\20.zip ... ... ... ... ... \n",
      "se descargó D:\\PCCS\\00_RawData\\01_CSV\\CPV2010\\20.zip\n",
      "Descargando D:\\PCCS\\00_RawData\\01_CSV\\CPV2010\\21.zip ... ... ... ... ... \n",
      "se descargó D:\\PCCS\\00_RawData\\01_CSV\\CPV2010\\21.zip\n",
      "Descargando D:\\PCCS\\00_RawData\\01_CSV\\CPV2010\\22.zip ... ... ... ... ... \n",
      "se descargó D:\\PCCS\\00_RawData\\01_CSV\\CPV2010\\22.zip\n",
      "Descargando D:\\PCCS\\00_RawData\\01_CSV\\CPV2010\\23.zip ... ... ... ... ... \n",
      "se descargó D:\\PCCS\\00_RawData\\01_CSV\\CPV2010\\23.zip\n",
      "Descargando D:\\PCCS\\00_RawData\\01_CSV\\CPV2010\\24.zip ... ... ... ... ... \n",
      "se descargó D:\\PCCS\\00_RawData\\01_CSV\\CPV2010\\24.zip\n",
      "Descargando D:\\PCCS\\00_RawData\\01_CSV\\CPV2010\\25.zip ... ... ... ... ... \n",
      "se descargó D:\\PCCS\\00_RawData\\01_CSV\\CPV2010\\25.zip\n",
      "Descargando D:\\PCCS\\00_RawData\\01_CSV\\CPV2010\\26.zip ... ... ... ... ... \n",
      "se descargó D:\\PCCS\\00_RawData\\01_CSV\\CPV2010\\26.zip\n",
      "Descargando D:\\PCCS\\00_RawData\\01_CSV\\CPV2010\\27.zip ... ... ... ... ... \n",
      "se descargó D:\\PCCS\\00_RawData\\01_CSV\\CPV2010\\27.zip\n",
      "Descargando D:\\PCCS\\00_RawData\\01_CSV\\CPV2010\\28.zip ... ... ... ... ... \n",
      "se descargó D:\\PCCS\\00_RawData\\01_CSV\\CPV2010\\28.zip\n",
      "Descargando D:\\PCCS\\00_RawData\\01_CSV\\CPV2010\\29.zip ... ... ... ... ... \n",
      "se descargó D:\\PCCS\\00_RawData\\01_CSV\\CPV2010\\29.zip\n",
      "Descargando D:\\PCCS\\00_RawData\\01_CSV\\CPV2010\\30.zip ... ... ... ... ... \n",
      "se descargó D:\\PCCS\\00_RawData\\01_CSV\\CPV2010\\30.zip\n",
      "Descargando D:\\PCCS\\00_RawData\\01_CSV\\CPV2010\\31.zip ... ... ... ... ... \n",
      "se descargó D:\\PCCS\\00_RawData\\01_CSV\\CPV2010\\31.zip\n",
      "Descargando D:\\PCCS\\00_RawData\\01_CSV\\CPV2010\\32.zip ... ... ... ... ... \n",
      "se descargó D:\\PCCS\\00_RawData\\01_CSV\\CPV2010\\32.zip\n"
     ]
    }
   ],
   "source": [
    "# Descarga de archivos a carpeta local\n",
    "destino = r'D:\\PCCS\\00_RawData\\01_CSV\\CPV2010'\n",
    "archivos = {}   # Diccionario para guardar memoria de descarga\n",
    "for CVE_EDO, archivo in links.items():\n",
    "    archivo_local = destino + r'\\{}.zip'.format(CVE_EDO)\n",
    "    if os.path.isfile(archivo_local):\n",
    "        print('Ya existe el archivo: {}'.format(archivo_local))\n",
    "        archivos[CVE_EDO] = archivo_local\n",
    "    else:\n",
    "        print('Descargando {} ... ... ... ... ... '.format(archivo_local))\n",
    "        urllib.request.urlretrieve(archivo, archivo_local) #\n",
    "        archivos[CVE_EDO] = archivo_local\n",
    "        print('se descargó {}'.format(archivo_local))"
   ]
  },
  {
   "cell_type": "code",
   "execution_count": 5,
   "metadata": {},
   "outputs": [
    {
     "data": {
      "text/plain": [
       "{'01': 'D:\\\\PCCS\\\\00_RawData\\\\01_CSV\\\\CPV2010\\\\01.zip',\n",
       " '02': 'D:\\\\PCCS\\\\00_RawData\\\\01_CSV\\\\CPV2010\\\\02.zip',\n",
       " '03': 'D:\\\\PCCS\\\\00_RawData\\\\01_CSV\\\\CPV2010\\\\03.zip',\n",
       " '04': 'D:\\\\PCCS\\\\00_RawData\\\\01_CSV\\\\CPV2010\\\\04.zip',\n",
       " '05': 'D:\\\\PCCS\\\\00_RawData\\\\01_CSV\\\\CPV2010\\\\05.zip',\n",
       " '06': 'D:\\\\PCCS\\\\00_RawData\\\\01_CSV\\\\CPV2010\\\\06.zip',\n",
       " '07': 'D:\\\\PCCS\\\\00_RawData\\\\01_CSV\\\\CPV2010\\\\07.zip',\n",
       " '08': 'D:\\\\PCCS\\\\00_RawData\\\\01_CSV\\\\CPV2010\\\\08.zip',\n",
       " '09': 'D:\\\\PCCS\\\\00_RawData\\\\01_CSV\\\\CPV2010\\\\09.zip',\n",
       " '10': 'D:\\\\PCCS\\\\00_RawData\\\\01_CSV\\\\CPV2010\\\\10.zip',\n",
       " '11': 'D:\\\\PCCS\\\\00_RawData\\\\01_CSV\\\\CPV2010\\\\11.zip',\n",
       " '12': 'D:\\\\PCCS\\\\00_RawData\\\\01_CSV\\\\CPV2010\\\\12.zip',\n",
       " '13': 'D:\\\\PCCS\\\\00_RawData\\\\01_CSV\\\\CPV2010\\\\13.zip',\n",
       " '14': 'D:\\\\PCCS\\\\00_RawData\\\\01_CSV\\\\CPV2010\\\\14.zip',\n",
       " '15': 'D:\\\\PCCS\\\\00_RawData\\\\01_CSV\\\\CPV2010\\\\15.zip',\n",
       " '16': 'D:\\\\PCCS\\\\00_RawData\\\\01_CSV\\\\CPV2010\\\\16.zip',\n",
       " '17': 'D:\\\\PCCS\\\\00_RawData\\\\01_CSV\\\\CPV2010\\\\17.zip',\n",
       " '18': 'D:\\\\PCCS\\\\00_RawData\\\\01_CSV\\\\CPV2010\\\\18.zip',\n",
       " '19': 'D:\\\\PCCS\\\\00_RawData\\\\01_CSV\\\\CPV2010\\\\19.zip',\n",
       " '20': 'D:\\\\PCCS\\\\00_RawData\\\\01_CSV\\\\CPV2010\\\\20.zip',\n",
       " '21': 'D:\\\\PCCS\\\\00_RawData\\\\01_CSV\\\\CPV2010\\\\21.zip',\n",
       " '22': 'D:\\\\PCCS\\\\00_RawData\\\\01_CSV\\\\CPV2010\\\\22.zip',\n",
       " '23': 'D:\\\\PCCS\\\\00_RawData\\\\01_CSV\\\\CPV2010\\\\23.zip',\n",
       " '24': 'D:\\\\PCCS\\\\00_RawData\\\\01_CSV\\\\CPV2010\\\\24.zip',\n",
       " '25': 'D:\\\\PCCS\\\\00_RawData\\\\01_CSV\\\\CPV2010\\\\25.zip',\n",
       " '26': 'D:\\\\PCCS\\\\00_RawData\\\\01_CSV\\\\CPV2010\\\\26.zip',\n",
       " '27': 'D:\\\\PCCS\\\\00_RawData\\\\01_CSV\\\\CPV2010\\\\27.zip',\n",
       " '28': 'D:\\\\PCCS\\\\00_RawData\\\\01_CSV\\\\CPV2010\\\\28.zip',\n",
       " '29': 'D:\\\\PCCS\\\\00_RawData\\\\01_CSV\\\\CPV2010\\\\29.zip',\n",
       " '30': 'D:\\\\PCCS\\\\00_RawData\\\\01_CSV\\\\CPV2010\\\\30.zip',\n",
       " '31': 'D:\\\\PCCS\\\\00_RawData\\\\01_CSV\\\\CPV2010\\\\31.zip',\n",
       " '32': 'D:\\\\PCCS\\\\00_RawData\\\\01_CSV\\\\CPV2010\\\\32.zip'}"
      ]
     },
     "execution_count": 5,
     "metadata": {},
     "output_type": "execute_result"
    }
   ],
   "source": [
    "archivos"
   ]
  },
  {
   "cell_type": "markdown",
   "metadata": {},
   "source": [
    "Se guardó un diccionario con k: CVE_EDO y v: Archivo comprimido local\n",
    "Ahora hay que descomprimir los archivos"
   ]
  },
  {
   "cell_type": "code",
   "execution_count": 6,
   "metadata": {
    "scrolled": false
   },
   "outputs": [
    {
     "name": "stdout",
     "output_type": "stream",
     "text": [
      "Descomprimiendo D:\\PCCS\\00_RawData\\01_CSV\\CPV2010\\01 ... ... ... ... ... \n",
      "Descomprimiendo D:\\PCCS\\00_RawData\\01_CSV\\CPV2010\\02 ... ... ... ... ... \n",
      "Descomprimiendo D:\\PCCS\\00_RawData\\01_CSV\\CPV2010\\03 ... ... ... ... ... \n",
      "Descomprimiendo D:\\PCCS\\00_RawData\\01_CSV\\CPV2010\\04 ... ... ... ... ... \n",
      "Descomprimiendo D:\\PCCS\\00_RawData\\01_CSV\\CPV2010\\05 ... ... ... ... ... \n",
      "Descomprimiendo D:\\PCCS\\00_RawData\\01_CSV\\CPV2010\\06 ... ... ... ... ... \n",
      "Descomprimiendo D:\\PCCS\\00_RawData\\01_CSV\\CPV2010\\07 ... ... ... ... ... \n",
      "Descomprimiendo D:\\PCCS\\00_RawData\\01_CSV\\CPV2010\\08 ... ... ... ... ... \n",
      "Descomprimiendo D:\\PCCS\\00_RawData\\01_CSV\\CPV2010\\09 ... ... ... ... ... \n",
      "Descomprimiendo D:\\PCCS\\00_RawData\\01_CSV\\CPV2010\\10 ... ... ... ... ... \n",
      "Descomprimiendo D:\\PCCS\\00_RawData\\01_CSV\\CPV2010\\11 ... ... ... ... ... \n",
      "Descomprimiendo D:\\PCCS\\00_RawData\\01_CSV\\CPV2010\\12 ... ... ... ... ... \n",
      "Descomprimiendo D:\\PCCS\\00_RawData\\01_CSV\\CPV2010\\13 ... ... ... ... ... \n",
      "Descomprimiendo D:\\PCCS\\00_RawData\\01_CSV\\CPV2010\\14 ... ... ... ... ... \n",
      "Descomprimiendo D:\\PCCS\\00_RawData\\01_CSV\\CPV2010\\15 ... ... ... ... ... \n",
      "Descomprimiendo D:\\PCCS\\00_RawData\\01_CSV\\CPV2010\\16 ... ... ... ... ... \n",
      "Descomprimiendo D:\\PCCS\\00_RawData\\01_CSV\\CPV2010\\17 ... ... ... ... ... \n",
      "Descomprimiendo D:\\PCCS\\00_RawData\\01_CSV\\CPV2010\\18 ... ... ... ... ... \n",
      "Descomprimiendo D:\\PCCS\\00_RawData\\01_CSV\\CPV2010\\19 ... ... ... ... ... \n",
      "Descomprimiendo D:\\PCCS\\00_RawData\\01_CSV\\CPV2010\\20 ... ... ... ... ... \n",
      "Descomprimiendo D:\\PCCS\\00_RawData\\01_CSV\\CPV2010\\21 ... ... ... ... ... \n",
      "Descomprimiendo D:\\PCCS\\00_RawData\\01_CSV\\CPV2010\\22 ... ... ... ... ... \n",
      "Descomprimiendo D:\\PCCS\\00_RawData\\01_CSV\\CPV2010\\23 ... ... ... ... ... \n",
      "Descomprimiendo D:\\PCCS\\00_RawData\\01_CSV\\CPV2010\\24 ... ... ... ... ... \n",
      "Descomprimiendo D:\\PCCS\\00_RawData\\01_CSV\\CPV2010\\25 ... ... ... ... ... \n",
      "Descomprimiendo D:\\PCCS\\00_RawData\\01_CSV\\CPV2010\\26 ... ... ... ... ... \n",
      "Descomprimiendo D:\\PCCS\\00_RawData\\01_CSV\\CPV2010\\27 ... ... ... ... ... \n",
      "Descomprimiendo D:\\PCCS\\00_RawData\\01_CSV\\CPV2010\\28 ... ... ... ... ... \n",
      "Descomprimiendo D:\\PCCS\\00_RawData\\01_CSV\\CPV2010\\29 ... ... ... ... ... \n",
      "Descomprimiendo D:\\PCCS\\00_RawData\\01_CSV\\CPV2010\\30 ... ... ... ... ... \n",
      "Descomprimiendo D:\\PCCS\\00_RawData\\01_CSV\\CPV2010\\31 ... ... ... ... ... \n",
      "Descomprimiendo D:\\PCCS\\00_RawData\\01_CSV\\CPV2010\\32 ... ... ... ... ... \n"
     ]
    }
   ],
   "source": [
    "# Descompresión de archivos de m_parametro\n",
    "unzipped = {}\n",
    "for CVE_EDO, comprimido in archivos.items():\n",
    "    target = destino + '\\\\' + CVE_EDO\n",
    "    if os.path.isfile(target):\n",
    "        print('Ya existe el archivo: {}'.format(target))\n",
    "        unzipped[CVE_EDO] = target\n",
    "    else:\n",
    "        print('Descomprimiendo {} ... ... ... ... ... '.format(target))\n",
    "        descomprimir = zipfile.ZipFile(comprimido, 'r')\n",
    "        descomprimir.extractall(target)\n",
    "        descomprimir.close\n",
    "        unzipped[CVE_EDO] = target"
   ]
  },
  {
   "cell_type": "code",
   "execution_count": 11,
   "metadata": {},
   "outputs": [
    {
     "name": "stdout",
     "output_type": "stream",
     "text": [
      "01\n",
      "[0]\\\\ITER_01DBF10\n",
      "[1]\\\\ITER_01XLS10\n",
      "02\n",
      "[0]\\\\ITER_02DBF10\n",
      "[1]\\\\ITER_02XLS10\n",
      "03\n",
      "[0]\\\\ITER_03DBF10\n",
      "[1]\\\\ITER_03XLS10\n",
      "04\n",
      "[0]\\\\ITER_04DBF10\n",
      "[1]\\\\ITER_04XLS10\n",
      "05\n",
      "[0]\\\\ITER_05DBF10\n",
      "[1]\\\\ITER_05XLS10\n",
      "06\n",
      "[0]\\\\ITER_06DBF10\n",
      "[1]\\\\ITER_06XLS10\n",
      "07\n",
      "[0]\\\\ITER_07DBF10\n",
      "[1]\\\\ITER_07XLS10\n",
      "08\n",
      "[0]\\\\ITER_08DBF10\n",
      "[1]\\\\ITER_08XLS10\n",
      "09\n",
      "[0]\\\\ITER_09DBF10\n",
      "[1]\\\\ITER_09XLS10\n",
      "10\n",
      "[0]\\\\ITER_10DBF10\n",
      "[1]\\\\ITER_10XLS10\n",
      "11\n",
      "[0]\\\\ITER_11DBF10\n",
      "[1]\\\\ITER_11XLS10\n",
      "12\n",
      "[0]\\\\ITER_12DBF10\n",
      "[1]\\\\ITER_12XLS10\n",
      "13\n",
      "[0]\\\\ITER_13DBF10\n",
      "[1]\\\\ITER_13XLS10\n",
      "14\n",
      "[0]\\\\ITER_14DBF10\n",
      "[1]\\\\ITER_14XLS10\n",
      "15\n",
      "[0]\\\\ITER_15DBF10\n",
      "[1]\\\\ITER_15XLS10\n",
      "16\n",
      "[0]\\\\ITER_16DBF10\n",
      "[1]\\\\ITER_16XLS10\n",
      "17\n",
      "[0]\\\\ITER_17DBF10\n",
      "[1]\\\\ITER_17XLS10\n",
      "18\n",
      "[0]\\\\ITER_18DBF10\n",
      "[1]\\\\ITER_18XLS10\n",
      "19\n",
      "[0]\\\\ITER_19DBF10\n",
      "[1]\\\\ITER_19XLS10\n",
      "20\n",
      "[0]\\\\ITER_20DBF10\n",
      "[1]\\\\ITER_20XLS10\n",
      "21\n",
      "[0]\\\\ITER_21DBF10\n",
      "[1]\\\\ITER_21XLS10\n",
      "22\n",
      "[0]\\\\ITER_22DBF10\n",
      "[1]\\\\ITER_22XLS10\n",
      "23\n",
      "[0]\\\\ITER_23DBF10\n",
      "[1]\\\\ITER_23XLS10\n",
      "24\n",
      "[0]\\\\ITER_24DBF10\n",
      "[1]\\\\ITER_24XLS10\n",
      "25\n",
      "[0]\\\\ITER_25DBF10\n",
      "[1]\\\\ITER_25XLS10\n",
      "26\n",
      "[0]\\\\ITER_26DBF10\n",
      "[1]\\\\ITER_26XLS10\n",
      "27\n",
      "[0]\\\\ITER_27DBF10\n",
      "[1]\\\\ITER_27XLS10\n",
      "28\n",
      "[0]\\\\ITER_28DBF10\n",
      "[1]\\\\ITER_28XLS10\n",
      "29\n",
      "[0]\\\\ITER_29DBF10\n",
      "[1]\\\\ITER_29XLS10\n",
      "30\n",
      "[0]\\\\ITER_30DBF10\n",
      "[1]\\\\ITER_30XLS10\n",
      "31\n",
      "[0]\\\\ITER_31DBF10\n",
      "[1]\\\\ITER_31XLS10\n",
      "32\n",
      "[0]\\\\ITER_32DBF10\n",
      "[1]\\\\ITER_32XLS10\n"
     ]
    }
   ],
   "source": [
    "for CVE_EDO, path in unzipped.items():\n",
    "    print(CVE_EDO)\n",
    "    x = 0\n",
    "    for file in os.listdir(path):\n",
    "        print(r'[{}]\\\\{}'.format(x, file))\n",
    "        x += 1"
   ]
  },
  {
   "cell_type": "markdown",
   "metadata": {},
   "source": [
    "Cada directorio tiene 2 carpetas, una con un archivo DBF y otra con un xls. Vamos a utilizar el xls."
   ]
  },
  {
   "cell_type": "code",
   "execution_count": 13,
   "metadata": {
    "scrolled": true
   },
   "outputs": [
    {
     "name": "stdout",
     "output_type": "stream",
     "text": [
      "01\n",
      "D:\\PCCS\\00_RawData\\01_CSV\\CPV2010\\01\\ITER_01XLS10\\ITER_01XLS10.xls\n",
      "\n",
      "02\n",
      "D:\\PCCS\\00_RawData\\01_CSV\\CPV2010\\02\\ITER_02XLS10\\ITER_02XLS10.xls\n",
      "\n",
      "03\n",
      "D:\\PCCS\\00_RawData\\01_CSV\\CPV2010\\03\\ITER_03XLS10\\ITER_03XLS10.xls\n",
      "\n",
      "04\n",
      "D:\\PCCS\\00_RawData\\01_CSV\\CPV2010\\04\\ITER_04XLS10\\ITER_04XLS10.xls\n",
      "\n",
      "05\n",
      "D:\\PCCS\\00_RawData\\01_CSV\\CPV2010\\05\\ITER_05XLS10\\ITER_05XLS10.xls\n",
      "\n",
      "06\n",
      "D:\\PCCS\\00_RawData\\01_CSV\\CPV2010\\06\\ITER_06XLS10\\ITER_06XLS10.xls\n",
      "\n",
      "07\n",
      "D:\\PCCS\\00_RawData\\01_CSV\\CPV2010\\07\\ITER_07XLS10\\ITER_07XLS10.xls\n",
      "\n",
      "08\n",
      "D:\\PCCS\\00_RawData\\01_CSV\\CPV2010\\08\\ITER_08XLS10\\ITER_08XLS10.xls\n",
      "\n",
      "09\n",
      "D:\\PCCS\\00_RawData\\01_CSV\\CPV2010\\09\\ITER_09XLS10\\ITER_09XLS10.xls\n",
      "\n",
      "10\n",
      "D:\\PCCS\\00_RawData\\01_CSV\\CPV2010\\10\\ITER_10XLS10\\ITER_10XLS10.xls\n",
      "\n",
      "11\n",
      "D:\\PCCS\\00_RawData\\01_CSV\\CPV2010\\11\\ITER_11XLS10\\ITER_11XLS10.xls\n",
      "\n",
      "12\n",
      "D:\\PCCS\\00_RawData\\01_CSV\\CPV2010\\12\\ITER_12XLS10\\ITER_12XLS10.xls\n",
      "\n",
      "13\n",
      "D:\\PCCS\\00_RawData\\01_CSV\\CPV2010\\13\\ITER_13XLS10\\ITER_13XLS10.xls\n",
      "\n",
      "14\n",
      "D:\\PCCS\\00_RawData\\01_CSV\\CPV2010\\14\\ITER_14XLS10\\ITER_14XLS10.xls\n",
      "\n",
      "15\n",
      "D:\\PCCS\\00_RawData\\01_CSV\\CPV2010\\15\\ITER_15XLS10\\ITER_15XLS10.xls\n",
      "\n",
      "16\n",
      "D:\\PCCS\\00_RawData\\01_CSV\\CPV2010\\16\\ITER_16XLS10\\ITER_16XLS10.xls\n",
      "\n",
      "17\n",
      "D:\\PCCS\\00_RawData\\01_CSV\\CPV2010\\17\\ITER_17XLS10\\ITER_17XLS10.xls\n",
      "\n",
      "18\n",
      "D:\\PCCS\\00_RawData\\01_CSV\\CPV2010\\18\\ITER_18XLS10\\ITER_18XLS10.xls\n",
      "\n",
      "19\n",
      "D:\\PCCS\\00_RawData\\01_CSV\\CPV2010\\19\\ITER_19XLS10\\ITER_19XLS10.xls\n",
      "\n",
      "20\n",
      "D:\\PCCS\\00_RawData\\01_CSV\\CPV2010\\20\\ITER_20XLS10\\ITER_20XLS10.xls\n",
      "\n",
      "21\n",
      "D:\\PCCS\\00_RawData\\01_CSV\\CPV2010\\21\\ITER_21XLS10\\ITER_21XLS10.xls\n",
      "\n",
      "22\n",
      "D:\\PCCS\\00_RawData\\01_CSV\\CPV2010\\22\\ITER_22XLS10\\ITER_22XLS10.xls\n",
      "\n",
      "23\n",
      "D:\\PCCS\\00_RawData\\01_CSV\\CPV2010\\23\\ITER_23XLS10\\ITER_23XLS10.xls\n",
      "\n",
      "24\n",
      "D:\\PCCS\\00_RawData\\01_CSV\\CPV2010\\24\\ITER_24XLS10\\ITER_24XLS10.xls\n",
      "\n",
      "25\n",
      "D:\\PCCS\\00_RawData\\01_CSV\\CPV2010\\25\\ITER_25XLS10\\ITER_25XLS10.xls\n",
      "\n",
      "26\n",
      "D:\\PCCS\\00_RawData\\01_CSV\\CPV2010\\26\\ITER_26XLS10\\ITER_26XLS10.xls\n",
      "\n",
      "27\n",
      "D:\\PCCS\\00_RawData\\01_CSV\\CPV2010\\27\\ITER_27XLS10\\ITER_27XLS10.xls\n",
      "\n",
      "28\n",
      "D:\\PCCS\\00_RawData\\01_CSV\\CPV2010\\28\\ITER_28XLS10\\ITER_28XLS10.xls\n",
      "\n",
      "29\n",
      "D:\\PCCS\\00_RawData\\01_CSV\\CPV2010\\29\\ITER_29XLS10\\ITER_29XLS10.xls\n",
      "\n",
      "30\n",
      "D:\\PCCS\\00_RawData\\01_CSV\\CPV2010\\30\\ITER_30XLS10\\ITER_30XLS10.xls\n",
      "\n",
      "31\n",
      "D:\\PCCS\\00_RawData\\01_CSV\\CPV2010\\31\\ITER_31XLS10\\ITER_31XLS10.xls\n",
      "\n",
      "32\n",
      "D:\\PCCS\\00_RawData\\01_CSV\\CPV2010\\32\\ITER_32XLS10\\ITER_32XLS10.xls\n",
      "\n"
     ]
    }
   ],
   "source": [
    "xlsfiles = {}\n",
    "for CVE_EDO, path in unzipped.items():\n",
    "    print(CVE_EDO)\n",
    "    xlsname = os.listdir(path)[1]\n",
    "    xlspath = path+'\\\\'+xlsname+'\\\\'+xlsname+'.xls'\n",
    "    xlsfiles[CVE_EDO] = xlspath\n",
    "    print('{}\\n'.format(xlspath))"
   ]
  },
  {
   "cell_type": "markdown",
   "metadata": {},
   "source": [
    "## 3. Estandarizacion del dataset"
   ]
  },
  {
   "cell_type": "code",
   "execution_count": 29,
   "metadata": {
    "collapsed": true
   },
   "outputs": [],
   "source": [
    "# Funcion para extraer datos de hoja tipo\n",
    "# La funcion espera los siguientes valores:\n",
    "# --- entidad: [str] clave geoestadistica de entidad de 2 digitos\n",
    "# --- ruta: [str] ruta al archivo de excel que contiene la información\n",
    "\n",
    "def cargahoja(ruta):\n",
    "    # Abre el archivo de excel\n",
    "    raw_data = pd.read_excel(ruta, sheetname='Hoja1', dtype={\n",
    "        'ENTIDAD':'str',\n",
    "        'MUN':'str',\n",
    "        'LOC':'str',\n",
    "    }).dropna()\n",
    "\n",
    "    # Crea la columna CVE_MUN \n",
    "    raw_data['CVE_MUN'] = raw_data['ENTIDAD'].map(str) + raw_data['MUN']\n",
    "\n",
    "    # Excluye los renglones que tienen infomracion de resumen\n",
    "    raw_data = raw_data[raw_data['MUN'] != '000']\n",
    "    \n",
    "    # Borra columnas con informacion irrelevante o duplicada\n",
    "    del (raw_data['ENTIDAD'])\n",
    "    del (raw_data['MUN'])\n",
    "    del (raw_data['NOM_ENT'])\n",
    "    raw_data.set_index('CVE_MUN', inplace=True)\n",
    "    \n",
    "    return raw_data"
   ]
  },
  {
   "cell_type": "markdown",
   "metadata": {},
   "source": [
    "Correr funcion sobre todos los archivos para importar los datos"
   ]
  },
  {
   "cell_type": "code",
   "execution_count": 32,
   "metadata": {},
   "outputs": [
    {
     "name": "stdout",
     "output_type": "stream",
     "text": [
      "procesando 01 desde D:\\PCCS\\00_RawData\\01_CSV\\CPV2010\\01\\ITER_01XLS10\\ITER_01XLS10.xls\n",
      "procesando 02 desde D:\\PCCS\\00_RawData\\01_CSV\\CPV2010\\02\\ITER_02XLS10\\ITER_02XLS10.xls\n",
      "procesando 03 desde D:\\PCCS\\00_RawData\\01_CSV\\CPV2010\\03\\ITER_03XLS10\\ITER_03XLS10.xls\n",
      "procesando 04 desde D:\\PCCS\\00_RawData\\01_CSV\\CPV2010\\04\\ITER_04XLS10\\ITER_04XLS10.xls\n",
      "procesando 05 desde D:\\PCCS\\00_RawData\\01_CSV\\CPV2010\\05\\ITER_05XLS10\\ITER_05XLS10.xls\n",
      "procesando 06 desde D:\\PCCS\\00_RawData\\01_CSV\\CPV2010\\06\\ITER_06XLS10\\ITER_06XLS10.xls\n",
      "procesando 07 desde D:\\PCCS\\00_RawData\\01_CSV\\CPV2010\\07\\ITER_07XLS10\\ITER_07XLS10.xls\n",
      "procesando 08 desde D:\\PCCS\\00_RawData\\01_CSV\\CPV2010\\08\\ITER_08XLS10\\ITER_08XLS10.xls\n",
      "procesando 09 desde D:\\PCCS\\00_RawData\\01_CSV\\CPV2010\\09\\ITER_09XLS10\\ITER_09XLS10.xls\n",
      "procesando 10 desde D:\\PCCS\\00_RawData\\01_CSV\\CPV2010\\10\\ITER_10XLS10\\ITER_10XLS10.xls\n",
      "procesando 11 desde D:\\PCCS\\00_RawData\\01_CSV\\CPV2010\\11\\ITER_11XLS10\\ITER_11XLS10.xls\n",
      "procesando 12 desde D:\\PCCS\\00_RawData\\01_CSV\\CPV2010\\12\\ITER_12XLS10\\ITER_12XLS10.xls\n",
      "procesando 13 desde D:\\PCCS\\00_RawData\\01_CSV\\CPV2010\\13\\ITER_13XLS10\\ITER_13XLS10.xls\n",
      "procesando 14 desde D:\\PCCS\\00_RawData\\01_CSV\\CPV2010\\14\\ITER_14XLS10\\ITER_14XLS10.xls\n",
      "procesando 15 desde D:\\PCCS\\00_RawData\\01_CSV\\CPV2010\\15\\ITER_15XLS10\\ITER_15XLS10.xls\n",
      "procesando 16 desde D:\\PCCS\\00_RawData\\01_CSV\\CPV2010\\16\\ITER_16XLS10\\ITER_16XLS10.xls\n",
      "procesando 17 desde D:\\PCCS\\00_RawData\\01_CSV\\CPV2010\\17\\ITER_17XLS10\\ITER_17XLS10.xls\n",
      "procesando 18 desde D:\\PCCS\\00_RawData\\01_CSV\\CPV2010\\18\\ITER_18XLS10\\ITER_18XLS10.xls\n",
      "procesando 19 desde D:\\PCCS\\00_RawData\\01_CSV\\CPV2010\\19\\ITER_19XLS10\\ITER_19XLS10.xls\n",
      "procesando 20 desde D:\\PCCS\\00_RawData\\01_CSV\\CPV2010\\20\\ITER_20XLS10\\ITER_20XLS10.xls\n",
      "procesando 21 desde D:\\PCCS\\00_RawData\\01_CSV\\CPV2010\\21\\ITER_21XLS10\\ITER_21XLS10.xls\n",
      "procesando 22 desde D:\\PCCS\\00_RawData\\01_CSV\\CPV2010\\22\\ITER_22XLS10\\ITER_22XLS10.xls\n",
      "procesando 23 desde D:\\PCCS\\00_RawData\\01_CSV\\CPV2010\\23\\ITER_23XLS10\\ITER_23XLS10.xls\n",
      "procesando 24 desde D:\\PCCS\\00_RawData\\01_CSV\\CPV2010\\24\\ITER_24XLS10\\ITER_24XLS10.xls\n",
      "procesando 25 desde D:\\PCCS\\00_RawData\\01_CSV\\CPV2010\\25\\ITER_25XLS10\\ITER_25XLS10.xls\n",
      "procesando 26 desde D:\\PCCS\\00_RawData\\01_CSV\\CPV2010\\26\\ITER_26XLS10\\ITER_26XLS10.xls\n",
      "procesando 27 desde D:\\PCCS\\00_RawData\\01_CSV\\CPV2010\\27\\ITER_27XLS10\\ITER_27XLS10.xls\n",
      "procesando 28 desde D:\\PCCS\\00_RawData\\01_CSV\\CPV2010\\28\\ITER_28XLS10\\ITER_28XLS10.xls\n",
      "procesando 29 desde D:\\PCCS\\00_RawData\\01_CSV\\CPV2010\\29\\ITER_29XLS10\\ITER_29XLS10.xls\n",
      "procesando 30 desde D:\\PCCS\\00_RawData\\01_CSV\\CPV2010\\30\\ITER_30XLS10\\ITER_30XLS10.xls\n",
      "procesando 31 desde D:\\PCCS\\00_RawData\\01_CSV\\CPV2010\\31\\ITER_31XLS10\\ITER_31XLS10.xls\n",
      "procesando 32 desde D:\\PCCS\\00_RawData\\01_CSV\\CPV2010\\32\\ITER_32XLS10\\ITER_32XLS10.xls\n"
     ]
    }
   ],
   "source": [
    "dataframes = {}\n",
    "for CVE_EDO, ruta in xlsfiles.items():\n",
    "    print('procesando {} desde {}'.format(CVE_EDO, ruta))\n",
    "    dataframes[CVE_EDO] = cargahoja(ruta)"
   ]
  },
  {
   "cell_type": "markdown",
   "metadata": {},
   "source": [
    "Los datos fueron guardados como diccionario de Python, es necesario convertirlos en un DataFrame unico antes de hacer la limpieza final."
   ]
  },
  {
   "cell_type": "code",
   "execution_count": null,
   "metadata": {
    "collapsed": true
   },
   "outputs": [],
   "source": [
    "censo2010 = pd.DataFrame()\n",
    "for CVE_EDO, dataframe in dataframes.items():\n",
    "    censo2010 = censo2010.append(dataframe)"
   ]
  },
  {
   "cell_type": "code",
   "execution_count": 27,
   "metadata": {},
   "outputs": [
    {
     "data": {
      "text/html": [
       "<div>\n",
       "<style>\n",
       "    .dataframe thead tr:only-child th {\n",
       "        text-align: right;\n",
       "    }\n",
       "\n",
       "    .dataframe thead th {\n",
       "        text-align: left;\n",
       "    }\n",
       "\n",
       "    .dataframe tbody tr th {\n",
       "        vertical-align: top;\n",
       "    }\n",
       "</style>\n",
       "<table border=\"1\" class=\"dataframe\">\n",
       "  <thead>\n",
       "    <tr style=\"text-align: right;\">\n",
       "      <th></th>\n",
       "      <th>ENTIDAD</th>\n",
       "      <th>NOM_ENT</th>\n",
       "      <th>MUN</th>\n",
       "      <th>NOM_MUN</th>\n",
       "      <th>LOC</th>\n",
       "      <th>NOM_LOC</th>\n",
       "      <th>LONGITUD</th>\n",
       "      <th>LATITUD</th>\n",
       "      <th>ALTITUD</th>\n",
       "      <th>POBTOT</th>\n",
       "      <th>...</th>\n",
       "      <th>VPH_RADIO</th>\n",
       "      <th>VPH_TV</th>\n",
       "      <th>VPH_REFRI</th>\n",
       "      <th>VPH_LAVAD</th>\n",
       "      <th>VPH_AUTOM</th>\n",
       "      <th>VPH_PC</th>\n",
       "      <th>VPH_TELEF</th>\n",
       "      <th>VPH_CEL</th>\n",
       "      <th>VPH_INTER</th>\n",
       "      <th>TAM_LOC</th>\n",
       "    </tr>\n",
       "  </thead>\n",
       "  <tbody>\n",
       "    <tr>\n",
       "      <th>4</th>\n",
       "      <td>4</td>\n",
       "      <td>Campeche</td>\n",
       "      <td>1</td>\n",
       "      <td>Calkiní</td>\n",
       "      <td>1</td>\n",
       "      <td>Calkiní</td>\n",
       "      <td>900302.0</td>\n",
       "      <td>202216.0</td>\n",
       "      <td>20.0</td>\n",
       "      <td>14934</td>\n",
       "      <td>...</td>\n",
       "      <td>2489</td>\n",
       "      <td>3319</td>\n",
       "      <td>2845</td>\n",
       "      <td>2604</td>\n",
       "      <td>1149</td>\n",
       "      <td>1133</td>\n",
       "      <td>757</td>\n",
       "      <td>2490</td>\n",
       "      <td>539</td>\n",
       "      <td>7.0</td>\n",
       "    </tr>\n",
       "  </tbody>\n",
       "</table>\n",
       "<p>1 rows × 200 columns</p>\n",
       "</div>"
      ],
      "text/plain": [
       "   ENTIDAD   NOM_ENT  MUN  NOM_MUN  LOC  NOM_LOC  LONGITUD   LATITUD  ALTITUD  \\\n",
       "4        4  Campeche    1  Calkiní    1  Calkiní  900302.0  202216.0     20.0   \n",
       "\n",
       "   POBTOT   ...   VPH_RADIO VPH_TV VPH_REFRI VPH_LAVAD VPH_AUTOM VPH_PC  \\\n",
       "4   14934   ...        2489   3319      2845      2604      1149   1133   \n",
       "\n",
       "  VPH_TELEF VPH_CEL VPH_INTER TAM_LOC  \n",
       "4       757    2490       539     7.0  \n",
       "\n",
       "[1 rows x 200 columns]"
      ]
     },
     "execution_count": 27,
     "metadata": {},
     "output_type": "execute_result"
    }
   ],
   "source": [
    "raw_data.head(1)"
   ]
  },
  {
   "cell_type": "code",
   "execution_count": 20,
   "metadata": {},
   "outputs": [
    {
     "ename": "TypeError",
     "evalue": "ufunc 'add' did not contain a loop with signature matching types dtype('<U21') dtype('<U21') dtype('<U21')",
     "output_type": "error",
     "traceback": [
      "\u001b[1;31m---------------------------------------------------------------------------\u001b[0m",
      "\u001b[1;31mTypeError\u001b[0m                                 Traceback (most recent call last)",
      "\u001b[1;32mC:\\Users\\carlos.arana\\AppData\\Local\\Continuum\\Anaconda3\\lib\\site-packages\\pandas\\core\\ops.py\u001b[0m in \u001b[0;36mna_op\u001b[1;34m(x, y)\u001b[0m\n\u001b[0;32m    657\u001b[0m             result = expressions.evaluate(op, str_rep, x, y,\n\u001b[1;32m--> 658\u001b[1;33m                                           raise_on_error=True, **eval_kwargs)\n\u001b[0m\u001b[0;32m    659\u001b[0m         \u001b[1;32mexcept\u001b[0m \u001b[0mTypeError\u001b[0m\u001b[1;33m:\u001b[0m\u001b[1;33m\u001b[0m\u001b[0m\n",
      "\u001b[1;32mC:\\Users\\carlos.arana\\AppData\\Local\\Continuum\\Anaconda3\\lib\\site-packages\\pandas\\core\\computation\\expressions.py\u001b[0m in \u001b[0;36mevaluate\u001b[1;34m(op, op_str, a, b, raise_on_error, use_numexpr, **eval_kwargs)\u001b[0m\n\u001b[0;32m    210\u001b[0m         return _evaluate(op, op_str, a, b, raise_on_error=raise_on_error,\n\u001b[1;32m--> 211\u001b[1;33m                          **eval_kwargs)\n\u001b[0m\u001b[0;32m    212\u001b[0m     \u001b[1;32mreturn\u001b[0m \u001b[0m_evaluate_standard\u001b[0m\u001b[1;33m(\u001b[0m\u001b[0mop\u001b[0m\u001b[1;33m,\u001b[0m \u001b[0mop_str\u001b[0m\u001b[1;33m,\u001b[0m \u001b[0ma\u001b[0m\u001b[1;33m,\u001b[0m \u001b[0mb\u001b[0m\u001b[1;33m,\u001b[0m \u001b[0mraise_on_error\u001b[0m\u001b[1;33m=\u001b[0m\u001b[0mraise_on_error\u001b[0m\u001b[1;33m)\u001b[0m\u001b[1;33m\u001b[0m\u001b[0m\n",
      "\u001b[1;32mC:\\Users\\carlos.arana\\AppData\\Local\\Continuum\\Anaconda3\\lib\\site-packages\\pandas\\core\\computation\\expressions.py\u001b[0m in \u001b[0;36m_evaluate_numexpr\u001b[1;34m(op, op_str, a, b, raise_on_error, truediv, reversed, **eval_kwargs)\u001b[0m\n\u001b[0;32m    121\u001b[0m     \u001b[1;32mif\u001b[0m \u001b[0mresult\u001b[0m \u001b[1;32mis\u001b[0m \u001b[1;32mNone\u001b[0m\u001b[1;33m:\u001b[0m\u001b[1;33m\u001b[0m\u001b[0m\n\u001b[1;32m--> 122\u001b[1;33m         \u001b[0mresult\u001b[0m \u001b[1;33m=\u001b[0m \u001b[0m_evaluate_standard\u001b[0m\u001b[1;33m(\u001b[0m\u001b[0mop\u001b[0m\u001b[1;33m,\u001b[0m \u001b[0mop_str\u001b[0m\u001b[1;33m,\u001b[0m \u001b[0ma\u001b[0m\u001b[1;33m,\u001b[0m \u001b[0mb\u001b[0m\u001b[1;33m,\u001b[0m \u001b[0mraise_on_error\u001b[0m\u001b[1;33m)\u001b[0m\u001b[1;33m\u001b[0m\u001b[0m\n\u001b[0m\u001b[0;32m    123\u001b[0m \u001b[1;33m\u001b[0m\u001b[0m\n",
      "\u001b[1;32mC:\\Users\\carlos.arana\\AppData\\Local\\Continuum\\Anaconda3\\lib\\site-packages\\pandas\\core\\computation\\expressions.py\u001b[0m in \u001b[0;36m_evaluate_standard\u001b[1;34m(op, op_str, a, b, raise_on_error, **eval_kwargs)\u001b[0m\n\u001b[0;32m     63\u001b[0m     \u001b[1;32mwith\u001b[0m \u001b[0mnp\u001b[0m\u001b[1;33m.\u001b[0m\u001b[0merrstate\u001b[0m\u001b[1;33m(\u001b[0m\u001b[0mall\u001b[0m\u001b[1;33m=\u001b[0m\u001b[1;34m'ignore'\u001b[0m\u001b[1;33m)\u001b[0m\u001b[1;33m:\u001b[0m\u001b[1;33m\u001b[0m\u001b[0m\n\u001b[1;32m---> 64\u001b[1;33m         \u001b[1;32mreturn\u001b[0m \u001b[0mop\u001b[0m\u001b[1;33m(\u001b[0m\u001b[0ma\u001b[0m\u001b[1;33m,\u001b[0m \u001b[0mb\u001b[0m\u001b[1;33m)\u001b[0m\u001b[1;33m\u001b[0m\u001b[0m\n\u001b[0m\u001b[0;32m     65\u001b[0m \u001b[1;33m\u001b[0m\u001b[0m\n",
      "\u001b[1;31mTypeError\u001b[0m: must be str, not int",
      "\nDuring handling of the above exception, another exception occurred:\n",
      "\u001b[1;31mTypeError\u001b[0m                                 Traceback (most recent call last)",
      "\u001b[1;32mC:\\Users\\carlos.arana\\AppData\\Local\\Continuum\\Anaconda3\\lib\\site-packages\\pandas\\core\\ops.py\u001b[0m in \u001b[0;36msafe_na_op\u001b[1;34m(lvalues, rvalues)\u001b[0m\n\u001b[0;32m    681\u001b[0m             \u001b[1;32mwith\u001b[0m \u001b[0mnp\u001b[0m\u001b[1;33m.\u001b[0m\u001b[0merrstate\u001b[0m\u001b[1;33m(\u001b[0m\u001b[0mall\u001b[0m\u001b[1;33m=\u001b[0m\u001b[1;34m'ignore'\u001b[0m\u001b[1;33m)\u001b[0m\u001b[1;33m:\u001b[0m\u001b[1;33m\u001b[0m\u001b[0m\n\u001b[1;32m--> 682\u001b[1;33m                 \u001b[1;32mreturn\u001b[0m \u001b[0mna_op\u001b[0m\u001b[1;33m(\u001b[0m\u001b[0mlvalues\u001b[0m\u001b[1;33m,\u001b[0m \u001b[0mrvalues\u001b[0m\u001b[1;33m)\u001b[0m\u001b[1;33m\u001b[0m\u001b[0m\n\u001b[0m\u001b[0;32m    683\u001b[0m         \u001b[1;32mexcept\u001b[0m \u001b[0mException\u001b[0m\u001b[1;33m:\u001b[0m\u001b[1;33m\u001b[0m\u001b[0m\n",
      "\u001b[1;32mC:\\Users\\carlos.arana\\AppData\\Local\\Continuum\\Anaconda3\\lib\\site-packages\\pandas\\core\\ops.py\u001b[0m in \u001b[0;36mna_op\u001b[1;34m(x, y)\u001b[0m\n\u001b[0;32m    663\u001b[0m                 \u001b[0mmask\u001b[0m \u001b[1;33m=\u001b[0m \u001b[0mnotnull\u001b[0m\u001b[1;33m(\u001b[0m\u001b[0mx\u001b[0m\u001b[1;33m)\u001b[0m \u001b[1;33m&\u001b[0m \u001b[0mnotnull\u001b[0m\u001b[1;33m(\u001b[0m\u001b[0my\u001b[0m\u001b[1;33m)\u001b[0m\u001b[1;33m\u001b[0m\u001b[0m\n\u001b[1;32m--> 664\u001b[1;33m                 \u001b[0mresult\u001b[0m\u001b[1;33m[\u001b[0m\u001b[0mmask\u001b[0m\u001b[1;33m]\u001b[0m \u001b[1;33m=\u001b[0m \u001b[0mop\u001b[0m\u001b[1;33m(\u001b[0m\u001b[0mx\u001b[0m\u001b[1;33m[\u001b[0m\u001b[0mmask\u001b[0m\u001b[1;33m]\u001b[0m\u001b[1;33m,\u001b[0m \u001b[0m_values_from_object\u001b[0m\u001b[1;33m(\u001b[0m\u001b[0my\u001b[0m\u001b[1;33m[\u001b[0m\u001b[0mmask\u001b[0m\u001b[1;33m]\u001b[0m\u001b[1;33m)\u001b[0m\u001b[1;33m)\u001b[0m\u001b[1;33m\u001b[0m\u001b[0m\n\u001b[0m\u001b[0;32m    665\u001b[0m             \u001b[1;32melif\u001b[0m \u001b[0misinstance\u001b[0m\u001b[1;33m(\u001b[0m\u001b[0mx\u001b[0m\u001b[1;33m,\u001b[0m \u001b[0mnp\u001b[0m\u001b[1;33m.\u001b[0m\u001b[0mndarray\u001b[0m\u001b[1;33m)\u001b[0m\u001b[1;33m:\u001b[0m\u001b[1;33m\u001b[0m\u001b[0m\n",
      "\u001b[1;31mTypeError\u001b[0m: must be str, not int",
      "\nDuring handling of the above exception, another exception occurred:\n",
      "\u001b[1;31mTypeError\u001b[0m                                 Traceback (most recent call last)",
      "\u001b[1;32m<ipython-input-20-b37dcf9203d4>\u001b[0m in \u001b[0;36m<module>\u001b[1;34m()\u001b[0m\n\u001b[1;32m----> 1\u001b[1;33m \u001b[0mcargahoja\u001b[0m\u001b[1;33m(\u001b[0m\u001b[0mxlsfiles\u001b[0m\u001b[1;33m[\u001b[0m\u001b[1;34m'04'\u001b[0m\u001b[1;33m]\u001b[0m\u001b[1;33m)\u001b[0m\u001b[1;33m.\u001b[0m\u001b[0mhead\u001b[0m\u001b[1;33m(\u001b[0m\u001b[1;33m)\u001b[0m\u001b[1;33m\u001b[0m\u001b[0m\n\u001b[0m",
      "\u001b[1;32m<ipython-input-19-dc83cacee53d>\u001b[0m in \u001b[0;36mcargahoja\u001b[1;34m(ruta)\u001b[0m\n\u001b[0;32m      9\u001b[0m \u001b[1;33m\u001b[0m\u001b[0m\n\u001b[0;32m     10\u001b[0m     \u001b[1;31m# Crea la columna CVE_MUN\u001b[0m\u001b[1;33m\u001b[0m\u001b[1;33m\u001b[0m\u001b[0m\n\u001b[1;32m---> 11\u001b[1;33m     \u001b[0mraw_data\u001b[0m\u001b[1;33m[\u001b[0m\u001b[1;34m'CVE_MUN'\u001b[0m\u001b[1;33m]\u001b[0m \u001b[1;33m=\u001b[0m \u001b[0mraw_data\u001b[0m\u001b[1;33m[\u001b[0m\u001b[1;34m'ENTIDAD'\u001b[0m\u001b[1;33m]\u001b[0m\u001b[1;33m.\u001b[0m\u001b[0mmap\u001b[0m\u001b[1;33m(\u001b[0m\u001b[0mstr\u001b[0m\u001b[1;33m)\u001b[0m \u001b[1;33m+\u001b[0m \u001b[0mraw_data\u001b[0m\u001b[1;33m[\u001b[0m\u001b[1;34m'MUN'\u001b[0m\u001b[1;33m]\u001b[0m\u001b[1;33m\u001b[0m\u001b[0m\n\u001b[0m\u001b[0;32m     12\u001b[0m \u001b[1;33m\u001b[0m\u001b[0m\n\u001b[0;32m     13\u001b[0m     \u001b[1;31m# Excluye los renglones que tienen infomracion de resumen\u001b[0m\u001b[1;33m\u001b[0m\u001b[1;33m\u001b[0m\u001b[0m\n",
      "\u001b[1;32mC:\\Users\\carlos.arana\\AppData\\Local\\Continuum\\Anaconda3\\lib\\site-packages\\pandas\\core\\ops.py\u001b[0m in \u001b[0;36mwrapper\u001b[1;34m(left, right, name, na_op)\u001b[0m\n\u001b[0;32m    719\u001b[0m                 \u001b[0mlvalues\u001b[0m \u001b[1;33m=\u001b[0m \u001b[0mlvalues\u001b[0m\u001b[1;33m.\u001b[0m\u001b[0mvalues\u001b[0m\u001b[1;33m\u001b[0m\u001b[0m\n\u001b[0;32m    720\u001b[0m \u001b[1;33m\u001b[0m\u001b[0m\n\u001b[1;32m--> 721\u001b[1;33m         \u001b[0mresult\u001b[0m \u001b[1;33m=\u001b[0m \u001b[0mwrap_results\u001b[0m\u001b[1;33m(\u001b[0m\u001b[0msafe_na_op\u001b[0m\u001b[1;33m(\u001b[0m\u001b[0mlvalues\u001b[0m\u001b[1;33m,\u001b[0m \u001b[0mrvalues\u001b[0m\u001b[1;33m)\u001b[0m\u001b[1;33m)\u001b[0m\u001b[1;33m\u001b[0m\u001b[0m\n\u001b[0m\u001b[0;32m    722\u001b[0m         return construct_result(\n\u001b[0;32m    723\u001b[0m             \u001b[0mleft\u001b[0m\u001b[1;33m,\u001b[0m\u001b[1;33m\u001b[0m\u001b[0m\n",
      "\u001b[1;32mC:\\Users\\carlos.arana\\AppData\\Local\\Continuum\\Anaconda3\\lib\\site-packages\\pandas\\core\\ops.py\u001b[0m in \u001b[0;36msafe_na_op\u001b[1;34m(lvalues, rvalues)\u001b[0m\n\u001b[0;32m    690\u001b[0m                 \u001b[1;32mif\u001b[0m \u001b[0mis_object_dtype\u001b[0m\u001b[1;33m(\u001b[0m\u001b[0mlvalues\u001b[0m\u001b[1;33m)\u001b[0m\u001b[1;33m:\u001b[0m\u001b[1;33m\u001b[0m\u001b[0m\n\u001b[0;32m    691\u001b[0m                     return libalgos.arrmap_object(lvalues,\n\u001b[1;32m--> 692\u001b[1;33m                                                   lambda x: op(x, rvalues))\n\u001b[0m\u001b[0;32m    693\u001b[0m             \u001b[1;32mraise\u001b[0m\u001b[1;33m\u001b[0m\u001b[0m\n\u001b[0;32m    694\u001b[0m \u001b[1;33m\u001b[0m\u001b[0m\n",
      "\u001b[1;32mpandas\\_libs\\algos_common_helper.pxi\u001b[0m in \u001b[0;36mpandas._libs.algos.arrmap_object (pandas\\_libs\\algos.c:31954)\u001b[1;34m()\u001b[0m\n",
      "\u001b[1;32mC:\\Users\\carlos.arana\\AppData\\Local\\Continuum\\Anaconda3\\lib\\site-packages\\pandas\\core\\ops.py\u001b[0m in \u001b[0;36m<lambda>\u001b[1;34m(x)\u001b[0m\n\u001b[0;32m    690\u001b[0m                 \u001b[1;32mif\u001b[0m \u001b[0mis_object_dtype\u001b[0m\u001b[1;33m(\u001b[0m\u001b[0mlvalues\u001b[0m\u001b[1;33m)\u001b[0m\u001b[1;33m:\u001b[0m\u001b[1;33m\u001b[0m\u001b[0m\n\u001b[0;32m    691\u001b[0m                     return libalgos.arrmap_object(lvalues,\n\u001b[1;32m--> 692\u001b[1;33m                                                   lambda x: op(x, rvalues))\n\u001b[0m\u001b[0;32m    693\u001b[0m             \u001b[1;32mraise\u001b[0m\u001b[1;33m\u001b[0m\u001b[0m\n\u001b[0;32m    694\u001b[0m \u001b[1;33m\u001b[0m\u001b[0m\n",
      "\u001b[1;31mTypeError\u001b[0m: ufunc 'add' did not contain a loop with signature matching types dtype('<U21') dtype('<U21') dtype('<U21')"
     ]
    }
   ],
   "source": [
    "cargahoja(xlsfiles['04']).head()"
   ]
  }
 ],
 "metadata": {
  "kernelspec": {
   "display_name": "Python 3",
   "language": "python",
   "name": "python3"
  },
  "language_info": {
   "codemirror_mode": {
    "name": "ipython",
    "version": 3
   },
   "file_extension": ".py",
   "mimetype": "text/x-python",
   "name": "python",
   "nbconvert_exporter": "python",
   "pygments_lexer": "ipython3",
   "version": "3.6.1"
  }
 },
 "nbformat": 4,
 "nbformat_minor": 2
}
