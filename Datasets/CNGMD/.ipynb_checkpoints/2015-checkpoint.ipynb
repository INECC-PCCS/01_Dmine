{
 "cells": [
  {
   "cell_type": "markdown",
   "metadata": {},
   "source": [
    "# Limpieza de dataset del Censo Nacional de Gobiernos Municipales y Delegacionales 2015\n",
    "## 1. Introduccion\n",
    "\n",
    "Indicadores que salen de este dataset:\n",
    "\n",
    "\n",
    "ID |Descripción\n",
    "---|:----------\n",
    "P0306|Programas  de modernización catastral \n",
    "P0307|Disposiciones normativas sustantivas en materia de desarrollo urbano u ordenamiento territorial \n",
    "P1001|Promedio diario de RSU recolectados\n",
    "P1003|Número de municipios con disponibilidad de servicios relacionados con los RSU\n",
    "P1006|Número de municipios con aplicación de programas locales orientados a la GIRSU\n",
    "P1009|Número de municipios con estudios de generación de RSU\n",
    "\n",
    "## 2. Descarga de datos"
   ]
  },
  {
   "cell_type": "code",
   "execution_count": 13,
   "metadata": {
    "collapsed": true
   },
   "outputs": [],
   "source": [
    "descripciones = {\n",
    "'P0306' : 'Programas de modernización catastral',\n",
    "'P0307' : 'Disposiciones normativas sustantivas en materia de desarrollo urbano u ordenamiento territorial',\n",
    "'P1001' : 'Promedio diario de RSU recolectados',\n",
    "'P1003' : 'Número de municipios con disponibilidad de servicios relacionados con los RSU',\n",
    "'P1006' : 'Número de municipios con aplicación de programas locales orientados a la GIRSU',\n",
    "'P1009' : 'Número de municipios con estudios de generación de RSU',\n",
    "}\n",
    "\n"
   ]
  },
  {
   "cell_type": "code",
   "execution_count": 598,
   "metadata": {
    "collapsed": true
   },
   "outputs": [],
   "source": [
    "# Librerias utilizadas\n",
    "import pandas as pd\n",
    "import sys\n",
    "import urllib\n",
    "import os\n",
    "import zipfile\n",
    "import csv\n",
    "import pprint\n",
    "import re"
   ]
  },
  {
   "cell_type": "code",
   "execution_count": 2,
   "metadata": {
    "scrolled": true
   },
   "outputs": [
    {
     "name": "stdout",
     "output_type": "stream",
     "text": [
      "Python 3.6.1 |Anaconda 4.4.0 (64-bit)| (default, May 11 2017, 13:25:24) [MSC v.1900 64 bit (AMD64)] on win32\n",
      "Pandas version: 0.20.1\n",
      "Running on Windows 8.1\n"
     ]
    }
   ],
   "source": [
    "# Configuracion del sistema\n",
    "print('Python {} on {}'.format(sys.version, sys.platform))\n",
    "print('Pandas version: {}'.format(pd.__version__))\n",
    "import platform; print('Running on {} {}'.format(platform.system(), platform.release()))"
   ]
  },
  {
   "cell_type": "code",
   "execution_count": 3,
   "metadata": {
    "collapsed": true
   },
   "outputs": [],
   "source": [
    "root = r'http://www.beta.inegi.org.mx/contenidos/proyectos/censosgobierno/municipal/cngmd/2015/datosabiertos/'\n",
    "\n",
    "links = {\n",
    "    'P0306' : r'm1/Programa_modernizacion_catastral_cngmd2015_csv.zip', # Programas de modernización catastral\n",
    "    'P0307' : r'm2/Marco_regulatorio_cngmd2015_csv.zip', # Disposiciones normativas sustantivas en materia de desarrollo urbano u ordenamiento territorial\n",
    "    'P1001' : r'm6/Rec_RSU_cngmd2015_csv.zip', # Promedio diario de RSU recolectados\n",
    "    'P1006' : r'm6/Prog_gest_int_RSU_cngmd2015_csv.zip', # Número de municipios con aplicación de programas locales orientados a la GIRSU\n",
    "    'P1009' : r'm6/Est_gen_comp_RSU_cngmd2015_csv.zip', # Número de municipios con estudios de generación de RSU\n",
    "}"
   ]
  },
  {
   "cell_type": "markdown",
   "metadata": {},
   "source": [
    "En el caso del parámetro P1003, los datos se extraen desde 3 archivos. Estos archivos son una base de datos para cada servicio relacionado con los RSU, Utilizando nuevamente el archivo que utiliza P1001 y dos adicionales:"
   ]
  },
  {
   "cell_type": "code",
   "execution_count": 4,
   "metadata": {
    "collapsed": true
   },
   "outputs": [],
   "source": [
    "P1003links = { # Número de municipios con disponibilidad de servicios relacionados con los RSU\n",
    "    1 : r'm6/Rec_RSU_cngmd2015_csv.zip',\n",
    "    2 : r'm6/Trat_RSU_cngmd2015_csv.zip',\n",
    "    3 : r'm6/Disp_final_RSU_cngmd2015_csv.zip'\n",
    "}"
   ]
  },
  {
   "cell_type": "code",
   "execution_count": 5,
   "metadata": {
    "collapsed": true
   },
   "outputs": [],
   "source": [
    "# Destino local\n",
    "destino = r'D:\\PCCS\\00_RawData\\01_CSV\\cngmd\\2015'"
   ]
  },
  {
   "cell_type": "code",
   "execution_count": 6,
   "metadata": {},
   "outputs": [
    {
     "name": "stdout",
     "output_type": "stream",
     "text": [
      "Ya existe el archivo: D:\\PCCS\\00_RawData\\01_CSV\\cngmd\\2015\\Programa_modernizacion_catastral_cngmd2015_csv.zip\n",
      "Ya existe el archivo: D:\\PCCS\\00_RawData\\01_CSV\\cngmd\\2015\\Marco_regulatorio_cngmd2015_csv.zip\n",
      "Ya existe el archivo: D:\\PCCS\\00_RawData\\01_CSV\\cngmd\\2015\\Rec_RSU_cngmd2015_csv.zip\n",
      "Ya existe el archivo: D:\\PCCS\\00_RawData\\01_CSV\\cngmd\\2015\\Prog_gest_int_RSU_cngmd2015_csv.zip\n",
      "Ya existe el archivo: D:\\PCCS\\00_RawData\\01_CSV\\cngmd\\2015\\Est_gen_comp_RSU_cngmd2015_csv.zip\n"
     ]
    }
   ],
   "source": [
    "# Descarga de zips para parametros que se encuentran en un solo archivo\n",
    "m_archivos = {}   # Diccionario para guardar memoria de descarga\n",
    "for parametro, fuente in links.items():\n",
    "    file = fuente.split('/')[1]\n",
    "    remote_path = root+fuente\n",
    "    local_path = destino + r'\\{}'.format(file)\n",
    "    if os.path.isfile(local_path):\n",
    "        print('Ya existe el archivo: {}'.format(local_path))\n",
    "        m_archivos[parametro] = local_path\n",
    "    else:\n",
    "        print('Descargando {} ... ... ... ... ... '.format(local_path))\n",
    "        urllib.request.urlretrieve(remote_path, local_path) #\n",
    "        m_archivos[parametro] = local_path\n",
    "        print('se descargó {}'.format(local_path))\n",
    "    "
   ]
  },
  {
   "cell_type": "code",
   "execution_count": 7,
   "metadata": {
    "scrolled": true
   },
   "outputs": [
    {
     "name": "stdout",
     "output_type": "stream",
     "text": [
      "Ya existe el archivo: D:\\PCCS\\00_RawData\\01_CSV\\cngmd\\2015\\Rec_RSU_cngmd2015_csv.zip\n",
      "Ya existe el archivo: D:\\PCCS\\00_RawData\\01_CSV\\cngmd\\2015\\Trat_RSU_cngmd2015_csv.zip\n",
      "Ya existe el archivo: D:\\PCCS\\00_RawData\\01_CSV\\cngmd\\2015\\Disp_final_RSU_cngmd2015_csv.zip\n"
     ]
    }
   ],
   "source": [
    "# Descarga de zips para parametro P1003\n",
    "m_archivos2 = {}   # Diccionario para guardar memoria de descarga\n",
    "for parametro, fuente in P1003links.items():\n",
    "    file = fuente.split('/')[1]\n",
    "    remote_path = root+fuente\n",
    "    local_path = destino + r'\\{}'.format(file)\n",
    "    if os.path.isfile(local_path):\n",
    "        print('Ya existe el archivo: {}'.format(local_path))\n",
    "        m_archivos2[parametro] = local_path\n",
    "    else:\n",
    "        print('Descargando {} ... ... ... ... ... '.format(local_path))\n",
    "        urllib.request.urlretrieve(remote_path, local_path) #\n",
    "        m_archivos2[parametro] = local_path\n",
    "        print('se descargó {}'.format(local_path))\n",
    "    "
   ]
  },
  {
   "cell_type": "code",
   "execution_count": 8,
   "metadata": {
    "scrolled": true
   },
   "outputs": [
    {
     "name": "stdout",
     "output_type": "stream",
     "text": [
      "Descomprimiendo D:\\PCCS\\00_RawData\\01_CSV\\cngmd\\2015\\P0306 ... ... ... ... ... \n",
      "Descomprimiendo D:\\PCCS\\00_RawData\\01_CSV\\cngmd\\2015\\P0307 ... ... ... ... ... \n",
      "Descomprimiendo D:\\PCCS\\00_RawData\\01_CSV\\cngmd\\2015\\P1001 ... ... ... ... ... \n",
      "Descomprimiendo D:\\PCCS\\00_RawData\\01_CSV\\cngmd\\2015\\P1006 ... ... ... ... ... \n",
      "Descomprimiendo D:\\PCCS\\00_RawData\\01_CSV\\cngmd\\2015\\P1009 ... ... ... ... ... \n"
     ]
    }
   ],
   "source": [
    "# Descompresión de archivos de m_parametro\n",
    "unzipped = {}\n",
    "for parametro, comprimido in m_archivos.items():\n",
    "    target = destino + '\\\\' + parametro\n",
    "    if os.path.isfile(target):\n",
    "        print('Ya existe el archivo: {}'.format(target))\n",
    "        unzipped[parametro] = target\n",
    "    else:\n",
    "        print('Descomprimiendo {} ... ... ... ... ... '.format(target))\n",
    "        descomprimir = zipfile.ZipFile(comprimido, 'r')\n",
    "        descomprimir.extractall(target)\n",
    "        descomprimir.close\n",
    "        unzipped[parametro] = target\n",
    "        "
   ]
  },
  {
   "cell_type": "code",
   "execution_count": 9,
   "metadata": {
    "scrolled": false
   },
   "outputs": [
    {
     "name": "stdout",
     "output_type": "stream",
     "text": [
      "Descomprimiendo D:\\PCCS\\00_RawData\\01_CSV\\cngmd\\2015\\P1003\\1 ... ... ... ... ... \n",
      "Descomprimiendo D:\\PCCS\\00_RawData\\01_CSV\\cngmd\\2015\\P1003\\2 ... ... ... ... ... \n",
      "Descomprimiendo D:\\PCCS\\00_RawData\\01_CSV\\cngmd\\2015\\P1003\\3 ... ... ... ... ... \n"
     ]
    }
   ],
   "source": [
    "# Descompresión de archivos de m_parametro2\n",
    "unzipped2 = {}\n",
    "for parametro, comprimido in m_archivos2.items():\n",
    "    target = destino + '\\\\P1003\\\\' + str(parametro)\n",
    "    if os.path.isfile(target):\n",
    "        print('Ya existe el archivo: {}'.format(target))\n",
    "        unzipped2[parametro] = target\n",
    "    else:\n",
    "        print('Descomprimiendo {} ... ... ... ... ... '.format(target))\n",
    "        descomprimir = zipfile.ZipFile(comprimido, 'r')\n",
    "        descomprimir.extractall(target)\n",
    "        descomprimir.close\n",
    "        unzipped2[parametro] = target\n",
    "        "
   ]
  },
  {
   "cell_type": "code",
   "execution_count": 925,
   "metadata": {},
   "outputs": [],
   "source": [
    "# Localizacion de archivos de cada parametro\n",
    "# Cada parametro tiene rutas y estructuras distintas. En este paso localizo manualmente \n",
    "# cada tabla y estructura desde los comprimidos. cada valor del diccionario contiene la ruta hacia\n",
    "# donde se encuentran las tablas.\n",
    "\n",
    "cd = r'\\conjunto_de_datos'\n",
    "\n",
    "tablas = {\n",
    "    'P0306' : destino + r'\\P0306' + cd,\n",
    "    'P0307' : destino + r'\\P0307\\marco_regulatorio_cngmd2015_dbf' + cd,\n",
    "    'P1001' : destino + r'\\P1001\\Rec_RSU_cngmd2015_csv' + cd,\n",
    "    'P1006' : destino + r'\\P1006\\Prog_gest_int_RSU_cngmd2015_csv' + cd,\n",
    "    'P1009' : destino + r'\\P1009\\Est_gen_comp_RSU_cngmd2015_csv' + cd,\n",
    "}\n",
    "\n",
    "# Tablas para P1003\n",
    "destino2 = destino + r'\\P0306'\n",
    "tablasP1003 = {\n",
    "    '1' : destino2 + r'\\1' + r'\\Rec_RSU_cngmd2015_csv' + cd,\n",
    "    '2' : destino2 + r'\\2' + r'\\Trat_RSU_cngmd2015_csv' + cd,\n",
    "    '3' : destino2 + r'\\3' + r'\\Disp_final_RSU_cngmd2015_csv' + cd,\n",
    "}"
   ]
  },
  {
   "cell_type": "markdown",
   "metadata": {},
   "source": [
    "## Construccion de datasets estándar\n",
    "Los datasets para cada parámetro surgen de diferentes preguntas del censo por lo que sus estructuras son muy desemejantes, razon por la cual:\n",
    "(1) : Cada parámetro tiene que procesarse individualmente.\n",
    "(2) : Es conveniente extraer de manera individual los metadatos de cada parámetro. Con este propósito, el siguiente script sirve para extraer los metadatos de cada dataset:"
   ]
  },
  {
   "cell_type": "code",
   "execution_count": 948,
   "metadata": {
    "collapsed": true
   },
   "outputs": [],
   "source": [
    "# Script para extraer metadatos:\n",
    "def getmeta(path, charcoding):   # Path es el contenido en las variables 'tablas' para cada parametro\n",
    "    cat = r'\\catalogos'\n",
    "    dic = r'\\diccionario_de_datos'\n",
    "    metadict = {}\n",
    "    metapath = path.replace(cd, cat)\n",
    "    metafiles = os.listdir(metapath)\n",
    "    dicdict = {}\n",
    "    dicpath = path.replace(cd, dic)\n",
    "    dicfiles = os.listdir(dicpath)\n",
    "    for file in metafiles:\n",
    "        variable = file.replace('.csv', '')\n",
    "        if file.endswith('.csv'):\n",
    "            csvpath = metapath+'\\\\'+file\n",
    "            metadf = pd.DataFrame.from_csv(csvpath, parse_dates=False)\n",
    "            try:\n",
    "                metadf.index = metadf.index.map(str.lower)\n",
    "            except:\n",
    "                pass\n",
    "            metadict[variable] = metadf\n",
    "        else:\n",
    "            dothis = input('El archivo {} no es csv, que deseas hacer? [DD]etener [CC]ontinuar'.format(file))\n",
    "            dothis = dothis.lower()\n",
    "            if dothis == 'dd':\n",
    "                raise GeneratorExit('Script detenido por el usuario')\n",
    "            elif dothis == 'cc':\n",
    "                continue\n",
    "            else:\n",
    "                raise KeyError('No entendi la instruccion {}'.format(dothis))\n",
    "    for file in dicfiles:\n",
    "        if file.endswith('.csv'):\n",
    "            filename = file.replace('.csv', '')\n",
    "            csvpath = dicpath+'\\\\'+file\n",
    "            try:\n",
    "                dicdf = pd.read_csv(csvpath, skiprows=2, usecols=[1, 2], index_col=0, parse_dates=False).dropna()\n",
    "            except:\n",
    "                dicdf = pd.read_csv(csvpath, skiprows=2, usecols=[1, 2], index_col=0, parse_dates=False, encoding = charcoding).dropna()\n",
    "            dicdf.index = dicdf.index.map(str.lower)\n",
    "            dicdict[filename] = dicdf\n",
    "    \n",
    "    return dicdict, metadict"
   ]
  },
  {
   "cell_type": "code",
   "execution_count": 529,
   "metadata": {},
   "outputs": [],
   "source": [
    "# Funcion para revisar metadatos\n",
    "def queryvar(var, tablelen=10, colprint = 125, dictio = p0306dic, metadat = p0306meta):\n",
    "    pdefault = pd.get_option('display.max_colwidth')\n",
    "    pd.set_option('display.max_colwidth', colprint)   # Expande el espacio para imprimir columnas\n",
    "    print('\"{}\" :\\n{}'.format(var, dictio.loc[var][0].upper()))\n",
    "    if len(metadat[var]) > tablelen:\n",
    "        print('{}\\nImprimiendo {} de {} registros'.format('-'*40,tablelen, len(metadat[var])))\n",
    "    print(metadat[var].head(tablelen))\n",
    "    pd.set_option('display.max_colwidth', pdefault)   # Regresa la variable de impresion de columnas a su default"
   ]
  },
  {
   "cell_type": "markdown",
   "metadata": {},
   "source": [
    "### **P0306 - Programas de modernización catastral**\n",
    "\n",
    "Existencia de programas de modernización catastral en los municipios. "
   ]
  },
  {
   "cell_type": "code",
   "execution_count": 371,
   "metadata": {
    "scrolled": false
   },
   "outputs": [
    {
     "name": "stdout",
     "output_type": "stream",
     "text": [
      "Se extrajeron metadatos para las siguientes variables de P0306:\n",
      "acc_modr\n",
      "estructu\n",
      "inst_enc\n",
      "perio_ac\n",
      "prog_mod\n",
      "tip_inst\n",
      "ubic_geo\n",
      "\n",
      "Diccionarios disponibles para P0306:\n",
      "diccionario_de_datos_programa_modernizacion_catastral_cngmd2015_dbf\n"
     ]
    }
   ],
   "source": [
    "# Creacion de diccionarios con metadatos para cada variable de P0306:\n",
    "par = 'P0306'\n",
    "p0306dic, p0306meta = getmeta(tablas['P0306'])\n",
    "print('Se extrajeron metadatos para las siguientes variables de {}:'.format(par))\n",
    "for key in p0306meta.keys(): print(key)\n",
    "print('\\nDiccionarios disponibles para {}:'.format(par))\n",
    "for key in p0306dic.keys(): print(key)"
   ]
  },
  {
   "cell_type": "code",
   "execution_count": 372,
   "metadata": {
    "scrolled": true
   },
   "outputs": [
    {
     "data": {
      "text/html": [
       "<div>\n",
       "<style>\n",
       "    .dataframe thead tr:only-child th {\n",
       "        text-align: right;\n",
       "    }\n",
       "\n",
       "    .dataframe thead th {\n",
       "        text-align: left;\n",
       "    }\n",
       "\n",
       "    .dataframe tbody tr th {\n",
       "        vertical-align: top;\n",
       "    }\n",
       "</style>\n",
       "<table border=\"1\" class=\"dataframe\">\n",
       "  <thead>\n",
       "    <tr style=\"text-align: right;\">\n",
       "      <th></th>\n",
       "      <th>Descripción</th>\n",
       "    </tr>\n",
       "    <tr>\n",
       "      <th>Nombre de la \n",
       "columna</th>\n",
       "      <th></th>\n",
       "    </tr>\n",
       "  </thead>\n",
       "  <tbody>\n",
       "    <tr>\n",
       "      <th>ubic_geo</th>\n",
       "      <td>Clasificación de las entidades federativas y d...</td>\n",
       "    </tr>\n",
       "    <tr>\n",
       "      <th>prog_mod</th>\n",
       "      <td>Clasificación de los municipios de acuerdo con...</td>\n",
       "    </tr>\n",
       "    <tr>\n",
       "      <th>inst_enc</th>\n",
       "      <td>Clasificación de los municipios de acuerdo con...</td>\n",
       "    </tr>\n",
       "    <tr>\n",
       "      <th>tip_inst</th>\n",
       "      <td>Clasificación de los municipios de acuerdo con...</td>\n",
       "    </tr>\n",
       "    <tr>\n",
       "      <th>acc_modr</th>\n",
       "      <td>Clasificación de los municipios de acuerdo con...</td>\n",
       "    </tr>\n",
       "    <tr>\n",
       "      <th>perio_ac</th>\n",
       "      <td>Clasificación de los municipios de acuerdo con...</td>\n",
       "    </tr>\n",
       "    <tr>\n",
       "      <th>estructu</th>\n",
       "      <td>Clasificación de los municipios y las delegaci...</td>\n",
       "    </tr>\n",
       "  </tbody>\n",
       "</table>\n",
       "</div>"
      ],
      "text/plain": [
       "                                                              Descripción\n",
       "Nombre de la \\ncolumna                                                   \n",
       "ubic_geo                Clasificación de las entidades federativas y d...\n",
       "prog_mod                Clasificación de los municipios de acuerdo con...\n",
       "inst_enc                Clasificación de los municipios de acuerdo con...\n",
       "tip_inst                Clasificación de los municipios de acuerdo con...\n",
       "acc_modr                Clasificación de los municipios de acuerdo con...\n",
       "perio_ac                Clasificación de los municipios de acuerdo con...\n",
       "estructu                Clasificación de los municipios y las delegaci..."
      ]
     },
     "execution_count": 372,
     "metadata": {},
     "output_type": "execute_result"
    }
   ],
   "source": [
    "# Para P0306, solo existe una tabla de descripciones por lo que se convierte a un dataframe unico para poder indexar\n",
    "p0306dic = p0306dic['diccionario_de_datos_programa_modernizacion_catastral_cngmd2015_dbf']\n",
    "p0306dic"
   ]
  },
  {
   "cell_type": "code",
   "execution_count": 373,
   "metadata": {
    "scrolled": true
   },
   "outputs": [
    {
     "data": {
      "text/plain": [
       "['ubic_geo',\n",
       " 'prog_mod',\n",
       " 'inst_enc',\n",
       " 'tip_inst',\n",
       " 'acc_modr',\n",
       " 'perio_ac',\n",
       " 'estructu']"
      ]
     },
     "execution_count": 373,
     "metadata": {},
     "output_type": "execute_result"
    }
   ],
   "source": [
    "list(p0306dic.index)"
   ]
  },
  {
   "cell_type": "code",
   "execution_count": 374,
   "metadata": {
    "scrolled": true
   },
   "outputs": [
    {
     "name": "stdout",
     "output_type": "stream",
     "text": [
      "** DESCRIPCIONES DE VARIABLES **\n",
      "\n",
      "\"ubic_geo\" :\n",
      "CLASIFICACIÓN DE LAS ENTIDADES FEDERATIVAS Y DE ÉSTAS A SUS MUNICIPIOS.\n",
      "----------------------------------------\n",
      "Imprimiendo 10 de 2542 registros\n",
      "          ent    desc_ent  mpio                       des_mpio\n",
      "ubic_geo                                                      \n",
      "11034      11  Guanajuato    34                 Santa Catarina\n",
      "11035      11  Guanajuato    35  Santa Cruz de Juventino Rosas\n",
      "11036      11  Guanajuato    36             Santiago Maravatío\n",
      "11037      11  Guanajuato    37           Silao de la Victoria\n",
      "11038      11  Guanajuato    38                    Tarandacuao\n",
      "11039      11  Guanajuato    39                       Tarimoro\n",
      "11040      11  Guanajuato    40                  Tierra Blanca\n",
      "11041      11  Guanajuato    41                      Uriangato\n",
      "11042      11  Guanajuato    42              Valle de Santiago\n",
      "11043      11  Guanajuato    43                       Victoria\n",
      "\n",
      "\n",
      "\"prog_mod\" :\n",
      "CLASIFICACIÓN DE LOS MUNICIPIOS DE ACUERDO CON EL PROGRAMA DE MODERNIZACIÓN CATASTRAL CON EL QUE CUENTA.\n",
      "            desc_pro\n",
      "prog_mod            \n",
      "1                 Si\n",
      "2                 No\n",
      "99        No se sabe\n",
      "\n",
      "\n",
      "\"inst_enc\" :\n",
      "CLASIFICACIÓN DE LOS MUNICIPIOS DE ACUERDO CON LA INSTITUCIÓN ENCARGADA DE COORDINAR Y/O EJECUTAR EL PROGRAMA DE MODERNIZACIÓN CATASTRAL, ASÍ COMO DE LA QUE SE RECIBEN APOYOS.\n",
      "                                                                                        desc_ins\n",
      "inst_enc                                                                                        \n",
      "1         Institución encargada de coordinar y/o ejecutar el programa de modernización catastral\n",
      "2                                                        institución de la que se reciben apoyos\n",
      "\n",
      "\n",
      "\"tip_inst\" :\n",
      "CLASIFICACIÓN DE LOS MUNICIPIOS DE ACUERDO CON LAS ADMINISTRACIONES PÚBLICAS MUNICIPALES POR ENTIDAD FEDERATIVA SEGÚN INSTITUCIÓN QUE COORDINA EL PROGRAMA DE MODERNIZACIÓN CATASTRAL Y/O RECIBEN EL APOYO.\n",
      "                                                                  descrip\n",
      "tip_inst                                                                 \n",
      "1                         Administración pública de la entidad federativa\n",
      "2                 Banco Nacional de Obras y Servicios Públicos (BANOBRAS)\n",
      "3         Secretaría de Desarrollo Agrario, Territorial y Urbano (SEDATU)\n",
      "4                                                                    Otra\n",
      "\n",
      "\n",
      "\"acc_modr\" :\n",
      "CLASIFICACIÓN DE LOS MUNICIPIOS DE ACUERDO CON LAS ACCIONES DEL PROGRAMA DE MODERNIZACIÓN CATASTRAL QUE SE HAN REALIZADO EN ELLOS.\n",
      "                                                                                               desc_acc\n",
      "acc_modr                                                                                               \n",
      "1                                                                        Actualizar el padrón catastral\n",
      "2                                                         Generar o actualizar la cartografía catastral\n",
      "3                                                              Adquirir un sistema de gestión catastral\n",
      "4         Adquirir equipamiento e infraestructura (computadoras, servidores, vehículos, comunicaciones)\n",
      "5                                                                           Adecuar los espacio físicos\n",
      "6                                                                      Mejorar los procesos catastrales\n",
      "7                                                                                                  Otro\n",
      "99                                                                                           No se sabe\n",
      "\n",
      "\n",
      "\"perio_ac\" :\n",
      "CLASIFICACIÓN DE LOS MUNICIPIOS DE ACUERDO CON EL PERIODO EN EL QUE SE REALIZARON LAS ACCIONES DEL PROGRAMA DE MODERNIZACIÓN CATASTRAL.\n",
      "                                                    descrip\n",
      "perio_ac                                                   \n",
      "1                         En el transcurso del presente año\n",
      "2                                       Durante el año 2014\n",
      "3                                       Durante el año 2013\n",
      "4                                        Antes del año 2013\n",
      "5         No se han realizado acciones para atender el tema\n",
      "99                                               No se sabe\n",
      "\n",
      "\n",
      "\"estructu\" :\n",
      "CLASIFICACIÓN DE LOS MUNICIPIOS Y LAS DELEGACIONES DEL DISTRITO FEDERAL DE ACUERDO CON LA EXISTENCIA DEL PROGRAMA DE MODERNIZACIÓN CATASTRAL, ADEMÁS DE LA INSTITUCIÓN QUE COORDINA Y/O APOYA EL PROGRAMA DE MODERNIZACIÓN CATASTRAL, ASÍ COMO LAS ACCIONES DEL PROGRAMA DE MODERNIZACIÓN CATASTRAL REALIZADAS Y DEL PERIODO EN QUE SE REALIZARON.\n",
      "                                                                                    descrip\n",
      "estructu                                                                                   \n",
      "240500                       El municipio cuenta con un programa de modernización catastral\n",
      "240501            Institución que coordina y/o apoya el programa de modernización catastral\n",
      "240502                          Acciones del programa de modernización catastral realizadas\n",
      "240503    Periodo en que se realizaron las acciones del programa de modernización catastral\n",
      "\n",
      "\n"
     ]
    }
   ],
   "source": [
    "print('** Descripciones de variables **\\n'.upper())\n",
    "for i in p0306dic.index:\n",
    "    queryvar(i)\n",
    "    print('\\n')"
   ]
  },
  {
   "cell_type": "code",
   "execution_count": 375,
   "metadata": {},
   "outputs": [],
   "source": [
    "# Carga de datos\n",
    "P0306f = tablas['P0306']+'\\\\'+os.listdir(tablas['P0306'])[0]\n",
    "df = pd.read_csv(P0306f, dtype={'ubic_geo':'str'}, index_col=0)\n",
    "P0306 = df.where((pd.notnull(df)), None)"
   ]
  },
  {
   "cell_type": "markdown",
   "metadata": {},
   "source": [
    "El archivo está estructurado de manera inconveniente, teniendo un renglón para cada variable. Lo conveniente es que cada renglón contenga toda la información de un solo municipio."
   ]
  },
  {
   "cell_type": "code",
   "execution_count": 376,
   "metadata": {},
   "outputs": [
    {
     "data": {
      "text/html": [
       "<div>\n",
       "<style>\n",
       "    .dataframe thead tr:only-child th {\n",
       "        text-align: right;\n",
       "    }\n",
       "\n",
       "    .dataframe thead th {\n",
       "        text-align: left;\n",
       "    }\n",
       "\n",
       "    .dataframe tbody tr th {\n",
       "        vertical-align: top;\n",
       "    }\n",
       "</style>\n",
       "<table border=\"1\" class=\"dataframe\">\n",
       "  <thead>\n",
       "    <tr style=\"text-align: right;\">\n",
       "      <th></th>\n",
       "      <th>prog_mod</th>\n",
       "      <th>inst_enc</th>\n",
       "      <th>tip_inst</th>\n",
       "      <th>acc_modr</th>\n",
       "      <th>perio_ac</th>\n",
       "      <th>estructu</th>\n",
       "    </tr>\n",
       "    <tr>\n",
       "      <th>ubic_geo</th>\n",
       "      <th></th>\n",
       "      <th></th>\n",
       "      <th></th>\n",
       "      <th></th>\n",
       "      <th></th>\n",
       "      <th></th>\n",
       "    </tr>\n",
       "  </thead>\n",
       "  <tbody>\n",
       "    <tr>\n",
       "      <th>15045</th>\n",
       "      <td>1</td>\n",
       "      <td>None</td>\n",
       "      <td>None</td>\n",
       "      <td>None</td>\n",
       "      <td>None</td>\n",
       "      <td>240500</td>\n",
       "    </tr>\n",
       "    <tr>\n",
       "      <th>15045</th>\n",
       "      <td>None</td>\n",
       "      <td>1</td>\n",
       "      <td>1</td>\n",
       "      <td>None</td>\n",
       "      <td>None</td>\n",
       "      <td>240501</td>\n",
       "    </tr>\n",
       "    <tr>\n",
       "      <th>15045</th>\n",
       "      <td>None</td>\n",
       "      <td>1</td>\n",
       "      <td>2</td>\n",
       "      <td>None</td>\n",
       "      <td>None</td>\n",
       "      <td>240501</td>\n",
       "    </tr>\n",
       "    <tr>\n",
       "      <th>15045</th>\n",
       "      <td>None</td>\n",
       "      <td>2</td>\n",
       "      <td>2</td>\n",
       "      <td>None</td>\n",
       "      <td>None</td>\n",
       "      <td>240501</td>\n",
       "    </tr>\n",
       "    <tr>\n",
       "      <th>15045</th>\n",
       "      <td>None</td>\n",
       "      <td>None</td>\n",
       "      <td>None</td>\n",
       "      <td>None</td>\n",
       "      <td>2</td>\n",
       "      <td>240503</td>\n",
       "    </tr>\n",
       "    <tr>\n",
       "      <th>15045</th>\n",
       "      <td>None</td>\n",
       "      <td>None</td>\n",
       "      <td>None</td>\n",
       "      <td>1</td>\n",
       "      <td>None</td>\n",
       "      <td>240502</td>\n",
       "    </tr>\n",
       "    <tr>\n",
       "      <th>15045</th>\n",
       "      <td>None</td>\n",
       "      <td>None</td>\n",
       "      <td>None</td>\n",
       "      <td>2</td>\n",
       "      <td>None</td>\n",
       "      <td>240502</td>\n",
       "    </tr>\n",
       "    <tr>\n",
       "      <th>15045</th>\n",
       "      <td>None</td>\n",
       "      <td>None</td>\n",
       "      <td>None</td>\n",
       "      <td>4</td>\n",
       "      <td>None</td>\n",
       "      <td>240502</td>\n",
       "    </tr>\n",
       "    <tr>\n",
       "      <th>15045</th>\n",
       "      <td>None</td>\n",
       "      <td>None</td>\n",
       "      <td>None</td>\n",
       "      <td>5</td>\n",
       "      <td>None</td>\n",
       "      <td>240502</td>\n",
       "    </tr>\n",
       "    <tr>\n",
       "      <th>15045</th>\n",
       "      <td>None</td>\n",
       "      <td>None</td>\n",
       "      <td>None</td>\n",
       "      <td>6</td>\n",
       "      <td>None</td>\n",
       "      <td>240502</td>\n",
       "    </tr>\n",
       "  </tbody>\n",
       "</table>\n",
       "</div>"
      ],
      "text/plain": [
       "         prog_mod inst_enc tip_inst acc_modr perio_ac  estructu\n",
       "ubic_geo                                                       \n",
       "15045           1     None     None     None     None    240500\n",
       "15045        None        1        1     None     None    240501\n",
       "15045        None        1        2     None     None    240501\n",
       "15045        None        2        2     None     None    240501\n",
       "15045        None     None     None     None        2    240503\n",
       "15045        None     None     None        1     None    240502\n",
       "15045        None     None     None        2     None    240502\n",
       "15045        None     None     None        4     None    240502\n",
       "15045        None     None     None        5     None    240502\n",
       "15045        None     None     None        6     None    240502"
      ]
     },
     "execution_count": 376,
     "metadata": {},
     "output_type": "execute_result"
    }
   ],
   "source": [
    "# subset para pruebas\n",
    "test = P0306.loc[15045]\n",
    "test"
   ]
  },
  {
   "cell_type": "markdown",
   "metadata": {},
   "source": [
    "Para corregirlo, primero hacemos dataframes separados para cada variable. Afortunadamente, la columna 'Estructu' sirve para agrupar estructuralmente el dataframe"
   ]
  },
  {
   "cell_type": "code",
   "execution_count": 377,
   "metadata": {
    "scrolled": true
   },
   "outputs": [
    {
     "name": "stdout",
     "output_type": "stream",
     "text": [
      "\"estructu\" :\n",
      "CLASIFICACIÓN DE LOS MUNICIPIOS Y LAS DELEGACIONES DEL DISTRITO FEDERAL DE ACUERDO CON LA EXISTENCIA DEL PROGRAMA DE MODERNIZACIÓN CATASTRAL, ADEMÁS DE LA INSTITUCIÓN QUE COORDINA Y/O APOYA EL PROGRAMA DE MODERNIZACIÓN CATASTRAL, ASÍ COMO LAS ACCIONES DEL PROGRAMA DE MODERNIZACIÓN CATASTRAL REALIZADAS Y DEL PERIODO EN QUE SE REALIZARON.\n",
      "                                                                                    descrip\n",
      "estructu                                                                                   \n",
      "240500                       El municipio cuenta con un programa de modernización catastral\n",
      "240501            Institución que coordina y/o apoya el programa de modernización catastral\n",
      "240502                          Acciones del programa de modernización catastral realizadas\n",
      "240503    Periodo en que se realizaron las acciones del programa de modernización catastral\n"
     ]
    }
   ],
   "source": [
    "queryvar('estructu')"
   ]
  },
  {
   "cell_type": "code",
   "execution_count": 378,
   "metadata": {},
   "outputs": [
    {
     "name": "stdout",
     "output_type": "stream",
     "text": [
      "ubic_geo\n",
      "15045     1\n",
      "15046     2\n",
      "15047     2\n",
      "15048     1\n",
      "15049     2\n",
      "15050     1\n",
      "15051     1\n",
      "15052     1\n",
      "15053     1\n",
      "15054    99\n",
      "Name: prog_mod, dtype: int32\n",
      "--------------------------------------------------\n",
      "\"prog_mod\" :\n",
      "CLASIFICACIÓN DE LOS MUNICIPIOS DE ACUERDO CON EL PROGRAMA DE MODERNIZACIÓN CATASTRAL CON EL QUE CUENTA.\n",
      "            desc_pro\n",
      "prog_mod            \n",
      "1                 Si\n",
      "2                 No\n",
      "99        No se sabe\n"
     ]
    }
   ],
   "source": [
    "# ¿El municipio cuenta con un programa de modernización catastral?\n",
    "P0306_00 = P0306[P0306['estructu'] == 240500]['prog_mod'].astype('int')\n",
    "print(P0306_00.head(10))\n",
    "print('-'*50)\n",
    "queryvar('prog_mod')"
   ]
  },
  {
   "cell_type": "code",
   "execution_count": 379,
   "metadata": {
    "scrolled": false
   },
   "outputs": [
    {
     "name": "stdout",
     "output_type": "stream",
     "text": [
      "ubic_geo\n",
      "1006     1\n",
      "2001     3\n",
      "2002     4\n",
      "2003     1\n",
      "2004     1\n",
      "2005     1\n",
      "3002     2\n",
      "3003    99\n",
      "3008     1\n",
      "3009     5\n",
      "Name: perio_ac, dtype: int32\n",
      "--------------------------------------------------\n",
      "\"perio_ac\" :\n",
      "CLASIFICACIÓN DE LOS MUNICIPIOS DE ACUERDO CON EL PERIODO EN EL QUE SE REALIZARON LAS ACCIONES DEL PROGRAMA DE MODERNIZACIÓN CATASTRAL.\n",
      "                                                    descrip\n",
      "perio_ac                                                   \n",
      "1                         En el transcurso del presente año\n",
      "2                                       Durante el año 2014\n",
      "3                                       Durante el año 2013\n",
      "4                                        Antes del año 2013\n",
      "5         No se han realizado acciones para atender el tema\n",
      "99                                               No se sabe\n"
     ]
    }
   ],
   "source": [
    "# ¿En que periodo se realizaron las acciones del programa de modernización catastral?\n",
    "P0306_03 = P0306[P0306['estructu'] == 240503]['perio_ac'].astype('int')\n",
    "print(P0306_03.head(10))\n",
    "print('-'*50)\n",
    "queryvar('perio_ac')"
   ]
  },
  {
   "cell_type": "code",
   "execution_count": 383,
   "metadata": {
    "scrolled": false
   },
   "outputs": [
    {
     "name": "stdout",
     "output_type": "stream",
     "text": [
      "ubic_geo\n",
      "1006                   [1, 5]\n",
      "2001                [2, 3, 4]\n",
      "2002       [1, 2, 3, 4, 5, 6]\n",
      "2003             [1, 2, 3, 4]\n",
      "2004    [1, 2, 3, 4, 5, 6, 7]\n",
      "2005          [1, 2, 3, 4, 6]\n",
      "3002       [1, 2, 3, 4, 5, 6]\n",
      "3003                     [99]\n",
      "3008       [1, 2, 3, 4, 5, 6]\n",
      "3009                      [7]\n",
      "Name: acc_modr, dtype: object\n",
      "\"acc_modr\" :\n",
      "CLASIFICACIÓN DE LOS MUNICIPIOS DE ACUERDO CON LAS ACCIONES DEL PROGRAMA DE MODERNIZACIÓN CATASTRAL QUE SE HAN REALIZADO EN ELLOS.\n",
      "                                                                                               desc_acc\n",
      "acc_modr                                                                                               \n",
      "1                                                                        Actualizar el padrón catastral\n",
      "2                                                         Generar o actualizar la cartografía catastral\n",
      "3                                                              Adquirir un sistema de gestión catastral\n",
      "4         Adquirir equipamiento e infraestructura (computadoras, servidores, vehículos, comunicaciones)\n",
      "5                                                                           Adecuar los espacio físicos\n",
      "6                                                                      Mejorar los procesos catastrales\n",
      "7                                                                                                  Otro\n",
      "99                                                                                           No se sabe\n"
     ]
    }
   ],
   "source": [
    "# ¿Qué acciones se realizaron?\n",
    "P0306_02 = P0306[P0306['estructu'] == 240502]['acc_modr'].astype('int').groupby('ubic_geo').apply(list)\n",
    "print(P0306_02.head(10))\n",
    "queryvar('acc_modr')"
   ]
  },
  {
   "cell_type": "code",
   "execution_count": 384,
   "metadata": {},
   "outputs": [
    {
     "data": {
      "text/plain": [
       "ubic_geo\n",
       "1006    2\n",
       "2001    3\n",
       "2002    6\n",
       "2003    4\n",
       "2004    7\n",
       "2005    5\n",
       "3002    6\n",
       "3003    1\n",
       "3008    6\n",
       "3009    1\n",
       "Name: n_acc_modr, dtype: int64"
      ]
     },
     "execution_count": 384,
     "metadata": {},
     "output_type": "execute_result"
    }
   ],
   "source": [
    "# ¿Cuantas acciones se realizaron?\n",
    "P0306_02b = P0306_02.apply(len).rename('n_acc_modr')\n",
    "P0306_02b.head(10)"
   ]
  },
  {
   "cell_type": "code",
   "execution_count": 385,
   "metadata": {
    "scrolled": true
   },
   "outputs": [
    {
     "name": "stdout",
     "output_type": "stream",
     "text": [
      "\"inst_enc\" :\n",
      "CLASIFICACIÓN DE LOS MUNICIPIOS DE ACUERDO CON LA INSTITUCIÓN ENCARGADA DE COORDINAR Y/O EJECUTAR EL PROGRAMA DE MODERNIZACIÓN CATASTRAL, ASÍ COMO DE LA QUE SE RECIBEN APOYOS.\n",
      "                                                                                        desc_ins\n",
      "inst_enc                                                                                        \n",
      "1         Institución encargada de coordinar y/o ejecutar el programa de modernización catastral\n",
      "2                                                        institución de la que se reciben apoyos\n"
     ]
    }
   ],
   "source": [
    "queryvar('inst_enc')"
   ]
  },
  {
   "cell_type": "code",
   "execution_count": 387,
   "metadata": {
    "scrolled": true
   },
   "outputs": [
    {
     "data": {
      "text/html": [
       "<div>\n",
       "<style>\n",
       "    .dataframe thead tr:only-child th {\n",
       "        text-align: right;\n",
       "    }\n",
       "\n",
       "    .dataframe thead th {\n",
       "        text-align: left;\n",
       "    }\n",
       "\n",
       "    .dataframe tbody tr th {\n",
       "        vertical-align: top;\n",
       "    }\n",
       "</style>\n",
       "<table border=\"1\" class=\"dataframe\">\n",
       "  <thead>\n",
       "    <tr style=\"text-align: right;\">\n",
       "      <th></th>\n",
       "      <th>inst_enc</th>\n",
       "      <th>tip_inst</th>\n",
       "    </tr>\n",
       "    <tr>\n",
       "      <th>ubic_geo</th>\n",
       "      <th></th>\n",
       "      <th></th>\n",
       "    </tr>\n",
       "  </thead>\n",
       "  <tbody>\n",
       "    <tr>\n",
       "      <th>1006</th>\n",
       "      <td>1</td>\n",
       "      <td>4</td>\n",
       "    </tr>\n",
       "    <tr>\n",
       "      <th>1006</th>\n",
       "      <td>2</td>\n",
       "      <td>4</td>\n",
       "    </tr>\n",
       "    <tr>\n",
       "      <th>2001</th>\n",
       "      <td>1</td>\n",
       "      <td>3</td>\n",
       "    </tr>\n",
       "    <tr>\n",
       "      <th>2001</th>\n",
       "      <td>2</td>\n",
       "      <td>3</td>\n",
       "    </tr>\n",
       "    <tr>\n",
       "      <th>2002</th>\n",
       "      <td>1</td>\n",
       "      <td>3</td>\n",
       "    </tr>\n",
       "  </tbody>\n",
       "</table>\n",
       "</div>"
      ],
      "text/plain": [
       "         inst_enc tip_inst\n",
       "ubic_geo                  \n",
       "1006            1        4\n",
       "1006            2        4\n",
       "2001            1        3\n",
       "2001            2        3\n",
       "2002            1        3"
      ]
     },
     "execution_count": 387,
     "metadata": {},
     "output_type": "execute_result"
    }
   ],
   "source": [
    "# ¿Que instituciones se han involucrado en la modernizacion catastral, y de qué manera?\n",
    "P0306_01t = P0306[P0306['estructu'] == 240501][['inst_enc', 'tip_inst']]    # tipo de apoyo e institucion \n",
    "P0306_01t.head()"
   ]
  },
  {
   "cell_type": "markdown",
   "metadata": {},
   "source": [
    "Se reemplazarán numeros por descripciones en **tip_inst**:"
   ]
  },
  {
   "cell_type": "code",
   "execution_count": 388,
   "metadata": {
    "scrolled": true
   },
   "outputs": [
    {
     "name": "stdout",
     "output_type": "stream",
     "text": [
      "\"tip_inst\" :\n",
      "CLASIFICACIÓN DE LOS MUNICIPIOS DE ACUERDO CON LAS ADMINISTRACIONES PÚBLICAS MUNICIPALES POR ENTIDAD FEDERATIVA SEGÚN INSTITUCIÓN QUE COORDINA EL PROGRAMA DE MODERNIZACIÓN CATASTRAL Y/O RECIBEN EL APOYO.\n",
      "                                                                  descrip\n",
      "tip_inst                                                                 \n",
      "1                         Administración pública de la entidad federativa\n",
      "2                 Banco Nacional de Obras y Servicios Públicos (BANOBRAS)\n",
      "3         Secretaría de Desarrollo Agrario, Territorial y Urbano (SEDATU)\n",
      "4                                                                    Otra\n"
     ]
    }
   ],
   "source": [
    "queryvar('tip_inst')"
   ]
  },
  {
   "cell_type": "code",
   "execution_count": 389,
   "metadata": {
    "scrolled": true
   },
   "outputs": [],
   "source": [
    "# Institucion involucrada\n",
    "instit = {\n",
    "    1:'Administración pública de la entidad federativa',\n",
    "    2:'BANOBRAS',\n",
    "    3:'SEDATU',\n",
    "    4:'OTRA INSTITUCION'\n",
    "}"
   ]
  },
  {
   "cell_type": "code",
   "execution_count": 390,
   "metadata": {},
   "outputs": [
    {
     "data": {
      "text/html": [
       "<div>\n",
       "<style>\n",
       "    .dataframe thead tr:only-child th {\n",
       "        text-align: right;\n",
       "    }\n",
       "\n",
       "    .dataframe thead th {\n",
       "        text-align: left;\n",
       "    }\n",
       "\n",
       "    .dataframe tbody tr th {\n",
       "        vertical-align: top;\n",
       "    }\n",
       "</style>\n",
       "<table border=\"1\" class=\"dataframe\">\n",
       "  <thead>\n",
       "    <tr style=\"text-align: right;\">\n",
       "      <th></th>\n",
       "      <th>inst_enc</th>\n",
       "      <th>tip_inst</th>\n",
       "    </tr>\n",
       "    <tr>\n",
       "      <th>ubic_geo</th>\n",
       "      <th></th>\n",
       "      <th></th>\n",
       "    </tr>\n",
       "  </thead>\n",
       "  <tbody>\n",
       "    <tr>\n",
       "      <th>1006</th>\n",
       "      <td>1</td>\n",
       "      <td>OTRA INSTITUCION</td>\n",
       "    </tr>\n",
       "    <tr>\n",
       "      <th>1006</th>\n",
       "      <td>2</td>\n",
       "      <td>OTRA INSTITUCION</td>\n",
       "    </tr>\n",
       "    <tr>\n",
       "      <th>2001</th>\n",
       "      <td>1</td>\n",
       "      <td>SEDATU</td>\n",
       "    </tr>\n",
       "    <tr>\n",
       "      <th>2001</th>\n",
       "      <td>2</td>\n",
       "      <td>SEDATU</td>\n",
       "    </tr>\n",
       "    <tr>\n",
       "      <th>2002</th>\n",
       "      <td>1</td>\n",
       "      <td>SEDATU</td>\n",
       "    </tr>\n",
       "  </tbody>\n",
       "</table>\n",
       "</div>"
      ],
      "text/plain": [
       "         inst_enc          tip_inst\n",
       "ubic_geo                           \n",
       "1006            1  OTRA INSTITUCION\n",
       "1006            2  OTRA INSTITUCION\n",
       "2001            1            SEDATU\n",
       "2001            2            SEDATU\n",
       "2002            1            SEDATU"
      ]
     },
     "execution_count": 390,
     "metadata": {},
     "output_type": "execute_result"
    }
   ],
   "source": [
    "P0306_01t['tip_inst'] = P0306_01t['tip_inst'].replace(instit)\n",
    "P0306_01t.head()"
   ]
  },
  {
   "cell_type": "markdown",
   "metadata": {},
   "source": [
    "Y se separará la columna 'inst_enc' en 2:"
   ]
  },
  {
   "cell_type": "code",
   "execution_count": 391,
   "metadata": {
    "scrolled": true
   },
   "outputs": [
    {
     "name": "stdout",
     "output_type": "stream",
     "text": [
      "\"inst_enc\" :\n",
      "CLASIFICACIÓN DE LOS MUNICIPIOS DE ACUERDO CON LA INSTITUCIÓN ENCARGADA DE COORDINAR Y/O EJECUTAR EL PROGRAMA DE MODERNIZACIÓN CATASTRAL, ASÍ COMO DE LA QUE SE RECIBEN APOYOS.\n",
      "                                                                                        desc_ins\n",
      "inst_enc                                                                                        \n",
      "1         Institución encargada de coordinar y/o ejecutar el programa de modernización catastral\n",
      "2                                                        institución de la que se reciben apoyos\n"
     ]
    }
   ],
   "source": [
    "queryvar('inst_enc')"
   ]
  },
  {
   "cell_type": "code",
   "execution_count": 392,
   "metadata": {},
   "outputs": [],
   "source": [
    "P0306_01t1 = P0306_01t[P0306_01t['inst_enc'] == 1]['tip_inst'].groupby('ubic_geo').apply(list).rename('i_coord_ejecuta')\n",
    "P0306_01t2 = P0306_01t[P0306_01t['inst_enc'] == 2]['tip_inst'].groupby('ubic_geo').apply(list).rename('i_otorga_apoyos')"
   ]
  },
  {
   "cell_type": "code",
   "execution_count": 393,
   "metadata": {
    "scrolled": false
   },
   "outputs": [
    {
     "data": {
      "text/plain": [
       "ubic_geo\n",
       "1006                                   [OTRA INSTITUCION]\n",
       "2001                                             [SEDATU]\n",
       "2002                                             [SEDATU]\n",
       "2003    [Administración pública de la entidad federativa]\n",
       "2004                                   [OTRA INSTITUCION]\n",
       "Name: i_coord_ejecuta, dtype: object"
      ]
     },
     "execution_count": 393,
     "metadata": {},
     "output_type": "execute_result"
    }
   ],
   "source": [
    "P0306_01t1.head()"
   ]
  },
  {
   "cell_type": "code",
   "execution_count": 326,
   "metadata": {},
   "outputs": [
    {
     "data": {
      "text/plain": [
       "ubic_geo\n",
       "1006    [OTRA INSTITUCION]\n",
       "2001              [SEDATU]\n",
       "2002              [SEDATU]\n",
       "2003              [SEDATU]\n",
       "2004    [OTRA INSTITUCION]\n",
       "Name: i_otorga_apoyos, dtype: object"
      ]
     },
     "execution_count": 326,
     "metadata": {},
     "output_type": "execute_result"
    }
   ],
   "source": [
    "P0306_01t2.head()"
   ]
  },
  {
   "cell_type": "markdown",
   "metadata": {},
   "source": [
    "Finalmente, se unirán todas las series en un solo dataframe"
   ]
  },
  {
   "cell_type": "code",
   "execution_count": 394,
   "metadata": {},
   "outputs": [],
   "source": [
    "# Convertir series en Dataframes\n",
    "P0306_00 = P0306_00.to_frame()\n",
    "P0306_03 = P0306_03.to_frame()\n",
    "P0306_02 = P0306_02.to_frame()\n",
    "P0306_02b = P0306_02b.to_frame()\n",
    "P0306_01t1 = P0306_01t1.to_frame()\n",
    "P0306_01t2 = P0306_01t2.to_frame()"
   ]
  },
  {
   "cell_type": "code",
   "execution_count": 407,
   "metadata": {},
   "outputs": [],
   "source": [
    "# Unir dataframes\n",
    "P0306 = P0306_00.join(P0306_03).join(P0306_02).join(P0306_02b).join(P0306_01t1).join(P0306_01t2)\n",
    "P0306 = P0306.where((pd.notnull(P0306)), None)"
   ]
  },
  {
   "cell_type": "code",
   "execution_count": 408,
   "metadata": {
    "scrolled": true
   },
   "outputs": [
    {
     "data": {
      "text/html": [
       "<div>\n",
       "<style>\n",
       "    .dataframe thead tr:only-child th {\n",
       "        text-align: right;\n",
       "    }\n",
       "\n",
       "    .dataframe thead th {\n",
       "        text-align: left;\n",
       "    }\n",
       "\n",
       "    .dataframe tbody tr th {\n",
       "        vertical-align: top;\n",
       "    }\n",
       "</style>\n",
       "<table border=\"1\" class=\"dataframe\">\n",
       "  <thead>\n",
       "    <tr style=\"text-align: right;\">\n",
       "      <th></th>\n",
       "      <th>prog_mod</th>\n",
       "      <th>perio_ac</th>\n",
       "      <th>acc_modr</th>\n",
       "      <th>n_acc_modr</th>\n",
       "      <th>i_coord_ejecuta</th>\n",
       "      <th>i_otorga_apoyos</th>\n",
       "    </tr>\n",
       "    <tr>\n",
       "      <th>ubic_geo</th>\n",
       "      <th></th>\n",
       "      <th></th>\n",
       "      <th></th>\n",
       "      <th></th>\n",
       "      <th></th>\n",
       "      <th></th>\n",
       "    </tr>\n",
       "  </thead>\n",
       "  <tbody>\n",
       "    <tr>\n",
       "      <th>15045</th>\n",
       "      <td>1</td>\n",
       "      <td>2</td>\n",
       "      <td>[1, 2, 4, 5, 6]</td>\n",
       "      <td>5</td>\n",
       "      <td>[Administración pública de la entidad federati...</td>\n",
       "      <td>[BANOBRAS]</td>\n",
       "    </tr>\n",
       "    <tr>\n",
       "      <th>15046</th>\n",
       "      <td>2</td>\n",
       "      <td>None</td>\n",
       "      <td>None</td>\n",
       "      <td>None</td>\n",
       "      <td>None</td>\n",
       "      <td>None</td>\n",
       "    </tr>\n",
       "    <tr>\n",
       "      <th>15047</th>\n",
       "      <td>2</td>\n",
       "      <td>None</td>\n",
       "      <td>None</td>\n",
       "      <td>None</td>\n",
       "      <td>None</td>\n",
       "      <td>None</td>\n",
       "    </tr>\n",
       "    <tr>\n",
       "      <th>15048</th>\n",
       "      <td>1</td>\n",
       "      <td>2</td>\n",
       "      <td>[1, 2, 3, 4, 6]</td>\n",
       "      <td>5</td>\n",
       "      <td>[SEDATU]</td>\n",
       "      <td>[Administración pública de la entidad federativa]</td>\n",
       "    </tr>\n",
       "    <tr>\n",
       "      <th>15049</th>\n",
       "      <td>2</td>\n",
       "      <td>None</td>\n",
       "      <td>None</td>\n",
       "      <td>None</td>\n",
       "      <td>None</td>\n",
       "      <td>None</td>\n",
       "    </tr>\n",
       "  </tbody>\n",
       "</table>\n",
       "</div>"
      ],
      "text/plain": [
       "          prog_mod perio_ac         acc_modr n_acc_modr  \\\n",
       "ubic_geo                                                  \n",
       "15045            1        2  [1, 2, 4, 5, 6]          5   \n",
       "15046            2     None             None       None   \n",
       "15047            2     None             None       None   \n",
       "15048            1        2  [1, 2, 3, 4, 6]          5   \n",
       "15049            2     None             None       None   \n",
       "\n",
       "                                            i_coord_ejecuta  \\\n",
       "ubic_geo                                                      \n",
       "15045     [Administración pública de la entidad federati...   \n",
       "15046                                                  None   \n",
       "15047                                                  None   \n",
       "15048                                              [SEDATU]   \n",
       "15049                                                  None   \n",
       "\n",
       "                                            i_otorga_apoyos  \n",
       "ubic_geo                                                     \n",
       "15045                                            [BANOBRAS]  \n",
       "15046                                                  None  \n",
       "15047                                                  None  \n",
       "15048     [Administración pública de la entidad federativa]  \n",
       "15049                                                  None  "
      ]
     },
     "execution_count": 408,
     "metadata": {},
     "output_type": "execute_result"
    }
   ],
   "source": [
    "P0306.head()"
   ]
  },
  {
   "cell_type": "markdown",
   "metadata": {},
   "source": [
    "__Metadatos para P0306__"
   ]
  },
  {
   "cell_type": "code",
   "execution_count": 427,
   "metadata": {
    "scrolled": false
   },
   "outputs": [
    {
     "data": {
      "text/html": [
       "<div>\n",
       "<style>\n",
       "    .dataframe thead tr:only-child th {\n",
       "        text-align: right;\n",
       "    }\n",
       "\n",
       "    .dataframe thead th {\n",
       "        text-align: left;\n",
       "    }\n",
       "\n",
       "    .dataframe tbody tr th {\n",
       "        vertical-align: top;\n",
       "    }\n",
       "</style>\n",
       "<table border=\"1\" class=\"dataframe\">\n",
       "  <thead>\n",
       "    <tr style=\"text-align: right;\">\n",
       "      <th></th>\n",
       "      <th>Descripcion</th>\n",
       "    </tr>\n",
       "    <tr>\n",
       "      <th>Metadato</th>\n",
       "      <th></th>\n",
       "    </tr>\n",
       "  </thead>\n",
       "  <tbody>\n",
       "    <tr>\n",
       "      <th>Nombre del Dataset</th>\n",
       "      <td>Censo Nacional de Gobiernos Municipales y Dele...</td>\n",
       "    </tr>\n",
       "    <tr>\n",
       "      <th>Descripcion del dataset</th>\n",
       "      <td>Censo Nacional de Gobiernos Municipales y Dele...</td>\n",
       "    </tr>\n",
       "    <tr>\n",
       "      <th>Disponibilidad Temporal</th>\n",
       "      <td>2015</td>\n",
       "    </tr>\n",
       "    <tr>\n",
       "      <th>Periodo de actualizacion</th>\n",
       "      <td>Bienal</td>\n",
       "    </tr>\n",
       "    <tr>\n",
       "      <th>Nivel de Desagregacion</th>\n",
       "      <td>Municipal</td>\n",
       "    </tr>\n",
       "    <tr>\n",
       "      <th>Notas</th>\n",
       "      <td>s/n</td>\n",
       "    </tr>\n",
       "    <tr>\n",
       "      <th>Fuente</th>\n",
       "      <td>INEGI</td>\n",
       "    </tr>\n",
       "    <tr>\n",
       "      <th>URL_Fuente</th>\n",
       "      <td>http://www.beta.inegi.org.mx/contenidos/proyec...</td>\n",
       "    </tr>\n",
       "    <tr>\n",
       "      <th>Dataset base</th>\n",
       "      <td>\"P0306.xlsx\" disponible en \\nhttps://github.co...</td>\n",
       "    </tr>\n",
       "  </tbody>\n",
       "</table>\n",
       "</div>"
      ],
      "text/plain": [
       "                                                                Descripcion\n",
       "Metadato                                                                   \n",
       "Nombre del Dataset        Censo Nacional de Gobiernos Municipales y Dele...\n",
       "Descripcion del dataset   Censo Nacional de Gobiernos Municipales y Dele...\n",
       "Disponibilidad Temporal                                                2015\n",
       "Periodo de actualizacion                                             Bienal\n",
       "Nivel de Desagregacion                                            Municipal\n",
       "Notas                                                                   s/n\n",
       "Fuente                                                                INEGI\n",
       "URL_Fuente                http://www.beta.inegi.org.mx/contenidos/proyec...\n",
       "Dataset base              \"P0306.xlsx\" disponible en \\nhttps://github.co..."
      ]
     },
     "execution_count": 427,
     "metadata": {},
     "output_type": "execute_result"
    }
   ],
   "source": [
    "P0306meta = {\n",
    "    'Nombre del Dataset' : 'Censo Nacional de Gobiernos Municipales y Delegacionales 2015',\n",
    "    'Descripcion del dataset' : 'Censo Nacional de Gobiernos Municipales y Delegacionales 2015',\n",
    "    'Disponibilidad Temporal' : '2015',\n",
    "    'Periodo de actualizacion' : 'Bienal',\n",
    "    'Nivel de Desagregacion' : 'Municipal',\n",
    "    'Notas' : 's/n',\n",
    "    'Fuente' : 'INEGI',\n",
    "    'URL_Fuente' : 'http://www.beta.inegi.org.mx/contenidos/proyectos/censosgobierno/municipal/cngmd/2015/datosabiertos/',\n",
    "    'Dataset base' : '\"P0306.xlsx\" disponible en \\nhttps://github.com/INECC-PCCS/01_Dmine/tree/master/Datasets/CNGMD/2015',\n",
    "}\n",
    "\n",
    "P0306meta = pd.DataFrame.from_dict(P0306meta, orient='index', dtype=None)\n",
    "P0306meta.columns = ['Descripcion']\n",
    "P0306meta = P0306meta.rename_axis('Metadato')\n",
    "P0306meta"
   ]
  },
  {
   "cell_type": "code",
   "execution_count": 422,
   "metadata": {},
   "outputs": [
    {
     "data": {
      "text/plain": [
       "[0]"
      ]
     },
     "execution_count": 422,
     "metadata": {},
     "output_type": "execute_result"
    }
   ],
   "source": [
    "list(P0306meta)"
   ]
  },
  {
   "cell_type": "code",
   "execution_count": 429,
   "metadata": {
    "scrolled": true
   },
   "outputs": [
    {
     "data": {
      "text/html": [
       "<div>\n",
       "<style>\n",
       "    .dataframe thead tr:only-child th {\n",
       "        text-align: right;\n",
       "    }\n",
       "\n",
       "    .dataframe thead th {\n",
       "        text-align: left;\n",
       "    }\n",
       "\n",
       "    .dataframe tbody tr th {\n",
       "        vertical-align: top;\n",
       "    }\n",
       "</style>\n",
       "<table border=\"1\" class=\"dataframe\">\n",
       "  <thead>\n",
       "    <tr style=\"text-align: right;\">\n",
       "      <th></th>\n",
       "      <th>prog_mod</th>\n",
       "      <th>perio_ac</th>\n",
       "      <th>acc_modr</th>\n",
       "      <th>n_acc_modr</th>\n",
       "      <th>i_coord_ejecuta</th>\n",
       "      <th>i_otorga_apoyos</th>\n",
       "    </tr>\n",
       "    <tr>\n",
       "      <th>ubic_geo</th>\n",
       "      <th></th>\n",
       "      <th></th>\n",
       "      <th></th>\n",
       "      <th></th>\n",
       "      <th></th>\n",
       "      <th></th>\n",
       "    </tr>\n",
       "  </thead>\n",
       "  <tbody>\n",
       "    <tr>\n",
       "      <th>15045</th>\n",
       "      <td>1</td>\n",
       "      <td>2</td>\n",
       "      <td>[1, 2, 4, 5, 6]</td>\n",
       "      <td>5</td>\n",
       "      <td>[Administración pública de la entidad federati...</td>\n",
       "      <td>[BANOBRAS]</td>\n",
       "    </tr>\n",
       "    <tr>\n",
       "      <th>15046</th>\n",
       "      <td>2</td>\n",
       "      <td>None</td>\n",
       "      <td>None</td>\n",
       "      <td>None</td>\n",
       "      <td>None</td>\n",
       "      <td>None</td>\n",
       "    </tr>\n",
       "    <tr>\n",
       "      <th>15047</th>\n",
       "      <td>2</td>\n",
       "      <td>None</td>\n",
       "      <td>None</td>\n",
       "      <td>None</td>\n",
       "      <td>None</td>\n",
       "      <td>None</td>\n",
       "    </tr>\n",
       "    <tr>\n",
       "      <th>15048</th>\n",
       "      <td>1</td>\n",
       "      <td>2</td>\n",
       "      <td>[1, 2, 3, 4, 6]</td>\n",
       "      <td>5</td>\n",
       "      <td>[SEDATU]</td>\n",
       "      <td>[Administración pública de la entidad federativa]</td>\n",
       "    </tr>\n",
       "    <tr>\n",
       "      <th>15049</th>\n",
       "      <td>2</td>\n",
       "      <td>None</td>\n",
       "      <td>None</td>\n",
       "      <td>None</td>\n",
       "      <td>None</td>\n",
       "      <td>None</td>\n",
       "    </tr>\n",
       "  </tbody>\n",
       "</table>\n",
       "</div>"
      ],
      "text/plain": [
       "          prog_mod perio_ac         acc_modr n_acc_modr  \\\n",
       "ubic_geo                                                  \n",
       "15045            1        2  [1, 2, 4, 5, 6]          5   \n",
       "15046            2     None             None       None   \n",
       "15047            2     None             None       None   \n",
       "15048            1        2  [1, 2, 3, 4, 6]          5   \n",
       "15049            2     None             None       None   \n",
       "\n",
       "                                            i_coord_ejecuta  \\\n",
       "ubic_geo                                                      \n",
       "15045     [Administración pública de la entidad federati...   \n",
       "15046                                                  None   \n",
       "15047                                                  None   \n",
       "15048                                              [SEDATU]   \n",
       "15049                                                  None   \n",
       "\n",
       "                                            i_otorga_apoyos  \n",
       "ubic_geo                                                     \n",
       "15045                                            [BANOBRAS]  \n",
       "15046                                                  None  \n",
       "15047                                                  None  \n",
       "15048     [Administración pública de la entidad federativa]  \n",
       "15049                                                  None  "
      ]
     },
     "execution_count": 429,
     "metadata": {},
     "output_type": "execute_result"
    }
   ],
   "source": [
    "P0306.head()"
   ]
  },
  {
   "cell_type": "markdown",
   "metadata": {},
   "source": [
    "EXPORTAR A EXCEL"
   ]
  },
  {
   "cell_type": "code",
   "execution_count": 428,
   "metadata": {
    "collapsed": true
   },
   "outputs": [],
   "source": [
    "file = r'D:\\PCCS\\01_Dmine\\Datasets\\CNGMD\\P0306.xlsx'\n",
    "writer = pd.ExcelWriter(file)\n",
    "P0306.to_excel(writer, sheet_name = 'P0306')\n",
    "P0306meta.to_excel(writer, sheet_name ='METADATOS')\n",
    "writer.save()"
   ]
  },
  {
   "cell_type": "markdown",
   "metadata": {},
   "source": [
    "### P0307: Disposiciones normativas sustantivas en materia de desarrollo urbano u ordenamiento territorial"
   ]
  },
  {
   "cell_type": "markdown",
   "metadata": {},
   "source": [
    "Es necesario cambiar el encoding para leer los archivos de este parametro"
   ]
  },
  {
   "cell_type": "code",
   "execution_count": 947,
   "metadata": {},
   "outputs": [],
   "source": [
    "# Redefinición de la función para revisar metadatos, porque los datos de la carpeta 'catálogos' de P0307 \n",
    "# no coinciden con los titulos de las columnas en la carpeta 'Conjunto de datos'.\n",
    "\n",
    "def getmetab(csvpath, textcoding):\n",
    "    # Importa el csv\n",
    "    try: dicdf = pd.read_csv(csvpath, \n",
    "                    index_col=0, \n",
    "                    parse_dates=False\n",
    "                   )\n",
    "    except: dicdf = pd.read_csv(csvpath, \n",
    "                    index_col=0, \n",
    "                    parse_dates=False, \n",
    "                    encoding = textcoding,\n",
    "                   )\n",
    "    \n",
    "    # Renombra las columnas\n",
    "    dicdf.columns = list(dicdf.iloc[1])\n",
    "    \n",
    "    # Crea columna con el indice\n",
    "    dicdf['text_arc'] = dicdf.index\n",
    "\n",
    "    # Extrae el nombre del csv fuente en una columna independiente\n",
    "    def getarc(x):\n",
    "        try: return re.search('(?<=(o: ))([A-Z])\\w+', x).group()\n",
    "        except: return None\n",
    "    dicdf['arc'] = dicdf['text_arc'].apply(lambda x: getarc(x))\n",
    "\n",
    "    # Extrae la descripcion del archivo en una columna independiente\n",
    "    def getdescarc(x):\n",
    "        try: return re.search('\\(([^)]+)\\)', x).group(1)\n",
    "        except: return None\n",
    "    dicdf['desc_arc'] = dicdf['text_arc'].apply(lambda x: getdescarc(x))\n",
    "    \n",
    "    # Marca columnas que se van a eliminar (Las columnas de donde se sacaron las variables 'arc' y 'desc_arc')\n",
    "    dicdf['delete1'] = dicdf[list(dicdf.columns)[1:6]].notnull().sum(axis = 1)\n",
    "    \n",
    "    # Rellenar valores NaN\n",
    "    dicdf = dicdf.fillna(method='ffill')\n",
    "    \n",
    "    # Eliminar valores marcados previaente\n",
    "    dicdf = dicdf[dicdf.delete1 != 0]\n",
    "    \n",
    "    # Eliminar encabezados de columna repetidos\n",
    "    dicdf = dicdf[dicdf.Descripción != 'Descripción']\n",
    "    \n",
    "    # Asignar nuevo indice y eliminar columna 'arc'\n",
    "    dicdf = dicdf.set_index('arc')\n",
    "    \n",
    "    # Elimina columna delete1\n",
    "    del dicdf['delete1']\n",
    "    \n",
    "    # Renombra la columna de descripciones de codigos\n",
    "    dicdf.columns.values[5] = 'Descripcion codigos'\n",
    "    \n",
    "    # Dame el DataFrame\n",
    "    return dicdf"
   ]
  },
  {
   "cell_type": "code",
   "execution_count": 781,
   "metadata": {
    "collapsed": true
   },
   "outputs": [],
   "source": [
    "# También es necesario redefinir la función para hacer consultas a los metadatos\n",
    "def queryvar(filename, var = '', tablelen=10, colprint = 125, dictio = metadatos):\n",
    "    pdefault = pd.get_option('display.max_colwidth')\n",
    "    pd.set_option('display.max_colwidth', colprint)   # Expande el espacio para imprimir columnas\n",
    "    frame = dictio.loc[filename]\n",
    "    print('Archivo \"{}.csv\" {}'.format(filename, '-'*30))   # Muestra el nombre del archivo\n",
    "    print(frame.iloc[0]['desc_arc'])                     # Muestra la descripcion del archivo\n",
    "    if var == '': pass\n",
    "    else:\n",
    "        print('\\n{}{}'.format(var.upper(), '-'*30))                  # Muestra el nombre de la variable\n",
    "        varframe = frame[frame['Nombre de la \\ncolumna'] == var.upper()]   # Haz un subset con los datos de la variable\n",
    "        varframe = varframe.set_index('Códigos válidos en la columna')\n",
    "        print(varframe['Descripción'][0])                    # Muestra la descripcion de la variable\n",
    "        print(varframe[['Descripcion codigos']])             # Imprime las descripciones de codigos"
   ]
  },
  {
   "cell_type": "code",
   "execution_count": 717,
   "metadata": {},
   "outputs": [],
   "source": [
    "csvpath = r'D:\\PCCS\\00_RawData\\01_CSV\\cngmd\\2015\\P0307\\marco_regulatorio_cngmd2015_dbf\\diccionario_de_datos\\diccionario_de_datos_marco_regulatorio_cngmd2015.csv'\n",
    "metadatos = getmetab(csvpath, 'mbcs')"
   ]
  },
  {
   "cell_type": "code",
   "execution_count": 715,
   "metadata": {
    "collapsed": true
   },
   "outputs": [],
   "source": [
    "# Definición de rutas de archivos\n",
    "par = 'P0307'\n",
    "P0307files = {}\n",
    "for file in os.listdir(tablas[par]):\n",
    "    P0307files[file.replace('.csv', '')] = tablas[par]+'\\\\'+file"
   ]
  },
  {
   "cell_type": "markdown",
   "metadata": {},
   "source": [
    "El contenido de los archivos en la carpeta \"Conjunto de datos\" es el siguiente:"
   ]
  },
  {
   "cell_type": "code",
   "execution_count": 828,
   "metadata": {
    "scrolled": true
   },
   "outputs": [
    {
     "name": "stdout",
     "output_type": "stream",
     "text": [
      "asoc_int\n",
      "Archivo \"ASOC_INT.csv\" ------------------------------\n",
      "Contiene variables que caracterizan a los municipios y las delegaciones del Distrito Federal de acuerdo con el tipo de servicio público y/o función objeto de la asociación intergubernamental, el tipo de instrumento regulatorio establecido para el cumplimiento de la prestación de los servicios públicos y el tipo de gobierno con el que se estableció dicha asociación, durante los años 2013 y 2014.\n",
      "\n",
      "\n",
      "aso_incf\n",
      "Archivo \"ASO_INCF.csv\" ------------------------------\n",
      "Contiene variables que caracterizan a los municipios y las delegaciones del Distrito Federal de acuerdo con la asociación intergubernamental en materia de cultura física y deporte, durante los años 2013 y 2014.\n",
      "\n",
      "\n",
      "aso_inma\n",
      "Archivo \"ASO_INMA.csv\" ------------------------------\n",
      "Contiene variables que caracterizan a los municipios y las delegaciones del Distrito Federal de acuerdo con la asociación intergubernamental en materia ambiental, durante los años 2013 y 2014.\n",
      "\n",
      "\n",
      "aso_inmc\n",
      "Archivo \"ASO_INMC.csv\" ------------------------------\n",
      "Contiene variables que caracterizan a los municipios y las delegaciones del Distrito Federal de acuerdo con la asociación intergubernamental en materia de catastro municipal, durante los años 2013 y 2014.\n",
      "\n",
      "\n",
      "m_regula\n",
      "Archivo \"M_REGULA.csv\" ------------------------------\n",
      "Contiene variables que caracterizan a los municipios y las delegaciones del Distrito Federal de acuerdo con la cantidad de disposiciones normativas internas por tema que deben ser observadas por las Administraciones Públicas Municipales o Delegacionales, al cierre del año 2014.\n",
      "\n",
      "\n"
     ]
    }
   ],
   "source": [
    "for file in P0307files.keys():\n",
    "    print(file)\n",
    "    queryvar(file.upper())\n",
    "    print('\\n')"
   ]
  },
  {
   "cell_type": "markdown",
   "metadata": {},
   "source": [
    "La información para el parámetro P0307 se encuentra en el archivo M_REGULA.csv"
   ]
  },
  {
   "cell_type": "code",
   "execution_count": 831,
   "metadata": {
    "scrolled": true
   },
   "outputs": [
    {
     "name": "stdout",
     "output_type": "stream",
     "text": [
      "P0307 - Disposiciones normativas sustantivas en materia de desarrollo urbano u ordenamiento territorial\n",
      "\n",
      "Archivo \"M_REGULA.csv\" ------------------------------\n",
      "Contiene variables que caracterizan a los municipios y las delegaciones del Distrito Federal de acuerdo con la cantidad de disposiciones normativas internas por tema que deben ser observadas por las Administraciones Públicas Municipales o Delegacionales, al cierre del año 2014.\n"
     ]
    }
   ],
   "source": [
    "print('P0307 - {}\\n'.format(descripciones['P0307']))\n",
    "queryvar('m_regula'.upper())"
   ]
  },
  {
   "cell_type": "code",
   "execution_count": 851,
   "metadata": {
    "scrolled": true
   },
   "outputs": [
    {
     "name": "stderr",
     "output_type": "stream",
     "text": [
      "C:\\Users\\carlos.arana\\AppData\\Local\\Continuum\\Anaconda3\\lib\\site-packages\\IPython\\core\\interactiveshell.py:2717: DtypeWarning: Columns (7,8,9) have mixed types. Specify dtype option on import or set low_memory=False.\n",
      "  interactivity=interactivity, compiler=compiler, result=result)\n"
     ]
    }
   ],
   "source": [
    "# Carga de datos\n",
    "P0307f = tablas['P0307']+'\\\\'+ os.listdir(tablas['P0307'])[4]\n",
    "df = pd.read_csv(P0307f, dtype={'ubic_geo':'str'})\n",
    "df.set_index('ubic_geo', inplace = True)\n",
    "P0307 = df.where((pd.notnull(df)), None)"
   ]
  },
  {
   "cell_type": "code",
   "execution_count": 852,
   "metadata": {},
   "outputs": [
    {
     "data": {
      "text/html": [
       "<div>\n",
       "<style>\n",
       "    .dataframe thead tr:only-child th {\n",
       "        text-align: right;\n",
       "    }\n",
       "\n",
       "    .dataframe thead th {\n",
       "        text-align: left;\n",
       "    }\n",
       "\n",
       "    .dataframe tbody tr th {\n",
       "        vertical-align: top;\n",
       "    }\n",
       "</style>\n",
       "<table border=\"1\" class=\"dataframe\">\n",
       "  <thead>\n",
       "    <tr style=\"text-align: right;\">\n",
       "      <th></th>\n",
       "      <th>dis_norm</th>\n",
       "      <th>exi_norm</th>\n",
       "      <th>tema_nis</th>\n",
       "      <th>instrum</th>\n",
       "      <th>tema_nia</th>\n",
       "      <th>estructu</th>\n",
       "      <th>nom_disn</th>\n",
       "      <th>fech_pub</th>\n",
       "      <th>fech_act</th>\n",
       "      <th>tt_dispo</th>\n",
       "      <th>est_ttdi</th>\n",
       "    </tr>\n",
       "    <tr>\n",
       "      <th>ubic_geo</th>\n",
       "      <th></th>\n",
       "      <th></th>\n",
       "      <th></th>\n",
       "      <th></th>\n",
       "      <th></th>\n",
       "      <th></th>\n",
       "      <th></th>\n",
       "      <th></th>\n",
       "      <th></th>\n",
       "      <th></th>\n",
       "      <th></th>\n",
       "    </tr>\n",
       "  </thead>\n",
       "  <tbody>\n",
       "    <tr>\n",
       "      <th>08044</th>\n",
       "      <td>10</td>\n",
       "      <td>0</td>\n",
       "      <td>None</td>\n",
       "      <td>None</td>\n",
       "      <td>None</td>\n",
       "      <td>290100</td>\n",
       "      <td>None</td>\n",
       "      <td>16/12/2009</td>\n",
       "      <td>16/12/2009</td>\n",
       "      <td>None</td>\n",
       "      <td>None</td>\n",
       "    </tr>\n",
       "    <tr>\n",
       "      <th>08044</th>\n",
       "      <td>11</td>\n",
       "      <td>1</td>\n",
       "      <td>None</td>\n",
       "      <td>None</td>\n",
       "      <td>None</td>\n",
       "      <td>290100</td>\n",
       "      <td>None</td>\n",
       "      <td>NO APLICA</td>\n",
       "      <td>NO APLICA</td>\n",
       "      <td>None</td>\n",
       "      <td>None</td>\n",
       "    </tr>\n",
       "    <tr>\n",
       "      <th>08044</th>\n",
       "      <td>12</td>\n",
       "      <td>1</td>\n",
       "      <td>None</td>\n",
       "      <td>None</td>\n",
       "      <td>None</td>\n",
       "      <td>290100</td>\n",
       "      <td>None</td>\n",
       "      <td>NO APLICA</td>\n",
       "      <td>NO APLICA</td>\n",
       "      <td>None</td>\n",
       "      <td>None</td>\n",
       "    </tr>\n",
       "    <tr>\n",
       "      <th>08044</th>\n",
       "      <td>13</td>\n",
       "      <td>0</td>\n",
       "      <td>None</td>\n",
       "      <td>None</td>\n",
       "      <td>None</td>\n",
       "      <td>290100</td>\n",
       "      <td>None</td>\n",
       "      <td>20/09/2002</td>\n",
       "      <td>28/04/2010</td>\n",
       "      <td>None</td>\n",
       "      <td>None</td>\n",
       "    </tr>\n",
       "    <tr>\n",
       "      <th>08044</th>\n",
       "      <td>14</td>\n",
       "      <td>1</td>\n",
       "      <td>None</td>\n",
       "      <td>None</td>\n",
       "      <td>None</td>\n",
       "      <td>290100</td>\n",
       "      <td>None</td>\n",
       "      <td>NO APLICA</td>\n",
       "      <td>NO APLICA</td>\n",
       "      <td>None</td>\n",
       "      <td>None</td>\n",
       "    </tr>\n",
       "  </tbody>\n",
       "</table>\n",
       "</div>"
      ],
      "text/plain": [
       "         dis_norm exi_norm tema_nis instrum tema_nia  estructu nom_disn  \\\n",
       "ubic_geo                                                                  \n",
       "08044          10        0     None    None     None    290100     None   \n",
       "08044          11        1     None    None     None    290100     None   \n",
       "08044          12        1     None    None     None    290100     None   \n",
       "08044          13        0     None    None     None    290100     None   \n",
       "08044          14        1     None    None     None    290100     None   \n",
       "\n",
       "            fech_pub    fech_act tt_dispo est_ttdi  \n",
       "ubic_geo                                            \n",
       "08044     16/12/2009  16/12/2009     None     None  \n",
       "08044      NO APLICA   NO APLICA     None     None  \n",
       "08044      NO APLICA   NO APLICA     None     None  \n",
       "08044     20/09/2002  28/04/2010     None     None  \n",
       "08044      NO APLICA   NO APLICA     None     None  "
      ]
     },
     "execution_count": 852,
     "metadata": {},
     "output_type": "execute_result"
    }
   ],
   "source": [
    "P0307.head()"
   ]
  },
  {
   "cell_type": "code",
   "execution_count": 841,
   "metadata": {},
   "outputs": [
    {
     "data": {
      "text/plain": [
       "Index(['dis_norm', 'exi_norm', 'tema_nis', 'instrum', 'tema_nia', 'estructu',\n",
       "       'nom_disn', 'fech_pub', 'fech_act', 'tt_dispo', 'est_ttdi'],\n",
       "      dtype='object')"
      ]
     },
     "execution_count": 841,
     "metadata": {},
     "output_type": "execute_result"
    }
   ],
   "source": [
    "P0307.columns"
   ]
  },
  {
   "cell_type": "markdown",
   "metadata": {},
   "source": [
    "¿Dónde están los datos sobre desarrollo urbano y ordenamiento territorial?"
   ]
  },
  {
   "cell_type": "code",
   "execution_count": 865,
   "metadata": {},
   "outputs": [
    {
     "name": "stdout",
     "output_type": "stream",
     "text": [
      "Archivo \"M_REGULA.csv\" ------------------------------\n",
      "Contiene variables que caracterizan a los municipios y las delegaciones del Distrito Federal de acuerdo con la cantidad de disposiciones normativas internas por tema que deben ser observadas por las Administraciones Públicas Municipales o Delegacionales, al cierre del año 2014.\n",
      "\n",
      "TEMA_NIS------------------------------\n",
      "Clasificación de los municipios y las delegaciones del Distrito Federal de acuerdo a los temas manejados en las disposiciones normativas internas sustantivas vigentes en la  Administraciones Públicas Municipales o Delegacionales, al cierre del año 2014\n",
      "                                                                            Descripcion codigos\n",
      "Códigos válidos en la columna                                                                  \n",
      "1                                                          Actividades económicas o comerciales\n",
      "2                                               Administración Pública Municipal o Delegacional\n",
      "3                                                                               Adultos mayores\n",
      "4                                                                             Alumbrado público\n",
      "5                                                                          Apertura de empresas\n",
      "6                                                                             Archivo municipal\n",
      "7                                                              Bando de policía y buen gobierno\n",
      "8                                                                                      Bomberos\n",
      "9                                                                            Catastro municipal\n",
      "10                                                                                  Cementerios\n",
      "11                                                                      Combate a la corrupción\n",
      "12                                                               Desarrollo económico municipal\n",
      "13                                                      Desarrollo integral de la familia (DIF)\n",
      "14                                                            Desarrollo rural y/o agropecuario\n",
      "15                                                            Ecología y protección al ambiente\n",
      "16                                                Equidad de genero y/o derechos de las mujeres\n",
      "17                                                          Espectáculos y diversiones públicas\n",
      "18                                                                                  Estadística\n",
      "19                                                              Expendio de bebidas alcohólicas\n",
      "20                                                                    Expendio de carnes y aves\n",
      "21                                                           Fraccionamiento y municipalización\n",
      "22                                                                              Justicia cívica\n",
      "23                                   Limpia, recolección y/o manejo de residuos sólidos urbanos\n",
      "24                                                                                     Mercados\n",
      "25                                                                               Obras públicas\n",
      "26                                                                       Ordenamiento ecológico\n",
      "27                                                                      Participación ciudadana\n",
      "28                                                                    Personas con discapacidad\n",
      "29                             Planeación y/o evaluación y/o mejora de la gestión gubernamental\n",
      "30                                                                             Protección civil\n",
      "31                                                                            Pueblos indígenas\n",
      "32                                                                                       Rastro\n",
      "33                                                                             Recursos humanos\n",
      "34                                                          Recursos materiales y/o financieros\n",
      "35                                                                Reglamento de la construcción\n",
      "36                                                         Reglamento interior del Ayuntamiento\n",
      "37                                                                                Salud pública\n",
      "38                                                               Seguridad pública y/o Transito\n",
      "39                                                      Transparencia y acceso a la información\n",
      "40                                                                        Vialidad y transporte\n",
      "41                                                 Desarrollo urbano u ordenamiento territorial\n",
      "42                                                                                         Otra\n"
     ]
    }
   ],
   "source": [
    "queryvar('m_regula'.upper(), 'tema_nis')"
   ]
  },
  {
   "cell_type": "markdown",
   "metadata": {},
   "source": [
    "Los datos de DU y OT estan en la columna TEMA_NIS. El código 41 en esta column indica DU y OT"
   ]
  },
  {
   "cell_type": "code",
   "execution_count": 857,
   "metadata": {},
   "outputs": [
    {
     "data": {
      "text/html": [
       "<div>\n",
       "<style>\n",
       "    .dataframe thead tr:only-child th {\n",
       "        text-align: right;\n",
       "    }\n",
       "\n",
       "    .dataframe thead th {\n",
       "        text-align: left;\n",
       "    }\n",
       "\n",
       "    .dataframe tbody tr th {\n",
       "        vertical-align: top;\n",
       "    }\n",
       "</style>\n",
       "<table border=\"1\" class=\"dataframe\">\n",
       "  <thead>\n",
       "    <tr style=\"text-align: right;\">\n",
       "      <th></th>\n",
       "      <th>dis_norm</th>\n",
       "      <th>exi_norm</th>\n",
       "      <th>tema_nis</th>\n",
       "      <th>instrum</th>\n",
       "      <th>tema_nia</th>\n",
       "      <th>estructu</th>\n",
       "      <th>nom_disn</th>\n",
       "      <th>fech_pub</th>\n",
       "      <th>fech_act</th>\n",
       "      <th>tt_dispo</th>\n",
       "      <th>est_ttdi</th>\n",
       "    </tr>\n",
       "    <tr>\n",
       "      <th>ubic_geo</th>\n",
       "      <th></th>\n",
       "      <th></th>\n",
       "      <th></th>\n",
       "      <th></th>\n",
       "      <th></th>\n",
       "      <th></th>\n",
       "      <th></th>\n",
       "      <th></th>\n",
       "      <th></th>\n",
       "      <th></th>\n",
       "      <th></th>\n",
       "    </tr>\n",
       "  </thead>\n",
       "  <tbody>\n",
       "    <tr>\n",
       "      <th>08044</th>\n",
       "      <td>10</td>\n",
       "      <td>0</td>\n",
       "      <td>None</td>\n",
       "      <td>None</td>\n",
       "      <td>None</td>\n",
       "      <td>290100</td>\n",
       "      <td>None</td>\n",
       "      <td>16/12/2009</td>\n",
       "      <td>16/12/2009</td>\n",
       "      <td>None</td>\n",
       "      <td>None</td>\n",
       "    </tr>\n",
       "    <tr>\n",
       "      <th>08044</th>\n",
       "      <td>11</td>\n",
       "      <td>1</td>\n",
       "      <td>None</td>\n",
       "      <td>None</td>\n",
       "      <td>None</td>\n",
       "      <td>290100</td>\n",
       "      <td>None</td>\n",
       "      <td>NO APLICA</td>\n",
       "      <td>NO APLICA</td>\n",
       "      <td>None</td>\n",
       "      <td>None</td>\n",
       "    </tr>\n",
       "    <tr>\n",
       "      <th>08044</th>\n",
       "      <td>12</td>\n",
       "      <td>1</td>\n",
       "      <td>None</td>\n",
       "      <td>None</td>\n",
       "      <td>None</td>\n",
       "      <td>290100</td>\n",
       "      <td>None</td>\n",
       "      <td>NO APLICA</td>\n",
       "      <td>NO APLICA</td>\n",
       "      <td>None</td>\n",
       "      <td>None</td>\n",
       "    </tr>\n",
       "    <tr>\n",
       "      <th>08044</th>\n",
       "      <td>13</td>\n",
       "      <td>0</td>\n",
       "      <td>None</td>\n",
       "      <td>None</td>\n",
       "      <td>None</td>\n",
       "      <td>290100</td>\n",
       "      <td>None</td>\n",
       "      <td>20/09/2002</td>\n",
       "      <td>28/04/2010</td>\n",
       "      <td>None</td>\n",
       "      <td>None</td>\n",
       "    </tr>\n",
       "    <tr>\n",
       "      <th>08044</th>\n",
       "      <td>14</td>\n",
       "      <td>1</td>\n",
       "      <td>None</td>\n",
       "      <td>None</td>\n",
       "      <td>None</td>\n",
       "      <td>290100</td>\n",
       "      <td>None</td>\n",
       "      <td>NO APLICA</td>\n",
       "      <td>NO APLICA</td>\n",
       "      <td>None</td>\n",
       "      <td>None</td>\n",
       "    </tr>\n",
       "  </tbody>\n",
       "</table>\n",
       "</div>"
      ],
      "text/plain": [
       "         dis_norm exi_norm tema_nis instrum tema_nia  estructu nom_disn  \\\n",
       "ubic_geo                                                                  \n",
       "08044          10        0     None    None     None    290100     None   \n",
       "08044          11        1     None    None     None    290100     None   \n",
       "08044          12        1     None    None     None    290100     None   \n",
       "08044          13        0     None    None     None    290100     None   \n",
       "08044          14        1     None    None     None    290100     None   \n",
       "\n",
       "            fech_pub    fech_act tt_dispo est_ttdi  \n",
       "ubic_geo                                            \n",
       "08044     16/12/2009  16/12/2009     None     None  \n",
       "08044      NO APLICA   NO APLICA     None     None  \n",
       "08044      NO APLICA   NO APLICA     None     None  \n",
       "08044     20/09/2002  28/04/2010     None     None  \n",
       "08044      NO APLICA   NO APLICA     None     None  "
      ]
     },
     "execution_count": 857,
     "metadata": {},
     "output_type": "execute_result"
    }
   ],
   "source": [
    "P0307.head()"
   ]
  },
  {
   "cell_type": "code",
   "execution_count": 861,
   "metadata": {
    "scrolled": true
   },
   "outputs": [
    {
     "data": {
      "text/html": [
       "<div>\n",
       "<style>\n",
       "    .dataframe thead tr:only-child th {\n",
       "        text-align: right;\n",
       "    }\n",
       "\n",
       "    .dataframe thead th {\n",
       "        text-align: left;\n",
       "    }\n",
       "\n",
       "    .dataframe tbody tr th {\n",
       "        vertical-align: top;\n",
       "    }\n",
       "</style>\n",
       "<table border=\"1\" class=\"dataframe\">\n",
       "  <thead>\n",
       "    <tr style=\"text-align: right;\">\n",
       "      <th></th>\n",
       "      <th>dis_norm</th>\n",
       "      <th>exi_norm</th>\n",
       "      <th>tema_nis</th>\n",
       "      <th>instrum</th>\n",
       "      <th>tema_nia</th>\n",
       "      <th>estructu</th>\n",
       "      <th>nom_disn</th>\n",
       "      <th>fech_pub</th>\n",
       "      <th>fech_act</th>\n",
       "      <th>tt_dispo</th>\n",
       "      <th>est_ttdi</th>\n",
       "    </tr>\n",
       "    <tr>\n",
       "      <th>ubic_geo</th>\n",
       "      <th></th>\n",
       "      <th></th>\n",
       "      <th></th>\n",
       "      <th></th>\n",
       "      <th></th>\n",
       "      <th></th>\n",
       "      <th></th>\n",
       "      <th></th>\n",
       "      <th></th>\n",
       "      <th></th>\n",
       "      <th></th>\n",
       "    </tr>\n",
       "  </thead>\n",
       "  <tbody>\n",
       "    <tr>\n",
       "      <th>20207</th>\n",
       "      <td>None</td>\n",
       "      <td>None</td>\n",
       "      <td>41</td>\n",
       "      <td>0</td>\n",
       "      <td>None</td>\n",
       "      <td>290200</td>\n",
       "      <td>None</td>\n",
       "      <td>None</td>\n",
       "      <td>None</td>\n",
       "      <td>None</td>\n",
       "      <td>0</td>\n",
       "    </tr>\n",
       "    <tr>\n",
       "      <th>20285</th>\n",
       "      <td>None</td>\n",
       "      <td>None</td>\n",
       "      <td>41</td>\n",
       "      <td>0</td>\n",
       "      <td>None</td>\n",
       "      <td>290200</td>\n",
       "      <td>None</td>\n",
       "      <td>None</td>\n",
       "      <td>None</td>\n",
       "      <td>None</td>\n",
       "      <td>0</td>\n",
       "    </tr>\n",
       "    <tr>\n",
       "      <th>03001</th>\n",
       "      <td>None</td>\n",
       "      <td>None</td>\n",
       "      <td>41</td>\n",
       "      <td>0</td>\n",
       "      <td>None</td>\n",
       "      <td>290200</td>\n",
       "      <td>None</td>\n",
       "      <td>None</td>\n",
       "      <td>None</td>\n",
       "      <td>None</td>\n",
       "      <td>0</td>\n",
       "    </tr>\n",
       "    <tr>\n",
       "      <th>21102</th>\n",
       "      <td>None</td>\n",
       "      <td>None</td>\n",
       "      <td>41</td>\n",
       "      <td>0</td>\n",
       "      <td>None</td>\n",
       "      <td>290200</td>\n",
       "      <td>None</td>\n",
       "      <td>None</td>\n",
       "      <td>None</td>\n",
       "      <td>None</td>\n",
       "      <td>0</td>\n",
       "    </tr>\n",
       "    <tr>\n",
       "      <th>22006</th>\n",
       "      <td>None</td>\n",
       "      <td>None</td>\n",
       "      <td>41</td>\n",
       "      <td>0</td>\n",
       "      <td>None</td>\n",
       "      <td>290200</td>\n",
       "      <td>None</td>\n",
       "      <td>None</td>\n",
       "      <td>None</td>\n",
       "      <td>None</td>\n",
       "      <td>0</td>\n",
       "    </tr>\n",
       "  </tbody>\n",
       "</table>\n",
       "</div>"
      ],
      "text/plain": [
       "         dis_norm exi_norm tema_nis instrum tema_nia  estructu nom_disn  \\\n",
       "ubic_geo                                                                  \n",
       "20207        None     None       41       0     None    290200     None   \n",
       "20285        None     None       41       0     None    290200     None   \n",
       "03001        None     None       41       0     None    290200     None   \n",
       "21102        None     None       41       0     None    290200     None   \n",
       "22006        None     None       41       0     None    290200     None   \n",
       "\n",
       "         fech_pub fech_act tt_dispo est_ttdi  \n",
       "ubic_geo                                      \n",
       "20207        None     None     None        0  \n",
       "20285        None     None     None        0  \n",
       "03001        None     None     None        0  \n",
       "21102        None     None     None        0  \n",
       "22006        None     None     None        0  "
      ]
     },
     "execution_count": 861,
     "metadata": {},
     "output_type": "execute_result"
    }
   ],
   "source": [
    "P0307 = P0307[P0307['tema_nis'] == 41]\n",
    "P0307.head()"
   ]
  },
  {
   "cell_type": "code",
   "execution_count": 863,
   "metadata": {
    "scrolled": true
   },
   "outputs": [
    {
     "data": {
      "text/html": [
       "<div>\n",
       "<style>\n",
       "    .dataframe thead tr:only-child th {\n",
       "        text-align: right;\n",
       "    }\n",
       "\n",
       "    .dataframe thead th {\n",
       "        text-align: left;\n",
       "    }\n",
       "\n",
       "    .dataframe tbody tr th {\n",
       "        vertical-align: top;\n",
       "    }\n",
       "</style>\n",
       "<table border=\"1\" class=\"dataframe\">\n",
       "  <thead>\n",
       "    <tr style=\"text-align: right;\">\n",
       "      <th></th>\n",
       "      <th>tema_nis</th>\n",
       "      <th>instrum</th>\n",
       "      <th>estructu</th>\n",
       "      <th>tt_dispo</th>\n",
       "      <th>est_ttdi</th>\n",
       "    </tr>\n",
       "    <tr>\n",
       "      <th>ubic_geo</th>\n",
       "      <th></th>\n",
       "      <th></th>\n",
       "      <th></th>\n",
       "      <th></th>\n",
       "      <th></th>\n",
       "    </tr>\n",
       "  </thead>\n",
       "  <tbody>\n",
       "    <tr>\n",
       "      <th>20207</th>\n",
       "      <td>41</td>\n",
       "      <td>0</td>\n",
       "      <td>290200</td>\n",
       "      <td>None</td>\n",
       "      <td>0</td>\n",
       "    </tr>\n",
       "    <tr>\n",
       "      <th>20285</th>\n",
       "      <td>41</td>\n",
       "      <td>0</td>\n",
       "      <td>290200</td>\n",
       "      <td>None</td>\n",
       "      <td>0</td>\n",
       "    </tr>\n",
       "    <tr>\n",
       "      <th>03001</th>\n",
       "      <td>41</td>\n",
       "      <td>0</td>\n",
       "      <td>290200</td>\n",
       "      <td>None</td>\n",
       "      <td>0</td>\n",
       "    </tr>\n",
       "    <tr>\n",
       "      <th>21102</th>\n",
       "      <td>41</td>\n",
       "      <td>0</td>\n",
       "      <td>290200</td>\n",
       "      <td>None</td>\n",
       "      <td>0</td>\n",
       "    </tr>\n",
       "    <tr>\n",
       "      <th>22006</th>\n",
       "      <td>41</td>\n",
       "      <td>0</td>\n",
       "      <td>290200</td>\n",
       "      <td>None</td>\n",
       "      <td>0</td>\n",
       "    </tr>\n",
       "  </tbody>\n",
       "</table>\n",
       "</div>"
      ],
      "text/plain": [
       "         tema_nis instrum  estructu tt_dispo est_ttdi\n",
       "ubic_geo                                             \n",
       "20207          41       0    290200     None        0\n",
       "20285          41       0    290200     None        0\n",
       "03001          41       0    290200     None        0\n",
       "21102          41       0    290200     None        0\n",
       "22006          41       0    290200     None        0"
      ]
     },
     "execution_count": 863,
     "metadata": {},
     "output_type": "execute_result"
    }
   ],
   "source": [
    "# Quita las columnas que estén vacías\n",
    "P0307 = P0307.dropna(axis=1, how = 'all')\n",
    "P0307.head()"
   ]
  },
  {
   "cell_type": "code",
   "execution_count": 895,
   "metadata": {
    "scrolled": false
   },
   "outputs": [
    {
     "data": {
      "text/html": [
       "<div>\n",
       "<style>\n",
       "    .dataframe thead tr:only-child th {\n",
       "        text-align: right;\n",
       "    }\n",
       "\n",
       "    .dataframe thead th {\n",
       "        text-align: left;\n",
       "    }\n",
       "\n",
       "    .dataframe tbody tr th {\n",
       "        vertical-align: top;\n",
       "    }\n",
       "</style>\n",
       "<table border=\"1\" class=\"dataframe\">\n",
       "  <thead>\n",
       "    <tr style=\"text-align: right;\">\n",
       "      <th></th>\n",
       "      <th>Descripcion</th>\n",
       "    </tr>\n",
       "    <tr>\n",
       "      <th>Metadato</th>\n",
       "      <th></th>\n",
       "    </tr>\n",
       "  </thead>\n",
       "  <tbody>\n",
       "    <tr>\n",
       "      <th>Nombre del Dataset</th>\n",
       "      <td>Censo Nacional de Gobiernos Municipales y Delegacionales 2015</td>\n",
       "    </tr>\n",
       "    <tr>\n",
       "      <th>Descripcion del dataset</th>\n",
       "      <td>Censo Nacional de Gobiernos Municipales y Delegacionales 2015</td>\n",
       "    </tr>\n",
       "    <tr>\n",
       "      <th>Disponibilidad Temporal</th>\n",
       "      <td>2015</td>\n",
       "    </tr>\n",
       "    <tr>\n",
       "      <th>Periodo de actualizacion</th>\n",
       "      <td>Bienal</td>\n",
       "    </tr>\n",
       "    <tr>\n",
       "      <th>Nivel de Desagregacion</th>\n",
       "      <td>Municipal</td>\n",
       "    </tr>\n",
       "    <tr>\n",
       "      <th>Notas</th>\n",
       "      <td>s/n</td>\n",
       "    </tr>\n",
       "    <tr>\n",
       "      <th>Fuente</th>\n",
       "      <td>INEGI</td>\n",
       "    </tr>\n",
       "    <tr>\n",
       "      <th>URL_Fuente</th>\n",
       "      <td>http://www.beta.inegi.org.mx/contenidos/proyectos/censosgobierno/municipal/cngmd/2015/datosabiertos/</td>\n",
       "    </tr>\n",
       "    <tr>\n",
       "      <th>Dataset base</th>\n",
       "      <td>\"P0307.xlsx\" disponible en \\nhttps://github.com/INECC-PCCS/01_Dmine/tree/master/Datasets/CNGMD/2015</td>\n",
       "    </tr>\n",
       "  </tbody>\n",
       "</table>\n",
       "</div>"
      ],
      "text/plain": [
       "                                                                                                                   Descripcion\n",
       "Metadato                                                                                                                      \n",
       "Nombre del Dataset                                               Censo Nacional de Gobiernos Municipales y Delegacionales 2015\n",
       "Descripcion del dataset                                          Censo Nacional de Gobiernos Municipales y Delegacionales 2015\n",
       "Disponibilidad Temporal                                                                                                   2015\n",
       "Periodo de actualizacion                                                                                                Bienal\n",
       "Nivel de Desagregacion                                                                                               Municipal\n",
       "Notas                                                                                                                      s/n\n",
       "Fuente                                                                                                                   INEGI\n",
       "URL_Fuente                http://www.beta.inegi.org.mx/contenidos/proyectos/censosgobierno/municipal/cngmd/2015/datosabiertos/\n",
       "Dataset base               \"P0307.xlsx\" disponible en \\nhttps://github.com/INECC-PCCS/01_Dmine/tree/master/Datasets/CNGMD/2015"
      ]
     },
     "execution_count": 895,
     "metadata": {},
     "output_type": "execute_result"
    }
   ],
   "source": [
    "# Metadatos\n",
    "meta = P0306meta\n",
    "meta.at['Dataset base','Descripcion'] = meta.at['Dataset base','Descripcion'].replace('P0306', 'P0307')\n",
    "meta"
   ]
  },
  {
   "cell_type": "markdown",
   "metadata": {},
   "source": [
    "Exportar archivo"
   ]
  },
  {
   "cell_type": "code",
   "execution_count": 896,
   "metadata": {
    "collapsed": true
   },
   "outputs": [],
   "source": [
    "par = 'P0307'\n",
    "file = r'D:\\PCCS\\01_Dmine\\Datasets\\CNGMD'+'\\\\'+par+'.xlsx'\n",
    "writer = pd.ExcelWriter(file)\n",
    "P0307.to_excel(writer, sheet_name = par)\n",
    "meta.to_excel(writer, sheet_name ='METADATOS')\n",
    "writer.save()"
   ]
  },
  {
   "cell_type": "markdown",
   "metadata": {},
   "source": [
    "### P1001 - Promedio diario de RSU recolectados"
   ]
  },
  {
   "cell_type": "code",
   "execution_count": 934,
   "metadata": {
    "scrolled": false
   },
   "outputs": [
    {
     "name": "stdout",
     "output_type": "stream",
     "text": [
      "D:\\PCCS\\00_RawData\\01_CSV\\cngmd\\2015\\P1001\\Rec_RSU_cngmd2015_csv\\conjunto_de_datos\n",
      "D:\\PCCS\\00_RawData\\01_CSV\\cngmd\\2015\\P1001\\Rec_RSU_cngmd2015_csv\\diccionario_de_datos\\FD_Modulo_6_RSU_2015_secc_i.csv\n"
     ]
    }
   ],
   "source": [
    "# Rutas de archivos\n",
    "param = 'P1001'\n",
    "rutadatos = tablas[param]\n",
    "rutameta = tablas[param].replace('conjunto_de_datos', 'diccionario_de_datos')\n",
    "rutameta = rutameta + '\\\\' + os.listdir(rutameta)[0]\n",
    "print('{}\\n{}'.format(rutadatos, rutameta))"
   ]
  },
  {
   "cell_type": "code",
   "execution_count": 966,
   "metadata": {
    "scrolled": true
   },
   "outputs": [
    {
     "ename": "IndentationError",
     "evalue": "unexpected indent (<ipython-input-966-fdfa3223ab05>, line 12)",
     "output_type": "error",
     "traceback": [
      "\u001b[1;36m  File \u001b[1;32m\"<ipython-input-966-fdfa3223ab05>\"\u001b[1;36m, line \u001b[1;32m12\u001b[0m\n\u001b[1;33m    dicdf = pd.read_csv(csvpath,\u001b[0m\n\u001b[1;37m    ^\u001b[0m\n\u001b[1;31mIndentationError\u001b[0m\u001b[1;31m:\u001b[0m unexpected indent\n"
     ]
    }
   ],
   "source": [
    "# Obtencion de metadatos\n",
    "# Cada hoja de metadatos es muy muy similar, pero con muy ligeras variaciones\n",
    "# La unica parte del proceso que es seguro automatizar es la importación del archivo hacia Python\n",
    "def getmetab(csvpath, textcoding):\n",
    "    # Importa el csv\n",
    "    try: dicdf = pd.read_csv(csvpath, \n",
    "                    index_col=0, \n",
    "                    parse_dates=False\n",
    "                   )\n",
    "        \n",
    "    except: print('excepting')\n",
    "        dicdf = pd.read_csv(csvpath, \n",
    "                    index_col=0, \n",
    "                    parse_dates=False, \n",
    "                    encoding = textcoding,\n",
    "                   )\n",
    "    \n",
    "    # Renombra las columnas\n",
    "    dicdf.columns = list(dicdf.iloc[1])\n",
    "    \n",
    "    return dicdf"
   ]
  },
  {
   "cell_type": "code",
   "execution_count": 961,
   "metadata": {},
   "outputs": [
    {
     "name": "stdout",
     "output_type": "stream",
     "text": [
      "excepting\n"
     ]
    }
   ],
   "source": []
  },
  {
   "cell_type": "code",
   "execution_count": 954,
   "metadata": {},
   "outputs": [
    {
     "ename": "UnicodeDecodeError",
     "evalue": "'utf-8' codec can't decode byte 0xe9 in position 1: invalid continuation byte",
     "output_type": "error",
     "traceback": [
      "\u001b[1;31m---------------------------------------------------------------------------\u001b[0m",
      "\u001b[1;31mUnicodeDecodeError\u001b[0m                        Traceback (most recent call last)",
      "\u001b[1;32mpandas\\_libs\\parsers.pyx\u001b[0m in \u001b[0;36mpandas._libs.parsers.TextReader._convert_tokens (pandas\\_libs\\parsers.c:14858)\u001b[1;34m()\u001b[0m\n",
      "\u001b[1;32mpandas\\_libs\\parsers.pyx\u001b[0m in \u001b[0;36mpandas._libs.parsers.TextReader._convert_with_dtype (pandas\\_libs\\parsers.c:17119)\u001b[1;34m()\u001b[0m\n",
      "\u001b[1;32mpandas\\_libs\\parsers.pyx\u001b[0m in \u001b[0;36mpandas._libs.parsers.TextReader._string_convert (pandas\\_libs\\parsers.c:17347)\u001b[1;34m()\u001b[0m\n",
      "\u001b[1;32mpandas\\_libs\\parsers.pyx\u001b[0m in \u001b[0;36mpandas._libs.parsers._string_box_utf8 (pandas\\_libs\\parsers.c:23041)\u001b[1;34m()\u001b[0m\n",
      "\u001b[1;31mUnicodeDecodeError\u001b[0m: 'utf-8' codec can't decode byte 0xe9 in position 1: invalid continuation byte",
      "\nDuring handling of the above exception, another exception occurred:\n",
      "\u001b[1;31mUnicodeDecodeError\u001b[0m                        Traceback (most recent call last)",
      "\u001b[1;32m<ipython-input-954-2afdfdcbe74e>\u001b[0m in \u001b[0;36m<module>\u001b[1;34m()\u001b[0m\n\u001b[1;32m----> 1\u001b[1;33m \u001b[0mmetadatos\u001b[0m \u001b[1;33m=\u001b[0m \u001b[0mgetmeta\u001b[0m\u001b[1;33m(\u001b[0m\u001b[0mrutadatos\u001b[0m\u001b[1;33m,\u001b[0m \u001b[1;34m'mbcs'\u001b[0m\u001b[1;33m)\u001b[0m\u001b[1;33m\u001b[0m\u001b[0m\n\u001b[0m",
      "\u001b[1;32m<ipython-input-948-1ae2ba880f41>\u001b[0m in \u001b[0;36mgetmeta\u001b[1;34m(path, charcoding)\u001b[0m\n\u001b[0;32m     13\u001b[0m         \u001b[1;32mif\u001b[0m \u001b[0mfile\u001b[0m\u001b[1;33m.\u001b[0m\u001b[0mendswith\u001b[0m\u001b[1;33m(\u001b[0m\u001b[1;34m'.csv'\u001b[0m\u001b[1;33m)\u001b[0m\u001b[1;33m:\u001b[0m\u001b[1;33m\u001b[0m\u001b[0m\n\u001b[0;32m     14\u001b[0m             \u001b[0mcsvpath\u001b[0m \u001b[1;33m=\u001b[0m \u001b[0mmetapath\u001b[0m\u001b[1;33m+\u001b[0m\u001b[1;34m'\\\\'\u001b[0m\u001b[1;33m+\u001b[0m\u001b[0mfile\u001b[0m\u001b[1;33m\u001b[0m\u001b[0m\n\u001b[1;32m---> 15\u001b[1;33m             \u001b[0mmetadf\u001b[0m \u001b[1;33m=\u001b[0m \u001b[0mpd\u001b[0m\u001b[1;33m.\u001b[0m\u001b[0mDataFrame\u001b[0m\u001b[1;33m.\u001b[0m\u001b[0mfrom_csv\u001b[0m\u001b[1;33m(\u001b[0m\u001b[0mcsvpath\u001b[0m\u001b[1;33m,\u001b[0m \u001b[0mparse_dates\u001b[0m\u001b[1;33m=\u001b[0m\u001b[1;32mFalse\u001b[0m\u001b[1;33m)\u001b[0m\u001b[1;33m\u001b[0m\u001b[0m\n\u001b[0m\u001b[0;32m     16\u001b[0m             \u001b[1;32mtry\u001b[0m\u001b[1;33m:\u001b[0m\u001b[1;33m\u001b[0m\u001b[0m\n\u001b[0;32m     17\u001b[0m                 \u001b[0mmetadf\u001b[0m\u001b[1;33m.\u001b[0m\u001b[0mindex\u001b[0m \u001b[1;33m=\u001b[0m \u001b[0mmetadf\u001b[0m\u001b[1;33m.\u001b[0m\u001b[0mindex\u001b[0m\u001b[1;33m.\u001b[0m\u001b[0mmap\u001b[0m\u001b[1;33m(\u001b[0m\u001b[0mstr\u001b[0m\u001b[1;33m.\u001b[0m\u001b[0mlower\u001b[0m\u001b[1;33m)\u001b[0m\u001b[1;33m\u001b[0m\u001b[0m\n",
      "\u001b[1;32mC:\\Users\\carlos.arana\\AppData\\Local\\Continuum\\Anaconda3\\lib\\site-packages\\pandas\\core\\frame.py\u001b[0m in \u001b[0;36mfrom_csv\u001b[1;34m(cls, path, header, sep, index_col, parse_dates, encoding, tupleize_cols, infer_datetime_format)\u001b[0m\n\u001b[0;32m   1259\u001b[0m                           \u001b[0mparse_dates\u001b[0m\u001b[1;33m=\u001b[0m\u001b[0mparse_dates\u001b[0m\u001b[1;33m,\u001b[0m \u001b[0mindex_col\u001b[0m\u001b[1;33m=\u001b[0m\u001b[0mindex_col\u001b[0m\u001b[1;33m,\u001b[0m\u001b[1;33m\u001b[0m\u001b[0m\n\u001b[0;32m   1260\u001b[0m                           \u001b[0mencoding\u001b[0m\u001b[1;33m=\u001b[0m\u001b[0mencoding\u001b[0m\u001b[1;33m,\u001b[0m \u001b[0mtupleize_cols\u001b[0m\u001b[1;33m=\u001b[0m\u001b[0mtupleize_cols\u001b[0m\u001b[1;33m,\u001b[0m\u001b[1;33m\u001b[0m\u001b[0m\n\u001b[1;32m-> 1261\u001b[1;33m                           infer_datetime_format=infer_datetime_format)\n\u001b[0m\u001b[0;32m   1262\u001b[0m \u001b[1;33m\u001b[0m\u001b[0m\n\u001b[0;32m   1263\u001b[0m     \u001b[1;32mdef\u001b[0m \u001b[0mto_sparse\u001b[0m\u001b[1;33m(\u001b[0m\u001b[0mself\u001b[0m\u001b[1;33m,\u001b[0m \u001b[0mfill_value\u001b[0m\u001b[1;33m=\u001b[0m\u001b[1;32mNone\u001b[0m\u001b[1;33m,\u001b[0m \u001b[0mkind\u001b[0m\u001b[1;33m=\u001b[0m\u001b[1;34m'block'\u001b[0m\u001b[1;33m)\u001b[0m\u001b[1;33m:\u001b[0m\u001b[1;33m\u001b[0m\u001b[0m\n",
      "\u001b[1;32mC:\\Users\\carlos.arana\\AppData\\Local\\Continuum\\Anaconda3\\lib\\site-packages\\pandas\\io\\parsers.py\u001b[0m in \u001b[0;36mparser_f\u001b[1;34m(filepath_or_buffer, sep, delimiter, header, names, index_col, usecols, squeeze, prefix, mangle_dupe_cols, dtype, engine, converters, true_values, false_values, skipinitialspace, skiprows, nrows, na_values, keep_default_na, na_filter, verbose, skip_blank_lines, parse_dates, infer_datetime_format, keep_date_col, date_parser, dayfirst, iterator, chunksize, compression, thousands, decimal, lineterminator, quotechar, quoting, escapechar, comment, encoding, dialect, tupleize_cols, error_bad_lines, warn_bad_lines, skipfooter, skip_footer, doublequote, delim_whitespace, as_recarray, compact_ints, use_unsigned, low_memory, buffer_lines, memory_map, float_precision)\u001b[0m\n\u001b[0;32m    653\u001b[0m                     skip_blank_lines=skip_blank_lines)\n\u001b[0;32m    654\u001b[0m \u001b[1;33m\u001b[0m\u001b[0m\n\u001b[1;32m--> 655\u001b[1;33m         \u001b[1;32mreturn\u001b[0m \u001b[0m_read\u001b[0m\u001b[1;33m(\u001b[0m\u001b[0mfilepath_or_buffer\u001b[0m\u001b[1;33m,\u001b[0m \u001b[0mkwds\u001b[0m\u001b[1;33m)\u001b[0m\u001b[1;33m\u001b[0m\u001b[0m\n\u001b[0m\u001b[0;32m    656\u001b[0m \u001b[1;33m\u001b[0m\u001b[0m\n\u001b[0;32m    657\u001b[0m     \u001b[0mparser_f\u001b[0m\u001b[1;33m.\u001b[0m\u001b[0m__name__\u001b[0m \u001b[1;33m=\u001b[0m \u001b[0mname\u001b[0m\u001b[1;33m\u001b[0m\u001b[0m\n",
      "\u001b[1;32mC:\\Users\\carlos.arana\\AppData\\Local\\Continuum\\Anaconda3\\lib\\site-packages\\pandas\\io\\parsers.py\u001b[0m in \u001b[0;36m_read\u001b[1;34m(filepath_or_buffer, kwds)\u001b[0m\n\u001b[0;32m    409\u001b[0m \u001b[1;33m\u001b[0m\u001b[0m\n\u001b[0;32m    410\u001b[0m     \u001b[1;32mtry\u001b[0m\u001b[1;33m:\u001b[0m\u001b[1;33m\u001b[0m\u001b[0m\n\u001b[1;32m--> 411\u001b[1;33m         \u001b[0mdata\u001b[0m \u001b[1;33m=\u001b[0m \u001b[0mparser\u001b[0m\u001b[1;33m.\u001b[0m\u001b[0mread\u001b[0m\u001b[1;33m(\u001b[0m\u001b[0mnrows\u001b[0m\u001b[1;33m)\u001b[0m\u001b[1;33m\u001b[0m\u001b[0m\n\u001b[0m\u001b[0;32m    412\u001b[0m     \u001b[1;32mfinally\u001b[0m\u001b[1;33m:\u001b[0m\u001b[1;33m\u001b[0m\u001b[0m\n\u001b[0;32m    413\u001b[0m         \u001b[0mparser\u001b[0m\u001b[1;33m.\u001b[0m\u001b[0mclose\u001b[0m\u001b[1;33m(\u001b[0m\u001b[1;33m)\u001b[0m\u001b[1;33m\u001b[0m\u001b[0m\n",
      "\u001b[1;32mC:\\Users\\carlos.arana\\AppData\\Local\\Continuum\\Anaconda3\\lib\\site-packages\\pandas\\io\\parsers.py\u001b[0m in \u001b[0;36mread\u001b[1;34m(self, nrows)\u001b[0m\n\u001b[0;32m    980\u001b[0m                 \u001b[1;32mraise\u001b[0m \u001b[0mValueError\u001b[0m\u001b[1;33m(\u001b[0m\u001b[1;34m'skipfooter not supported for iteration'\u001b[0m\u001b[1;33m)\u001b[0m\u001b[1;33m\u001b[0m\u001b[0m\n\u001b[0;32m    981\u001b[0m \u001b[1;33m\u001b[0m\u001b[0m\n\u001b[1;32m--> 982\u001b[1;33m         \u001b[0mret\u001b[0m \u001b[1;33m=\u001b[0m \u001b[0mself\u001b[0m\u001b[1;33m.\u001b[0m\u001b[0m_engine\u001b[0m\u001b[1;33m.\u001b[0m\u001b[0mread\u001b[0m\u001b[1;33m(\u001b[0m\u001b[0mnrows\u001b[0m\u001b[1;33m)\u001b[0m\u001b[1;33m\u001b[0m\u001b[0m\n\u001b[0m\u001b[0;32m    983\u001b[0m \u001b[1;33m\u001b[0m\u001b[0m\n\u001b[0;32m    984\u001b[0m         \u001b[1;32mif\u001b[0m \u001b[0mself\u001b[0m\u001b[1;33m.\u001b[0m\u001b[0moptions\u001b[0m\u001b[1;33m.\u001b[0m\u001b[0mget\u001b[0m\u001b[1;33m(\u001b[0m\u001b[1;34m'as_recarray'\u001b[0m\u001b[1;33m)\u001b[0m\u001b[1;33m:\u001b[0m\u001b[1;33m\u001b[0m\u001b[0m\n",
      "\u001b[1;32mC:\\Users\\carlos.arana\\AppData\\Local\\Continuum\\Anaconda3\\lib\\site-packages\\pandas\\io\\parsers.py\u001b[0m in \u001b[0;36mread\u001b[1;34m(self, nrows)\u001b[0m\n\u001b[0;32m   1717\u001b[0m     \u001b[1;32mdef\u001b[0m \u001b[0mread\u001b[0m\u001b[1;33m(\u001b[0m\u001b[0mself\u001b[0m\u001b[1;33m,\u001b[0m \u001b[0mnrows\u001b[0m\u001b[1;33m=\u001b[0m\u001b[1;32mNone\u001b[0m\u001b[1;33m)\u001b[0m\u001b[1;33m:\u001b[0m\u001b[1;33m\u001b[0m\u001b[0m\n\u001b[0;32m   1718\u001b[0m         \u001b[1;32mtry\u001b[0m\u001b[1;33m:\u001b[0m\u001b[1;33m\u001b[0m\u001b[0m\n\u001b[1;32m-> 1719\u001b[1;33m             \u001b[0mdata\u001b[0m \u001b[1;33m=\u001b[0m \u001b[0mself\u001b[0m\u001b[1;33m.\u001b[0m\u001b[0m_reader\u001b[0m\u001b[1;33m.\u001b[0m\u001b[0mread\u001b[0m\u001b[1;33m(\u001b[0m\u001b[0mnrows\u001b[0m\u001b[1;33m)\u001b[0m\u001b[1;33m\u001b[0m\u001b[0m\n\u001b[0m\u001b[0;32m   1720\u001b[0m         \u001b[1;32mexcept\u001b[0m \u001b[0mStopIteration\u001b[0m\u001b[1;33m:\u001b[0m\u001b[1;33m\u001b[0m\u001b[0m\n\u001b[0;32m   1721\u001b[0m             \u001b[1;32mif\u001b[0m \u001b[0mself\u001b[0m\u001b[1;33m.\u001b[0m\u001b[0m_first_chunk\u001b[0m\u001b[1;33m:\u001b[0m\u001b[1;33m\u001b[0m\u001b[0m\n",
      "\u001b[1;32mpandas\\_libs\\parsers.pyx\u001b[0m in \u001b[0;36mpandas._libs.parsers.TextReader.read (pandas\\_libs\\parsers.c:10862)\u001b[1;34m()\u001b[0m\n",
      "\u001b[1;32mpandas\\_libs\\parsers.pyx\u001b[0m in \u001b[0;36mpandas._libs.parsers.TextReader._read_low_memory (pandas\\_libs\\parsers.c:11138)\u001b[1;34m()\u001b[0m\n",
      "\u001b[1;32mpandas\\_libs\\parsers.pyx\u001b[0m in \u001b[0;36mpandas._libs.parsers.TextReader._read_rows (pandas\\_libs\\parsers.c:12175)\u001b[1;34m()\u001b[0m\n",
      "\u001b[1;32mpandas\\_libs\\parsers.pyx\u001b[0m in \u001b[0;36mpandas._libs.parsers.TextReader._convert_column_data (pandas\\_libs\\parsers.c:14136)\u001b[1;34m()\u001b[0m\n",
      "\u001b[1;32mpandas\\_libs\\parsers.pyx\u001b[0m in \u001b[0;36mpandas._libs.parsers.TextReader._convert_tokens (pandas\\_libs\\parsers.c:14972)\u001b[1;34m()\u001b[0m\n",
      "\u001b[1;32mpandas\\_libs\\parsers.pyx\u001b[0m in \u001b[0;36mpandas._libs.parsers.TextReader._convert_with_dtype (pandas\\_libs\\parsers.c:17119)\u001b[1;34m()\u001b[0m\n",
      "\u001b[1;32mpandas\\_libs\\parsers.pyx\u001b[0m in \u001b[0;36mpandas._libs.parsers.TextReader._string_convert (pandas\\_libs\\parsers.c:17347)\u001b[1;34m()\u001b[0m\n",
      "\u001b[1;32mpandas\\_libs\\parsers.pyx\u001b[0m in \u001b[0;36mpandas._libs.parsers._string_box_utf8 (pandas\\_libs\\parsers.c:23041)\u001b[1;34m()\u001b[0m\n",
      "\u001b[1;31mUnicodeDecodeError\u001b[0m: 'utf-8' codec can't decode byte 0xe9 in position 1: invalid continuation byte"
     ]
    }
   ],
   "source": [
    "metadatos = getmeta(rutadatos, 'mbcs')"
   ]
  },
  {
   "cell_type": "code",
   "execution_count": null,
   "metadata": {
    "collapsed": true
   },
   "outputs": [],
   "source": [
    "# Crea columna con el indice\n",
    "dicdf['text_arc'] = dicdf.index\n",
    "\n",
    "# Extrae el nombre del csv fuente en una columna independiente\n",
    "def getarc(x):\n",
    "    try: return re.search('(?<=(o: ))([A-Z])\\w+', x).group()\n",
    "    except: return None\n",
    "dicdf['arc'] = dicdf['text_arc'].apply(lambda x: getarc(x))\n",
    "\n",
    "# Extrae la descripcion del archivo en una columna independiente\n",
    "def getdescarc(x):\n",
    "    try: return re.search('\\(([^)]+)\\)', x).group(1)\n",
    "    except: return None\n",
    "dicdf['desc_arc'] = dicdf['text_arc'].apply(lambda x: getdescarc(x))\n",
    "\n",
    "# Marca columnas que se van a eliminar (Las columnas de donde se sacaron las variables 'arc' y 'desc_arc')\n",
    "dicdf['delete1'] = dicdf[list(dicdf.columns)[1:6]].notnull().sum(axis = 1)\n",
    "\n",
    "# Rellenar valores NaN\n",
    "dicdf = dicdf.fillna(method='ffill')\n",
    "\n",
    "# Eliminar valores marcados previaente\n",
    "dicdf = dicdf[dicdf.delete1 != 0]\n",
    "\n",
    "# Eliminar encabezados de columna repetidos\n",
    "dicdf = dicdf[dicdf.Descripción != 'Descripción']\n",
    "\n",
    "# Asignar nuevo indice y eliminar columna 'arc'\n",
    "dicdf = dicdf.set_index('arc')\n",
    "\n",
    "# Elimina columna delete1\n",
    "del dicdf['delete1']\n",
    "\n",
    "# Renombra la columna de descripciones de codigos\n",
    "dicdf.columns.values[5] = 'Descripcion codigos'\n",
    "\n",
    "# Dame el DataFrame\n",
    "return dicdf\n",
    "\n",
    "metadatos = getmetab(rutameta, 'mbcs')\n",
    "metadatos.head()"
   ]
  },
  {
   "cell_type": "code",
   "execution_count": 945,
   "metadata": {
    "collapsed": true
   },
   "outputs": [],
   "source": [
    "# Definición de rutas a archivos de datos\n",
    "Paramfiles = {}\n",
    "for file in os.listdir(rutadatos):\n",
    "    Paramfiles[file.replace('.csv', '')] = rutadatos+'\\\\'+file"
   ]
  },
  {
   "cell_type": "code",
   "execution_count": 946,
   "metadata": {
    "scrolled": true
   },
   "outputs": [
    {
     "data": {
      "text/plain": [
       "{'secc_i_tr_cngmd15_m6': 'D:\\\\PCCS\\\\00_RawData\\\\01_CSV\\\\cngmd\\\\2015\\\\P1001\\\\Rec_RSU_cngmd2015_csv\\\\conjunto_de_datos\\\\secc_i_tr_cngmd15_m6.csv',\n",
       " 'secc_i_tr_cngmd15_m6_p6_3_2': 'D:\\\\PCCS\\\\00_RawData\\\\01_CSV\\\\cngmd\\\\2015\\\\P1001\\\\Rec_RSU_cngmd2015_csv\\\\conjunto_de_datos\\\\secc_i_tr_cngmd15_m6_p6_3_2.csv'}"
      ]
     },
     "execution_count": 946,
     "metadata": {},
     "output_type": "execute_result"
    }
   ],
   "source": [
    "Paramfiles"
   ]
  },
  {
   "cell_type": "code",
   "execution_count": null,
   "metadata": {
    "collapsed": true
   },
   "outputs": [],
   "source": []
  },
  {
   "cell_type": "markdown",
   "metadata": {},
   "source": [
    "Exportar archivos"
   ]
  },
  {
   "cell_type": "code",
   "execution_count": null,
   "metadata": {
    "collapsed": true
   },
   "outputs": [],
   "source": [
    "# Metadatos\n",
    "meta = meta           # Utiliza el archivo de metadatos que habías definido anteriormente\n",
    "meta.at['Dataset base','Descripcion'] = meta.at['Dataset base','Descripcion'].replace('P0307', 'P1001')\n",
    "meta"
   ]
  },
  {
   "cell_type": "code",
   "execution_count": null,
   "metadata": {
    "collapsed": true
   },
   "outputs": [],
   "source": [
    "par = 'P1001'\n",
    "file = r'D:\\PCCS\\01_Dmine\\Datasets\\CNGMD'+'\\\\'+par+'.xlsx'\n",
    "writer = pd.ExcelWriter(file)\n",
    "P0307.to_excel(writer, sheet_name = par)\n",
    "meta.to_excel(writer, sheet_name ='METADATOS')\n",
    "writer.save()"
   ]
  },
  {
   "cell_type": "markdown",
   "metadata": {},
   "source": [
    "### P1003 - Número de municipios con disponibilidad de servicios relacionados con los RSU"
   ]
  },
  {
   "cell_type": "code",
   "execution_count": null,
   "metadata": {
    "collapsed": true
   },
   "outputs": [],
   "source": [
    "# Rutas de archivos\n",
    "param = 'P1001'\n",
    "rutadatos = tablas[param]\n",
    "rutameta = tablas[param].replace('conjunto_de_datos', 'diccionario_de_datos')\n",
    "rutameta = rutameta + '\\\\' + os.listdir(rutameta)[0]\n",
    "print('{}\\n{}'.format(rutadatos, rutameta))"
   ]
  },
  {
   "cell_type": "code",
   "execution_count": null,
   "metadata": {
    "collapsed": true
   },
   "outputs": [],
   "source": [
    "# Obtencion de metadatos\n",
    "metadatos = getmeta(rutameta, 'mbcs')\n",
    "metadatos.head()"
   ]
  },
  {
   "cell_type": "code",
   "execution_count": null,
   "metadata": {
    "collapsed": true
   },
   "outputs": [],
   "source": [
    "# Definición de rutas a archivos de datos\n",
    "Paramfiles = {}\n",
    "for file in os.listdir(rutadatos):\n",
    "    Paramfiles[file.replace('.csv', '')] = rutadatos+'\\\\'+file"
   ]
  },
  {
   "cell_type": "markdown",
   "metadata": {},
   "source": [
    "### P1006 - Número de municipios con aplicación de programas locales orientados a la GIRSU"
   ]
  },
  {
   "cell_type": "code",
   "execution_count": 933,
   "metadata": {
    "scrolled": false
   },
   "outputs": [
    {
     "name": "stdout",
     "output_type": "stream",
     "text": [
      "D:\\PCCS\\00_RawData\\01_CSV\\cngmd\\2015\\P1001\\Rec_RSU_cngmd2015_csv\\conjunto_de_datos\n",
      "D:\\PCCS\\00_RawData\\01_CSV\\cngmd\\2015\\P1001\\Rec_RSU_cngmd2015_csv\\diccionario_de_datos\\FD_Modulo_6_RSU_2015_secc_i.csv\n"
     ]
    }
   ],
   "source": [
    "# Rutas de archivos\n",
    "param = 'P1001'\n",
    "rutadatos = tablas[param]\n",
    "rutameta = tablas[param].replace('conjunto_de_datos', 'diccionario_de_datos')\n",
    "rutameta = rutameta + '\\\\' + os.listdir(rutameta)[0]\n",
    "print('{}\\n{}'.format(rutadatos, rutameta))"
   ]
  },
  {
   "cell_type": "code",
   "execution_count": null,
   "metadata": {
    "collapsed": true
   },
   "outputs": [],
   "source": [
    "# Obtencion de metadatos\n",
    "metadatos = getmeta(rutameta, 'mbcs')\n",
    "metadatos.head()"
   ]
  },
  {
   "cell_type": "code",
   "execution_count": null,
   "metadata": {
    "collapsed": true
   },
   "outputs": [],
   "source": [
    "# Definición de rutas a archivos de datos\n",
    "Paramfiles = {}\n",
    "for file in os.listdir(rutadatos):\n",
    "    Paramfiles[file.replace('.csv', '')] = rutadatos+'\\\\'+file"
   ]
  },
  {
   "cell_type": "markdown",
   "metadata": {},
   "source": [
    "### P1009 - Número de municipios con estudios de generación de RSU"
   ]
  },
  {
   "cell_type": "code",
   "execution_count": 932,
   "metadata": {
    "scrolled": true
   },
   "outputs": [
    {
     "name": "stdout",
     "output_type": "stream",
     "text": [
      "D:\\PCCS\\00_RawData\\01_CSV\\cngmd\\2015\\P1001\\Rec_RSU_cngmd2015_csv\\conjunto_de_datos\n",
      "D:\\PCCS\\00_RawData\\01_CSV\\cngmd\\2015\\P1001\\Rec_RSU_cngmd2015_csv\\diccionario_de_datos\\FD_Modulo_6_RSU_2015_secc_i.csv\n"
     ]
    }
   ],
   "source": [
    "# Rutas de archivos\n",
    "param = 'P1001'\n",
    "rutadatos = tablas[param]\n",
    "rutameta = tablas[param].replace('conjunto_de_datos', 'diccionario_de_datos')\n",
    "rutameta = rutameta + '\\\\' + os.listdir(rutameta)[0]\n",
    "print('{}\\n{}'.format(rutadatos, rutameta))"
   ]
  },
  {
   "cell_type": "code",
   "execution_count": null,
   "metadata": {
    "collapsed": true
   },
   "outputs": [],
   "source": [
    "# Obtencion de metadatos\n",
    "metadatos = getmeta(rutameta, 'mbcs')\n",
    "metadatos.head()"
   ]
  },
  {
   "cell_type": "code",
   "execution_count": null,
   "metadata": {
    "collapsed": true
   },
   "outputs": [],
   "source": [
    "# Definición de rutas a archivos de datos\n",
    "Paramfiles = {}\n",
    "for file in os.listdir(rutadatos):\n",
    "    Paramfiles[file.replace('.csv', '')] = rutadatos+'\\\\'+file"
   ]
  }
 ],
 "metadata": {
  "kernelspec": {
   "display_name": "Python 3",
   "language": "python",
   "name": "python3"
  },
  "language_info": {
   "codemirror_mode": {
    "name": "ipython",
    "version": 3
   },
   "file_extension": ".py",
   "mimetype": "text/x-python",
   "name": "python",
   "nbconvert_exporter": "python",
   "pygments_lexer": "ipython3",
   "version": "3.6.1"
  }
 },
 "nbformat": 4,
 "nbformat_minor": 2
}
