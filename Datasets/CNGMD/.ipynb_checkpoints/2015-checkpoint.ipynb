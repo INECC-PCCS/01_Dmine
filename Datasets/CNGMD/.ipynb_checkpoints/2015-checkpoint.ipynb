{
 "cells": [
  {
   "cell_type": "markdown",
   "metadata": {},
   "source": [
    "# Limpieza de dataset del Censo Nacional de Gobiernos Municipales y Delegacionales 2015\n",
    "## 1. Introduccion\n",
    "\n",
    "Indicadores que salen de este dataset:\n",
    "\n",
    "\n",
    "ID |Descripción\n",
    "---|:----------\n",
    "P0306|Programas  de modernización catastral \n",
    "P0307|Disposiciones normativas sustantivas en materia de desarrollo urbano u ordenamiento territorial \n",
    "P1001|Promedio diario de RSU recolectados\n",
    "P1003|Número de municipios con disponibilidad de servicios relacionados con los RSU\n",
    "P1006|Número de municipios con aplicación de programas locales orientados a la GIRSU\n",
    "P1009|Número de municipios con estudios de generación de RSU\n",
    "\n",
    "## 2. Descarga de datos"
   ]
  },
  {
   "cell_type": "code",
   "execution_count": 13,
   "metadata": {
    "collapsed": true
   },
   "outputs": [],
   "source": [
    "descripciones = {\n",
    "'P0306' : 'Programas de modernización catastral',\n",
    "'P0307' : 'Disposiciones normativas sustantivas en materia de desarrollo urbano u ordenamiento territorial',\n",
    "'P1001' : 'Promedio diario de RSU recolectados',\n",
    "'P1003' : 'Número de municipios con disponibilidad de servicios relacionados con los RSU',\n",
    "'P1006' : 'Número de municipios con aplicación de programas locales orientados a la GIRSU',\n",
    "'P1009' : 'Número de municipios con estudios de generación de RSU',\n",
    "}"
   ]
  },
  {
   "cell_type": "code",
   "execution_count": 598,
   "metadata": {
    "collapsed": true
   },
   "outputs": [],
   "source": [
    "# Librerias utilizadas\n",
    "import pandas as pd\n",
    "import sys\n",
    "import urllib\n",
    "import os\n",
    "import zipfile\n",
    "import csv\n",
    "import pprint\n",
    "import re"
   ]
  },
  {
   "cell_type": "code",
   "execution_count": 2,
   "metadata": {
    "scrolled": true
   },
   "outputs": [
    {
     "name": "stdout",
     "output_type": "stream",
     "text": [
      "Python 3.6.1 |Anaconda 4.4.0 (64-bit)| (default, May 11 2017, 13:25:24) [MSC v.1900 64 bit (AMD64)] on win32\n",
      "Pandas version: 0.20.1\n",
      "Running on Windows 8.1\n"
     ]
    }
   ],
   "source": [
    "# Configuracion del sistema\n",
    "print('Python {} on {}'.format(sys.version, sys.platform))\n",
    "print('Pandas version: {}'.format(pd.__version__))\n",
    "import platform; print('Running on {} {}'.format(platform.system(), platform.release()))"
   ]
  },
  {
   "cell_type": "code",
   "execution_count": 3,
   "metadata": {
    "collapsed": true
   },
   "outputs": [],
   "source": [
    "root = r'http://www.beta.inegi.org.mx/contenidos/proyectos/censosgobierno/municipal/cngmd/2015/datosabiertos/'\n",
    "\n",
    "links = {\n",
    "    'P0306' : r'm1/Programa_modernizacion_catastral_cngmd2015_csv.zip', # Programas de modernización catastral\n",
    "    'P0307' : r'm2/Marco_regulatorio_cngmd2015_csv.zip', # Disposiciones normativas sustantivas en materia de desarrollo urbano u ordenamiento territorial\n",
    "    'P1001' : r'm6/Rec_RSU_cngmd2015_csv.zip', # Promedio diario de RSU recolectados\n",
    "    'P1006' : r'm6/Prog_gest_int_RSU_cngmd2015_csv.zip', # Número de municipios con aplicación de programas locales orientados a la GIRSU\n",
    "    'P1009' : r'm6/Est_gen_comp_RSU_cngmd2015_csv.zip', # Número de municipios con estudios de generación de RSU\n",
    "}"
   ]
  },
  {
   "cell_type": "markdown",
   "metadata": {},
   "source": [
    "En el caso del parámetro P1003, los datos se extraen desde 3 archivos. Estos archivos son una base de datos para cada servicio relacionado con los RSU, Utilizando nuevamente el archivo que utiliza P1001 y dos adicionales:"
   ]
  },
  {
   "cell_type": "code",
   "execution_count": 4,
   "metadata": {
    "collapsed": true
   },
   "outputs": [],
   "source": [
    "P1003links = { # Número de municipios con disponibilidad de servicios relacionados con los RSU\n",
    "    1 : r'm6/Rec_RSU_cngmd2015_csv.zip',\n",
    "    2 : r'm6/Trat_RSU_cngmd2015_csv.zip',\n",
    "    3 : r'm6/Disp_final_RSU_cngmd2015_csv.zip'\n",
    "}"
   ]
  },
  {
   "cell_type": "code",
   "execution_count": 5,
   "metadata": {
    "collapsed": true
   },
   "outputs": [],
   "source": [
    "# Destino local\n",
    "destino = r'D:\\PCCS\\00_RawData\\01_CSV\\cngmd\\2015'"
   ]
  },
  {
   "cell_type": "code",
   "execution_count": 6,
   "metadata": {},
   "outputs": [
    {
     "name": "stdout",
     "output_type": "stream",
     "text": [
      "Ya existe el archivo: D:\\PCCS\\00_RawData\\01_CSV\\cngmd\\2015\\Programa_modernizacion_catastral_cngmd2015_csv.zip\n",
      "Ya existe el archivo: D:\\PCCS\\00_RawData\\01_CSV\\cngmd\\2015\\Marco_regulatorio_cngmd2015_csv.zip\n",
      "Ya existe el archivo: D:\\PCCS\\00_RawData\\01_CSV\\cngmd\\2015\\Rec_RSU_cngmd2015_csv.zip\n",
      "Ya existe el archivo: D:\\PCCS\\00_RawData\\01_CSV\\cngmd\\2015\\Prog_gest_int_RSU_cngmd2015_csv.zip\n",
      "Ya existe el archivo: D:\\PCCS\\00_RawData\\01_CSV\\cngmd\\2015\\Est_gen_comp_RSU_cngmd2015_csv.zip\n"
     ]
    }
   ],
   "source": [
    "# Descarga de zips para parametros que se encuentran en un solo archivo\n",
    "m_archivos = {}   # Diccionario para guardar memoria de descarga\n",
    "for parametro, fuente in links.items():\n",
    "    file = fuente.split('/')[1]\n",
    "    remote_path = root+fuente\n",
    "    local_path = destino + r'\\{}'.format(file)\n",
    "    if os.path.isfile(local_path):\n",
    "        print('Ya existe el archivo: {}'.format(local_path))\n",
    "        m_archivos[parametro] = local_path\n",
    "    else:\n",
    "        print('Descargando {} ... ... ... ... ... '.format(local_path))\n",
    "        urllib.request.urlretrieve(remote_path, local_path) #\n",
    "        m_archivos[parametro] = local_path\n",
    "        print('se descargó {}'.format(local_path))\n",
    "    "
   ]
  },
  {
   "cell_type": "code",
   "execution_count": 7,
   "metadata": {
    "scrolled": true
   },
   "outputs": [
    {
     "name": "stdout",
     "output_type": "stream",
     "text": [
      "Ya existe el archivo: D:\\PCCS\\00_RawData\\01_CSV\\cngmd\\2015\\Rec_RSU_cngmd2015_csv.zip\n",
      "Ya existe el archivo: D:\\PCCS\\00_RawData\\01_CSV\\cngmd\\2015\\Trat_RSU_cngmd2015_csv.zip\n",
      "Ya existe el archivo: D:\\PCCS\\00_RawData\\01_CSV\\cngmd\\2015\\Disp_final_RSU_cngmd2015_csv.zip\n"
     ]
    }
   ],
   "source": [
    "# Descarga de zips para parametro P1003\n",
    "m_archivos2 = {}   # Diccionario para guardar memoria de descarga\n",
    "for parametro, fuente in P1003links.items():\n",
    "    file = fuente.split('/')[1]\n",
    "    remote_path = root+fuente\n",
    "    local_path = destino + r'\\{}'.format(file)\n",
    "    if os.path.isfile(local_path):\n",
    "        print('Ya existe el archivo: {}'.format(local_path))\n",
    "        m_archivos2[parametro] = local_path\n",
    "    else:\n",
    "        print('Descargando {} ... ... ... ... ... '.format(local_path))\n",
    "        urllib.request.urlretrieve(remote_path, local_path) #\n",
    "        m_archivos2[parametro] = local_path\n",
    "        print('se descargó {}'.format(local_path))\n",
    "    "
   ]
  },
  {
   "cell_type": "code",
   "execution_count": 8,
   "metadata": {
    "scrolled": true
   },
   "outputs": [
    {
     "name": "stdout",
     "output_type": "stream",
     "text": [
      "Descomprimiendo D:\\PCCS\\00_RawData\\01_CSV\\cngmd\\2015\\P0306 ... ... ... ... ... \n",
      "Descomprimiendo D:\\PCCS\\00_RawData\\01_CSV\\cngmd\\2015\\P0307 ... ... ... ... ... \n",
      "Descomprimiendo D:\\PCCS\\00_RawData\\01_CSV\\cngmd\\2015\\P1001 ... ... ... ... ... \n",
      "Descomprimiendo D:\\PCCS\\00_RawData\\01_CSV\\cngmd\\2015\\P1006 ... ... ... ... ... \n",
      "Descomprimiendo D:\\PCCS\\00_RawData\\01_CSV\\cngmd\\2015\\P1009 ... ... ... ... ... \n"
     ]
    }
   ],
   "source": [
    "# Descompresión de archivos de m_parametro\n",
    "unzipped = {}\n",
    "for parametro, comprimido in m_archivos.items():\n",
    "    target = destino + '\\\\' + parametro\n",
    "    if os.path.isfile(target):\n",
    "        print('Ya existe el archivo: {}'.format(target))\n",
    "        unzipped[parametro] = target\n",
    "    else:\n",
    "        print('Descomprimiendo {} ... ... ... ... ... '.format(target))\n",
    "        descomprimir = zipfile.ZipFile(comprimido, 'r')\n",
    "        descomprimir.extractall(target)\n",
    "        descomprimir.close\n",
    "        unzipped[parametro] = target\n",
    "        "
   ]
  },
  {
   "cell_type": "code",
   "execution_count": 9,
   "metadata": {
    "scrolled": false
   },
   "outputs": [
    {
     "name": "stdout",
     "output_type": "stream",
     "text": [
      "Descomprimiendo D:\\PCCS\\00_RawData\\01_CSV\\cngmd\\2015\\P1003\\1 ... ... ... ... ... \n",
      "Descomprimiendo D:\\PCCS\\00_RawData\\01_CSV\\cngmd\\2015\\P1003\\2 ... ... ... ... ... \n",
      "Descomprimiendo D:\\PCCS\\00_RawData\\01_CSV\\cngmd\\2015\\P1003\\3 ... ... ... ... ... \n"
     ]
    }
   ],
   "source": [
    "# Descompresión de archivos de m_parametro2\n",
    "unzipped2 = {}\n",
    "for parametro, comprimido in m_archivos2.items():\n",
    "    target = destino + '\\\\P1003\\\\' + str(parametro)\n",
    "    if os.path.isfile(target):\n",
    "        print('Ya existe el archivo: {}'.format(target))\n",
    "        unzipped2[parametro] = target\n",
    "    else:\n",
    "        print('Descomprimiendo {} ... ... ... ... ... '.format(target))\n",
    "        descomprimir = zipfile.ZipFile(comprimido, 'r')\n",
    "        descomprimir.extractall(target)\n",
    "        descomprimir.close\n",
    "        unzipped2[parametro] = target\n",
    "        "
   ]
  },
  {
   "cell_type": "code",
   "execution_count": 1166,
   "metadata": {
    "collapsed": true
   },
   "outputs": [],
   "source": [
    "# Localizacion de archivos de cada parametro\n",
    "# Cada parametro tiene rutas y estructuras distintas. En este paso localizo manualmente \n",
    "# cada tabla y estructura desde los comprimidos. cada valor del diccionario contiene la ruta hacia\n",
    "# donde se encuentran las tablas.\n",
    "\n",
    "cd = r'\\conjunto_de_datos'\n",
    "\n",
    "tablas = {\n",
    "    'P0306' : destino + r'\\P0306' + cd,\n",
    "    'P0307' : destino + r'\\P0307\\marco_regulatorio_cngmd2015_dbf' + cd,\n",
    "    'P1001' : destino + r'\\P1001\\Rec_RSU_cngmd2015_csv' + cd,\n",
    "    'P1006' : destino + r'\\P1006\\Prog_gest_int_RSU_cngmd2015_csv' + cd,\n",
    "    'P1009' : destino + r'\\P1009\\Est_gen_comp_RSU_cngmd2015_csv' + cd,\n",
    "}\n",
    "\n",
    "# Tablas para P1003\n",
    "destino2 = destino + r'\\P1003'\n",
    "tablasP1003 = {\n",
    "    '1' : destino2 + r'\\1' + r'\\Rec_RSU_cngmd2015_csv' + cd,\n",
    "    '2' : destino2 + r'\\2' + r'\\Trat_RSU_cngmd2015_csv' + cd,\n",
    "    '3' : destino2 + r'\\3' + r'\\Disp_final_RSU_cngmd2015_csv' + cd,\n",
    "}"
   ]
  },
  {
   "cell_type": "markdown",
   "metadata": {},
   "source": [
    "## Construccion de datasets estándar\n",
    "Los datasets para cada parámetro surgen de diferentes preguntas del censo por lo que sus estructuras son muy desemejantes, razon por la cual:\n",
    "(1) : Cada parámetro tiene que procesarse individualmente.\n",
    "(2) : Es conveniente extraer de manera individual los metadatos de cada parámetro. Con este propósito, el siguiente script sirve para extraer los metadatos de cada dataset:"
   ]
  },
  {
   "cell_type": "code",
   "execution_count": 1267,
   "metadata": {
    "collapsed": true
   },
   "outputs": [],
   "source": [
    "# Script para extraer metadatos:\n",
    "def getmeta(path, charcoding):   # Path es el contenido en las variables 'tablas' para cada parametro\n",
    "    cat = r'\\catalogos'\n",
    "    dic = r'\\diccionario_de_datos'\n",
    "    metadict = {}\n",
    "    metapath = path.replace(cd, cat)\n",
    "    metafiles = os.listdir(metapath)\n",
    "    dicdict = {}\n",
    "    dicpath = path.replace(cd, dic)\n",
    "    dicfiles = os.listdir(dicpath)\n",
    "    for file in metafiles:\n",
    "        variable = file.replace('.csv', '')\n",
    "        if file.endswith('.csv'):\n",
    "            csvpath = metapath+'\\\\'+file\n",
    "            metadf = pd.DataFrame.from_csv(csvpath, parse_dates=False)\n",
    "            try:\n",
    "                metadf.index = metadf.index.map(str.lower)\n",
    "            except:\n",
    "                pass\n",
    "            metadict[variable] = metadf\n",
    "        else:\n",
    "            dothis = input('El archivo {} no es csv, que deseas hacer? [DD]etener [CC]ontinuar'.format(file))\n",
    "            dothis = dothis.lower()\n",
    "            if dothis == 'dd':\n",
    "                raise GeneratorExit('Script detenido por el usuario')\n",
    "            elif dothis == 'cc':\n",
    "                continue\n",
    "            else:\n",
    "                raise KeyError('No entendi la instruccion {}'.format(dothis))\n",
    "    for file in dicfiles:\n",
    "        if file.endswith('.csv'):\n",
    "            filename = file.replace('.csv', '')\n",
    "            csvpath = dicpath+'\\\\'+file\n",
    "            try:\n",
    "                dicdf = pd.read_csv(csvpath, skiprows=2, usecols=[1, 2], index_col=0, parse_dates=False).dropna()\n",
    "            except:\n",
    "                dicdf = pd.read_csv(csvpath, skiprows=2, usecols=[1, 2], index_col=0, parse_dates=False, encoding = charcoding).dropna()\n",
    "            dicdf.index = dicdf.index.map(str.lower)\n",
    "            dicdict[filename] = dicdf\n",
    "    \n",
    "    return dicdict, metadict"
   ]
  },
  {
   "cell_type": "code",
   "execution_count": 1323,
   "metadata": {
    "collapsed": true
   },
   "outputs": [],
   "source": [
    "# Funcion para revisar metadatos\n",
    "def queryvar(var, tablelen=10, colprint = 125, dictio = p0306dic, metadat = p0306meta):\n",
    "    pdefault = pd.get_option('display.max_colwidth')\n",
    "    pd.set_option('display.max_colwidth', colprint)   # Expande el espacio para imprimir columnas\n",
    "    print('\"{}\" :\\n{}'.format(var, dictio.loc[var][0].upper()))\n",
    "    if len(metadat[var]) > tablelen:\n",
    "        print('{}\\nImprimiendo {} de {} registros'.format('-'*40,tablelen, len(metadat[var])))\n",
    "    print(metadat[var].head(tablelen))\n",
    "    pd.set_option('display.max_colwidth', pdefault)   # Regresa la variable de impresion de columnas a su default"
   ]
  },
  {
   "cell_type": "markdown",
   "metadata": {},
   "source": [
    "### **P0306 - Programas de modernización catastral**\n",
    "\n",
    "Existencia de programas de modernización catastral en los municipios. "
   ]
  },
  {
   "cell_type": "code",
   "execution_count": 1271,
   "metadata": {
    "scrolled": false
   },
   "outputs": [
    {
     "name": "stdout",
     "output_type": "stream",
     "text": [
      "Se extrajeron metadatos para las siguientes variables de P0306:\n",
      "acc_modr\n",
      "estructu\n",
      "inst_enc\n",
      "perio_ac\n",
      "prog_mod\n",
      "tip_inst\n",
      "ubic_geo\n",
      "\n",
      "Diccionarios disponibles para P0306:\n",
      "diccionario_de_datos_programa_modernizacion_catastral_cngmd2015_dbf\n"
     ]
    }
   ],
   "source": [
    "# Creacion de diccionarios con metadatos para cada variable de P0306:\n",
    "par = 'P0306'\n",
    "p0306dic, p0306meta = getmeta(tablas['P0306'], 'mbcs')\n",
    "print('Se extrajeron metadatos para las siguientes variables de {}:'.format(par))\n",
    "for key in p0306meta.keys(): print(key)\n",
    "print('\\nDiccionarios disponibles para {}:'.format(par))\n",
    "for key in p0306dic.keys(): print(key)"
   ]
  },
  {
   "cell_type": "code",
   "execution_count": 1272,
   "metadata": {
    "scrolled": true
   },
   "outputs": [
    {
     "data": {
      "text/html": [
       "<div>\n",
       "<style>\n",
       "    .dataframe thead tr:only-child th {\n",
       "        text-align: right;\n",
       "    }\n",
       "\n",
       "    .dataframe thead th {\n",
       "        text-align: left;\n",
       "    }\n",
       "\n",
       "    .dataframe tbody tr th {\n",
       "        vertical-align: top;\n",
       "    }\n",
       "</style>\n",
       "<table border=\"1\" class=\"dataframe\">\n",
       "  <thead>\n",
       "    <tr style=\"text-align: right;\">\n",
       "      <th></th>\n",
       "      <th>Descripción</th>\n",
       "    </tr>\n",
       "    <tr>\n",
       "      <th>Nombre de la \n",
       "columna</th>\n",
       "      <th></th>\n",
       "    </tr>\n",
       "  </thead>\n",
       "  <tbody>\n",
       "    <tr>\n",
       "      <th>ubic_geo</th>\n",
       "      <td>Clasificación de las entidades federativas y de éstas a sus municipios.</td>\n",
       "    </tr>\n",
       "    <tr>\n",
       "      <th>prog_mod</th>\n",
       "      <td>Clasificación de los municipios de acuerdo con el programa de modernización catastral con el que cuenta.</td>\n",
       "    </tr>\n",
       "    <tr>\n",
       "      <th>inst_enc</th>\n",
       "      <td>Clasificación de los municipios de acuerdo con la institución encargada de coordinar y/o ejecutar el programa de moderniz...</td>\n",
       "    </tr>\n",
       "    <tr>\n",
       "      <th>tip_inst</th>\n",
       "      <td>Clasificación de los municipios de acuerdo con las administraciones públicas municipales por entidad federativa según ins...</td>\n",
       "    </tr>\n",
       "    <tr>\n",
       "      <th>acc_modr</th>\n",
       "      <td>Clasificación de los municipios de acuerdo con las acciones del programa de modernización catastral que se han realizado ...</td>\n",
       "    </tr>\n",
       "    <tr>\n",
       "      <th>perio_ac</th>\n",
       "      <td>Clasificación de los municipios de acuerdo con el periodo en el que se realizaron las acciones del programa de modernizac...</td>\n",
       "    </tr>\n",
       "    <tr>\n",
       "      <th>estructu</th>\n",
       "      <td>Clasificación de los municipios y las delegaciones del Distrito Federal de acuerdo con la existencia del programa de mode...</td>\n",
       "    </tr>\n",
       "  </tbody>\n",
       "</table>\n",
       "</div>"
      ],
      "text/plain": [
       "                                                                                                                                         Descripción\n",
       "Nombre de la \\ncolumna                                                                                                                              \n",
       "ubic_geo                                                                     Clasificación de las entidades federativas y de éstas a sus municipios.\n",
       "prog_mod                                    Clasificación de los municipios de acuerdo con el programa de modernización catastral con el que cuenta.\n",
       "inst_enc                Clasificación de los municipios de acuerdo con la institución encargada de coordinar y/o ejecutar el programa de moderniz...\n",
       "tip_inst                Clasificación de los municipios de acuerdo con las administraciones públicas municipales por entidad federativa según ins...\n",
       "acc_modr                Clasificación de los municipios de acuerdo con las acciones del programa de modernización catastral que se han realizado ...\n",
       "perio_ac                Clasificación de los municipios de acuerdo con el periodo en el que se realizaron las acciones del programa de modernizac...\n",
       "estructu                Clasificación de los municipios y las delegaciones del Distrito Federal de acuerdo con la existencia del programa de mode..."
      ]
     },
     "execution_count": 1272,
     "metadata": {},
     "output_type": "execute_result"
    }
   ],
   "source": [
    "# Para P0306, solo existe una tabla de descripciones por lo que se convierte a un dataframe unico para poder indexar\n",
    "p0306dic = p0306dic['diccionario_de_datos_programa_modernizacion_catastral_cngmd2015_dbf']\n",
    "p0306dic"
   ]
  },
  {
   "cell_type": "code",
   "execution_count": 1273,
   "metadata": {
    "scrolled": false
   },
   "outputs": [
    {
     "data": {
      "text/plain": [
       "['ubic_geo',\n",
       " 'prog_mod',\n",
       " 'inst_enc',\n",
       " 'tip_inst',\n",
       " 'acc_modr',\n",
       " 'perio_ac',\n",
       " 'estructu']"
      ]
     },
     "execution_count": 1273,
     "metadata": {},
     "output_type": "execute_result"
    }
   ],
   "source": [
    "list(p0306dic.index)"
   ]
  },
  {
   "cell_type": "code",
   "execution_count": 1324,
   "metadata": {},
   "outputs": [
    {
     "name": "stdout",
     "output_type": "stream",
     "text": [
      "\"acc_modr\" :\n",
      "CLASIFICACIÓN DE LOS MUNICIPIOS DE ACUERDO CON LAS ACCIONES DEL PROGRAMA DE MODERNIZACIÓN CATASTRAL QUE SE HAN REALIZADO EN ELLOS.\n",
      "                                                                                               desc_acc\n",
      "acc_modr                                                                                               \n",
      "1                                                                        Actualizar el padrón catastral\n",
      "2                                                         Generar o actualizar la cartografía catastral\n",
      "3                                                              Adquirir un sistema de gestión catastral\n",
      "4         Adquirir equipamiento e infraestructura (computadoras, servidores, vehículos, comunicaciones)\n",
      "5                                                                           Adecuar los espacio físicos\n",
      "6                                                                      Mejorar los procesos catastrales\n",
      "7                                                                                                  Otro\n",
      "99                                                                                           No se sabe\n"
     ]
    }
   ],
   "source": [
    "queryvar('acc_modr')"
   ]
  },
  {
   "cell_type": "code",
   "execution_count": 1274,
   "metadata": {
    "scrolled": true
   },
   "outputs": [
    {
     "name": "stdout",
     "output_type": "stream",
     "text": [
      "** DESCRIPCIONES DE VARIABLES **\n",
      "\n",
      "\"ubic_geo\" :\n",
      "CLASIFICACIÓN DE LAS ENTIDADES FEDERATIVAS Y DE ÉSTAS A SUS MUNICIPIOS.\n",
      "----------------------------------------\n",
      "Imprimiendo 10 de 2542 registros\n",
      "          ent    desc_ent  mpio                       des_mpio\n",
      "ubic_geo                                                      \n",
      "11034      11  Guanajuato    34                 Santa Catarina\n",
      "11035      11  Guanajuato    35  Santa Cruz de Juventino Rosas\n",
      "11036      11  Guanajuato    36             Santiago Maravatío\n",
      "11037      11  Guanajuato    37           Silao de la Victoria\n",
      "11038      11  Guanajuato    38                    Tarandacuao\n",
      "11039      11  Guanajuato    39                       Tarimoro\n",
      "11040      11  Guanajuato    40                  Tierra Blanca\n",
      "11041      11  Guanajuato    41                      Uriangato\n",
      "11042      11  Guanajuato    42              Valle de Santiago\n",
      "11043      11  Guanajuato    43                       Victoria\n",
      "\n",
      "\n",
      "\"prog_mod\" :\n",
      "CLASIFICACIÓN DE LOS MUNICIPIOS DE ACUERDO CON EL PROGRAMA DE MODERNIZACIÓN CATASTRAL CON EL QUE CUENTA.\n",
      "            desc_pro\n",
      "prog_mod            \n",
      "1                 Si\n",
      "2                 No\n",
      "99        No se sabe\n",
      "\n",
      "\n",
      "\"inst_enc\" :\n",
      "CLASIFICACIÓN DE LOS MUNICIPIOS DE ACUERDO CON LA INSTITUCIÓN ENCARGADA DE COORDINAR Y/O EJECUTAR EL PROGRAMA DE MODERNIZACIÓN CATASTRAL, ASÍ COMO DE LA QUE SE RECIBEN APOYOS.\n",
      "                                                                                        desc_ins\n",
      "inst_enc                                                                                        \n",
      "1         Institución encargada de coordinar y/o ejecutar el programa de modernización catastral\n",
      "2                                                        institución de la que se reciben apoyos\n",
      "\n",
      "\n",
      "\"tip_inst\" :\n",
      "CLASIFICACIÓN DE LOS MUNICIPIOS DE ACUERDO CON LAS ADMINISTRACIONES PÚBLICAS MUNICIPALES POR ENTIDAD FEDERATIVA SEGÚN INSTITUCIÓN QUE COORDINA EL PROGRAMA DE MODERNIZACIÓN CATASTRAL Y/O RECIBEN EL APOYO.\n",
      "                                                                  descrip\n",
      "tip_inst                                                                 \n",
      "1                         Administración pública de la entidad federativa\n",
      "2                 Banco Nacional de Obras y Servicios Públicos (BANOBRAS)\n",
      "3         Secretaría de Desarrollo Agrario, Territorial y Urbano (SEDATU)\n",
      "4                                                                    Otra\n",
      "\n",
      "\n",
      "\"acc_modr\" :\n",
      "CLASIFICACIÓN DE LOS MUNICIPIOS DE ACUERDO CON LAS ACCIONES DEL PROGRAMA DE MODERNIZACIÓN CATASTRAL QUE SE HAN REALIZADO EN ELLOS.\n",
      "                                                                                               desc_acc\n",
      "acc_modr                                                                                               \n",
      "1                                                                        Actualizar el padrón catastral\n",
      "2                                                         Generar o actualizar la cartografía catastral\n",
      "3                                                              Adquirir un sistema de gestión catastral\n",
      "4         Adquirir equipamiento e infraestructura (computadoras, servidores, vehículos, comunicaciones)\n",
      "5                                                                           Adecuar los espacio físicos\n",
      "6                                                                      Mejorar los procesos catastrales\n",
      "7                                                                                                  Otro\n",
      "99                                                                                           No se sabe\n",
      "\n",
      "\n",
      "\"perio_ac\" :\n",
      "CLASIFICACIÓN DE LOS MUNICIPIOS DE ACUERDO CON EL PERIODO EN EL QUE SE REALIZARON LAS ACCIONES DEL PROGRAMA DE MODERNIZACIÓN CATASTRAL.\n",
      "                                                    descrip\n",
      "perio_ac                                                   \n",
      "1                         En el transcurso del presente año\n",
      "2                                       Durante el año 2014\n",
      "3                                       Durante el año 2013\n",
      "4                                        Antes del año 2013\n",
      "5         No se han realizado acciones para atender el tema\n",
      "99                                               No se sabe\n",
      "\n",
      "\n",
      "\"estructu\" :\n",
      "CLASIFICACIÓN DE LOS MUNICIPIOS Y LAS DELEGACIONES DEL DISTRITO FEDERAL DE ACUERDO CON LA EXISTENCIA DEL PROGRAMA DE MODERNIZACIÓN CATASTRAL, ADEMÁS DE LA INSTITUCIÓN QUE COORDINA Y/O APOYA EL PROGRAMA DE MODERNIZACIÓN CATASTRAL, ASÍ COMO LAS ACCIONES DEL PROGRAMA DE MODERNIZACIÓN CATASTRAL REALIZADAS Y DEL PERIODO EN QUE SE REALIZARON.\n",
      "                                                                                    descrip\n",
      "estructu                                                                                   \n",
      "240500                       El municipio cuenta con un programa de modernización catastral\n",
      "240501            Institución que coordina y/o apoya el programa de modernización catastral\n",
      "240502                          Acciones del programa de modernización catastral realizadas\n",
      "240503    Periodo en que se realizaron las acciones del programa de modernización catastral\n",
      "\n",
      "\n"
     ]
    }
   ],
   "source": [
    "print('** Descripciones de variables **\\n'.upper())\n",
    "for i in p0306dic.index:\n",
    "    queryvar(i)\n",
    "    print('\\n')"
   ]
  },
  {
   "cell_type": "code",
   "execution_count": 1275,
   "metadata": {
    "collapsed": true
   },
   "outputs": [],
   "source": [
    "# Carga de datos\n",
    "P0306f = tablas['P0306']+'\\\\'+os.listdir(tablas['P0306'])[0]\n",
    "df = pd.read_csv(P0306f, dtype={'ubic_geo':'str'})\n",
    "df = df.rename(columns = {'ubic_geo':'CVE_MUN'})\n",
    "df.set_index('CVE_MUN', inplace = True)\n",
    "P0306 = df.where((pd.notnull(df)), None)"
   ]
  },
  {
   "cell_type": "markdown",
   "metadata": {},
   "source": [
    "El archivo está estructurado de manera inconveniente, teniendo un renglón para cada variable. Lo conveniente es que cada renglón contenga toda la información de un solo municipio."
   ]
  },
  {
   "cell_type": "code",
   "execution_count": 1276,
   "metadata": {},
   "outputs": [
    {
     "data": {
      "text/html": [
       "<div>\n",
       "<style>\n",
       "    .dataframe thead tr:only-child th {\n",
       "        text-align: right;\n",
       "    }\n",
       "\n",
       "    .dataframe thead th {\n",
       "        text-align: left;\n",
       "    }\n",
       "\n",
       "    .dataframe tbody tr th {\n",
       "        vertical-align: top;\n",
       "    }\n",
       "</style>\n",
       "<table border=\"1\" class=\"dataframe\">\n",
       "  <thead>\n",
       "    <tr style=\"text-align: right;\">\n",
       "      <th></th>\n",
       "      <th>prog_mod</th>\n",
       "      <th>inst_enc</th>\n",
       "      <th>tip_inst</th>\n",
       "      <th>acc_modr</th>\n",
       "      <th>perio_ac</th>\n",
       "      <th>estructu</th>\n",
       "    </tr>\n",
       "    <tr>\n",
       "      <th>CVE_MUN</th>\n",
       "      <th></th>\n",
       "      <th></th>\n",
       "      <th></th>\n",
       "      <th></th>\n",
       "      <th></th>\n",
       "      <th></th>\n",
       "    </tr>\n",
       "  </thead>\n",
       "  <tbody>\n",
       "    <tr>\n",
       "      <th>15045</th>\n",
       "      <td>1</td>\n",
       "      <td>None</td>\n",
       "      <td>None</td>\n",
       "      <td>None</td>\n",
       "      <td>None</td>\n",
       "      <td>240500</td>\n",
       "    </tr>\n",
       "    <tr>\n",
       "      <th>15045</th>\n",
       "      <td>None</td>\n",
       "      <td>1</td>\n",
       "      <td>1</td>\n",
       "      <td>None</td>\n",
       "      <td>None</td>\n",
       "      <td>240501</td>\n",
       "    </tr>\n",
       "    <tr>\n",
       "      <th>15045</th>\n",
       "      <td>None</td>\n",
       "      <td>1</td>\n",
       "      <td>2</td>\n",
       "      <td>None</td>\n",
       "      <td>None</td>\n",
       "      <td>240501</td>\n",
       "    </tr>\n",
       "    <tr>\n",
       "      <th>15045</th>\n",
       "      <td>None</td>\n",
       "      <td>2</td>\n",
       "      <td>2</td>\n",
       "      <td>None</td>\n",
       "      <td>None</td>\n",
       "      <td>240501</td>\n",
       "    </tr>\n",
       "    <tr>\n",
       "      <th>15045</th>\n",
       "      <td>None</td>\n",
       "      <td>None</td>\n",
       "      <td>None</td>\n",
       "      <td>None</td>\n",
       "      <td>2</td>\n",
       "      <td>240503</td>\n",
       "    </tr>\n",
       "    <tr>\n",
       "      <th>15045</th>\n",
       "      <td>None</td>\n",
       "      <td>None</td>\n",
       "      <td>None</td>\n",
       "      <td>1</td>\n",
       "      <td>None</td>\n",
       "      <td>240502</td>\n",
       "    </tr>\n",
       "    <tr>\n",
       "      <th>15045</th>\n",
       "      <td>None</td>\n",
       "      <td>None</td>\n",
       "      <td>None</td>\n",
       "      <td>2</td>\n",
       "      <td>None</td>\n",
       "      <td>240502</td>\n",
       "    </tr>\n",
       "    <tr>\n",
       "      <th>15045</th>\n",
       "      <td>None</td>\n",
       "      <td>None</td>\n",
       "      <td>None</td>\n",
       "      <td>4</td>\n",
       "      <td>None</td>\n",
       "      <td>240502</td>\n",
       "    </tr>\n",
       "    <tr>\n",
       "      <th>15045</th>\n",
       "      <td>None</td>\n",
       "      <td>None</td>\n",
       "      <td>None</td>\n",
       "      <td>5</td>\n",
       "      <td>None</td>\n",
       "      <td>240502</td>\n",
       "    </tr>\n",
       "    <tr>\n",
       "      <th>15045</th>\n",
       "      <td>None</td>\n",
       "      <td>None</td>\n",
       "      <td>None</td>\n",
       "      <td>6</td>\n",
       "      <td>None</td>\n",
       "      <td>240502</td>\n",
       "    </tr>\n",
       "  </tbody>\n",
       "</table>\n",
       "</div>"
      ],
      "text/plain": [
       "        prog_mod inst_enc tip_inst acc_modr perio_ac  estructu\n",
       "CVE_MUN                                                       \n",
       "15045          1     None     None     None     None    240500\n",
       "15045       None        1        1     None     None    240501\n",
       "15045       None        1        2     None     None    240501\n",
       "15045       None        2        2     None     None    240501\n",
       "15045       None     None     None     None        2    240503\n",
       "15045       None     None     None        1     None    240502\n",
       "15045       None     None     None        2     None    240502\n",
       "15045       None     None     None        4     None    240502\n",
       "15045       None     None     None        5     None    240502\n",
       "15045       None     None     None        6     None    240502"
      ]
     },
     "execution_count": 1276,
     "metadata": {},
     "output_type": "execute_result"
    }
   ],
   "source": [
    "# subset para pruebas\n",
    "test = P0306.loc['15045']\n",
    "test"
   ]
  },
  {
   "cell_type": "markdown",
   "metadata": {},
   "source": [
    "Para corregirlo, primero hacemos dataframes separados para cada variable. Afortunadamente, la columna 'Estructu' sirve para agrupar estructuralmente el dataframe"
   ]
  },
  {
   "cell_type": "code",
   "execution_count": 1277,
   "metadata": {
    "scrolled": true
   },
   "outputs": [
    {
     "name": "stdout",
     "output_type": "stream",
     "text": [
      "\"estructu\" :\n",
      "CLASIFICACIÓN DE LOS MUNICIPIOS Y LAS DELEGACIONES DEL DISTRITO FEDERAL DE ACUERDO CON LA EXISTENCIA DEL PROGRAMA DE MODERNIZACIÓN CATASTRAL, ADEMÁS DE LA INSTITUCIÓN QUE COORDINA Y/O APOYA EL PROGRAMA DE MODERNIZACIÓN CATASTRAL, ASÍ COMO LAS ACCIONES DEL PROGRAMA DE MODERNIZACIÓN CATASTRAL REALIZADAS Y DEL PERIODO EN QUE SE REALIZARON.\n",
      "                                                                                    descrip\n",
      "estructu                                                                                   \n",
      "240500                       El municipio cuenta con un programa de modernización catastral\n",
      "240501            Institución que coordina y/o apoya el programa de modernización catastral\n",
      "240502                          Acciones del programa de modernización catastral realizadas\n",
      "240503    Periodo en que se realizaron las acciones del programa de modernización catastral\n"
     ]
    }
   ],
   "source": [
    "queryvar('estructu')"
   ]
  },
  {
   "cell_type": "code",
   "execution_count": 1278,
   "metadata": {},
   "outputs": [
    {
     "name": "stdout",
     "output_type": "stream",
     "text": [
      "CVE_MUN\n",
      "15045     1\n",
      "15046     2\n",
      "15047     2\n",
      "15048     1\n",
      "15049     2\n",
      "15050     1\n",
      "15051     1\n",
      "15052     1\n",
      "15053     1\n",
      "15054    99\n",
      "Name: prog_mod, dtype: int32\n",
      "--------------------------------------------------\n",
      "\"prog_mod\" :\n",
      "CLASIFICACIÓN DE LOS MUNICIPIOS DE ACUERDO CON EL PROGRAMA DE MODERNIZACIÓN CATASTRAL CON EL QUE CUENTA.\n",
      "            desc_pro\n",
      "prog_mod            \n",
      "1                 Si\n",
      "2                 No\n",
      "99        No se sabe\n"
     ]
    }
   ],
   "source": [
    "# ¿El municipio cuenta con un programa de modernización catastral?\n",
    "P0306_00 = P0306[P0306['estructu'] == 240500]['prog_mod'].astype('int')\n",
    "print(P0306_00.head(10))\n",
    "print('-'*50)\n",
    "queryvar('prog_mod')"
   ]
  },
  {
   "cell_type": "code",
   "execution_count": 1279,
   "metadata": {
    "scrolled": false
   },
   "outputs": [
    {
     "name": "stdout",
     "output_type": "stream",
     "text": [
      "CVE_MUN\n",
      "01006     1\n",
      "02001     3\n",
      "02002     4\n",
      "02003     1\n",
      "02004     1\n",
      "02005     1\n",
      "03002     2\n",
      "03003    99\n",
      "03008     1\n",
      "03009     5\n",
      "Name: perio_ac, dtype: int32\n",
      "--------------------------------------------------\n",
      "\"perio_ac\" :\n",
      "CLASIFICACIÓN DE LOS MUNICIPIOS DE ACUERDO CON EL PERIODO EN EL QUE SE REALIZARON LAS ACCIONES DEL PROGRAMA DE MODERNIZACIÓN CATASTRAL.\n",
      "                                                    descrip\n",
      "perio_ac                                                   \n",
      "1                         En el transcurso del presente año\n",
      "2                                       Durante el año 2014\n",
      "3                                       Durante el año 2013\n",
      "4                                        Antes del año 2013\n",
      "5         No se han realizado acciones para atender el tema\n",
      "99                                               No se sabe\n"
     ]
    }
   ],
   "source": [
    "# ¿En que periodo se realizaron las acciones del programa de modernización catastral?\n",
    "P0306_03 = P0306[P0306['estructu'] == 240503]['perio_ac'].astype('int')\n",
    "print(P0306_03.head(10))\n",
    "print('-'*50)\n",
    "queryvar('perio_ac')"
   ]
  },
  {
   "cell_type": "code",
   "execution_count": 1281,
   "metadata": {
    "scrolled": false
   },
   "outputs": [
    {
     "name": "stdout",
     "output_type": "stream",
     "text": [
      "CVE_MUN\n",
      "01006                   [1, 5]\n",
      "02001                [2, 3, 4]\n",
      "02002       [1, 2, 3, 4, 5, 6]\n",
      "02003             [1, 2, 3, 4]\n",
      "02004    [1, 2, 3, 4, 5, 6, 7]\n",
      "02005          [1, 2, 3, 4, 6]\n",
      "03002       [1, 2, 3, 4, 5, 6]\n",
      "03003                     [99]\n",
      "03008       [1, 2, 3, 4, 5, 6]\n",
      "03009                      [7]\n",
      "Name: acc_modr, dtype: object\n",
      "\"acc_modr\" :\n",
      "CLASIFICACIÓN DE LOS MUNICIPIOS DE ACUERDO CON LAS ACCIONES DEL PROGRAMA DE MODERNIZACIÓN CATASTRAL QUE SE HAN REALIZADO EN ELLOS.\n",
      "                                                                                               desc_acc\n",
      "acc_modr                                                                                               \n",
      "1                                                                        Actualizar el padrón catastral\n",
      "2                                                         Generar o actualizar la cartografía catastral\n",
      "3                                                              Adquirir un sistema de gestión catastral\n",
      "4         Adquirir equipamiento e infraestructura (computadoras, servidores, vehículos, comunicaciones)\n",
      "5                                                                           Adecuar los espacio físicos\n",
      "6                                                                      Mejorar los procesos catastrales\n",
      "7                                                                                                  Otro\n",
      "99                                                                                           No se sabe\n"
     ]
    }
   ],
   "source": [
    "# ¿Qué acciones se realizaron?\n",
    "P0306_02 = P0306[P0306['estructu'] == 240502]['acc_modr'].astype('int').groupby('CVE_MUN').apply(list)\n",
    "print(P0306_02.head(10))\n",
    "queryvar('acc_modr')"
   ]
  },
  {
   "cell_type": "code",
   "execution_count": 1282,
   "metadata": {},
   "outputs": [
    {
     "data": {
      "text/plain": [
       "CVE_MUN\n",
       "01006    2\n",
       "02001    3\n",
       "02002    6\n",
       "02003    4\n",
       "02004    7\n",
       "02005    5\n",
       "03002    6\n",
       "03003    1\n",
       "03008    6\n",
       "03009    1\n",
       "Name: n_acc_modr, dtype: int64"
      ]
     },
     "execution_count": 1282,
     "metadata": {},
     "output_type": "execute_result"
    }
   ],
   "source": [
    "# ¿Cuantas acciones se realizaron?\n",
    "P0306_02b = P0306_02.apply(len).rename('n_acc_modr')\n",
    "P0306_02b.head(10)"
   ]
  },
  {
   "cell_type": "code",
   "execution_count": 1283,
   "metadata": {
    "scrolled": true
   },
   "outputs": [
    {
     "name": "stdout",
     "output_type": "stream",
     "text": [
      "\"inst_enc\" :\n",
      "CLASIFICACIÓN DE LOS MUNICIPIOS DE ACUERDO CON LA INSTITUCIÓN ENCARGADA DE COORDINAR Y/O EJECUTAR EL PROGRAMA DE MODERNIZACIÓN CATASTRAL, ASÍ COMO DE LA QUE SE RECIBEN APOYOS.\n",
      "                                                                                        desc_ins\n",
      "inst_enc                                                                                        \n",
      "1         Institución encargada de coordinar y/o ejecutar el programa de modernización catastral\n",
      "2                                                        institución de la que se reciben apoyos\n"
     ]
    }
   ],
   "source": [
    "queryvar('inst_enc')"
   ]
  },
  {
   "cell_type": "code",
   "execution_count": 1284,
   "metadata": {
    "scrolled": true
   },
   "outputs": [
    {
     "data": {
      "text/html": [
       "<div>\n",
       "<style>\n",
       "    .dataframe thead tr:only-child th {\n",
       "        text-align: right;\n",
       "    }\n",
       "\n",
       "    .dataframe thead th {\n",
       "        text-align: left;\n",
       "    }\n",
       "\n",
       "    .dataframe tbody tr th {\n",
       "        vertical-align: top;\n",
       "    }\n",
       "</style>\n",
       "<table border=\"1\" class=\"dataframe\">\n",
       "  <thead>\n",
       "    <tr style=\"text-align: right;\">\n",
       "      <th></th>\n",
       "      <th>inst_enc</th>\n",
       "      <th>tip_inst</th>\n",
       "    </tr>\n",
       "    <tr>\n",
       "      <th>CVE_MUN</th>\n",
       "      <th></th>\n",
       "      <th></th>\n",
       "    </tr>\n",
       "  </thead>\n",
       "  <tbody>\n",
       "    <tr>\n",
       "      <th>01006</th>\n",
       "      <td>1</td>\n",
       "      <td>4</td>\n",
       "    </tr>\n",
       "    <tr>\n",
       "      <th>01006</th>\n",
       "      <td>2</td>\n",
       "      <td>4</td>\n",
       "    </tr>\n",
       "    <tr>\n",
       "      <th>02001</th>\n",
       "      <td>1</td>\n",
       "      <td>3</td>\n",
       "    </tr>\n",
       "    <tr>\n",
       "      <th>02001</th>\n",
       "      <td>2</td>\n",
       "      <td>3</td>\n",
       "    </tr>\n",
       "    <tr>\n",
       "      <th>02002</th>\n",
       "      <td>1</td>\n",
       "      <td>3</td>\n",
       "    </tr>\n",
       "  </tbody>\n",
       "</table>\n",
       "</div>"
      ],
      "text/plain": [
       "        inst_enc tip_inst\n",
       "CVE_MUN                  \n",
       "01006          1        4\n",
       "01006          2        4\n",
       "02001          1        3\n",
       "02001          2        3\n",
       "02002          1        3"
      ]
     },
     "execution_count": 1284,
     "metadata": {},
     "output_type": "execute_result"
    }
   ],
   "source": [
    "# ¿Que instituciones se han involucrado en la modernizacion catastral, y de qué manera?\n",
    "P0306_01t = P0306[P0306['estructu'] == 240501][['inst_enc', 'tip_inst']]    # tipo de apoyo e institucion \n",
    "P0306_01t.head()"
   ]
  },
  {
   "cell_type": "markdown",
   "metadata": {},
   "source": [
    "Se reemplazarán numeros por descripciones en **tip_inst**:"
   ]
  },
  {
   "cell_type": "code",
   "execution_count": 1285,
   "metadata": {
    "scrolled": true
   },
   "outputs": [
    {
     "name": "stdout",
     "output_type": "stream",
     "text": [
      "\"tip_inst\" :\n",
      "CLASIFICACIÓN DE LOS MUNICIPIOS DE ACUERDO CON LAS ADMINISTRACIONES PÚBLICAS MUNICIPALES POR ENTIDAD FEDERATIVA SEGÚN INSTITUCIÓN QUE COORDINA EL PROGRAMA DE MODERNIZACIÓN CATASTRAL Y/O RECIBEN EL APOYO.\n",
      "                                                                  descrip\n",
      "tip_inst                                                                 \n",
      "1                         Administración pública de la entidad federativa\n",
      "2                 Banco Nacional de Obras y Servicios Públicos (BANOBRAS)\n",
      "3         Secretaría de Desarrollo Agrario, Territorial y Urbano (SEDATU)\n",
      "4                                                                    Otra\n"
     ]
    }
   ],
   "source": [
    "queryvar('tip_inst')"
   ]
  },
  {
   "cell_type": "code",
   "execution_count": 1286,
   "metadata": {
    "collapsed": true,
    "scrolled": true
   },
   "outputs": [],
   "source": [
    "# Institucion involucrada\n",
    "instit = {\n",
    "    1:'Administración pública de la entidad federativa',\n",
    "    2:'BANOBRAS',\n",
    "    3:'SEDATU',\n",
    "    4:'OTRA INSTITUCION'\n",
    "}"
   ]
  },
  {
   "cell_type": "code",
   "execution_count": 1287,
   "metadata": {},
   "outputs": [
    {
     "data": {
      "text/html": [
       "<div>\n",
       "<style>\n",
       "    .dataframe thead tr:only-child th {\n",
       "        text-align: right;\n",
       "    }\n",
       "\n",
       "    .dataframe thead th {\n",
       "        text-align: left;\n",
       "    }\n",
       "\n",
       "    .dataframe tbody tr th {\n",
       "        vertical-align: top;\n",
       "    }\n",
       "</style>\n",
       "<table border=\"1\" class=\"dataframe\">\n",
       "  <thead>\n",
       "    <tr style=\"text-align: right;\">\n",
       "      <th></th>\n",
       "      <th>inst_enc</th>\n",
       "      <th>tip_inst</th>\n",
       "    </tr>\n",
       "    <tr>\n",
       "      <th>CVE_MUN</th>\n",
       "      <th></th>\n",
       "      <th></th>\n",
       "    </tr>\n",
       "  </thead>\n",
       "  <tbody>\n",
       "    <tr>\n",
       "      <th>01006</th>\n",
       "      <td>1</td>\n",
       "      <td>OTRA INSTITUCION</td>\n",
       "    </tr>\n",
       "    <tr>\n",
       "      <th>01006</th>\n",
       "      <td>2</td>\n",
       "      <td>OTRA INSTITUCION</td>\n",
       "    </tr>\n",
       "    <tr>\n",
       "      <th>02001</th>\n",
       "      <td>1</td>\n",
       "      <td>SEDATU</td>\n",
       "    </tr>\n",
       "    <tr>\n",
       "      <th>02001</th>\n",
       "      <td>2</td>\n",
       "      <td>SEDATU</td>\n",
       "    </tr>\n",
       "    <tr>\n",
       "      <th>02002</th>\n",
       "      <td>1</td>\n",
       "      <td>SEDATU</td>\n",
       "    </tr>\n",
       "  </tbody>\n",
       "</table>\n",
       "</div>"
      ],
      "text/plain": [
       "        inst_enc          tip_inst\n",
       "CVE_MUN                           \n",
       "01006          1  OTRA INSTITUCION\n",
       "01006          2  OTRA INSTITUCION\n",
       "02001          1            SEDATU\n",
       "02001          2            SEDATU\n",
       "02002          1            SEDATU"
      ]
     },
     "execution_count": 1287,
     "metadata": {},
     "output_type": "execute_result"
    }
   ],
   "source": [
    "P0306_01t['tip_inst'] = P0306_01t['tip_inst'].replace(instit)\n",
    "P0306_01t.head()"
   ]
  },
  {
   "cell_type": "markdown",
   "metadata": {},
   "source": [
    "Y se separará la columna 'inst_enc' en 2:"
   ]
  },
  {
   "cell_type": "code",
   "execution_count": 1288,
   "metadata": {
    "scrolled": true
   },
   "outputs": [
    {
     "name": "stdout",
     "output_type": "stream",
     "text": [
      "\"inst_enc\" :\n",
      "CLASIFICACIÓN DE LOS MUNICIPIOS DE ACUERDO CON LA INSTITUCIÓN ENCARGADA DE COORDINAR Y/O EJECUTAR EL PROGRAMA DE MODERNIZACIÓN CATASTRAL, ASÍ COMO DE LA QUE SE RECIBEN APOYOS.\n",
      "                                                                                        desc_ins\n",
      "inst_enc                                                                                        \n",
      "1         Institución encargada de coordinar y/o ejecutar el programa de modernización catastral\n",
      "2                                                        institución de la que se reciben apoyos\n"
     ]
    }
   ],
   "source": [
    "queryvar('inst_enc')"
   ]
  },
  {
   "cell_type": "code",
   "execution_count": 1290,
   "metadata": {
    "collapsed": true
   },
   "outputs": [],
   "source": [
    "P0306_01t1 = P0306_01t[P0306_01t['inst_enc'] == 1]['tip_inst'].groupby('CVE_MUN').apply(list).rename('i_coord_ejecuta')\n",
    "P0306_01t2 = P0306_01t[P0306_01t['inst_enc'] == 2]['tip_inst'].groupby('CVE_MUN').apply(list).rename('i_otorga_apoyos')"
   ]
  },
  {
   "cell_type": "code",
   "execution_count": 1291,
   "metadata": {
    "scrolled": false
   },
   "outputs": [
    {
     "data": {
      "text/plain": [
       "CVE_MUN\n",
       "01006                                   [OTRA INSTITUCION]\n",
       "02001                                             [SEDATU]\n",
       "02002                                             [SEDATU]\n",
       "02003    [Administración pública de la entidad federativa]\n",
       "02004                                   [OTRA INSTITUCION]\n",
       "Name: i_coord_ejecuta, dtype: object"
      ]
     },
     "execution_count": 1291,
     "metadata": {},
     "output_type": "execute_result"
    }
   ],
   "source": [
    "P0306_01t1.head()"
   ]
  },
  {
   "cell_type": "code",
   "execution_count": 1292,
   "metadata": {},
   "outputs": [
    {
     "data": {
      "text/plain": [
       "CVE_MUN\n",
       "01006    [OTRA INSTITUCION]\n",
       "02001              [SEDATU]\n",
       "02002              [SEDATU]\n",
       "02003              [SEDATU]\n",
       "02004    [OTRA INSTITUCION]\n",
       "Name: i_otorga_apoyos, dtype: object"
      ]
     },
     "execution_count": 1292,
     "metadata": {},
     "output_type": "execute_result"
    }
   ],
   "source": [
    "P0306_01t2.head()"
   ]
  },
  {
   "cell_type": "markdown",
   "metadata": {},
   "source": [
    "Finalmente, se unirán todas las series en un solo dataframe"
   ]
  },
  {
   "cell_type": "code",
   "execution_count": 1293,
   "metadata": {
    "collapsed": true
   },
   "outputs": [],
   "source": [
    "# Convertir series en Dataframes\n",
    "P0306_00 = P0306_00.to_frame()\n",
    "P0306_03 = P0306_03.to_frame()\n",
    "P0306_02 = P0306_02.to_frame()\n",
    "P0306_02b = P0306_02b.to_frame()\n",
    "P0306_01t1 = P0306_01t1.to_frame()\n",
    "P0306_01t2 = P0306_01t2.to_frame()"
   ]
  },
  {
   "cell_type": "code",
   "execution_count": 1294,
   "metadata": {
    "collapsed": true
   },
   "outputs": [],
   "source": [
    "# Unir dataframes\n",
    "P0306 = P0306_00.join(P0306_03).join(P0306_02).join(P0306_02b).join(P0306_01t1).join(P0306_01t2)\n",
    "P0306 = P0306.where((pd.notnull(P0306)), None)"
   ]
  },
  {
   "cell_type": "code",
   "execution_count": 1295,
   "metadata": {
    "scrolled": true
   },
   "outputs": [
    {
     "data": {
      "text/html": [
       "<div>\n",
       "<style>\n",
       "    .dataframe thead tr:only-child th {\n",
       "        text-align: right;\n",
       "    }\n",
       "\n",
       "    .dataframe thead th {\n",
       "        text-align: left;\n",
       "    }\n",
       "\n",
       "    .dataframe tbody tr th {\n",
       "        vertical-align: top;\n",
       "    }\n",
       "</style>\n",
       "<table border=\"1\" class=\"dataframe\">\n",
       "  <thead>\n",
       "    <tr style=\"text-align: right;\">\n",
       "      <th></th>\n",
       "      <th>prog_mod</th>\n",
       "      <th>perio_ac</th>\n",
       "      <th>acc_modr</th>\n",
       "      <th>n_acc_modr</th>\n",
       "      <th>i_coord_ejecuta</th>\n",
       "      <th>i_otorga_apoyos</th>\n",
       "    </tr>\n",
       "    <tr>\n",
       "      <th>CVE_MUN</th>\n",
       "      <th></th>\n",
       "      <th></th>\n",
       "      <th></th>\n",
       "      <th></th>\n",
       "      <th></th>\n",
       "      <th></th>\n",
       "    </tr>\n",
       "  </thead>\n",
       "  <tbody>\n",
       "    <tr>\n",
       "      <th>15045</th>\n",
       "      <td>1</td>\n",
       "      <td>2</td>\n",
       "      <td>[1, 2, 4, 5, 6]</td>\n",
       "      <td>5</td>\n",
       "      <td>[Administración pública de la entidad federativa, BANOBRAS]</td>\n",
       "      <td>[BANOBRAS]</td>\n",
       "    </tr>\n",
       "    <tr>\n",
       "      <th>15046</th>\n",
       "      <td>2</td>\n",
       "      <td>None</td>\n",
       "      <td>None</td>\n",
       "      <td>None</td>\n",
       "      <td>None</td>\n",
       "      <td>None</td>\n",
       "    </tr>\n",
       "    <tr>\n",
       "      <th>15047</th>\n",
       "      <td>2</td>\n",
       "      <td>None</td>\n",
       "      <td>None</td>\n",
       "      <td>None</td>\n",
       "      <td>None</td>\n",
       "      <td>None</td>\n",
       "    </tr>\n",
       "    <tr>\n",
       "      <th>15048</th>\n",
       "      <td>1</td>\n",
       "      <td>2</td>\n",
       "      <td>[1, 2, 3, 4, 6]</td>\n",
       "      <td>5</td>\n",
       "      <td>[SEDATU]</td>\n",
       "      <td>[Administración pública de la entidad federativa]</td>\n",
       "    </tr>\n",
       "    <tr>\n",
       "      <th>15049</th>\n",
       "      <td>2</td>\n",
       "      <td>None</td>\n",
       "      <td>None</td>\n",
       "      <td>None</td>\n",
       "      <td>None</td>\n",
       "      <td>None</td>\n",
       "    </tr>\n",
       "  </tbody>\n",
       "</table>\n",
       "</div>"
      ],
      "text/plain": [
       "         prog_mod perio_ac         acc_modr n_acc_modr  \\\n",
       "CVE_MUN                                                  \n",
       "15045           1        2  [1, 2, 4, 5, 6]          5   \n",
       "15046           2     None             None       None   \n",
       "15047           2     None             None       None   \n",
       "15048           1        2  [1, 2, 3, 4, 6]          5   \n",
       "15049           2     None             None       None   \n",
       "\n",
       "                                                     i_coord_ejecuta  \\\n",
       "CVE_MUN                                                                \n",
       "15045    [Administración pública de la entidad federativa, BANOBRAS]   \n",
       "15046                                                           None   \n",
       "15047                                                           None   \n",
       "15048                                                       [SEDATU]   \n",
       "15049                                                           None   \n",
       "\n",
       "                                           i_otorga_apoyos  \n",
       "CVE_MUN                                                     \n",
       "15045                                           [BANOBRAS]  \n",
       "15046                                                 None  \n",
       "15047                                                 None  \n",
       "15048    [Administración pública de la entidad federativa]  \n",
       "15049                                                 None  "
      ]
     },
     "execution_count": 1295,
     "metadata": {},
     "output_type": "execute_result"
    }
   ],
   "source": [
    "P0306.head()"
   ]
  },
  {
   "cell_type": "markdown",
   "metadata": {},
   "source": [
    "__Metadatos para P0306__"
   ]
  },
  {
   "cell_type": "code",
   "execution_count": 1296,
   "metadata": {
    "scrolled": false
   },
   "outputs": [
    {
     "data": {
      "text/html": [
       "<div>\n",
       "<style>\n",
       "    .dataframe thead tr:only-child th {\n",
       "        text-align: right;\n",
       "    }\n",
       "\n",
       "    .dataframe thead th {\n",
       "        text-align: left;\n",
       "    }\n",
       "\n",
       "    .dataframe tbody tr th {\n",
       "        vertical-align: top;\n",
       "    }\n",
       "</style>\n",
       "<table border=\"1\" class=\"dataframe\">\n",
       "  <thead>\n",
       "    <tr style=\"text-align: right;\">\n",
       "      <th></th>\n",
       "      <th>Descripcion</th>\n",
       "    </tr>\n",
       "    <tr>\n",
       "      <th>Metadato</th>\n",
       "      <th></th>\n",
       "    </tr>\n",
       "  </thead>\n",
       "  <tbody>\n",
       "    <tr>\n",
       "      <th>Nombre del Dataset</th>\n",
       "      <td>Censo Nacional de Gobiernos Municipales y Delegacionales 2015</td>\n",
       "    </tr>\n",
       "    <tr>\n",
       "      <th>Descripcion del dataset</th>\n",
       "      <td>Censo Nacional de Gobiernos Municipales y Delegacionales 2015</td>\n",
       "    </tr>\n",
       "    <tr>\n",
       "      <th>Disponibilidad Temporal</th>\n",
       "      <td>2015</td>\n",
       "    </tr>\n",
       "    <tr>\n",
       "      <th>Periodo de actualizacion</th>\n",
       "      <td>Bienal</td>\n",
       "    </tr>\n",
       "    <tr>\n",
       "      <th>Nivel de Desagregacion</th>\n",
       "      <td>Municipal</td>\n",
       "    </tr>\n",
       "    <tr>\n",
       "      <th>Notas</th>\n",
       "      <td>s/n</td>\n",
       "    </tr>\n",
       "    <tr>\n",
       "      <th>Fuente</th>\n",
       "      <td>INEGI</td>\n",
       "    </tr>\n",
       "    <tr>\n",
       "      <th>URL_Fuente</th>\n",
       "      <td>http://www.beta.inegi.org.mx/contenidos/proyectos/censosgobierno/municipal/cngmd/2015/datosabiertos/</td>\n",
       "    </tr>\n",
       "    <tr>\n",
       "      <th>Dataset base</th>\n",
       "      <td>\"P0306.xlsx\" disponible en \\nhttps://github.com/INECC-PCCS/01_Dmine/tree/master/Datasets/CNGMD/2015</td>\n",
       "    </tr>\n",
       "  </tbody>\n",
       "</table>\n",
       "</div>"
      ],
      "text/plain": [
       "                                                                                                                   Descripcion\n",
       "Metadato                                                                                                                      \n",
       "Nombre del Dataset                                               Censo Nacional de Gobiernos Municipales y Delegacionales 2015\n",
       "Descripcion del dataset                                          Censo Nacional de Gobiernos Municipales y Delegacionales 2015\n",
       "Disponibilidad Temporal                                                                                                   2015\n",
       "Periodo de actualizacion                                                                                                Bienal\n",
       "Nivel de Desagregacion                                                                                               Municipal\n",
       "Notas                                                                                                                      s/n\n",
       "Fuente                                                                                                                   INEGI\n",
       "URL_Fuente                http://www.beta.inegi.org.mx/contenidos/proyectos/censosgobierno/municipal/cngmd/2015/datosabiertos/\n",
       "Dataset base               \"P0306.xlsx\" disponible en \\nhttps://github.com/INECC-PCCS/01_Dmine/tree/master/Datasets/CNGMD/2015"
      ]
     },
     "execution_count": 1296,
     "metadata": {},
     "output_type": "execute_result"
    }
   ],
   "source": [
    "P0306meta = {\n",
    "    'Nombre del Dataset' : 'Censo Nacional de Gobiernos Municipales y Delegacionales 2015',\n",
    "    'Descripcion del dataset' : 'Censo Nacional de Gobiernos Municipales y Delegacionales 2015',\n",
    "    'Disponibilidad Temporal' : '2015',\n",
    "    'Periodo de actualizacion' : 'Bienal',\n",
    "    'Nivel de Desagregacion' : 'Municipal',\n",
    "    'Notas' : 's/n',\n",
    "    'Fuente' : 'INEGI',\n",
    "    'URL_Fuente' : 'http://www.beta.inegi.org.mx/contenidos/proyectos/censosgobierno/municipal/cngmd/2015/datosabiertos/',\n",
    "    'Dataset base' : '\"P0306.xlsx\" disponible en \\nhttps://github.com/INECC-PCCS/01_Dmine/tree/master/Datasets/CNGMD/2015',\n",
    "}\n",
    "\n",
    "P0306meta = pd.DataFrame.from_dict(P0306meta, orient='index', dtype=None)\n",
    "P0306meta.columns = ['Descripcion']\n",
    "P0306meta = P0306meta.rename_axis('Metadato')\n",
    "P0306meta"
   ]
  },
  {
   "cell_type": "code",
   "execution_count": 1297,
   "metadata": {},
   "outputs": [
    {
     "data": {
      "text/plain": [
       "['Descripcion']"
      ]
     },
     "execution_count": 1297,
     "metadata": {},
     "output_type": "execute_result"
    }
   ],
   "source": [
    "list(P0306meta)"
   ]
  },
  {
   "cell_type": "code",
   "execution_count": 1298,
   "metadata": {
    "scrolled": false
   },
   "outputs": [
    {
     "data": {
      "text/html": [
       "<div>\n",
       "<style>\n",
       "    .dataframe thead tr:only-child th {\n",
       "        text-align: right;\n",
       "    }\n",
       "\n",
       "    .dataframe thead th {\n",
       "        text-align: left;\n",
       "    }\n",
       "\n",
       "    .dataframe tbody tr th {\n",
       "        vertical-align: top;\n",
       "    }\n",
       "</style>\n",
       "<table border=\"1\" class=\"dataframe\">\n",
       "  <thead>\n",
       "    <tr style=\"text-align: right;\">\n",
       "      <th></th>\n",
       "      <th>prog_mod</th>\n",
       "      <th>perio_ac</th>\n",
       "      <th>acc_modr</th>\n",
       "      <th>n_acc_modr</th>\n",
       "      <th>i_coord_ejecuta</th>\n",
       "      <th>i_otorga_apoyos</th>\n",
       "    </tr>\n",
       "    <tr>\n",
       "      <th>CVE_MUN</th>\n",
       "      <th></th>\n",
       "      <th></th>\n",
       "      <th></th>\n",
       "      <th></th>\n",
       "      <th></th>\n",
       "      <th></th>\n",
       "    </tr>\n",
       "  </thead>\n",
       "  <tbody>\n",
       "    <tr>\n",
       "      <th>15045</th>\n",
       "      <td>1</td>\n",
       "      <td>2</td>\n",
       "      <td>[1, 2, 4, 5, 6]</td>\n",
       "      <td>5</td>\n",
       "      <td>[Administración pública de la entidad federativa, BANOBRAS]</td>\n",
       "      <td>[BANOBRAS]</td>\n",
       "    </tr>\n",
       "    <tr>\n",
       "      <th>15046</th>\n",
       "      <td>2</td>\n",
       "      <td>None</td>\n",
       "      <td>None</td>\n",
       "      <td>None</td>\n",
       "      <td>None</td>\n",
       "      <td>None</td>\n",
       "    </tr>\n",
       "    <tr>\n",
       "      <th>15047</th>\n",
       "      <td>2</td>\n",
       "      <td>None</td>\n",
       "      <td>None</td>\n",
       "      <td>None</td>\n",
       "      <td>None</td>\n",
       "      <td>None</td>\n",
       "    </tr>\n",
       "    <tr>\n",
       "      <th>15048</th>\n",
       "      <td>1</td>\n",
       "      <td>2</td>\n",
       "      <td>[1, 2, 3, 4, 6]</td>\n",
       "      <td>5</td>\n",
       "      <td>[SEDATU]</td>\n",
       "      <td>[Administración pública de la entidad federativa]</td>\n",
       "    </tr>\n",
       "    <tr>\n",
       "      <th>15049</th>\n",
       "      <td>2</td>\n",
       "      <td>None</td>\n",
       "      <td>None</td>\n",
       "      <td>None</td>\n",
       "      <td>None</td>\n",
       "      <td>None</td>\n",
       "    </tr>\n",
       "  </tbody>\n",
       "</table>\n",
       "</div>"
      ],
      "text/plain": [
       "         prog_mod perio_ac         acc_modr n_acc_modr  \\\n",
       "CVE_MUN                                                  \n",
       "15045           1        2  [1, 2, 4, 5, 6]          5   \n",
       "15046           2     None             None       None   \n",
       "15047           2     None             None       None   \n",
       "15048           1        2  [1, 2, 3, 4, 6]          5   \n",
       "15049           2     None             None       None   \n",
       "\n",
       "                                                     i_coord_ejecuta  \\\n",
       "CVE_MUN                                                                \n",
       "15045    [Administración pública de la entidad federativa, BANOBRAS]   \n",
       "15046                                                           None   \n",
       "15047                                                           None   \n",
       "15048                                                       [SEDATU]   \n",
       "15049                                                           None   \n",
       "\n",
       "                                           i_otorga_apoyos  \n",
       "CVE_MUN                                                     \n",
       "15045                                           [BANOBRAS]  \n",
       "15046                                                 None  \n",
       "15047                                                 None  \n",
       "15048    [Administración pública de la entidad federativa]  \n",
       "15049                                                 None  "
      ]
     },
     "execution_count": 1298,
     "metadata": {},
     "output_type": "execute_result"
    }
   ],
   "source": [
    "P0306.head()"
   ]
  },
  {
   "cell_type": "markdown",
   "metadata": {},
   "source": [
    "EXPORTAR A EXCEL"
   ]
  },
  {
   "cell_type": "code",
   "execution_count": 1300,
   "metadata": {
    "collapsed": true
   },
   "outputs": [],
   "source": [
    "file = r'D:\\PCCS\\01_Dmine\\Datasets\\CNGMD\\P0306.xlsx'\n",
    "writer = pd.ExcelWriter(file)\n",
    "P0306.to_excel(writer, sheet_name = 'P0306')\n",
    "P0306meta.to_excel(writer, sheet_name ='METADATOS')\n",
    "writer.save()"
   ]
  },
  {
   "cell_type": "markdown",
   "metadata": {},
   "source": [
    "### P0307: Disposiciones normativas sustantivas en materia de desarrollo urbano u ordenamiento territorial"
   ]
  },
  {
   "cell_type": "markdown",
   "metadata": {},
   "source": [
    "Es necesario cambiar el encoding para leer los archivos de este parametro"
   ]
  },
  {
   "cell_type": "code",
   "execution_count": 1306,
   "metadata": {
    "collapsed": true
   },
   "outputs": [],
   "source": [
    "# Redefinición de la función para revisar metadatos, porque los datos de la carpeta 'catálogos' de P0307 \n",
    "# no coinciden con los titulos de las columnas en la carpeta 'Conjunto de datos'.\n",
    "\n",
    "def getmetab(csvpath, textcoding):\n",
    "    # Importa el csv\n",
    "    try: dicdf = pd.read_csv(csvpath, \n",
    "                    index_col=0, \n",
    "                    parse_dates=False\n",
    "                   )\n",
    "    except: dicdf = pd.read_csv(csvpath, \n",
    "                    index_col=0, \n",
    "                    parse_dates=False, \n",
    "                    encoding = textcoding,\n",
    "                   )\n",
    "    \n",
    "    # Renombra las columnas\n",
    "    dicdf.columns = list(dicdf.iloc[1])\n",
    "    \n",
    "    # Crea columna con el indice\n",
    "    dicdf['text_arc'] = dicdf.index\n",
    "\n",
    "    # Extrae el nombre del csv fuente en una columna independiente\n",
    "    def getarc(x):\n",
    "        try: return re.search('(?<=(o: ))([A-Z])\\w+', x).group()\n",
    "        except: return None\n",
    "    dicdf['arc'] = dicdf['text_arc'].apply(lambda x: getarc(x))\n",
    "\n",
    "    # Extrae la descripcion del archivo en una columna independiente\n",
    "    def getdescarc(x):\n",
    "        try: return re.search('\\(([^)]+)\\)', x).group(1)\n",
    "        except: return None\n",
    "    dicdf['desc_arc'] = dicdf['text_arc'].apply(lambda x: getdescarc(x))\n",
    "    \n",
    "    # Marca columnas que se van a eliminar (Las columnas de donde se sacaron las variables 'arc' y 'desc_arc')\n",
    "    dicdf['delete1'] = dicdf[list(dicdf.columns)[1:6]].notnull().sum(axis = 1)\n",
    "    \n",
    "    # Rellenar valores NaN\n",
    "    dicdf = dicdf.fillna(method='ffill')\n",
    "    \n",
    "    # Eliminar valores marcados previaente\n",
    "    dicdf = dicdf[dicdf.delete1 != 0]\n",
    "    \n",
    "    # Eliminar encabezados de columna repetidos\n",
    "    dicdf = dicdf[dicdf.Descripción != 'Descripción']\n",
    "    \n",
    "    # Asignar nuevo indice y eliminar columna 'arc'\n",
    "    dicdf = dicdf.set_index('arc')\n",
    "    \n",
    "    # Elimina columna delete1\n",
    "    del dicdf['delete1']\n",
    "    \n",
    "    # Renombra la columna de descripciones de codigos\n",
    "    dicdf.columns.values[5] = 'Descripcion codigos'\n",
    "    \n",
    "    # Dame el DataFrame\n",
    "    return dicdf"
   ]
  },
  {
   "cell_type": "code",
   "execution_count": 1307,
   "metadata": {
    "collapsed": true
   },
   "outputs": [],
   "source": [
    "# También es necesario redefinir la función para hacer consultas a los metadatos\n",
    "def queryvar(filename, var = '', tablelen=10, colprint = 125, dictio = metadatos):\n",
    "    pdefault = pd.get_option('display.max_colwidth')\n",
    "    pd.set_option('display.max_colwidth', colprint)   # Expande el espacio para imprimir columnas\n",
    "    frame = dictio.loc[filename]\n",
    "    print('Archivo \"{}.csv\" {}'.format(filename, '-'*30))   # Muestra el nombre del archivo\n",
    "    print(frame.iloc[0]['desc_arc'])                     # Muestra la descripcion del archivo\n",
    "    if var == '': pass\n",
    "    else:\n",
    "        print('\\n{}{}'.format(var.upper(), '-'*30))                  # Muestra el nombre de la variable\n",
    "        varframe = frame[frame['Nombre de la \\ncolumna'] == var.upper()]   # Haz un subset con los datos de la variable\n",
    "        varframe = varframe.set_index('Códigos válidos en la columna')\n",
    "        print(varframe['Descripción'][0])                    # Muestra la descripcion de la variable\n",
    "        print(varframe[['Descripcion codigos']])             # Imprime las descripciones de codigos"
   ]
  },
  {
   "cell_type": "code",
   "execution_count": 1308,
   "metadata": {
    "collapsed": true
   },
   "outputs": [],
   "source": [
    "csvpath = r'D:\\PCCS\\00_RawData\\01_CSV\\cngmd\\2015\\P0307\\marco_regulatorio_cngmd2015_dbf\\diccionario_de_datos\\diccionario_de_datos_marco_regulatorio_cngmd2015.csv'\n",
    "metadatos = getmetab(csvpath, 'mbcs')"
   ]
  },
  {
   "cell_type": "code",
   "execution_count": 1309,
   "metadata": {
    "collapsed": true
   },
   "outputs": [],
   "source": [
    "# Definición de rutas de archivos\n",
    "par = 'P0307'\n",
    "P0307files = {}\n",
    "for file in os.listdir(tablas[par]):\n",
    "    P0307files[file.replace('.csv', '')] = tablas[par]+'\\\\'+file"
   ]
  },
  {
   "cell_type": "markdown",
   "metadata": {},
   "source": [
    "El contenido de los archivos en la carpeta \"Conjunto de datos\" es el siguiente:"
   ]
  },
  {
   "cell_type": "code",
   "execution_count": 1310,
   "metadata": {
    "scrolled": true
   },
   "outputs": [
    {
     "name": "stdout",
     "output_type": "stream",
     "text": [
      "asoc_int\n",
      "Archivo \"ASOC_INT.csv\" ------------------------------\n",
      "Contiene variables que caracterizan a los municipios y las delegaciones del Distrito Federal de acuerdo con el tipo de servicio público y/o función objeto de la asociación intergubernamental, el tipo de instrumento regulatorio establecido para el cumplimiento de la prestación de los servicios públicos y el tipo de gobierno con el que se estableció dicha asociación, durante los años 2013 y 2014.\n",
      "\n",
      "\n",
      "aso_incf\n",
      "Archivo \"ASO_INCF.csv\" ------------------------------\n",
      "Contiene variables que caracterizan a los municipios y las delegaciones del Distrito Federal de acuerdo con la asociación intergubernamental en materia de cultura física y deporte, durante los años 2013 y 2014.\n",
      "\n",
      "\n",
      "aso_inma\n",
      "Archivo \"ASO_INMA.csv\" ------------------------------\n",
      "Contiene variables que caracterizan a los municipios y las delegaciones del Distrito Federal de acuerdo con la asociación intergubernamental en materia ambiental, durante los años 2013 y 2014.\n",
      "\n",
      "\n",
      "aso_inmc\n",
      "Archivo \"ASO_INMC.csv\" ------------------------------\n",
      "Contiene variables que caracterizan a los municipios y las delegaciones del Distrito Federal de acuerdo con la asociación intergubernamental en materia de catastro municipal, durante los años 2013 y 2014.\n",
      "\n",
      "\n",
      "m_regula\n",
      "Archivo \"M_REGULA.csv\" ------------------------------\n",
      "Contiene variables que caracterizan a los municipios y las delegaciones del Distrito Federal de acuerdo con la cantidad de disposiciones normativas internas por tema que deben ser observadas por las Administraciones Públicas Municipales o Delegacionales, al cierre del año 2014.\n",
      "\n",
      "\n"
     ]
    }
   ],
   "source": [
    "for file in P0307files.keys():\n",
    "    print(file)\n",
    "    queryvar(file.upper())\n",
    "    print('\\n')"
   ]
  },
  {
   "cell_type": "markdown",
   "metadata": {},
   "source": [
    "La información para el parámetro P0307 se encuentra en el archivo M_REGULA.csv"
   ]
  },
  {
   "cell_type": "code",
   "execution_count": 1311,
   "metadata": {
    "scrolled": true
   },
   "outputs": [
    {
     "name": "stdout",
     "output_type": "stream",
     "text": [
      "P0307 - Disposiciones normativas sustantivas en materia de desarrollo urbano u ordenamiento territorial\n",
      "\n",
      "Archivo \"M_REGULA.csv\" ------------------------------\n",
      "Contiene variables que caracterizan a los municipios y las delegaciones del Distrito Federal de acuerdo con la cantidad de disposiciones normativas internas por tema que deben ser observadas por las Administraciones Públicas Municipales o Delegacionales, al cierre del año 2014.\n"
     ]
    }
   ],
   "source": [
    "print('P0307 - {}\\n'.format(descripciones['P0307']))\n",
    "queryvar('m_regula'.upper())"
   ]
  },
  {
   "cell_type": "code",
   "execution_count": 1312,
   "metadata": {
    "scrolled": true
   },
   "outputs": [
    {
     "name": "stderr",
     "output_type": "stream",
     "text": [
      "C:\\Users\\carlos.arana\\AppData\\Local\\Continuum\\Anaconda3\\lib\\site-packages\\IPython\\core\\interactiveshell.py:2717: DtypeWarning: Columns (7,8,9) have mixed types. Specify dtype option on import or set low_memory=False.\n",
      "  interactivity=interactivity, compiler=compiler, result=result)\n"
     ]
    }
   ],
   "source": [
    "# Carga de datos\n",
    "P0307f = tablas['P0307']+'\\\\'+ os.listdir(tablas['P0307'])[4]\n",
    "df = pd.read_csv(P0307f, dtype={'ubic_geo':'str'})\n",
    "df = df.rename(columns = {'ubic_geo':'CVE_MUN'})\n",
    "df.set_index('CVE_MUN', inplace = True)\n",
    "P0307 = df.where((pd.notnull(df)), None)"
   ]
  },
  {
   "cell_type": "code",
   "execution_count": 1313,
   "metadata": {
    "scrolled": false
   },
   "outputs": [
    {
     "data": {
      "text/html": [
       "<div>\n",
       "<style>\n",
       "    .dataframe thead tr:only-child th {\n",
       "        text-align: right;\n",
       "    }\n",
       "\n",
       "    .dataframe thead th {\n",
       "        text-align: left;\n",
       "    }\n",
       "\n",
       "    .dataframe tbody tr th {\n",
       "        vertical-align: top;\n",
       "    }\n",
       "</style>\n",
       "<table border=\"1\" class=\"dataframe\">\n",
       "  <thead>\n",
       "    <tr style=\"text-align: right;\">\n",
       "      <th></th>\n",
       "      <th>dis_norm</th>\n",
       "      <th>exi_norm</th>\n",
       "      <th>tema_nis</th>\n",
       "      <th>instrum</th>\n",
       "      <th>tema_nia</th>\n",
       "      <th>estructu</th>\n",
       "      <th>nom_disn</th>\n",
       "      <th>fech_pub</th>\n",
       "      <th>fech_act</th>\n",
       "      <th>tt_dispo</th>\n",
       "      <th>est_ttdi</th>\n",
       "    </tr>\n",
       "    <tr>\n",
       "      <th>CVE_MUN</th>\n",
       "      <th></th>\n",
       "      <th></th>\n",
       "      <th></th>\n",
       "      <th></th>\n",
       "      <th></th>\n",
       "      <th></th>\n",
       "      <th></th>\n",
       "      <th></th>\n",
       "      <th></th>\n",
       "      <th></th>\n",
       "      <th></th>\n",
       "    </tr>\n",
       "  </thead>\n",
       "  <tbody>\n",
       "    <tr>\n",
       "      <th>08044</th>\n",
       "      <td>10</td>\n",
       "      <td>0</td>\n",
       "      <td>None</td>\n",
       "      <td>None</td>\n",
       "      <td>None</td>\n",
       "      <td>290100</td>\n",
       "      <td>None</td>\n",
       "      <td>16/12/2009</td>\n",
       "      <td>16/12/2009</td>\n",
       "      <td>None</td>\n",
       "      <td>None</td>\n",
       "    </tr>\n",
       "    <tr>\n",
       "      <th>08044</th>\n",
       "      <td>11</td>\n",
       "      <td>1</td>\n",
       "      <td>None</td>\n",
       "      <td>None</td>\n",
       "      <td>None</td>\n",
       "      <td>290100</td>\n",
       "      <td>None</td>\n",
       "      <td>NO APLICA</td>\n",
       "      <td>NO APLICA</td>\n",
       "      <td>None</td>\n",
       "      <td>None</td>\n",
       "    </tr>\n",
       "    <tr>\n",
       "      <th>08044</th>\n",
       "      <td>12</td>\n",
       "      <td>1</td>\n",
       "      <td>None</td>\n",
       "      <td>None</td>\n",
       "      <td>None</td>\n",
       "      <td>290100</td>\n",
       "      <td>None</td>\n",
       "      <td>NO APLICA</td>\n",
       "      <td>NO APLICA</td>\n",
       "      <td>None</td>\n",
       "      <td>None</td>\n",
       "    </tr>\n",
       "    <tr>\n",
       "      <th>08044</th>\n",
       "      <td>13</td>\n",
       "      <td>0</td>\n",
       "      <td>None</td>\n",
       "      <td>None</td>\n",
       "      <td>None</td>\n",
       "      <td>290100</td>\n",
       "      <td>None</td>\n",
       "      <td>20/09/2002</td>\n",
       "      <td>28/04/2010</td>\n",
       "      <td>None</td>\n",
       "      <td>None</td>\n",
       "    </tr>\n",
       "    <tr>\n",
       "      <th>08044</th>\n",
       "      <td>14</td>\n",
       "      <td>1</td>\n",
       "      <td>None</td>\n",
       "      <td>None</td>\n",
       "      <td>None</td>\n",
       "      <td>290100</td>\n",
       "      <td>None</td>\n",
       "      <td>NO APLICA</td>\n",
       "      <td>NO APLICA</td>\n",
       "      <td>None</td>\n",
       "      <td>None</td>\n",
       "    </tr>\n",
       "  </tbody>\n",
       "</table>\n",
       "</div>"
      ],
      "text/plain": [
       "        dis_norm exi_norm tema_nis instrum tema_nia  estructu nom_disn  \\\n",
       "CVE_MUN                                                                  \n",
       "08044         10        0     None    None     None    290100     None   \n",
       "08044         11        1     None    None     None    290100     None   \n",
       "08044         12        1     None    None     None    290100     None   \n",
       "08044         13        0     None    None     None    290100     None   \n",
       "08044         14        1     None    None     None    290100     None   \n",
       "\n",
       "           fech_pub    fech_act tt_dispo est_ttdi  \n",
       "CVE_MUN                                            \n",
       "08044    16/12/2009  16/12/2009     None     None  \n",
       "08044     NO APLICA   NO APLICA     None     None  \n",
       "08044     NO APLICA   NO APLICA     None     None  \n",
       "08044    20/09/2002  28/04/2010     None     None  \n",
       "08044     NO APLICA   NO APLICA     None     None  "
      ]
     },
     "execution_count": 1313,
     "metadata": {},
     "output_type": "execute_result"
    }
   ],
   "source": [
    "P0307.head()"
   ]
  },
  {
   "cell_type": "code",
   "execution_count": 1314,
   "metadata": {
    "scrolled": true
   },
   "outputs": [
    {
     "data": {
      "text/plain": [
       "Index(['dis_norm', 'exi_norm', 'tema_nis', 'instrum', 'tema_nia', 'estructu',\n",
       "       'nom_disn', 'fech_pub', 'fech_act', 'tt_dispo', 'est_ttdi'],\n",
       "      dtype='object')"
      ]
     },
     "execution_count": 1314,
     "metadata": {},
     "output_type": "execute_result"
    }
   ],
   "source": [
    "P0307.columns"
   ]
  },
  {
   "cell_type": "markdown",
   "metadata": {},
   "source": [
    "¿Dónde están los datos sobre desarrollo urbano y ordenamiento territorial?"
   ]
  },
  {
   "cell_type": "code",
   "execution_count": 1315,
   "metadata": {
    "scrolled": true
   },
   "outputs": [
    {
     "name": "stdout",
     "output_type": "stream",
     "text": [
      "Archivo \"M_REGULA.csv\" ------------------------------\n",
      "Contiene variables que caracterizan a los municipios y las delegaciones del Distrito Federal de acuerdo con la cantidad de disposiciones normativas internas por tema que deben ser observadas por las Administraciones Públicas Municipales o Delegacionales, al cierre del año 2014.\n",
      "\n",
      "TEMA_NIS------------------------------\n",
      "Clasificación de los municipios y las delegaciones del Distrito Federal de acuerdo a los temas manejados en las disposiciones normativas internas sustantivas vigentes en la  Administraciones Públicas Municipales o Delegacionales, al cierre del año 2014\n",
      "                                                                            Descripcion codigos\n",
      "Códigos válidos en la columna                                                                  \n",
      "1                                                          Actividades económicas o comerciales\n",
      "2                                               Administración Pública Municipal o Delegacional\n",
      "3                                                                               Adultos mayores\n",
      "4                                                                             Alumbrado público\n",
      "5                                                                          Apertura de empresas\n",
      "6                                                                             Archivo municipal\n",
      "7                                                              Bando de policía y buen gobierno\n",
      "8                                                                                      Bomberos\n",
      "9                                                                            Catastro municipal\n",
      "10                                                                                  Cementerios\n",
      "11                                                                      Combate a la corrupción\n",
      "12                                                               Desarrollo económico municipal\n",
      "13                                                      Desarrollo integral de la familia (DIF)\n",
      "14                                                            Desarrollo rural y/o agropecuario\n",
      "15                                                            Ecología y protección al ambiente\n",
      "16                                                Equidad de genero y/o derechos de las mujeres\n",
      "17                                                          Espectáculos y diversiones públicas\n",
      "18                                                                                  Estadística\n",
      "19                                                              Expendio de bebidas alcohólicas\n",
      "20                                                                    Expendio de carnes y aves\n",
      "21                                                           Fraccionamiento y municipalización\n",
      "22                                                                              Justicia cívica\n",
      "23                                   Limpia, recolección y/o manejo de residuos sólidos urbanos\n",
      "24                                                                                     Mercados\n",
      "25                                                                               Obras públicas\n",
      "26                                                                       Ordenamiento ecológico\n",
      "27                                                                      Participación ciudadana\n",
      "28                                                                    Personas con discapacidad\n",
      "29                             Planeación y/o evaluación y/o mejora de la gestión gubernamental\n",
      "30                                                                             Protección civil\n",
      "31                                                                            Pueblos indígenas\n",
      "32                                                                                       Rastro\n",
      "33                                                                             Recursos humanos\n",
      "34                                                          Recursos materiales y/o financieros\n",
      "35                                                                Reglamento de la construcción\n",
      "36                                                         Reglamento interior del Ayuntamiento\n",
      "37                                                                                Salud pública\n",
      "38                                                               Seguridad pública y/o Transito\n",
      "39                                                      Transparencia y acceso a la información\n",
      "40                                                                        Vialidad y transporte\n",
      "41                                                 Desarrollo urbano u ordenamiento territorial\n",
      "42                                                                                         Otra\n"
     ]
    }
   ],
   "source": [
    "queryvar('m_regula'.upper(), 'tema_nis')"
   ]
  },
  {
   "cell_type": "markdown",
   "metadata": {},
   "source": [
    "Los datos de DU y OT estan en la columna TEMA_NIS. El código 41 en esta column indica DU y OT"
   ]
  },
  {
   "cell_type": "code",
   "execution_count": 1317,
   "metadata": {
    "scrolled": true
   },
   "outputs": [
    {
     "data": {
      "text/html": [
       "<div>\n",
       "<style>\n",
       "    .dataframe thead tr:only-child th {\n",
       "        text-align: right;\n",
       "    }\n",
       "\n",
       "    .dataframe thead th {\n",
       "        text-align: left;\n",
       "    }\n",
       "\n",
       "    .dataframe tbody tr th {\n",
       "        vertical-align: top;\n",
       "    }\n",
       "</style>\n",
       "<table border=\"1\" class=\"dataframe\">\n",
       "  <thead>\n",
       "    <tr style=\"text-align: right;\">\n",
       "      <th></th>\n",
       "      <th>dis_norm</th>\n",
       "      <th>exi_norm</th>\n",
       "      <th>tema_nis</th>\n",
       "      <th>instrum</th>\n",
       "      <th>tema_nia</th>\n",
       "      <th>estructu</th>\n",
       "      <th>nom_disn</th>\n",
       "      <th>fech_pub</th>\n",
       "      <th>fech_act</th>\n",
       "      <th>tt_dispo</th>\n",
       "      <th>est_ttdi</th>\n",
       "    </tr>\n",
       "    <tr>\n",
       "      <th>CVE_MUN</th>\n",
       "      <th></th>\n",
       "      <th></th>\n",
       "      <th></th>\n",
       "      <th></th>\n",
       "      <th></th>\n",
       "      <th></th>\n",
       "      <th></th>\n",
       "      <th></th>\n",
       "      <th></th>\n",
       "      <th></th>\n",
       "      <th></th>\n",
       "    </tr>\n",
       "  </thead>\n",
       "  <tbody>\n",
       "    <tr>\n",
       "      <th>20207</th>\n",
       "      <td>None</td>\n",
       "      <td>None</td>\n",
       "      <td>41</td>\n",
       "      <td>0</td>\n",
       "      <td>None</td>\n",
       "      <td>290200</td>\n",
       "      <td>None</td>\n",
       "      <td>None</td>\n",
       "      <td>None</td>\n",
       "      <td>None</td>\n",
       "      <td>0</td>\n",
       "    </tr>\n",
       "    <tr>\n",
       "      <th>20285</th>\n",
       "      <td>None</td>\n",
       "      <td>None</td>\n",
       "      <td>41</td>\n",
       "      <td>0</td>\n",
       "      <td>None</td>\n",
       "      <td>290200</td>\n",
       "      <td>None</td>\n",
       "      <td>None</td>\n",
       "      <td>None</td>\n",
       "      <td>None</td>\n",
       "      <td>0</td>\n",
       "    </tr>\n",
       "    <tr>\n",
       "      <th>03001</th>\n",
       "      <td>None</td>\n",
       "      <td>None</td>\n",
       "      <td>41</td>\n",
       "      <td>0</td>\n",
       "      <td>None</td>\n",
       "      <td>290200</td>\n",
       "      <td>None</td>\n",
       "      <td>None</td>\n",
       "      <td>None</td>\n",
       "      <td>None</td>\n",
       "      <td>0</td>\n",
       "    </tr>\n",
       "    <tr>\n",
       "      <th>21102</th>\n",
       "      <td>None</td>\n",
       "      <td>None</td>\n",
       "      <td>41</td>\n",
       "      <td>0</td>\n",
       "      <td>None</td>\n",
       "      <td>290200</td>\n",
       "      <td>None</td>\n",
       "      <td>None</td>\n",
       "      <td>None</td>\n",
       "      <td>None</td>\n",
       "      <td>0</td>\n",
       "    </tr>\n",
       "    <tr>\n",
       "      <th>22006</th>\n",
       "      <td>None</td>\n",
       "      <td>None</td>\n",
       "      <td>41</td>\n",
       "      <td>0</td>\n",
       "      <td>None</td>\n",
       "      <td>290200</td>\n",
       "      <td>None</td>\n",
       "      <td>None</td>\n",
       "      <td>None</td>\n",
       "      <td>None</td>\n",
       "      <td>0</td>\n",
       "    </tr>\n",
       "  </tbody>\n",
       "</table>\n",
       "</div>"
      ],
      "text/plain": [
       "        dis_norm exi_norm tema_nis instrum tema_nia  estructu nom_disn  \\\n",
       "CVE_MUN                                                                  \n",
       "20207       None     None       41       0     None    290200     None   \n",
       "20285       None     None       41       0     None    290200     None   \n",
       "03001       None     None       41       0     None    290200     None   \n",
       "21102       None     None       41       0     None    290200     None   \n",
       "22006       None     None       41       0     None    290200     None   \n",
       "\n",
       "        fech_pub fech_act tt_dispo est_ttdi  \n",
       "CVE_MUN                                      \n",
       "20207       None     None     None        0  \n",
       "20285       None     None     None        0  \n",
       "03001       None     None     None        0  \n",
       "21102       None     None     None        0  \n",
       "22006       None     None     None        0  "
      ]
     },
     "execution_count": 1317,
     "metadata": {},
     "output_type": "execute_result"
    }
   ],
   "source": [
    "P0307 = P0307[P0307['tema_nis'] == 41]\n",
    "P0307.head()"
   ]
  },
  {
   "cell_type": "code",
   "execution_count": 1318,
   "metadata": {
    "scrolled": true
   },
   "outputs": [
    {
     "data": {
      "text/html": [
       "<div>\n",
       "<style>\n",
       "    .dataframe thead tr:only-child th {\n",
       "        text-align: right;\n",
       "    }\n",
       "\n",
       "    .dataframe thead th {\n",
       "        text-align: left;\n",
       "    }\n",
       "\n",
       "    .dataframe tbody tr th {\n",
       "        vertical-align: top;\n",
       "    }\n",
       "</style>\n",
       "<table border=\"1\" class=\"dataframe\">\n",
       "  <thead>\n",
       "    <tr style=\"text-align: right;\">\n",
       "      <th></th>\n",
       "      <th>tema_nis</th>\n",
       "      <th>instrum</th>\n",
       "      <th>estructu</th>\n",
       "      <th>tt_dispo</th>\n",
       "      <th>est_ttdi</th>\n",
       "    </tr>\n",
       "    <tr>\n",
       "      <th>CVE_MUN</th>\n",
       "      <th></th>\n",
       "      <th></th>\n",
       "      <th></th>\n",
       "      <th></th>\n",
       "      <th></th>\n",
       "    </tr>\n",
       "  </thead>\n",
       "  <tbody>\n",
       "    <tr>\n",
       "      <th>20207</th>\n",
       "      <td>41</td>\n",
       "      <td>0</td>\n",
       "      <td>290200</td>\n",
       "      <td>None</td>\n",
       "      <td>0</td>\n",
       "    </tr>\n",
       "    <tr>\n",
       "      <th>20285</th>\n",
       "      <td>41</td>\n",
       "      <td>0</td>\n",
       "      <td>290200</td>\n",
       "      <td>None</td>\n",
       "      <td>0</td>\n",
       "    </tr>\n",
       "    <tr>\n",
       "      <th>03001</th>\n",
       "      <td>41</td>\n",
       "      <td>0</td>\n",
       "      <td>290200</td>\n",
       "      <td>None</td>\n",
       "      <td>0</td>\n",
       "    </tr>\n",
       "    <tr>\n",
       "      <th>21102</th>\n",
       "      <td>41</td>\n",
       "      <td>0</td>\n",
       "      <td>290200</td>\n",
       "      <td>None</td>\n",
       "      <td>0</td>\n",
       "    </tr>\n",
       "    <tr>\n",
       "      <th>22006</th>\n",
       "      <td>41</td>\n",
       "      <td>0</td>\n",
       "      <td>290200</td>\n",
       "      <td>None</td>\n",
       "      <td>0</td>\n",
       "    </tr>\n",
       "  </tbody>\n",
       "</table>\n",
       "</div>"
      ],
      "text/plain": [
       "        tema_nis instrum  estructu tt_dispo est_ttdi\n",
       "CVE_MUN                                             \n",
       "20207         41       0    290200     None        0\n",
       "20285         41       0    290200     None        0\n",
       "03001         41       0    290200     None        0\n",
       "21102         41       0    290200     None        0\n",
       "22006         41       0    290200     None        0"
      ]
     },
     "execution_count": 1318,
     "metadata": {},
     "output_type": "execute_result"
    }
   ],
   "source": [
    "# Quita las columnas que estén vacías\n",
    "P0307 = P0307.dropna(axis=1, how = 'all')\n",
    "P0307.head()"
   ]
  },
  {
   "cell_type": "code",
   "execution_count": 1319,
   "metadata": {
    "scrolled": true
   },
   "outputs": [
    {
     "data": {
      "text/html": [
       "<div>\n",
       "<style>\n",
       "    .dataframe thead tr:only-child th {\n",
       "        text-align: right;\n",
       "    }\n",
       "\n",
       "    .dataframe thead th {\n",
       "        text-align: left;\n",
       "    }\n",
       "\n",
       "    .dataframe tbody tr th {\n",
       "        vertical-align: top;\n",
       "    }\n",
       "</style>\n",
       "<table border=\"1\" class=\"dataframe\">\n",
       "  <thead>\n",
       "    <tr style=\"text-align: right;\">\n",
       "      <th></th>\n",
       "      <th>Descripcion</th>\n",
       "    </tr>\n",
       "    <tr>\n",
       "      <th>Metadato</th>\n",
       "      <th></th>\n",
       "    </tr>\n",
       "  </thead>\n",
       "  <tbody>\n",
       "    <tr>\n",
       "      <th>Nombre del Dataset</th>\n",
       "      <td>Censo Nacional de Gobiernos Municipales y Delegacionales 2015</td>\n",
       "    </tr>\n",
       "    <tr>\n",
       "      <th>Descripcion del dataset</th>\n",
       "      <td>Censo Nacional de Gobiernos Municipales y Delegacionales 2015</td>\n",
       "    </tr>\n",
       "    <tr>\n",
       "      <th>Disponibilidad Temporal</th>\n",
       "      <td>2015</td>\n",
       "    </tr>\n",
       "    <tr>\n",
       "      <th>Periodo de actualizacion</th>\n",
       "      <td>Bienal</td>\n",
       "    </tr>\n",
       "    <tr>\n",
       "      <th>Nivel de Desagregacion</th>\n",
       "      <td>Municipal</td>\n",
       "    </tr>\n",
       "    <tr>\n",
       "      <th>Notas</th>\n",
       "      <td>s/n</td>\n",
       "    </tr>\n",
       "    <tr>\n",
       "      <th>Fuente</th>\n",
       "      <td>INEGI</td>\n",
       "    </tr>\n",
       "    <tr>\n",
       "      <th>URL_Fuente</th>\n",
       "      <td>http://www.beta.inegi.org.mx/contenidos/proyectos/censosgobierno/municipal/cngmd/2015/datosabiertos/</td>\n",
       "    </tr>\n",
       "    <tr>\n",
       "      <th>Dataset base</th>\n",
       "      <td>\"P0307.xlsx\" disponible en \\nhttps://github.com/INECC-PCCS/01_Dmine/tree/master/Datasets/CNGMD/2015</td>\n",
       "    </tr>\n",
       "  </tbody>\n",
       "</table>\n",
       "</div>"
      ],
      "text/plain": [
       "                                                                                                                   Descripcion\n",
       "Metadato                                                                                                                      \n",
       "Nombre del Dataset                                               Censo Nacional de Gobiernos Municipales y Delegacionales 2015\n",
       "Descripcion del dataset                                          Censo Nacional de Gobiernos Municipales y Delegacionales 2015\n",
       "Disponibilidad Temporal                                                                                                   2015\n",
       "Periodo de actualizacion                                                                                                Bienal\n",
       "Nivel de Desagregacion                                                                                               Municipal\n",
       "Notas                                                                                                                      s/n\n",
       "Fuente                                                                                                                   INEGI\n",
       "URL_Fuente                http://www.beta.inegi.org.mx/contenidos/proyectos/censosgobierno/municipal/cngmd/2015/datosabiertos/\n",
       "Dataset base               \"P0307.xlsx\" disponible en \\nhttps://github.com/INECC-PCCS/01_Dmine/tree/master/Datasets/CNGMD/2015"
      ]
     },
     "execution_count": 1319,
     "metadata": {},
     "output_type": "execute_result"
    }
   ],
   "source": [
    "# Metadatos\n",
    "meta = P0306meta\n",
    "meta.at['Dataset base','Descripcion'] = meta.at['Dataset base','Descripcion'].replace('P0306', 'P0307')\n",
    "meta"
   ]
  },
  {
   "cell_type": "markdown",
   "metadata": {},
   "source": [
    "Exportar archivo"
   ]
  },
  {
   "cell_type": "code",
   "execution_count": 1320,
   "metadata": {
    "collapsed": true
   },
   "outputs": [],
   "source": [
    "par = 'P0307'\n",
    "file = r'D:\\PCCS\\01_Dmine\\Datasets\\CNGMD'+'\\\\'+par+'.xlsx'\n",
    "writer = pd.ExcelWriter(file)\n",
    "P0307.to_excel(writer, sheet_name = par)\n",
    "meta.to_excel(writer, sheet_name ='METADATOS')\n",
    "writer.save()"
   ]
  },
  {
   "cell_type": "markdown",
   "metadata": {},
   "source": [
    "### P1001 - Promedio diario de RSU recolectados"
   ]
  },
  {
   "cell_type": "code",
   "execution_count": 1201,
   "metadata": {
    "scrolled": true
   },
   "outputs": [
    {
     "name": "stdout",
     "output_type": "stream",
     "text": [
      "D:\\PCCS\\00_RawData\\01_CSV\\cngmd\\2015\\P1001\\Rec_RSU_cngmd2015_csv\\conjunto_de_datos\n",
      "D:\\PCCS\\00_RawData\\01_CSV\\cngmd\\2015\\P1001\\Rec_RSU_cngmd2015_csv\\diccionario_de_datos\\FD_Modulo_6_RSU_2015_secc_i.csv\n"
     ]
    }
   ],
   "source": [
    "# Rutas de archivos\n",
    "param = 'P1001'\n",
    "rutadatos = tablas[param]\n",
    "rutameta = tablas[param].replace('conjunto_de_datos', 'diccionario_de_datos')\n",
    "rutameta = rutameta + '\\\\' + os.listdir(rutameta)[0]\n",
    "print('{}\\n{}'.format(rutadatos, rutameta))"
   ]
  },
  {
   "cell_type": "code",
   "execution_count": 1202,
   "metadata": {
    "collapsed": true,
    "scrolled": true
   },
   "outputs": [],
   "source": [
    "# Obtencion de metadatos\n",
    "# Cada hoja de metadatos es muy muy similar, pero con muy ligeras variaciones\n",
    "# La unica parte del proceso que es seguro automatizar es la importación del archivo hacia Python\n",
    "def getmeta(csvpath, textcoding):\n",
    "    # Importa el csv\n",
    "    try: \n",
    "        dicdf = pd.read_csv(csvpath, \n",
    "                    index_col=0, \n",
    "                    parse_dates=False\n",
    "                   )\n",
    "    except: \n",
    "        dicdf = pd.read_csv(csvpath, \n",
    "                    index_col=0, \n",
    "                    parse_dates=False, \n",
    "                    encoding = textcoding,\n",
    "                   )\n",
    "    \n",
    "    # Renombra las columnas\n",
    "    dicdf.columns = list(dicdf.iloc[1])\n",
    "    \n",
    "    # Dame el archivo\n",
    "    return dicdf"
   ]
  },
  {
   "cell_type": "code",
   "execution_count": 1203,
   "metadata": {
    "scrolled": true
   },
   "outputs": [
    {
     "data": {
      "text/plain": [
       "['FD_Modulo_6_RSU_2015_secc_i.csv',\n",
       " 'FD_Modulo_6_RSU_2015_secc_i_Página_1.png',\n",
       " 'FD_Modulo_6_RSU_2015_secc_i_Página_2.png']"
      ]
     },
     "execution_count": 1203,
     "metadata": {},
     "output_type": "execute_result"
    }
   ],
   "source": [
    "os.listdir(r'D:\\PCCS\\00_RawData\\01_CSV\\cngmd\\2015\\P1001\\Rec_RSU_cngmd2015_csv\\diccionario_de_datos')"
   ]
  },
  {
   "cell_type": "code",
   "execution_count": 1204,
   "metadata": {},
   "outputs": [
    {
     "data": {
      "text/html": [
       "<div>\n",
       "<style>\n",
       "    .dataframe thead tr:only-child th {\n",
       "        text-align: right;\n",
       "    }\n",
       "\n",
       "    .dataframe thead th {\n",
       "        text-align: left;\n",
       "    }\n",
       "\n",
       "    .dataframe tbody tr th {\n",
       "        vertical-align: top;\n",
       "    }\n",
       "</style>\n",
       "<table border=\"1\" class=\"dataframe\">\n",
       "  <thead>\n",
       "    <tr style=\"text-align: right;\">\n",
       "      <th></th>\n",
       "      <th>Nombre de la \n",
       "columna</th>\n",
       "      <th>Descripción</th>\n",
       "      <th>Tipo de dato</th>\n",
       "      <th>Rango válido</th>\n",
       "      <th>Descripcion codigos</th>\n",
       "      <th>Pregunta textual</th>\n",
       "      <th>Página de Cuestionario</th>\n",
       "      <th>Definición</th>\n",
       "      <th>desc_arc</th>\n",
       "    </tr>\n",
       "    <tr>\n",
       "      <th>archivo</th>\n",
       "      <th></th>\n",
       "      <th></th>\n",
       "      <th></th>\n",
       "      <th></th>\n",
       "      <th></th>\n",
       "      <th></th>\n",
       "      <th></th>\n",
       "      <th></th>\n",
       "      <th></th>\n",
       "    </tr>\n",
       "  </thead>\n",
       "  <tbody>\n",
       "    <tr>\n",
       "      <th>secc_i_tr_cngmd15_m6</th>\n",
       "      <td>FOLIO</td>\n",
       "      <td>Identificador de cada cuestionario compuesto por la clave de entidad y por la clave de municipio o delegación.</td>\n",
       "      <td>Carácter</td>\n",
       "      <td>5</td>\n",
       "      <td>[01001-32058, Not Nul]</td>\n",
       "      <td>FOLIO</td>\n",
       "      <td>1</td>\n",
       "      <td>Identificador de los cuestionarios correspondientes a los municipios y delegaciones del Distrito Federal con base en el C...</td>\n",
       "      <td>Contiene variables que caracterizan a los municipios de acuerdo a la recolección de residuos sólidos urbanos, durante el ...</td>\n",
       "    </tr>\n",
       "    <tr>\n",
       "      <th>secc_i_tr_cngmd15_m6</th>\n",
       "      <td>ENTIDAD</td>\n",
       "      <td>Clave entidad federativa.</td>\n",
       "      <td>Carácter</td>\n",
       "      <td>2</td>\n",
       "      <td>[1-32, Not Null]</td>\n",
       "      <td>ENTIDAD</td>\n",
       "      <td>1</td>\n",
       "      <td>Identifica la clave de la entidad donde se ubica el sitio de disposición final con base en el Catálogo Único de Claves de...</td>\n",
       "      <td>Contiene variables que caracterizan a los municipios de acuerdo a la recolección de residuos sólidos urbanos, durante el ...</td>\n",
       "    </tr>\n",
       "    <tr>\n",
       "      <th>secc_i_tr_cngmd15_m6</th>\n",
       "      <td>MUNICIPIO</td>\n",
       "      <td>Clave municipio o delegación.</td>\n",
       "      <td>Carácter</td>\n",
       "      <td>3</td>\n",
       "      <td>[1-999, Not Null]</td>\n",
       "      <td>MUNICIPIO</td>\n",
       "      <td>1</td>\n",
       "      <td>Indica la clave perteneciente al municipio y en el caso del Distrito Federal a una delegación política , cuya base son su...</td>\n",
       "      <td>Contiene variables que caracterizan a los municipios de acuerdo a la recolección de residuos sólidos urbanos, durante el ...</td>\n",
       "    </tr>\n",
       "  </tbody>\n",
       "</table>\n",
       "</div>"
      ],
      "text/plain": [
       "                     Nombre de la \\ncolumna  \\\n",
       "archivo                                       \n",
       "secc_i_tr_cngmd15_m6                  FOLIO   \n",
       "secc_i_tr_cngmd15_m6                ENTIDAD   \n",
       "secc_i_tr_cngmd15_m6              MUNICIPIO   \n",
       "\n",
       "                                                                                                                         Descripción  \\\n",
       "archivo                                                                                                                                \n",
       "secc_i_tr_cngmd15_m6  Identificador de cada cuestionario compuesto por la clave de entidad y por la clave de municipio o delegación.   \n",
       "secc_i_tr_cngmd15_m6                                                                                       Clave entidad federativa.   \n",
       "secc_i_tr_cngmd15_m6                                                                                   Clave municipio o delegación.   \n",
       "\n",
       "                     Tipo de dato Rango válido     Descripcion codigos  \\\n",
       "archivo                                                                  \n",
       "secc_i_tr_cngmd15_m6     Carácter            5  [01001-32058, Not Nul]   \n",
       "secc_i_tr_cngmd15_m6     Carácter            2        [1-32, Not Null]   \n",
       "secc_i_tr_cngmd15_m6     Carácter            3       [1-999, Not Null]   \n",
       "\n",
       "                     Pregunta textual Página de Cuestionario  \\\n",
       "archivo                                                        \n",
       "secc_i_tr_cngmd15_m6            FOLIO                      1   \n",
       "secc_i_tr_cngmd15_m6          ENTIDAD                      1   \n",
       "secc_i_tr_cngmd15_m6        MUNICIPIO                      1   \n",
       "\n",
       "                                                                                                                                        Definición  \\\n",
       "archivo                                                                                                                                              \n",
       "secc_i_tr_cngmd15_m6  Identificador de los cuestionarios correspondientes a los municipios y delegaciones del Distrito Federal con base en el C...   \n",
       "secc_i_tr_cngmd15_m6  Identifica la clave de la entidad donde se ubica el sitio de disposición final con base en el Catálogo Único de Claves de...   \n",
       "secc_i_tr_cngmd15_m6  Indica la clave perteneciente al municipio y en el caso del Distrito Federal a una delegación política , cuya base son su...   \n",
       "\n",
       "                                                                                                                                          desc_arc  \n",
       "archivo                                                                                                                                             \n",
       "secc_i_tr_cngmd15_m6  Contiene variables que caracterizan a los municipios de acuerdo a la recolección de residuos sólidos urbanos, durante el ...  \n",
       "secc_i_tr_cngmd15_m6  Contiene variables que caracterizan a los municipios de acuerdo a la recolección de residuos sólidos urbanos, durante el ...  \n",
       "secc_i_tr_cngmd15_m6  Contiene variables que caracterizan a los municipios de acuerdo a la recolección de residuos sólidos urbanos, durante el ...  "
      ]
     },
     "execution_count": 1204,
     "metadata": {},
     "output_type": "execute_result"
    }
   ],
   "source": [
    "metadatos = getmeta(rutameta, 'mbcs')\n",
    "# Crea columna con el indice\n",
    "metadatos['Nombre de la \\ncolumna'] = metadatos.index\n",
    "\n",
    "# Extrae el nombre del csv fuente en una columna independiente\n",
    "def getarc(x):\n",
    "    try: return x.split(' ')[1]\n",
    "    except: return None\n",
    "metadatos['archivo'] = metadatos['Nombre de la \\ncolumna'].apply(getarc)\n",
    "\n",
    "# Extrae la descripcion del archivo en una columna independiente\n",
    "def getdescarc(x):\n",
    "    try: return x.split('(')[1].replace(')','')\n",
    "    except: return None\n",
    "metadatos['desc_arc'] = metadatos['Nombre de la \\ncolumna'].apply(getdescarc)\n",
    "\n",
    "# En la columna 'arc', reemplaza las celdas cuyo valor es 'de'\n",
    "metadatos['archivo'] = metadatos['archivo'].replace({'de':None})\n",
    "\n",
    "# Marca columnas que se van a eliminar (Las columnas de donde se sacaron las variables 'arc' y 'desc_arc')\n",
    "metadatos['delete1'] = metadatos[list(metadatos.columns)[1:6]].notnull().sum(axis = 1)\n",
    "\n",
    "# Rellenar valores NaN\n",
    "metadatos = metadatos.fillna(method='ffill')\n",
    "\n",
    "# Eliminar valores marcados previaente\n",
    "metadatos = metadatos[metadatos.delete1 != 0]\n",
    "\n",
    "# Eliminar columnas sin datos\n",
    "metadatos = metadatos.dropna(axis = 1, how = 'all')\n",
    "\n",
    "# Eliminar encabezados de columna repetidos\n",
    "metadatos = metadatos[metadatos.Descripción != 'Descripción']\n",
    "\n",
    "# Asignar nuevo indice y eliminar columna 'text_arc'\n",
    "metadatos = metadatos.set_index('archivo')\n",
    "\n",
    "# Elimina columna delete1\n",
    "del metadatos['delete1']\n",
    "\n",
    "# Renombra la columna de descripciones de codigos\n",
    "metadatos.columns.values[3] = 'Descripcion codigos'\n",
    "\n",
    "# Reordena las columnas\n",
    "neworder = ['Nombre de la \\ncolumna', 'Descripción', 'Tipo de dato', 'Rango válido', 'Descripcion codigos', \n",
    "            'Pregunta textual', 'Página de Cuestionario', 'Definición', 'desc_arc']\n",
    "\n",
    "metadatos = metadatos.reindex(columns= neworder)\n",
    "\n",
    "# Renombra las columnas para que funcionen con queryvar\n",
    "metadatos = metadatos.rename({'Rango válido':'Códigos válidos en la columna'})\n",
    "\n",
    "metadatos.head(3)"
   ]
  },
  {
   "cell_type": "markdown",
   "metadata": {},
   "source": [
    "¿Donde estan los datos?"
   ]
  },
  {
   "cell_type": "code",
   "execution_count": 1205,
   "metadata": {
    "scrolled": false
   },
   "outputs": [
    {
     "data": {
      "text/html": [
       "<div>\n",
       "<style>\n",
       "    .dataframe thead tr:only-child th {\n",
       "        text-align: right;\n",
       "    }\n",
       "\n",
       "    .dataframe thead th {\n",
       "        text-align: left;\n",
       "    }\n",
       "\n",
       "    .dataframe tbody tr th {\n",
       "        vertical-align: top;\n",
       "    }\n",
       "</style>\n",
       "<table border=\"1\" class=\"dataframe\">\n",
       "  <thead>\n",
       "    <tr style=\"text-align: right;\">\n",
       "      <th></th>\n",
       "      <th>Nombre de la \n",
       "columna</th>\n",
       "      <th>Descripción</th>\n",
       "      <th>Tipo de dato</th>\n",
       "      <th>Rango válido</th>\n",
       "      <th>Descripcion codigos</th>\n",
       "      <th>Pregunta textual</th>\n",
       "      <th>Página de Cuestionario</th>\n",
       "      <th>Definición</th>\n",
       "      <th>desc_arc</th>\n",
       "    </tr>\n",
       "    <tr>\n",
       "      <th>archivo</th>\n",
       "      <th></th>\n",
       "      <th></th>\n",
       "      <th></th>\n",
       "      <th></th>\n",
       "      <th></th>\n",
       "      <th></th>\n",
       "      <th></th>\n",
       "      <th></th>\n",
       "      <th></th>\n",
       "    </tr>\n",
       "  </thead>\n",
       "  <tbody>\n",
       "    <tr>\n",
       "      <th>secc_i_tr_cngmd15_m6</th>\n",
       "      <td>P2_2</td>\n",
       "      <td>Cantidad de residuos sólidos recolectada en kilogramos.</td>\n",
       "      <td>Carácter</td>\n",
       "      <td>7</td>\n",
       "      <td>[1…9999999, null]</td>\n",
       "      <td>Registre la cantidad promedio diaria de residuos sólidos urbanos recolectada en este Municipio o Delegación.</td>\n",
       "      <td>5</td>\n",
       "      <td>Identifica cúantos kilogramos de residuos sólidos urbanos fueron recolectadas en el municipio o delegación en promedio, c...</td>\n",
       "      <td>Contiene variables que caracterizan a los municipios de acuerdo a la recolección de residuos sólidos urbanos, durante el ...</td>\n",
       "    </tr>\n",
       "  </tbody>\n",
       "</table>\n",
       "</div>"
      ],
      "text/plain": [
       "                     Nombre de la \\ncolumna  \\\n",
       "archivo                                       \n",
       "secc_i_tr_cngmd15_m6                   P2_2   \n",
       "\n",
       "                                                                  Descripción  \\\n",
       "archivo                                                                         \n",
       "secc_i_tr_cngmd15_m6  Cantidad de residuos sólidos recolectada en kilogramos.   \n",
       "\n",
       "                     Tipo de dato Rango válido Descripcion codigos  \\\n",
       "archivo                                                              \n",
       "secc_i_tr_cngmd15_m6     Carácter            7   [1…9999999, null]   \n",
       "\n",
       "                                                                                                                  Pregunta textual  \\\n",
       "archivo                                                                                                                              \n",
       "secc_i_tr_cngmd15_m6  Registre la cantidad promedio diaria de residuos sólidos urbanos recolectada en este Municipio o Delegación.   \n",
       "\n",
       "                     Página de Cuestionario  \\\n",
       "archivo                                       \n",
       "secc_i_tr_cngmd15_m6                      5   \n",
       "\n",
       "                                                                                                                                        Definición  \\\n",
       "archivo                                                                                                                                              \n",
       "secc_i_tr_cngmd15_m6  Identifica cúantos kilogramos de residuos sólidos urbanos fueron recolectadas en el municipio o delegación en promedio, c...   \n",
       "\n",
       "                                                                                                                                          desc_arc  \n",
       "archivo                                                                                                                                             \n",
       "secc_i_tr_cngmd15_m6  Contiene variables que caracterizan a los municipios de acuerdo a la recolección de residuos sólidos urbanos, durante el ...  "
      ]
     },
     "execution_count": 1205,
     "metadata": {},
     "output_type": "execute_result"
    }
   ],
   "source": [
    "metadatos.loc['secc_i_tr_cngmd15_m6'][metadatos.loc['secc_i_tr_cngmd15_m6']['Nombre de la \\ncolumna'] == 'P2_2']"
   ]
  },
  {
   "cell_type": "markdown",
   "metadata": {},
   "source": [
    "Los datos se encuentran en el archivo secc_i_tr_cngmd15_m6, en la columna P2_2"
   ]
  },
  {
   "cell_type": "code",
   "execution_count": 1206,
   "metadata": {
    "scrolled": true
   },
   "outputs": [
    {
     "name": "stdout",
     "output_type": "stream",
     "text": [
      "secc_i_tr_cngmd15_m6:\n",
      "D:\\PCCS\\00_RawData\\01_CSV\\cngmd\\2015\\P1001\\Rec_RSU_cngmd2015_csv\\conjunto_de_datos\\secc_i_tr_cngmd15_m6.csv\n",
      "\n",
      "secc_i_tr_cngmd15_m6_p6_3_2:\n",
      "D:\\PCCS\\00_RawData\\01_CSV\\cngmd\\2015\\P1001\\Rec_RSU_cngmd2015_csv\\conjunto_de_datos\\secc_i_tr_cngmd15_m6_p6_3_2.csv\n",
      "\n"
     ]
    }
   ],
   "source": [
    "# Definición de rutas a archivos de datos\n",
    "Paramfiles = {}\n",
    "for file in os.listdir(rutadatos):\n",
    "    Paramfiles[file.replace('.csv', '')] = rutadatos+'\\\\'+file\n",
    "\n",
    "for file, path in Paramfiles.items():\n",
    "    print('{}:\\n{}\\n'.format(file, path))"
   ]
  },
  {
   "cell_type": "code",
   "execution_count": 1209,
   "metadata": {
    "collapsed": true
   },
   "outputs": [],
   "source": [
    "# Carga de datos\n",
    "P1001f = tablas[param]+'\\\\'+ os.listdir(tablas[param])[0]\n",
    "df = pd.read_csv(P1001f, dtype={'folio':'str'}, encoding = 'mbcs')\n",
    "df = df.rename(columns = {'folio':'CVE_MUN'})\n",
    "df.set_index('CVE_MUN', inplace = True)\n",
    "P1001 = df.where((pd.notnull(df)), None)"
   ]
  },
  {
   "cell_type": "code",
   "execution_count": 1208,
   "metadata": {
    "scrolled": false
   },
   "outputs": [
    {
     "data": {
      "text/html": [
       "<div>\n",
       "<style>\n",
       "    .dataframe thead tr:only-child th {\n",
       "        text-align: right;\n",
       "    }\n",
       "\n",
       "    .dataframe thead th {\n",
       "        text-align: left;\n",
       "    }\n",
       "\n",
       "    .dataframe tbody tr th {\n",
       "        vertical-align: top;\n",
       "    }\n",
       "</style>\n",
       "<table border=\"1\" class=\"dataframe\">\n",
       "  <thead>\n",
       "    <tr style=\"text-align: right;\">\n",
       "      <th></th>\n",
       "      <th>entidad</th>\n",
       "      <th>municipio</th>\n",
       "      <th>p1</th>\n",
       "      <th>p2_2</th>\n",
       "      <th>p3</th>\n",
       "      <th>p3_1</th>\n",
       "      <th>p6_1</th>\n",
       "      <th>p6_3_1_1_1</th>\n",
       "      <th>p6_3_1_2_1</th>\n",
       "      <th>p6_3_1_3_1</th>\n",
       "      <th>...</th>\n",
       "      <th>p9_3_1_2</th>\n",
       "      <th>p9_3_2_2</th>\n",
       "      <th>p9_3_3_2</th>\n",
       "      <th>p9_3_4_2</th>\n",
       "      <th>p9_3_5_2</th>\n",
       "      <th>p9_3_6_2</th>\n",
       "      <th>p9_3_7_2</th>\n",
       "      <th>p9_3_8_2</th>\n",
       "      <th>p9_3_9_2</th>\n",
       "      <th>p9_3_10_2</th>\n",
       "    </tr>\n",
       "    <tr>\n",
       "      <th>CVE_MUN</th>\n",
       "      <th></th>\n",
       "      <th></th>\n",
       "      <th></th>\n",
       "      <th></th>\n",
       "      <th></th>\n",
       "      <th></th>\n",
       "      <th></th>\n",
       "      <th></th>\n",
       "      <th></th>\n",
       "      <th></th>\n",
       "      <th></th>\n",
       "      <th></th>\n",
       "      <th></th>\n",
       "      <th></th>\n",
       "      <th></th>\n",
       "      <th></th>\n",
       "      <th></th>\n",
       "      <th></th>\n",
       "      <th></th>\n",
       "      <th></th>\n",
       "      <th></th>\n",
       "    </tr>\n",
       "  </thead>\n",
       "  <tbody>\n",
       "    <tr>\n",
       "      <th>01001</th>\n",
       "      <td>1</td>\n",
       "      <td>1</td>\n",
       "      <td>1</td>\n",
       "      <td>593440</td>\n",
       "      <td>1</td>\n",
       "      <td>None</td>\n",
       "      <td>60</td>\n",
       "      <td>0</td>\n",
       "      <td>5</td>\n",
       "      <td>9</td>\n",
       "      <td>...</td>\n",
       "      <td>673</td>\n",
       "      <td>99</td>\n",
       "      <td>14</td>\n",
       "      <td>31</td>\n",
       "      <td>0</td>\n",
       "      <td>180</td>\n",
       "      <td>77</td>\n",
       "      <td>0</td>\n",
       "      <td>64</td>\n",
       "      <td>40</td>\n",
       "    </tr>\n",
       "  </tbody>\n",
       "</table>\n",
       "<p>1 rows × 27 columns</p>\n",
       "</div>"
      ],
      "text/plain": [
       "         entidad  municipio p1    p2_2 p3  p3_1 p6_1 p6_3_1_1_1 p6_3_1_2_1  \\\n",
       "CVE_MUN                                                                      \n",
       "01001          1          1  1  593440  1  None   60          0          5   \n",
       "\n",
       "        p6_3_1_3_1    ...    p9_3_1_2 p9_3_2_2 p9_3_3_2 p9_3_4_2 p9_3_5_2  \\\n",
       "CVE_MUN               ...                                                   \n",
       "01001            9    ...         673       99       14       31        0   \n",
       "\n",
       "        p9_3_6_2 p9_3_7_2 p9_3_8_2 p9_3_9_2 p9_3_10_2  \n",
       "CVE_MUN                                                \n",
       "01001        180       77        0       64        40  \n",
       "\n",
       "[1 rows x 27 columns]"
      ]
     },
     "execution_count": 1208,
     "metadata": {},
     "output_type": "execute_result"
    }
   ],
   "source": [
    "P1001.head(1)"
   ]
  },
  {
   "cell_type": "code",
   "execution_count": 1210,
   "metadata": {},
   "outputs": [
    {
     "data": {
      "text/html": [
       "<div>\n",
       "<style>\n",
       "    .dataframe thead tr:only-child th {\n",
       "        text-align: right;\n",
       "    }\n",
       "\n",
       "    .dataframe thead th {\n",
       "        text-align: left;\n",
       "    }\n",
       "\n",
       "    .dataframe tbody tr th {\n",
       "        vertical-align: top;\n",
       "    }\n",
       "</style>\n",
       "<table border=\"1\" class=\"dataframe\">\n",
       "  <thead>\n",
       "    <tr style=\"text-align: right;\">\n",
       "      <th></th>\n",
       "      <th>p2_2</th>\n",
       "    </tr>\n",
       "    <tr>\n",
       "      <th>CVE_MUN</th>\n",
       "      <th></th>\n",
       "    </tr>\n",
       "  </thead>\n",
       "  <tbody>\n",
       "    <tr>\n",
       "      <th>01001</th>\n",
       "      <td>593440</td>\n",
       "    </tr>\n",
       "  </tbody>\n",
       "</table>\n",
       "</div>"
      ],
      "text/plain": [
       "           p2_2\n",
       "CVE_MUN        \n",
       "01001    593440"
      ]
     },
     "execution_count": 1210,
     "metadata": {},
     "output_type": "execute_result"
    }
   ],
   "source": [
    "P1001 = P1001['p2_2'].to_frame()\n",
    "P1001.head(1)"
   ]
  },
  {
   "cell_type": "markdown",
   "metadata": {},
   "source": [
    "Exportar archivos"
   ]
  },
  {
   "cell_type": "code",
   "execution_count": 1211,
   "metadata": {},
   "outputs": [
    {
     "data": {
      "text/html": [
       "<div>\n",
       "<style>\n",
       "    .dataframe thead tr:only-child th {\n",
       "        text-align: right;\n",
       "    }\n",
       "\n",
       "    .dataframe thead th {\n",
       "        text-align: left;\n",
       "    }\n",
       "\n",
       "    .dataframe tbody tr th {\n",
       "        vertical-align: top;\n",
       "    }\n",
       "</style>\n",
       "<table border=\"1\" class=\"dataframe\">\n",
       "  <thead>\n",
       "    <tr style=\"text-align: right;\">\n",
       "      <th></th>\n",
       "      <th>Descripcion</th>\n",
       "    </tr>\n",
       "    <tr>\n",
       "      <th>Metadato</th>\n",
       "      <th></th>\n",
       "    </tr>\n",
       "  </thead>\n",
       "  <tbody>\n",
       "    <tr>\n",
       "      <th>Nombre del Dataset</th>\n",
       "      <td>Censo Nacional de Gobiernos Municipales y Delegacionales 2015</td>\n",
       "    </tr>\n",
       "    <tr>\n",
       "      <th>Descripcion del dataset</th>\n",
       "      <td>Censo Nacional de Gobiernos Municipales y Delegacionales 2015</td>\n",
       "    </tr>\n",
       "    <tr>\n",
       "      <th>Disponibilidad Temporal</th>\n",
       "      <td>2015</td>\n",
       "    </tr>\n",
       "    <tr>\n",
       "      <th>Periodo de actualizacion</th>\n",
       "      <td>Bienal</td>\n",
       "    </tr>\n",
       "    <tr>\n",
       "      <th>Nivel de Desagregacion</th>\n",
       "      <td>Municipal</td>\n",
       "    </tr>\n",
       "    <tr>\n",
       "      <th>Notas</th>\n",
       "      <td>p2_2: Cantidad de residuos sólidos recolectada en kilogramos.</td>\n",
       "    </tr>\n",
       "    <tr>\n",
       "      <th>Fuente</th>\n",
       "      <td>INEGI</td>\n",
       "    </tr>\n",
       "    <tr>\n",
       "      <th>URL_Fuente</th>\n",
       "      <td>http://www.beta.inegi.org.mx/contenidos/proyectos/censosgobierno/municipal/cngmd/2015/datosabiertos/</td>\n",
       "    </tr>\n",
       "    <tr>\n",
       "      <th>Dataset base</th>\n",
       "      <td>\"P1001.xlsx\" disponible en \\nhttps://github.com/INECC-PCCS/01_Dmine/tree/master/Datasets/CNGMD/2015</td>\n",
       "    </tr>\n",
       "  </tbody>\n",
       "</table>\n",
       "</div>"
      ],
      "text/plain": [
       "                                                                                                                   Descripcion\n",
       "Metadato                                                                                                                      \n",
       "Nombre del Dataset                                               Censo Nacional de Gobiernos Municipales y Delegacionales 2015\n",
       "Descripcion del dataset                                          Censo Nacional de Gobiernos Municipales y Delegacionales 2015\n",
       "Disponibilidad Temporal                                                                                                   2015\n",
       "Periodo de actualizacion                                                                                                Bienal\n",
       "Nivel de Desagregacion                                                                                               Municipal\n",
       "Notas                                                            p2_2: Cantidad de residuos sólidos recolectada en kilogramos.\n",
       "Fuente                                                                                                                   INEGI\n",
       "URL_Fuente                http://www.beta.inegi.org.mx/contenidos/proyectos/censosgobierno/municipal/cngmd/2015/datosabiertos/\n",
       "Dataset base               \"P1001.xlsx\" disponible en \\nhttps://github.com/INECC-PCCS/01_Dmine/tree/master/Datasets/CNGMD/2015"
      ]
     },
     "execution_count": 1211,
     "metadata": {},
     "output_type": "execute_result"
    }
   ],
   "source": [
    "# Metadatos\n",
    "meta = meta           # Utiliza el archivo de metadatos que habías definido anteriormente\n",
    "meta.at['Dataset base','Descripcion'] = '\"P1001.xlsx\" disponible en \\nhttps://github.com/INECC-PCCS/01_Dmine/tree/master/Datasets/CNGMD/2015'\n",
    "meta.at['Notas','Descripcion'] = 'p2_2: Cantidad de residuos sólidos recolectada en kilogramos.'\n",
    "meta"
   ]
  },
  {
   "cell_type": "code",
   "execution_count": 1213,
   "metadata": {
    "collapsed": true
   },
   "outputs": [],
   "source": [
    "file = r'D:\\PCCS\\01_Dmine\\Datasets\\CNGMD'+'\\\\'+param+'.xlsx'\n",
    "writer = pd.ExcelWriter(file)\n",
    "P1001.to_excel(writer, sheet_name = param)\n",
    "meta.to_excel(writer, sheet_name ='METADATOS')\n",
    "writer.save()"
   ]
  },
  {
   "cell_type": "markdown",
   "metadata": {},
   "source": [
    "### P1006 - Número de municipios con aplicación de programas locales orientados a la GIRSU"
   ]
  },
  {
   "cell_type": "code",
   "execution_count": 1214,
   "metadata": {
    "scrolled": false
   },
   "outputs": [
    {
     "name": "stdout",
     "output_type": "stream",
     "text": [
      "D:\\PCCS\\00_RawData\\01_CSV\\cngmd\\2015\\P1006\\Prog_gest_int_RSU_cngmd2015_csv\\conjunto_de_datos\n",
      "D:\\PCCS\\00_RawData\\01_CSV\\cngmd\\2015\\P1006\\Prog_gest_int_RSU_cngmd2015_csv\\diccionario_de_datos\\FD_Modulo_6_RSU_2015_secc_v.csv\n"
     ]
    }
   ],
   "source": [
    "# Rutas de archivos\n",
    "param = 'P1006'\n",
    "rutadatos = tablas[param]\n",
    "rutameta = tablas[param].replace('conjunto_de_datos', 'diccionario_de_datos')\n",
    "rutameta = rutameta + '\\\\' + os.listdir(rutameta)[0]\n",
    "print('{}\\n{}'.format(rutadatos, rutameta))"
   ]
  },
  {
   "cell_type": "markdown",
   "metadata": {},
   "source": [
    "¿Donde estan los datos?\n",
    "\n",
    "El archivo secc_v_tr_cngmd15_m6.csv Contiene variables que caracterizan a los municipios de acuerdo a los programas orientados a la gestión integral de los residuos sólidos urbanos, durante el año 2014. En este archivo, la columna P13 Indica si se cuenta con algún programa orientado a la gestión integral de residuos sólidos urbanos (1 = Cuenta con Programas; 2 = No cuenta con programas).\n",
    "\n",
    "El archivo secc_v_tr_cngmd15_m6_p13_1.csv Contiene la variable P13_1_1_2, que indica el tipo de programa orientado a la gestión integral de residuos sólidos urbanos."
   ]
  },
  {
   "cell_type": "code",
   "execution_count": 1215,
   "metadata": {},
   "outputs": [
    {
     "name": "stdout",
     "output_type": "stream",
     "text": [
      "secc_v_tr_cngmd15_m6:\n",
      "D:\\PCCS\\00_RawData\\01_CSV\\cngmd\\2015\\P1006\\Prog_gest_int_RSU_cngmd2015_csv\\conjunto_de_datos\\secc_v_tr_cngmd15_m6.csv\n",
      "\n",
      "secc_v_tr_cngmd15_m6_p13_1:\n",
      "D:\\PCCS\\00_RawData\\01_CSV\\cngmd\\2015\\P1006\\Prog_gest_int_RSU_cngmd2015_csv\\conjunto_de_datos\\secc_v_tr_cngmd15_m6_p13_1.csv\n",
      "\n"
     ]
    }
   ],
   "source": [
    "# Definición de rutas a archivos de datos\n",
    "Paramfiles = {}\n",
    "for file in os.listdir(rutadatos):\n",
    "    Paramfiles[file.replace('.csv', '')] = rutadatos+'\\\\'+file\n",
    "\n",
    "for file, path in Paramfiles.items():\n",
    "    print('{}:\\n{}\\n'.format(file, path))"
   ]
  },
  {
   "cell_type": "code",
   "execution_count": 1216,
   "metadata": {},
   "outputs": [
    {
     "data": {
      "text/plain": [
       "'secc_v_tr_cngmd15_m6.csv'"
      ]
     },
     "execution_count": 1216,
     "metadata": {},
     "output_type": "execute_result"
    }
   ],
   "source": [
    "os.listdir(tablas[param])[0]"
   ]
  },
  {
   "cell_type": "code",
   "execution_count": 1217,
   "metadata": {
    "collapsed": true
   },
   "outputs": [],
   "source": [
    "# Carga de datos\n",
    "P1006f = tablas[param]+'\\\\'+ os.listdir(tablas[param])[0]\n",
    "df = pd.read_csv(P1006f, dtype={'folio':'str'}, encoding = 'mbcs')\n",
    "df = df.rename(columns = {'folio':'CVE_MUN'})\n",
    "df.set_index('CVE_MUN', inplace = True)\n",
    "P1006 = df.where((pd.notnull(df)), None)"
   ]
  },
  {
   "cell_type": "markdown",
   "metadata": {},
   "source": [
    "Exportar Archivos"
   ]
  },
  {
   "cell_type": "code",
   "execution_count": 1218,
   "metadata": {
    "collapsed": true
   },
   "outputs": [],
   "source": [
    "P1006 = P1006['p13'].to_frame()"
   ]
  },
  {
   "cell_type": "code",
   "execution_count": 1219,
   "metadata": {
    "collapsed": true
   },
   "outputs": [],
   "source": [
    "# Metadatos\n",
    "meta = meta           # Utiliza el archivo de metadatos que habías definido anteriormente\n",
    "meta.at['Dataset base','Descripcion'] = '\"P1006.xlsx\" disponible en \\nhttps://github.com/INECC-PCCS/01_Dmine/tree/master/Datasets/CNGMD/2015'\n",
    "meta.at['Notas','Descripcion'] = 'En la columna p13, ¿El municipio cuenta con Programas de Gestion de Residuos? 1: Si, 2: No'"
   ]
  },
  {
   "cell_type": "code",
   "execution_count": 1220,
   "metadata": {},
   "outputs": [
    {
     "data": {
      "text/html": [
       "<div>\n",
       "<style>\n",
       "    .dataframe thead tr:only-child th {\n",
       "        text-align: right;\n",
       "    }\n",
       "\n",
       "    .dataframe thead th {\n",
       "        text-align: left;\n",
       "    }\n",
       "\n",
       "    .dataframe tbody tr th {\n",
       "        vertical-align: top;\n",
       "    }\n",
       "</style>\n",
       "<table border=\"1\" class=\"dataframe\">\n",
       "  <thead>\n",
       "    <tr style=\"text-align: right;\">\n",
       "      <th></th>\n",
       "      <th>Descripcion</th>\n",
       "    </tr>\n",
       "    <tr>\n",
       "      <th>Metadato</th>\n",
       "      <th></th>\n",
       "    </tr>\n",
       "  </thead>\n",
       "  <tbody>\n",
       "    <tr>\n",
       "      <th>Nombre del Dataset</th>\n",
       "      <td>Censo Nacional de Gobiernos Municipales y Delegacionales 2015</td>\n",
       "    </tr>\n",
       "    <tr>\n",
       "      <th>Descripcion del dataset</th>\n",
       "      <td>Censo Nacional de Gobiernos Municipales y Delegacionales 2015</td>\n",
       "    </tr>\n",
       "    <tr>\n",
       "      <th>Disponibilidad Temporal</th>\n",
       "      <td>2015</td>\n",
       "    </tr>\n",
       "    <tr>\n",
       "      <th>Periodo de actualizacion</th>\n",
       "      <td>Bienal</td>\n",
       "    </tr>\n",
       "    <tr>\n",
       "      <th>Nivel de Desagregacion</th>\n",
       "      <td>Municipal</td>\n",
       "    </tr>\n",
       "    <tr>\n",
       "      <th>Notas</th>\n",
       "      <td>En la columna p13, ¿El municipio cuenta con Programas de Gestion de Residuos? 1: Si, 2: No</td>\n",
       "    </tr>\n",
       "    <tr>\n",
       "      <th>Fuente</th>\n",
       "      <td>INEGI</td>\n",
       "    </tr>\n",
       "    <tr>\n",
       "      <th>URL_Fuente</th>\n",
       "      <td>http://www.beta.inegi.org.mx/contenidos/proyectos/censosgobierno/municipal/cngmd/2015/datosabiertos/</td>\n",
       "    </tr>\n",
       "    <tr>\n",
       "      <th>Dataset base</th>\n",
       "      <td>\"P1006.xlsx\" disponible en \\nhttps://github.com/INECC-PCCS/01_Dmine/tree/master/Datasets/CNGMD/2015</td>\n",
       "    </tr>\n",
       "  </tbody>\n",
       "</table>\n",
       "</div>"
      ],
      "text/plain": [
       "                                                                                                                   Descripcion\n",
       "Metadato                                                                                                                      \n",
       "Nombre del Dataset                                               Censo Nacional de Gobiernos Municipales y Delegacionales 2015\n",
       "Descripcion del dataset                                          Censo Nacional de Gobiernos Municipales y Delegacionales 2015\n",
       "Disponibilidad Temporal                                                                                                   2015\n",
       "Periodo de actualizacion                                                                                                Bienal\n",
       "Nivel de Desagregacion                                                                                               Municipal\n",
       "Notas                               En la columna p13, ¿El municipio cuenta con Programas de Gestion de Residuos? 1: Si, 2: No\n",
       "Fuente                                                                                                                   INEGI\n",
       "URL_Fuente                http://www.beta.inegi.org.mx/contenidos/proyectos/censosgobierno/municipal/cngmd/2015/datosabiertos/\n",
       "Dataset base               \"P1006.xlsx\" disponible en \\nhttps://github.com/INECC-PCCS/01_Dmine/tree/master/Datasets/CNGMD/2015"
      ]
     },
     "execution_count": 1220,
     "metadata": {},
     "output_type": "execute_result"
    }
   ],
   "source": [
    "meta"
   ]
  },
  {
   "cell_type": "code",
   "execution_count": 1222,
   "metadata": {
    "collapsed": true
   },
   "outputs": [],
   "source": [
    "file = r'D:\\PCCS\\01_Dmine\\Datasets\\CNGMD'+'\\\\'+param+'.xlsx'\n",
    "writer = pd.ExcelWriter(file)\n",
    "P1006.to_excel(writer, sheet_name = param)\n",
    "meta.to_excel(writer, sheet_name ='METADATOS')\n",
    "writer.save()"
   ]
  },
  {
   "cell_type": "markdown",
   "metadata": {},
   "source": [
    "### P1009 - Número de municipios con estudios de generación de RSU"
   ]
  },
  {
   "cell_type": "code",
   "execution_count": 1325,
   "metadata": {
    "scrolled": false
   },
   "outputs": [
    {
     "name": "stdout",
     "output_type": "stream",
     "text": [
      "D:\\PCCS\\00_RawData\\01_CSV\\cngmd\\2015\\P1009\\Est_gen_comp_RSU_cngmd2015_csv\\conjunto_de_datos\n",
      "D:\\PCCS\\00_RawData\\01_CSV\\cngmd\\2015\\P1009\\Est_gen_comp_RSU_cngmd2015_csv\\diccionario_de_datos\\FD_Modulo_6_RSU_2015_secc_iv.csv\n"
     ]
    }
   ],
   "source": [
    "# Rutas de archivos\n",
    "param = 'P1009'\n",
    "rutadatos = tablas[param]\n",
    "rutameta = tablas[param].replace('conjunto_de_datos', 'diccionario_de_datos')\n",
    "rutameta = rutameta + '\\\\' + os.listdir(rutameta)[0]\n",
    "print('{}\\n{}'.format(rutadatos, rutameta))"
   ]
  },
  {
   "cell_type": "markdown",
   "metadata": {},
   "source": [
    "¿Donde están los datos?\n",
    "\n",
    "secc_iv_tr_cngmd15_m6 Contiene variables que caracterizan a los municipios de acuerdo a los estudios sobre la generación y composición de los residuos sólidos urbanos, durante el año 2014. \n",
    "\n",
    "La columna P12 Indica si se cuenta con algún estudio sobre la generación de residuos sólidos urbanos (1 = Si; 2 = No)."
   ]
  },
  {
   "cell_type": "code",
   "execution_count": 1326,
   "metadata": {},
   "outputs": [
    {
     "name": "stdout",
     "output_type": "stream",
     "text": [
      "secc_iv_tr_cngmd15_m6:\n",
      "D:\\PCCS\\00_RawData\\01_CSV\\cngmd\\2015\\P1009\\Est_gen_comp_RSU_cngmd2015_csv\\conjunto_de_datos\\secc_iv_tr_cngmd15_m6.csv\n",
      "\n"
     ]
    }
   ],
   "source": [
    "# Definición de rutas a archivos de datos\n",
    "Paramfiles = {}\n",
    "for file in os.listdir(rutadatos):\n",
    "    Paramfiles[file.replace('.csv', '')] = rutadatos+'\\\\'+file\n",
    "\n",
    "for file, path in Paramfiles.items():\n",
    "    print('{}:\\n{}\\n'.format(file, path))"
   ]
  },
  {
   "cell_type": "code",
   "execution_count": 1334,
   "metadata": {
    "collapsed": true
   },
   "outputs": [],
   "source": [
    "# Carga de datos\n",
    "P1009f = tablas[param]+'\\\\'+ os.listdir(tablas[param])[0]\n",
    "df = pd.read_csv(P1009f, dtype={'folio':'str'}, encoding = 'mbcs')\n",
    "df = df.rename(columns = {'folio':'CVE_MUN'})\n",
    "df.set_index('CVE_MUN', inplace = True)\n",
    "P1009 = df.where((pd.notnull(df)), None)\n",
    "del(P1009['entidad'])\n",
    "del(P1009['municipio'])"
   ]
  },
  {
   "cell_type": "markdown",
   "metadata": {},
   "source": [
    "Exportar archivos"
   ]
  },
  {
   "cell_type": "code",
   "execution_count": 1328,
   "metadata": {},
   "outputs": [
    {
     "data": {
      "text/html": [
       "<div>\n",
       "<style>\n",
       "    .dataframe thead tr:only-child th {\n",
       "        text-align: right;\n",
       "    }\n",
       "\n",
       "    .dataframe thead th {\n",
       "        text-align: left;\n",
       "    }\n",
       "\n",
       "    .dataframe tbody tr th {\n",
       "        vertical-align: top;\n",
       "    }\n",
       "</style>\n",
       "<table border=\"1\" class=\"dataframe\">\n",
       "  <thead>\n",
       "    <tr style=\"text-align: right;\">\n",
       "      <th></th>\n",
       "      <th>Descripcion</th>\n",
       "    </tr>\n",
       "    <tr>\n",
       "      <th>Metadato</th>\n",
       "      <th></th>\n",
       "    </tr>\n",
       "  </thead>\n",
       "  <tbody>\n",
       "    <tr>\n",
       "      <th>Nombre del Dataset</th>\n",
       "      <td>Censo Nacional de Gobiernos Municipales y Delegacionales 2015</td>\n",
       "    </tr>\n",
       "    <tr>\n",
       "      <th>Descripcion del dataset</th>\n",
       "      <td>Censo Nacional de Gobiernos Municipales y Delegacionales 2015</td>\n",
       "    </tr>\n",
       "    <tr>\n",
       "      <th>Disponibilidad Temporal</th>\n",
       "      <td>2015</td>\n",
       "    </tr>\n",
       "    <tr>\n",
       "      <th>Periodo de actualizacion</th>\n",
       "      <td>Bienal</td>\n",
       "    </tr>\n",
       "    <tr>\n",
       "      <th>Nivel de Desagregacion</th>\n",
       "      <td>Municipal</td>\n",
       "    </tr>\n",
       "    <tr>\n",
       "      <th>Notas</th>\n",
       "      <td>s/n</td>\n",
       "    </tr>\n",
       "    <tr>\n",
       "      <th>Fuente</th>\n",
       "      <td>INEGI</td>\n",
       "    </tr>\n",
       "    <tr>\n",
       "      <th>URL_Fuente</th>\n",
       "      <td>http://www.beta.inegi.org.mx/contenidos/proyectos/censosgobierno/municipal/cngmd/2015/datosabiertos/</td>\n",
       "    </tr>\n",
       "    <tr>\n",
       "      <th>Dataset base</th>\n",
       "      <td>\"P0307.xlsx\" disponible en \\nhttps://github.com/INECC-PCCS/01_Dmine/tree/master/Datasets/CNGMD/2015</td>\n",
       "    </tr>\n",
       "  </tbody>\n",
       "</table>\n",
       "</div>"
      ],
      "text/plain": [
       "                                                                                                                   Descripcion\n",
       "Metadato                                                                                                                      \n",
       "Nombre del Dataset                                               Censo Nacional de Gobiernos Municipales y Delegacionales 2015\n",
       "Descripcion del dataset                                          Censo Nacional de Gobiernos Municipales y Delegacionales 2015\n",
       "Disponibilidad Temporal                                                                                                   2015\n",
       "Periodo de actualizacion                                                                                                Bienal\n",
       "Nivel de Desagregacion                                                                                               Municipal\n",
       "Notas                                                                                                                      s/n\n",
       "Fuente                                                                                                                   INEGI\n",
       "URL_Fuente                http://www.beta.inegi.org.mx/contenidos/proyectos/censosgobierno/municipal/cngmd/2015/datosabiertos/\n",
       "Dataset base               \"P0307.xlsx\" disponible en \\nhttps://github.com/INECC-PCCS/01_Dmine/tree/master/Datasets/CNGMD/2015"
      ]
     },
     "execution_count": 1328,
     "metadata": {},
     "output_type": "execute_result"
    }
   ],
   "source": [
    "meta"
   ]
  },
  {
   "cell_type": "code",
   "execution_count": 1335,
   "metadata": {},
   "outputs": [
    {
     "data": {
      "text/html": [
       "<div>\n",
       "<style>\n",
       "    .dataframe thead tr:only-child th {\n",
       "        text-align: right;\n",
       "    }\n",
       "\n",
       "    .dataframe thead th {\n",
       "        text-align: left;\n",
       "    }\n",
       "\n",
       "    .dataframe tbody tr th {\n",
       "        vertical-align: top;\n",
       "    }\n",
       "</style>\n",
       "<table border=\"1\" class=\"dataframe\">\n",
       "  <thead>\n",
       "    <tr style=\"text-align: right;\">\n",
       "      <th></th>\n",
       "      <th>Descripcion</th>\n",
       "    </tr>\n",
       "    <tr>\n",
       "      <th>Metadato</th>\n",
       "      <th></th>\n",
       "    </tr>\n",
       "  </thead>\n",
       "  <tbody>\n",
       "    <tr>\n",
       "      <th>Nombre del Dataset</th>\n",
       "      <td>Censo Nacional de Gobiernos Municipales y Delegacionales 2015</td>\n",
       "    </tr>\n",
       "    <tr>\n",
       "      <th>Descripcion del dataset</th>\n",
       "      <td>Censo Nacional de Gobiernos Municipales y Delegacionales 2015</td>\n",
       "    </tr>\n",
       "    <tr>\n",
       "      <th>Disponibilidad Temporal</th>\n",
       "      <td>2015</td>\n",
       "    </tr>\n",
       "    <tr>\n",
       "      <th>Periodo de actualizacion</th>\n",
       "      <td>Bienal</td>\n",
       "    </tr>\n",
       "    <tr>\n",
       "      <th>Nivel de Desagregacion</th>\n",
       "      <td>Municipal</td>\n",
       "    </tr>\n",
       "    <tr>\n",
       "      <th>Notas</th>\n",
       "      <td>Para la columna P12, ¿El Municipio cuenta con estudios de generacion de residuos? 1: Si 2: No</td>\n",
       "    </tr>\n",
       "    <tr>\n",
       "      <th>Fuente</th>\n",
       "      <td>INEGI</td>\n",
       "    </tr>\n",
       "    <tr>\n",
       "      <th>URL_Fuente</th>\n",
       "      <td>http://www.beta.inegi.org.mx/contenidos/proyectos/censosgobierno/municipal/cngmd/2015/datosabiertos/</td>\n",
       "    </tr>\n",
       "    <tr>\n",
       "      <th>Dataset base</th>\n",
       "      <td>\"P1009.xlsx\" disponible en \\nhttps://github.com/INECC-PCCS/01_Dmine/tree/master/Datasets/CNGMD/2015</td>\n",
       "    </tr>\n",
       "  </tbody>\n",
       "</table>\n",
       "</div>"
      ],
      "text/plain": [
       "                                                                                                                   Descripcion\n",
       "Metadato                                                                                                                      \n",
       "Nombre del Dataset                                               Censo Nacional de Gobiernos Municipales y Delegacionales 2015\n",
       "Descripcion del dataset                                          Censo Nacional de Gobiernos Municipales y Delegacionales 2015\n",
       "Disponibilidad Temporal                                                                                                   2015\n",
       "Periodo de actualizacion                                                                                                Bienal\n",
       "Nivel de Desagregacion                                                                                               Municipal\n",
       "Notas                            Para la columna P12, ¿El Municipio cuenta con estudios de generacion de residuos? 1: Si 2: No\n",
       "Fuente                                                                                                                   INEGI\n",
       "URL_Fuente                http://www.beta.inegi.org.mx/contenidos/proyectos/censosgobierno/municipal/cngmd/2015/datosabiertos/\n",
       "Dataset base               \"P1009.xlsx\" disponible en \\nhttps://github.com/INECC-PCCS/01_Dmine/tree/master/Datasets/CNGMD/2015"
      ]
     },
     "execution_count": 1335,
     "metadata": {},
     "output_type": "execute_result"
    }
   ],
   "source": [
    "# Metadatos\n",
    "meta = meta           # Utiliza el archivo de metadatos que habías definido anteriormente\n",
    "meta.at['Dataset base','Descripcion'] = '\"P1009.xlsx\" disponible en \\nhttps://github.com/INECC-PCCS/01_Dmine/tree/master/Datasets/CNGMD/2015'\n",
    "meta.at['Notas','Descripcion'] = 'Para la columna P12, ¿El Municipio cuenta con estudios de generacion de residuos? 1: Si 2: No'\n",
    "meta"
   ]
  },
  {
   "cell_type": "code",
   "execution_count": 1336,
   "metadata": {
    "collapsed": true
   },
   "outputs": [],
   "source": [
    "file = r'D:\\PCCS\\01_Dmine\\Datasets\\CNGMD'+'\\\\'+param+'.xlsx'\n",
    "writer = pd.ExcelWriter(file)\n",
    "P1009.to_excel(writer, sheet_name = param)\n",
    "meta.to_excel(writer, sheet_name ='METADATOS')\n",
    "writer.save()"
   ]
  },
  {
   "cell_type": "markdown",
   "metadata": {},
   "source": [
    "### P1003 - Número de municipios con disponibilidad de servicios relacionados con los RSU"
   ]
  },
  {
   "cell_type": "markdown",
   "metadata": {},
   "source": [
    "__¿Donde estan los datos?__\n",
    "\n",
    "La informacion de este parametro se encuentra dividida entre diferentes carpetas."
   ]
  },
  {
   "cell_type": "code",
   "execution_count": 1337,
   "metadata": {},
   "outputs": [
    {
     "data": {
      "text/plain": [
       "{'1': 'D:\\\\PCCS\\\\00_RawData\\\\01_CSV\\\\cngmd\\\\2015\\\\P1003\\\\1\\\\Rec_RSU_cngmd2015_csv\\\\conjunto_de_datos',\n",
       " '2': 'D:\\\\PCCS\\\\00_RawData\\\\01_CSV\\\\cngmd\\\\2015\\\\P1003\\\\2\\\\Trat_RSU_cngmd2015_csv\\\\conjunto_de_datos',\n",
       " '3': 'D:\\\\PCCS\\\\00_RawData\\\\01_CSV\\\\cngmd\\\\2015\\\\P1003\\\\3\\\\Disp_final_RSU_cngmd2015_csv\\\\conjunto_de_datos'}"
      ]
     },
     "execution_count": 1337,
     "metadata": {},
     "output_type": "execute_result"
    }
   ],
   "source": [
    "tablasP1003"
   ]
  },
  {
   "cell_type": "markdown",
   "metadata": {},
   "source": [
    "__La Carpeta 1 Contiene 2 archivos:__\n",
    "\n",
    "secc_i_tr_cngmd15_m6.csv - Contiene variables que caracterizan a los municipios de acuerdo a la recolección de residuos sólidos urbanos, durante el año 2014. En este archivo, la variable P1 indica la disponibilidad del servicio de recolección (1: Si, 2:No)\n",
    "\n",
    "secc_i_tr_cngmd15_m6_p6_3_2.csv - Contiene variables que caracterizan a los municipios de acuerdo al parque vehicular utilizado para la recolección y traslado de residuos sólidos urbanos, durante el año 2014. En este archivo, la variable P6_3_2_1_3 contiene el número de vehículos utilizados para la recolección de Residuos solidos urbanos. (Esta variable puede utilizarse para la construcción del parámetro 1005)\n",
    "\n",
    "__La Carpeta 2 Contiene 1 archivo:__\n",
    "\n",
    "secc_ii_tr_cngmd15_m6.csv - Contiene variables que caracterizan a los municipios de acuerdo al tratamiento de los residuos, durante el año 2014. En este archivo, la variable P10 Identifica si al menos una fracción de los residuos sólidos urbanos recolectados por el municipio o delegación es enviada a plantas de tratamiento (1: Si, 2:No)\n",
    "\n",
    "__La Carpeta 3 contiene 1 archivo:__\n",
    "secc_iii_tr_cngmd15_m6.csv - Contiene variables que caracterizan a los municipios de acuerdo a la disposición final de los residuos sólidos urbanos, durante el año 2014. En este archivo, la variable P11 Identifica el número de sitios de disposición final a los que son son remitidos los residuos que se recolectan en todo el municipio o delegación\n"
   ]
  },
  {
   "cell_type": "code",
   "execution_count": 1347,
   "metadata": {
    "scrolled": true
   },
   "outputs": [
    {
     "name": "stdout",
     "output_type": "stream",
     "text": [
      "D:\\PCCS\\00_RawData\\01_CSV\\cngmd\\2015\\P1003\\1\\Rec_RSU_cngmd2015_csv\\conjunto_de_datos\n",
      "D:\\PCCS\\00_RawData\\01_CSV\\cngmd\\2015\\P1003\\2\\Trat_RSU_cngmd2015_csv\\conjunto_de_datos\n",
      "D:\\PCCS\\00_RawData\\01_CSV\\cngmd\\2015\\P1003\\3\\Disp_final_RSU_cngmd2015_csv\\conjunto_de_datos\n"
     ]
    }
   ],
   "source": [
    "# Rutas de archivos\n",
    "param = 'P1003'\n",
    "rutasdatos = list(tablasP1003.values())\n",
    "for ruta in rutasdatos:\n",
    "    print(ruta)"
   ]
  },
  {
   "cell_type": "code",
   "execution_count": 1348,
   "metadata": {
    "scrolled": true
   },
   "outputs": [
    {
     "name": "stdout",
     "output_type": "stream",
     "text": [
      "secc_i_tr_cngmd15_m6:\n",
      "D:\\PCCS\\00_RawData\\01_CSV\\cngmd\\2015\\P1003\\1\\Rec_RSU_cngmd2015_csv\\conjunto_de_datos\\secc_i_tr_cngmd15_m6.csv\n",
      "\n",
      "secc_i_tr_cngmd15_m6_p6_3_2:\n",
      "D:\\PCCS\\00_RawData\\01_CSV\\cngmd\\2015\\P1003\\1\\Rec_RSU_cngmd2015_csv\\conjunto_de_datos\\secc_i_tr_cngmd15_m6_p6_3_2.csv\n",
      "\n",
      "secc_ii_tr_cngmd15_m6:\n",
      "D:\\PCCS\\00_RawData\\01_CSV\\cngmd\\2015\\P1003\\2\\Trat_RSU_cngmd2015_csv\\conjunto_de_datos\\secc_ii_tr_cngmd15_m6.csv\n",
      "\n",
      "secc_iii_tr_cngmd15_m6:\n",
      "D:\\PCCS\\00_RawData\\01_CSV\\cngmd\\2015\\P1003\\3\\Disp_final_RSU_cngmd2015_csv\\conjunto_de_datos\\secc_iii_tr_cngmd15_m6.csv\n",
      "\n"
     ]
    }
   ],
   "source": [
    "# Definición de rutas a archivos de datos\n",
    "Paramfiles = {}\n",
    "for rutadatos in rutasdatos:\n",
    "    for file in os.listdir(rutadatos):\n",
    "        Paramfiles[file.replace('.csv', '')] = rutadatos+'\\\\'+file\n",
    "\n",
    "for file, path in Paramfiles.items():\n",
    "    print('{}:\\n{}\\n'.format(file, path))"
   ]
  },
  {
   "cell_type": "code",
   "execution_count": 1349,
   "metadata": {},
   "outputs": [
    {
     "data": {
      "text/plain": [
       "\" \\nP1003f3 = Paramfiles['secc_iii_tr_cngmd15_m6']\\ndf = pd.read_csv(P1003f3, dtype={'folio':'str'}, encoding = 'mbcs')\\ndf = df.rename(columns = {'folio':'CVE_MUN'})\\ndf.set_index('CVE_MUN', inplace = True)\\nP1003f3 = df.where((pd.notnull(df)), None)\\n\""
      ]
     },
     "execution_count": 1349,
     "metadata": {},
     "output_type": "execute_result"
    }
   ],
   "source": [
    "# Carga de datos\n",
    "# Es necesario hacer 3 dataframes, uno por cada archivo, y después unir las columnas para cada parámetro.\n",
    "P1003f1 = Paramfiles['secc_i_tr_cngmd15_m6']\n",
    "df = pd.read_csv(P1003f1, dtype={'folio':'str'}, encoding = 'mbcs')\n",
    "df = df.rename(columns = {'folio':'CVE_MUN'})\n",
    "df.set_index('CVE_MUN', inplace = True)\n",
    "P1003f1 = df.where((pd.notnull(df)), None)\n",
    "\n",
    "P1003f2 = Paramfiles['secc_ii_tr_cngmd15_m6']\n",
    "df = pd.read_csv(P1003f2, dtype={'folio':'str'}, encoding = 'mbcs')\n",
    "df = df.rename(columns = {'folio':'CVE_MUN'})\n",
    "df.set_index('CVE_MUN', inplace = True)\n",
    "P1003f2 = df.where((pd.notnull(df)), None)\n",
    "\n",
    "# El Parametro en realidad no utiliza el numero de sitios de disposicion de residuos. \n",
    "# Y no está documentado el significado de NS en la columna P11 lo que dificulta la lectura de los datos\n",
    "''' \n",
    "P1003f3 = Paramfiles['secc_iii_tr_cngmd15_m6']\n",
    "df = pd.read_csv(P1003f3, dtype={'folio':'str'}, encoding = 'mbcs')\n",
    "df = df.rename(columns = {'folio':'CVE_MUN'})\n",
    "df.set_index('CVE_MUN', inplace = True)\n",
    "P1003f3 = df.where((pd.notnull(df)), None)\n",
    "'''"
   ]
  },
  {
   "cell_type": "code",
   "execution_count": 1351,
   "metadata": {
    "scrolled": false
   },
   "outputs": [
    {
     "data": {
      "text/html": [
       "<div>\n",
       "<style>\n",
       "    .dataframe thead tr:only-child th {\n",
       "        text-align: right;\n",
       "    }\n",
       "\n",
       "    .dataframe thead th {\n",
       "        text-align: left;\n",
       "    }\n",
       "\n",
       "    .dataframe tbody tr th {\n",
       "        vertical-align: top;\n",
       "    }\n",
       "</style>\n",
       "<table border=\"1\" class=\"dataframe\">\n",
       "  <thead>\n",
       "    <tr style=\"text-align: right;\">\n",
       "      <th></th>\n",
       "      <th>p1</th>\n",
       "      <th>p10</th>\n",
       "    </tr>\n",
       "    <tr>\n",
       "      <th>CVE_MUN</th>\n",
       "      <th></th>\n",
       "      <th></th>\n",
       "    </tr>\n",
       "  </thead>\n",
       "  <tbody>\n",
       "    <tr>\n",
       "      <th>01001</th>\n",
       "      <td>1</td>\n",
       "      <td>2</td>\n",
       "    </tr>\n",
       "  </tbody>\n",
       "</table>\n",
       "</div>"
      ],
      "text/plain": [
       "        p1 p10\n",
       "CVE_MUN       \n",
       "01001    1   2"
      ]
     },
     "execution_count": 1351,
     "metadata": {},
     "output_type": "execute_result"
    }
   ],
   "source": [
    "# Aislar datos de interés\n",
    "P1003 = P1003f1['p1'].to_frame()\n",
    "P1003['p10'] = P1003f2['p10']\n",
    "# P1003['p11'] = P1003f3['p11']   #p11 se excluye del analisis por los motivos descritos antes\n",
    "\n",
    "P1003.head(1)"
   ]
  },
  {
   "cell_type": "markdown",
   "metadata": {},
   "source": [
    "Exportar archivos"
   ]
  },
  {
   "cell_type": "code",
   "execution_count": 1352,
   "metadata": {},
   "outputs": [
    {
     "data": {
      "text/html": [
       "<div>\n",
       "<style>\n",
       "    .dataframe thead tr:only-child th {\n",
       "        text-align: right;\n",
       "    }\n",
       "\n",
       "    .dataframe thead th {\n",
       "        text-align: left;\n",
       "    }\n",
       "\n",
       "    .dataframe tbody tr th {\n",
       "        vertical-align: top;\n",
       "    }\n",
       "</style>\n",
       "<table border=\"1\" class=\"dataframe\">\n",
       "  <thead>\n",
       "    <tr style=\"text-align: right;\">\n",
       "      <th></th>\n",
       "      <th>Descripcion</th>\n",
       "    </tr>\n",
       "    <tr>\n",
       "      <th>Metadato</th>\n",
       "      <th></th>\n",
       "    </tr>\n",
       "  </thead>\n",
       "  <tbody>\n",
       "    <tr>\n",
       "      <th>Nombre del Dataset</th>\n",
       "      <td>Censo Nacional de Gobiernos Municipales y Delegacionales 2015</td>\n",
       "    </tr>\n",
       "    <tr>\n",
       "      <th>Descripcion del dataset</th>\n",
       "      <td>Censo Nacional de Gobiernos Municipales y Delegacionales 2015</td>\n",
       "    </tr>\n",
       "    <tr>\n",
       "      <th>Disponibilidad Temporal</th>\n",
       "      <td>2015</td>\n",
       "    </tr>\n",
       "    <tr>\n",
       "      <th>Periodo de actualizacion</th>\n",
       "      <td>Bienal</td>\n",
       "    </tr>\n",
       "    <tr>\n",
       "      <th>Nivel de Desagregacion</th>\n",
       "      <td>Municipal</td>\n",
       "    </tr>\n",
       "    <tr>\n",
       "      <th>Notas</th>\n",
       "      <td>para p1: ¿Dispone de servicio de recoleccion? (1: Si 2: No)\\npara p10: ¿Al menos una fracción de los RSU es enviada a pla...</td>\n",
       "    </tr>\n",
       "    <tr>\n",
       "      <th>Fuente</th>\n",
       "      <td>INEGI</td>\n",
       "    </tr>\n",
       "    <tr>\n",
       "      <th>URL_Fuente</th>\n",
       "      <td>http://www.beta.inegi.org.mx/contenidos/proyectos/censosgobierno/municipal/cngmd/2015/datosabiertos/</td>\n",
       "    </tr>\n",
       "    <tr>\n",
       "      <th>Dataset base</th>\n",
       "      <td>\"P1003.xlsx\" disponible en \\nhttps://github.com/INECC-PCCS/01_Dmine/tree/master/Datasets/CNGMD/2015</td>\n",
       "    </tr>\n",
       "  </tbody>\n",
       "</table>\n",
       "</div>"
      ],
      "text/plain": [
       "                                                                                                                                           Descripcion\n",
       "Metadato                                                                                                                                              \n",
       "Nombre del Dataset                                                                       Censo Nacional de Gobiernos Municipales y Delegacionales 2015\n",
       "Descripcion del dataset                                                                  Censo Nacional de Gobiernos Municipales y Delegacionales 2015\n",
       "Disponibilidad Temporal                                                                                                                           2015\n",
       "Periodo de actualizacion                                                                                                                        Bienal\n",
       "Nivel de Desagregacion                                                                                                                       Municipal\n",
       "Notas                     para p1: ¿Dispone de servicio de recoleccion? (1: Si 2: No)\\npara p10: ¿Al menos una fracción de los RSU es enviada a pla...\n",
       "Fuente                                                                                                                                           INEGI\n",
       "URL_Fuente                                        http://www.beta.inegi.org.mx/contenidos/proyectos/censosgobierno/municipal/cngmd/2015/datosabiertos/\n",
       "Dataset base                                       \"P1003.xlsx\" disponible en \\nhttps://github.com/INECC-PCCS/01_Dmine/tree/master/Datasets/CNGMD/2015"
      ]
     },
     "execution_count": 1352,
     "metadata": {},
     "output_type": "execute_result"
    }
   ],
   "source": [
    "# Metadatos\n",
    "meta = meta           # Utiliza el archivo de metadatos que habías definido anteriormente\n",
    "meta.at['Dataset base','Descripcion'] = '\"P1003.xlsx\" disponible en \\nhttps://github.com/INECC-PCCS/01_Dmine/tree/master/Datasets/CNGMD/2015'\n",
    "meta.at['Notas','Descripcion'] = 'para p1: ¿Dispone de servicio de recoleccion? (1: Si 2: No)\\npara p10: ¿Al menos una fracción de los RSU es enviada a plantas de tratamiento? (1: Si 2: No)\\npara p11: ¿A cuantos sitios de disposición final son remitidos los residuos?'\n",
    "meta"
   ]
  },
  {
   "cell_type": "code",
   "execution_count": 1353,
   "metadata": {
    "scrolled": true
   },
   "outputs": [
    {
     "data": {
      "text/plain": [
       "'P1003'"
      ]
     },
     "execution_count": 1353,
     "metadata": {},
     "output_type": "execute_result"
    }
   ],
   "source": [
    "param"
   ]
  },
  {
   "cell_type": "code",
   "execution_count": 1355,
   "metadata": {
    "collapsed": true
   },
   "outputs": [],
   "source": [
    "file = r'D:\\PCCS\\01_Dmine\\Datasets\\CNGMD'+'\\\\'+param+'.xlsx'\n",
    "writer = pd.ExcelWriter(file)\n",
    "P1003.to_excel(writer, sheet_name = param)\n",
    "meta.to_excel(writer, sheet_name ='METADATOS')\n",
    "writer.save()"
   ]
  },
  {
   "cell_type": "markdown",
   "metadata": {},
   "source": [
    "### P1005 - Número de vehículos utilizados para la recolección de residuos sólidos urbanos"
   ]
  },
  {
   "cell_type": "markdown",
   "metadata": {},
   "source": [
    "¿Donde están los datos?\n",
    "\n",
    "__La Carpeta 1 de P1003 (Procesada previamente) contiene 2 archivos:__\n",
    "\n",
    "secc_i_tr_cngmd15_m6.csv, y\n",
    "\n",
    "secc_i_tr_cngmd15_m6_p6_3_2.csv - Contiene variables que caracterizan a los municipios de acuerdo al parque vehicular utilizado para la recolección y traslado de residuos sólidos urbanos, durante el año 2014. En este archivo, la variable P6_3_2_1_3 contiene el número de vehículos utilizados para la recolección de Residuos solidos urbanos. (Esta variable puede utilizarse para la construcción del parámetro 1005)"
   ]
  },
  {
   "cell_type": "code",
   "execution_count": 1358,
   "metadata": {
    "collapsed": true
   },
   "outputs": [],
   "source": [
    "# Carga de datos\n",
    "P1005f = Paramfiles['secc_i_tr_cngmd15_m6_p6_3_2']\n",
    "df = pd.read_csv(P1005f, dtype={'FOLIO':'str'}, encoding = 'mbcs')\n",
    "df = df.rename(columns = {'FOLIO':'CVE_MUN'})\n",
    "df.set_index('CVE_MUN', inplace = True)\n",
    "P1005f = df.where((pd.notnull(df)), None)"
   ]
  },
  {
   "cell_type": "code",
   "execution_count": 1357,
   "metadata": {},
   "outputs": [
    {
     "data": {
      "text/html": [
       "<div>\n",
       "<style>\n",
       "    .dataframe thead tr:only-child th {\n",
       "        text-align: right;\n",
       "    }\n",
       "\n",
       "    .dataframe thead th {\n",
       "        text-align: left;\n",
       "    }\n",
       "\n",
       "    .dataframe tbody tr th {\n",
       "        vertical-align: top;\n",
       "    }\n",
       "</style>\n",
       "<table border=\"1\" class=\"dataframe\">\n",
       "  <thead>\n",
       "    <tr style=\"text-align: right;\">\n",
       "      <th></th>\n",
       "      <th>ID_GR085331290</th>\n",
       "      <th>P6_3_2_1_1</th>\n",
       "      <th>P6_3_2_1_3</th>\n",
       "    </tr>\n",
       "    <tr>\n",
       "      <th>ubic_geo</th>\n",
       "      <th></th>\n",
       "      <th></th>\n",
       "      <th></th>\n",
       "    </tr>\n",
       "  </thead>\n",
       "  <tbody>\n",
       "    <tr>\n",
       "      <th>01001</th>\n",
       "      <td>488</td>\n",
       "      <td>9</td>\n",
       "      <td>12</td>\n",
       "    </tr>\n",
       "  </tbody>\n",
       "</table>\n",
       "</div>"
      ],
      "text/plain": [
       "          ID_GR085331290  P6_3_2_1_1  P6_3_2_1_3\n",
       "ubic_geo                                        \n",
       "01001                488           9          12"
      ]
     },
     "execution_count": 1357,
     "metadata": {},
     "output_type": "execute_result"
    }
   ],
   "source": [
    "P1005f.head(1)"
   ]
  },
  {
   "cell_type": "markdown",
   "metadata": {},
   "source": [
    "Exportar archivos"
   ]
  },
  {
   "cell_type": "code",
   "execution_count": 1359,
   "metadata": {
    "scrolled": false
   },
   "outputs": [
    {
     "data": {
      "text/html": [
       "<div>\n",
       "<style>\n",
       "    .dataframe thead tr:only-child th {\n",
       "        text-align: right;\n",
       "    }\n",
       "\n",
       "    .dataframe thead th {\n",
       "        text-align: left;\n",
       "    }\n",
       "\n",
       "    .dataframe tbody tr th {\n",
       "        vertical-align: top;\n",
       "    }\n",
       "</style>\n",
       "<table border=\"1\" class=\"dataframe\">\n",
       "  <thead>\n",
       "    <tr style=\"text-align: right;\">\n",
       "      <th></th>\n",
       "      <th>P6_3_2_1_3</th>\n",
       "    </tr>\n",
       "    <tr>\n",
       "      <th>CVE_MUN</th>\n",
       "      <th></th>\n",
       "    </tr>\n",
       "  </thead>\n",
       "  <tbody>\n",
       "    <tr>\n",
       "      <th>01001</th>\n",
       "      <td>12</td>\n",
       "    </tr>\n",
       "    <tr>\n",
       "      <th>01001</th>\n",
       "      <td>15</td>\n",
       "    </tr>\n",
       "    <tr>\n",
       "      <th>01001</th>\n",
       "      <td>11</td>\n",
       "    </tr>\n",
       "  </tbody>\n",
       "</table>\n",
       "</div>"
      ],
      "text/plain": [
       "         P6_3_2_1_3\n",
       "CVE_MUN            \n",
       "01001            12\n",
       "01001            15\n",
       "01001            11"
      ]
     },
     "execution_count": 1359,
     "metadata": {},
     "output_type": "execute_result"
    }
   ],
   "source": [
    "P1005 = P1005f['P6_3_2_1_3'].to_frame()\n",
    "P1005.head(3)"
   ]
  },
  {
   "cell_type": "code",
   "execution_count": 1360,
   "metadata": {
    "scrolled": false
   },
   "outputs": [
    {
     "data": {
      "text/html": [
       "<div>\n",
       "<style>\n",
       "    .dataframe thead tr:only-child th {\n",
       "        text-align: right;\n",
       "    }\n",
       "\n",
       "    .dataframe thead th {\n",
       "        text-align: left;\n",
       "    }\n",
       "\n",
       "    .dataframe tbody tr th {\n",
       "        vertical-align: top;\n",
       "    }\n",
       "</style>\n",
       "<table border=\"1\" class=\"dataframe\">\n",
       "  <thead>\n",
       "    <tr style=\"text-align: right;\">\n",
       "      <th></th>\n",
       "      <th>Descripcion</th>\n",
       "    </tr>\n",
       "    <tr>\n",
       "      <th>Metadato</th>\n",
       "      <th></th>\n",
       "    </tr>\n",
       "  </thead>\n",
       "  <tbody>\n",
       "    <tr>\n",
       "      <th>Nombre del Dataset</th>\n",
       "      <td>Censo Nacional de Gobiernos Municipales y Delegacionales 2015</td>\n",
       "    </tr>\n",
       "    <tr>\n",
       "      <th>Descripcion del dataset</th>\n",
       "      <td>Censo Nacional de Gobiernos Municipales y Delegacionales 2015</td>\n",
       "    </tr>\n",
       "    <tr>\n",
       "      <th>Disponibilidad Temporal</th>\n",
       "      <td>2015</td>\n",
       "    </tr>\n",
       "    <tr>\n",
       "      <th>Periodo de actualizacion</th>\n",
       "      <td>Bienal</td>\n",
       "    </tr>\n",
       "    <tr>\n",
       "      <th>Nivel de Desagregacion</th>\n",
       "      <td>Municipal</td>\n",
       "    </tr>\n",
       "    <tr>\n",
       "      <th>Notas</th>\n",
       "      <td>P6_3_2_1_3: Numero de vehiculos utilizados para la recolección de Residuos Solidos Urbanos</td>\n",
       "    </tr>\n",
       "    <tr>\n",
       "      <th>Fuente</th>\n",
       "      <td>INEGI</td>\n",
       "    </tr>\n",
       "    <tr>\n",
       "      <th>URL_Fuente</th>\n",
       "      <td>http://www.beta.inegi.org.mx/contenidos/proyectos/censosgobierno/municipal/cngmd/2015/datosabiertos/</td>\n",
       "    </tr>\n",
       "    <tr>\n",
       "      <th>Dataset base</th>\n",
       "      <td>\"P1005.xlsx\" disponible en \\nhttps://github.com/INECC-PCCS/01_Dmine/tree/master/Datasets/CNGMD/2015</td>\n",
       "    </tr>\n",
       "  </tbody>\n",
       "</table>\n",
       "</div>"
      ],
      "text/plain": [
       "                                                                                                                   Descripcion\n",
       "Metadato                                                                                                                      \n",
       "Nombre del Dataset                                               Censo Nacional de Gobiernos Municipales y Delegacionales 2015\n",
       "Descripcion del dataset                                          Censo Nacional de Gobiernos Municipales y Delegacionales 2015\n",
       "Disponibilidad Temporal                                                                                                   2015\n",
       "Periodo de actualizacion                                                                                                Bienal\n",
       "Nivel de Desagregacion                                                                                               Municipal\n",
       "Notas                               P6_3_2_1_3: Numero de vehiculos utilizados para la recolección de Residuos Solidos Urbanos\n",
       "Fuente                                                                                                                   INEGI\n",
       "URL_Fuente                http://www.beta.inegi.org.mx/contenidos/proyectos/censosgobierno/municipal/cngmd/2015/datosabiertos/\n",
       "Dataset base               \"P1005.xlsx\" disponible en \\nhttps://github.com/INECC-PCCS/01_Dmine/tree/master/Datasets/CNGMD/2015"
      ]
     },
     "execution_count": 1360,
     "metadata": {},
     "output_type": "execute_result"
    }
   ],
   "source": [
    "# Metadatos\n",
    "meta = meta           # Utiliza el archivo de metadatos que habías definido anteriormente\n",
    "meta.at['Dataset base','Descripcion'] = '\"P1005.xlsx\" disponible en \\nhttps://github.com/INECC-PCCS/01_Dmine/tree/master/Datasets/CNGMD/2015'\n",
    "meta.at['Notas','Descripcion'] = 'P6_3_2_1_3: Numero de vehiculos utilizados para la recolección de Residuos Solidos Urbanos'\n",
    "meta"
   ]
  },
  {
   "cell_type": "code",
   "execution_count": 1361,
   "metadata": {
    "collapsed": true
   },
   "outputs": [],
   "source": [
    "param = 'P1005'\n",
    "file = r'D:\\PCCS\\01_Dmine\\Datasets\\CNGMD'+'\\\\'+param+'.xlsx'\n",
    "writer = pd.ExcelWriter(file)\n",
    "P1005.to_excel(writer, sheet_name = param)\n",
    "meta.to_excel(writer, sheet_name ='METADATOS')\n",
    "writer.save()"
   ]
  },
  {
   "cell_type": "code",
   "execution_count": null,
   "metadata": {
    "collapsed": true
   },
   "outputs": [],
   "source": []
  }
 ],
 "metadata": {
  "kernelspec": {
   "display_name": "Python 3",
   "language": "python",
   "name": "python3"
  },
  "language_info": {
   "codemirror_mode": {
    "name": "ipython",
    "version": 3
   },
   "file_extension": ".py",
   "mimetype": "text/x-python",
   "name": "python",
   "nbconvert_exporter": "python",
   "pygments_lexer": "ipython3",
   "version": "3.6.1"
  }
 },
 "nbformat": 4,
 "nbformat_minor": 2
}
