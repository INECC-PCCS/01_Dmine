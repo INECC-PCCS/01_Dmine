{
 "cells": [
  {
   "attachments": {},
   "cell_type": "markdown",
   "metadata": {},
   "source": [
    "# Limpieza de dataset del Censo Nacional de Gobiernos Municipales y Delegacionales 2015\n",
    "## 1. Introduccion\n",
    "\n",
    "Indicadores que salen de este dataset:\n",
    "\n",
    "\n",
    "ID |Descripción\n",
    "---|:----------\n",
    "P0306|Programas  de modernización catastral \n",
    "P0307|Disposiciones normativas sustantivas en materia de desarrollo urbano u ordenamiento territorial \n",
    "P1001|Promedio diario de RSU recolectados\n",
    "P1003|Número de municipios con disponibilidad de servicios relacionados con los RSU\n",
    "P1006|Número de municipios con aplicación de programas locales orientados a la GIRSU\n",
    "P1009|Número de municipios con estudios de generación de RSU\n",
    "\n",
    "## 2. Descarga de datos"
   ]
  },
  {
   "cell_type": "code",
   "execution_count": 2,
   "metadata": {
    "collapsed": true
   },
   "outputs": [],
   "source": [
    "# Librerias utilizadas\n",
    "import pandas as pd\n",
    "import sys\n",
    "import urllib\n",
    "import os\n",
    "import numpy as np"
   ]
  },
  {
   "cell_type": "code",
   "execution_count": 3,
   "metadata": {
    "collapsed": true
   },
   "outputs": [
    {
     "name": "stdout",
     "output_type": "stream",
     "text": [
      "Python 3.6.1 |Anaconda 4.4.0 (64-bit)| (default, May 11 2017, 13:25:24) [MSC v.1900 64 bit (AMD64)] on win32\n",
      "Pandas version: 0.20.1\n",
      "Running on Windows 8.1\n"
     ]
    }
   ],
   "source": [
    "# Configuracion del sistema\n",
    "print('Python {} on {}'.format(sys.version, sys.platform))\n",
    "print('Pandas version: {}'.format(pd.__version__))\n",
    "import platform; print('Running on {} {}'.format(platform.system(), platform.release()))"
   ]
  },
  {
   "cell_type": "code",
   "execution_count": null,
   "metadata": {
    "collapsed": true
   },
   "outputs": [],
   "source": [
    "root = r'http://www.beta.inegi.org.mx/contenidos/proyectos/censosgobierno/municipal/cngmd/2015/datosabiertos/'\n",
    "\n",
    "files = {\n",
    "    'P0306' : r'm1/Programa_modernizacion_catastral_cngmd2015_csv.zip', # Programas de modernización catastral\n",
    "    'P0307' : r'', # Disposiciones normativas sustantivas en materia de desarrollo urbano u ordenamiento territorial\n",
    "    'P1001' : r'', # Promedio diario de RSU recolectados\n",
    "    'P1003' : r'', # Número de municipios con disponibilidad de servicios relacionados con los RSU\n",
    "    'P1006' : r'm6/Prog_gest_int_RSU_cngmd2015_csv.zip', # Número de municipios con aplicación de programas locales orientados a la GIRSU\n",
    "    'P1009' : r'm6/Est_gen_comp_RSU_cngmd2015_csv.zip', # Número de municipios con estudios de generación de RSU\n",
    "}"
   ]
  }
 ],
 "metadata": {
  "kernelspec": {
   "display_name": "Python 3",
   "language": "python",
   "name": "python3"
  },
  "language_info": {
   "codemirror_mode": {
    "name": "ipython",
    "version": 3
   },
   "file_extension": ".py",
   "mimetype": "text/x-python",
   "name": "python",
   "nbconvert_exporter": "python",
   "pygments_lexer": "ipython3",
   "version": "3.6.1"
  }
 },
 "nbformat": 4,
 "nbformat_minor": 2
}
