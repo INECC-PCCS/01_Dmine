{
 "cells": [
  {
   "cell_type": "markdown",
   "metadata": {},
   "source": [
    "# Limpieza de dataset del Censo Nacional de Gobiernos Municipales y Delegacionales 2015\n",
    "## 1. Introduccion\n",
    "\n",
    "Indicadores que salen de este dataset:\n",
    "\n",
    "## 2. Descarga de datos"
   ]
  },
  {
   "cell_type": "code",
   "execution_count": 13,
   "metadata": {
    "collapsed": true
   },
   "outputs": [],
   "source": [
    "descripciones = {\n",
    "'P0306' : 'Programas de modernización catastral',\n",
    "'P0307' : 'Disposiciones normativas sustantivas en materia de desarrollo urbano u ordenamiento territorial',\n",
    "'P1001' : 'Promedio diario de RSU recolectados',\n",
    "'P1003' : 'Número de municipios con disponibilidad de servicios relacionados con los RSU',\n",
    "'P1006' : 'Número de municipios con aplicación de programas locales orientados a la GIRSU',\n",
    "'P1009' : 'Número de municipios con estudios de generación de RSU',\n",
    "}\n",
    "\n"
   ]
  },
  {
   "cell_type": "code",
   "execution_count": 36,
   "metadata": {
    "collapsed": true
   },
   "outputs": [],
   "source": [
    "# Librerias utilizadas\n",
    "import pandas as pd\n",
    "import sys\n",
    "import urllib\n",
    "import os\n",
    "import zipfile\n",
    "import csv\n",
    "import pprint"
   ]
  },
  {
   "cell_type": "code",
   "execution_count": 2,
   "metadata": {
    "scrolled": true
   },
   "outputs": [
    {
     "name": "stdout",
     "output_type": "stream",
     "text": [
      "Python 3.6.1 |Anaconda 4.4.0 (64-bit)| (default, May 11 2017, 13:25:24) [MSC v.1900 64 bit (AMD64)] on win32\n",
      "Pandas version: 0.20.1\n",
      "Running on Windows 8.1\n"
     ]
    }
   ],
   "source": [
    "# Configuracion del sistema\n",
    "print('Python {} on {}'.format(sys.version, sys.platform))\n",
    "print('Pandas version: {}'.format(pd.__version__))\n",
    "import platform; print('Running on {} {}'.format(platform.system(), platform.release()))"
   ]
  },
  {
   "cell_type": "code",
   "execution_count": 3,
   "metadata": {
    "collapsed": true
   },
   "outputs": [],
   "source": [
    "root = r'http://www.beta.inegi.org.mx/contenidos/proyectos/censosgobierno/municipal/cngmd/2015/datosabiertos/'\n",
    "\n",
    "links = {\n",
    "    'P0306' : r'm1/Programa_modernizacion_catastral_cngmd2015_csv.zip', # Programas de modernización catastral\n",
    "    'P0307' : r'm2/Marco_regulatorio_cngmd2015_csv.zip', # Disposiciones normativas sustantivas en materia de desarrollo urbano u ordenamiento territorial\n",
    "    'P1001' : r'm6/Rec_RSU_cngmd2015_csv.zip', # Promedio diario de RSU recolectados\n",
    "    'P1006' : r'm6/Prog_gest_int_RSU_cngmd2015_csv.zip', # Número de municipios con aplicación de programas locales orientados a la GIRSU\n",
    "    'P1009' : r'm6/Est_gen_comp_RSU_cngmd2015_csv.zip', # Número de municipios con estudios de generación de RSU\n",
    "}"
   ]
  },
  {
   "cell_type": "markdown",
   "metadata": {},
   "source": [
    "En el caso del parámetro P1003, los datos se extraen desde 3 archivos. Estos archivos son una base de datos para cada servicio relacionado con los RSU, Utilizando nuevamente el archivo que utiliza P1001 y dos adicionales:"
   ]
  },
  {
   "cell_type": "code",
   "execution_count": 4,
   "metadata": {
    "collapsed": true
   },
   "outputs": [],
   "source": [
    "P1003links = { # Número de municipios con disponibilidad de servicios relacionados con los RSU\n",
    "    1 : r'm6/Rec_RSU_cngmd2015_csv.zip',\n",
    "    2 : r'm6/Trat_RSU_cngmd2015_csv.zip',\n",
    "    3 : r'm6/Disp_final_RSU_cngmd2015_csv.zip'\n",
    "}"
   ]
  },
  {
   "cell_type": "code",
   "execution_count": 5,
   "metadata": {
    "collapsed": true
   },
   "outputs": [],
   "source": [
    "# Destino local\n",
    "destino = r'D:\\PCCS\\00_RawData\\01_CSV\\cngmd\\2015'"
   ]
  },
  {
   "cell_type": "code",
   "execution_count": 6,
   "metadata": {},
   "outputs": [
    {
     "name": "stdout",
     "output_type": "stream",
     "text": [
      "Ya existe el archivo: D:\\PCCS\\00_RawData\\01_CSV\\cngmd\\2015\\Programa_modernizacion_catastral_cngmd2015_csv.zip\n",
      "Ya existe el archivo: D:\\PCCS\\00_RawData\\01_CSV\\cngmd\\2015\\Marco_regulatorio_cngmd2015_csv.zip\n",
      "Ya existe el archivo: D:\\PCCS\\00_RawData\\01_CSV\\cngmd\\2015\\Rec_RSU_cngmd2015_csv.zip\n",
      "Ya existe el archivo: D:\\PCCS\\00_RawData\\01_CSV\\cngmd\\2015\\Prog_gest_int_RSU_cngmd2015_csv.zip\n",
      "Ya existe el archivo: D:\\PCCS\\00_RawData\\01_CSV\\cngmd\\2015\\Est_gen_comp_RSU_cngmd2015_csv.zip\n"
     ]
    }
   ],
   "source": [
    "# Descarga de zips para parametros de un solo archivo\n",
    "m_archivos = {}   # Diccionario para guardar memoria de descarga\n",
    "for parametro, fuente in links.items():\n",
    "    file = fuente.split('/')[1]\n",
    "    remote_path = root+fuente\n",
    "    local_path = destino + r'\\{}'.format(file)\n",
    "    if os.path.isfile(local_path):\n",
    "        print('Ya existe el archivo: {}'.format(local_path))\n",
    "        m_archivos[parametro] = local_path\n",
    "    else:\n",
    "        print('Descargando {} ... ... ... ... ... '.format(local_path))\n",
    "        urllib.request.urlretrieve(remote_path, local_path) #\n",
    "        m_archivos[parametro] = local_path\n",
    "        print('se descargó {}'.format(local_path))\n",
    "    "
   ]
  },
  {
   "cell_type": "code",
   "execution_count": 7,
   "metadata": {
    "scrolled": true
   },
   "outputs": [
    {
     "name": "stdout",
     "output_type": "stream",
     "text": [
      "Ya existe el archivo: D:\\PCCS\\00_RawData\\01_CSV\\cngmd\\2015\\Rec_RSU_cngmd2015_csv.zip\n",
      "Ya existe el archivo: D:\\PCCS\\00_RawData\\01_CSV\\cngmd\\2015\\Trat_RSU_cngmd2015_csv.zip\n",
      "Ya existe el archivo: D:\\PCCS\\00_RawData\\01_CSV\\cngmd\\2015\\Disp_final_RSU_cngmd2015_csv.zip\n"
     ]
    }
   ],
   "source": [
    "# Descarga de zips para parametro P1003\n",
    "m_archivos2 = {}   # Diccionario para guardar memoria de descarga\n",
    "for parametro, fuente in P1003links.items():\n",
    "    file = fuente.split('/')[1]\n",
    "    remote_path = root+fuente\n",
    "    local_path = destino + r'\\{}'.format(file)\n",
    "    if os.path.isfile(local_path):\n",
    "        print('Ya existe el archivo: {}'.format(local_path))\n",
    "        m_archivos2[parametro] = local_path\n",
    "    else:\n",
    "        print('Descargando {} ... ... ... ... ... '.format(local_path))\n",
    "        urllib.request.urlretrieve(remote_path, local_path) #\n",
    "        m_archivos2[parametro] = local_path\n",
    "        print('se descargó {}'.format(local_path))\n",
    "    "
   ]
  },
  {
   "cell_type": "code",
   "execution_count": 8,
   "metadata": {
    "scrolled": true
   },
   "outputs": [
    {
     "name": "stdout",
     "output_type": "stream",
     "text": [
      "Descomprimiendo D:\\PCCS\\00_RawData\\01_CSV\\cngmd\\2015\\P0306 ... ... ... ... ... \n",
      "Descomprimiendo D:\\PCCS\\00_RawData\\01_CSV\\cngmd\\2015\\P0307 ... ... ... ... ... \n",
      "Descomprimiendo D:\\PCCS\\00_RawData\\01_CSV\\cngmd\\2015\\P1001 ... ... ... ... ... \n",
      "Descomprimiendo D:\\PCCS\\00_RawData\\01_CSV\\cngmd\\2015\\P1006 ... ... ... ... ... \n",
      "Descomprimiendo D:\\PCCS\\00_RawData\\01_CSV\\cngmd\\2015\\P1009 ... ... ... ... ... \n"
     ]
    }
   ],
   "source": [
    "# Descompresión de archivos de m_parametro\n",
    "unzipped = {}\n",
    "for parametro, comprimido in m_archivos.items():\n",
    "    target = destino + '\\\\' + parametro\n",
    "    if os.path.isfile(target):\n",
    "        print('Ya existe el archivo: {}'.format(target))\n",
    "        unzipped[parametro] = target\n",
    "    else:\n",
    "        print('Descomprimiendo {} ... ... ... ... ... '.format(target))\n",
    "        descomprimir = zipfile.ZipFile(comprimido, 'r')\n",
    "        descomprimir.extractall(target)\n",
    "        descomprimir.close\n",
    "        unzipped[parametro] = target\n",
    "        "
   ]
  },
  {
   "cell_type": "code",
   "execution_count": 9,
   "metadata": {
    "scrolled": false
   },
   "outputs": [
    {
     "name": "stdout",
     "output_type": "stream",
     "text": [
      "Descomprimiendo D:\\PCCS\\00_RawData\\01_CSV\\cngmd\\2015\\P1003\\1 ... ... ... ... ... \n",
      "Descomprimiendo D:\\PCCS\\00_RawData\\01_CSV\\cngmd\\2015\\P1003\\2 ... ... ... ... ... \n",
      "Descomprimiendo D:\\PCCS\\00_RawData\\01_CSV\\cngmd\\2015\\P1003\\3 ... ... ... ... ... \n"
     ]
    }
   ],
   "source": [
    "# Descompresión de archivos de m_parametro2\n",
    "unzipped2 = {}\n",
    "for parametro, comprimido in m_archivos2.items():\n",
    "    target = destino + '\\\\P1003\\\\' + str(parametro)\n",
    "    if os.path.isfile(target):\n",
    "        print('Ya existe el archivo: {}'.format(target))\n",
    "        unzipped2[parametro] = target\n",
    "    else:\n",
    "        print('Descomprimiendo {} ... ... ... ... ... '.format(target))\n",
    "        descomprimir = zipfile.ZipFile(comprimido, 'r')\n",
    "        descomprimir.extractall(target)\n",
    "        descomprimir.close\n",
    "        unzipped2[parametro] = target\n",
    "        "
   ]
  },
  {
   "cell_type": "code",
   "execution_count": 21,
   "metadata": {},
   "outputs": [],
   "source": [
    "# Localizacion de archivos de cada parametro\n",
    "# Cada parametro tiene rutas y estructuras distintas. En este paso localizo manualmente \n",
    "# cada tabla y estructura desde los comprimidos. cada valor del diccionario contiene la ruta hacia\n",
    "# donde se encuentran las tablas.\n",
    "\n",
    "cd = r'\\conjunto_de_datos'\n",
    "\n",
    "tablas = {\n",
    "    'P0306' : destino + r'\\P0306' + cd,\n",
    "    'P0307' : destino + r'\\P0307\\marco_regulatorio_cngmd2015_dbf' + cd,\n",
    "    'P1001' : destino + r'\\P0307\\Rec_RSU_cngmd2015_csv' + cd,\n",
    "    'P1006' : destino + r'\\P1006\\Prog_gest_int_RSU_cngmd2015_csv' + cd,\n",
    "    'P1009' : destino + r'\\P1006\\Est_gen_comp_RSU_cngmd2015_csv' + cd,\n",
    "}\n",
    "\n",
    "# Tablas para P1003\n",
    "destino2 = destino + r'\\P0306'\n",
    "tablasP1003 = {\n",
    "    '1' : destino2 + r'\\1' + r'\\Rec_RSU_cngmd2015_csv' + cd,\n",
    "    '2' : destino2 + r'\\2' + r'\\Trat_RSU_cngmd2015_csv' + cd,\n",
    "    '3' : destino2 + r'\\3' + r'\\Disp_final_RSU_cngmd2015_csv' + cd,\n",
    "}"
   ]
  },
  {
   "cell_type": "markdown",
   "metadata": {},
   "source": [
    "## Construccion de datasets estándar\n",
    "Los datasets para cada parámetro surgen de diferentes preguntas del censo por lo que sus estructuras son muy desemejantes, razon por la cual:\n",
    "(1) : Cada parámetro tiene que procesarse individualmente.\n",
    "(2) : Es conveniente extraer de manera individual los metadatos de cada parámetro. Con este propósito, el siguiente script sirve para extraer los metadatos de cada dataset:"
   ]
  },
  {
   "cell_type": "code",
   "execution_count": 135,
   "metadata": {
    "collapsed": true
   },
   "outputs": [],
   "source": [
    "# Script para extraer metadatos:\n",
    "def getmeta(path):   # Path es el contenido en las variables 'tablas' para cada parametro\n",
    "    cat = r'\\catalogos'\n",
    "    dic = r'\\diccionario_de_datos'\n",
    "    metadict = {}\n",
    "    metapath = path.replace(cd, cat)\n",
    "    metafiles = os.listdir(metapath)\n",
    "    dicdict = {}\n",
    "    dicpath = path.replace(cd, dic)\n",
    "    dicfiles = os.listdir(dicpath)\n",
    "    for file in metafiles:\n",
    "        variable = file.replace('.csv', '')\n",
    "        if file.endswith('.csv'):\n",
    "            csvpath = metapath+'\\\\'+file\n",
    "            metadf = pd.DataFrame.from_csv(csvpath, parse_dates=False)\n",
    "            try:\n",
    "                metadf.index = metadf.index.map(str.lower)\n",
    "            except:\n",
    "                pass\n",
    "            metadict[variable] = metadf\n",
    "        else:\n",
    "            dothis = input('El archivo {} no es csv, que deseas hacer? [DD]etener [CC]ontinuar'.format(file))\n",
    "            dothis = dothis.lower()\n",
    "            if dothis == 'dd':\n",
    "                raise GeneratorExit('Script detenido por el usuario')\n",
    "            elif dothis == 'cc':\n",
    "                continue\n",
    "            else:\n",
    "                raise KeyError('No entendi la instruccion {}'.format(dothis))\n",
    "    for file in dicfiles:\n",
    "        if file.endswith('.csv'):\n",
    "            filename = file.replace('.csv', '')\n",
    "            csvpath = dicpath+'\\\\'+file\n",
    "            dicdf = pd.read_csv(csvpath, skiprows=2, usecols=[1, 2], index_col=0, parse_dates=False).dropna()\n",
    "            dicdf.index = dicdf.index.map(str.lower)\n",
    "            dicdict[filename] = dicdf\n",
    "    \n",
    "    return dicdict, metadict"
   ]
  },
  {
   "cell_type": "code",
   "execution_count": 216,
   "metadata": {},
   "outputs": [],
   "source": [
    "# Funcion para revisar metadatos\n",
    "def queryvar(var, tablelen=10, colprint = 125):\n",
    "    pdefault = pd.get_option('display.max_colwidth')\n",
    "    pd.set_option('display.max_colwidth', colprint)   # Expande el espacio para imprimir columnas\n",
    "    print('\"{}\" :\\n{}'.format(var, p0306dic.loc[var][0].upper()))\n",
    "    if len(p0306meta[var]) > tablelen:\n",
    "        print('{}\\nImprimiendo {} de {} registros'.format('-'*40,tablelen, len(p0306meta[var])))\n",
    "    print(p0306meta[var].head(tablelen))\n",
    "    pd.set_option('display.max_colwidth', pdefault)   # Regresa la variable de impresion de columnas a su default"
   ]
  },
  {
   "cell_type": "markdown",
   "metadata": {},
   "source": [
    "**P0306 Programas de modernización catastral**\n",
    "\n",
    "Existencia de programas de modernización catastral en los municipios. "
   ]
  },
  {
   "cell_type": "code",
   "execution_count": 371,
   "metadata": {
    "scrolled": false
   },
   "outputs": [
    {
     "name": "stdout",
     "output_type": "stream",
     "text": [
      "Se extrajeron metadatos para las siguientes variables de P0306:\n",
      "acc_modr\n",
      "estructu\n",
      "inst_enc\n",
      "perio_ac\n",
      "prog_mod\n",
      "tip_inst\n",
      "ubic_geo\n",
      "\n",
      "Diccionarios disponibles para P0306:\n",
      "diccionario_de_datos_programa_modernizacion_catastral_cngmd2015_dbf\n"
     ]
    }
   ],
   "source": [
    "# Creacion de diccionarios con metadatos para cada variable de P0306:\n",
    "par = 'P0306'\n",
    "p0306dic, p0306meta = getmeta(tablas['P0306'])\n",
    "print('Se extrajeron metadatos para las siguientes variables de {}:'.format(par))\n",
    "for key in p0306meta.keys(): print(key)\n",
    "print('\\nDiccionarios disponibles para {}:'.format(par))\n",
    "for key in p0306dic.keys(): print(key)"
   ]
  },
  {
   "cell_type": "code",
   "execution_count": 372,
   "metadata": {
    "scrolled": false
   },
   "outputs": [
    {
     "data": {
      "text/html": [
       "<div>\n",
       "<style>\n",
       "    .dataframe thead tr:only-child th {\n",
       "        text-align: right;\n",
       "    }\n",
       "\n",
       "    .dataframe thead th {\n",
       "        text-align: left;\n",
       "    }\n",
       "\n",
       "    .dataframe tbody tr th {\n",
       "        vertical-align: top;\n",
       "    }\n",
       "</style>\n",
       "<table border=\"1\" class=\"dataframe\">\n",
       "  <thead>\n",
       "    <tr style=\"text-align: right;\">\n",
       "      <th></th>\n",
       "      <th>Descripción</th>\n",
       "    </tr>\n",
       "    <tr>\n",
       "      <th>Nombre de la \n",
       "columna</th>\n",
       "      <th></th>\n",
       "    </tr>\n",
       "  </thead>\n",
       "  <tbody>\n",
       "    <tr>\n",
       "      <th>ubic_geo</th>\n",
       "      <td>Clasificación de las entidades federativas y d...</td>\n",
       "    </tr>\n",
       "    <tr>\n",
       "      <th>prog_mod</th>\n",
       "      <td>Clasificación de los municipios de acuerdo con...</td>\n",
       "    </tr>\n",
       "    <tr>\n",
       "      <th>inst_enc</th>\n",
       "      <td>Clasificación de los municipios de acuerdo con...</td>\n",
       "    </tr>\n",
       "    <tr>\n",
       "      <th>tip_inst</th>\n",
       "      <td>Clasificación de los municipios de acuerdo con...</td>\n",
       "    </tr>\n",
       "    <tr>\n",
       "      <th>acc_modr</th>\n",
       "      <td>Clasificación de los municipios de acuerdo con...</td>\n",
       "    </tr>\n",
       "    <tr>\n",
       "      <th>perio_ac</th>\n",
       "      <td>Clasificación de los municipios de acuerdo con...</td>\n",
       "    </tr>\n",
       "    <tr>\n",
       "      <th>estructu</th>\n",
       "      <td>Clasificación de los municipios y las delegaci...</td>\n",
       "    </tr>\n",
       "  </tbody>\n",
       "</table>\n",
       "</div>"
      ],
      "text/plain": [
       "                                                              Descripción\n",
       "Nombre de la \\ncolumna                                                   \n",
       "ubic_geo                Clasificación de las entidades federativas y d...\n",
       "prog_mod                Clasificación de los municipios de acuerdo con...\n",
       "inst_enc                Clasificación de los municipios de acuerdo con...\n",
       "tip_inst                Clasificación de los municipios de acuerdo con...\n",
       "acc_modr                Clasificación de los municipios de acuerdo con...\n",
       "perio_ac                Clasificación de los municipios de acuerdo con...\n",
       "estructu                Clasificación de los municipios y las delegaci..."
      ]
     },
     "execution_count": 372,
     "metadata": {},
     "output_type": "execute_result"
    }
   ],
   "source": [
    "# Para P0306, solo existe una tabla de descripciones por lo que se convierte a un dataframe unico para poder indexar\n",
    "p0306dic = p0306dic['diccionario_de_datos_programa_modernizacion_catastral_cngmd2015_dbf']\n",
    "p0306dic"
   ]
  },
  {
   "cell_type": "code",
   "execution_count": 373,
   "metadata": {},
   "outputs": [
    {
     "data": {
      "text/plain": [
       "['ubic_geo',\n",
       " 'prog_mod',\n",
       " 'inst_enc',\n",
       " 'tip_inst',\n",
       " 'acc_modr',\n",
       " 'perio_ac',\n",
       " 'estructu']"
      ]
     },
     "execution_count": 373,
     "metadata": {},
     "output_type": "execute_result"
    }
   ],
   "source": [
    "list(p0306dic.index)"
   ]
  },
  {
   "cell_type": "code",
   "execution_count": 374,
   "metadata": {
    "scrolled": false
   },
   "outputs": [
    {
     "name": "stdout",
     "output_type": "stream",
     "text": [
      "** DESCRIPCIONES DE VARIABLES **\n",
      "\n",
      "\"ubic_geo\" :\n",
      "CLASIFICACIÓN DE LAS ENTIDADES FEDERATIVAS Y DE ÉSTAS A SUS MUNICIPIOS.\n",
      "----------------------------------------\n",
      "Imprimiendo 10 de 2542 registros\n",
      "          ent    desc_ent  mpio                       des_mpio\n",
      "ubic_geo                                                      \n",
      "11034      11  Guanajuato    34                 Santa Catarina\n",
      "11035      11  Guanajuato    35  Santa Cruz de Juventino Rosas\n",
      "11036      11  Guanajuato    36             Santiago Maravatío\n",
      "11037      11  Guanajuato    37           Silao de la Victoria\n",
      "11038      11  Guanajuato    38                    Tarandacuao\n",
      "11039      11  Guanajuato    39                       Tarimoro\n",
      "11040      11  Guanajuato    40                  Tierra Blanca\n",
      "11041      11  Guanajuato    41                      Uriangato\n",
      "11042      11  Guanajuato    42              Valle de Santiago\n",
      "11043      11  Guanajuato    43                       Victoria\n",
      "\n",
      "\n",
      "\"prog_mod\" :\n",
      "CLASIFICACIÓN DE LOS MUNICIPIOS DE ACUERDO CON EL PROGRAMA DE MODERNIZACIÓN CATASTRAL CON EL QUE CUENTA.\n",
      "            desc_pro\n",
      "prog_mod            \n",
      "1                 Si\n",
      "2                 No\n",
      "99        No se sabe\n",
      "\n",
      "\n",
      "\"inst_enc\" :\n",
      "CLASIFICACIÓN DE LOS MUNICIPIOS DE ACUERDO CON LA INSTITUCIÓN ENCARGADA DE COORDINAR Y/O EJECUTAR EL PROGRAMA DE MODERNIZACIÓN CATASTRAL, ASÍ COMO DE LA QUE SE RECIBEN APOYOS.\n",
      "                                                                                        desc_ins\n",
      "inst_enc                                                                                        \n",
      "1         Institución encargada de coordinar y/o ejecutar el programa de modernización catastral\n",
      "2                                                        institución de la que se reciben apoyos\n",
      "\n",
      "\n",
      "\"tip_inst\" :\n",
      "CLASIFICACIÓN DE LOS MUNICIPIOS DE ACUERDO CON LAS ADMINISTRACIONES PÚBLICAS MUNICIPALES POR ENTIDAD FEDERATIVA SEGÚN INSTITUCIÓN QUE COORDINA EL PROGRAMA DE MODERNIZACIÓN CATASTRAL Y/O RECIBEN EL APOYO.\n",
      "                                                                  descrip\n",
      "tip_inst                                                                 \n",
      "1                         Administración pública de la entidad federativa\n",
      "2                 Banco Nacional de Obras y Servicios Públicos (BANOBRAS)\n",
      "3         Secretaría de Desarrollo Agrario, Territorial y Urbano (SEDATU)\n",
      "4                                                                    Otra\n",
      "\n",
      "\n",
      "\"acc_modr\" :\n",
      "CLASIFICACIÓN DE LOS MUNICIPIOS DE ACUERDO CON LAS ACCIONES DEL PROGRAMA DE MODERNIZACIÓN CATASTRAL QUE SE HAN REALIZADO EN ELLOS.\n",
      "                                                                                               desc_acc\n",
      "acc_modr                                                                                               \n",
      "1                                                                        Actualizar el padrón catastral\n",
      "2                                                         Generar o actualizar la cartografía catastral\n",
      "3                                                              Adquirir un sistema de gestión catastral\n",
      "4         Adquirir equipamiento e infraestructura (computadoras, servidores, vehículos, comunicaciones)\n",
      "5                                                                           Adecuar los espacio físicos\n",
      "6                                                                      Mejorar los procesos catastrales\n",
      "7                                                                                                  Otro\n",
      "99                                                                                           No se sabe\n",
      "\n",
      "\n",
      "\"perio_ac\" :\n",
      "CLASIFICACIÓN DE LOS MUNICIPIOS DE ACUERDO CON EL PERIODO EN EL QUE SE REALIZARON LAS ACCIONES DEL PROGRAMA DE MODERNIZACIÓN CATASTRAL.\n",
      "                                                    descrip\n",
      "perio_ac                                                   \n",
      "1                         En el transcurso del presente año\n",
      "2                                       Durante el año 2014\n",
      "3                                       Durante el año 2013\n",
      "4                                        Antes del año 2013\n",
      "5         No se han realizado acciones para atender el tema\n",
      "99                                               No se sabe\n",
      "\n",
      "\n",
      "\"estructu\" :\n",
      "CLASIFICACIÓN DE LOS MUNICIPIOS Y LAS DELEGACIONES DEL DISTRITO FEDERAL DE ACUERDO CON LA EXISTENCIA DEL PROGRAMA DE MODERNIZACIÓN CATASTRAL, ADEMÁS DE LA INSTITUCIÓN QUE COORDINA Y/O APOYA EL PROGRAMA DE MODERNIZACIÓN CATASTRAL, ASÍ COMO LAS ACCIONES DEL PROGRAMA DE MODERNIZACIÓN CATASTRAL REALIZADAS Y DEL PERIODO EN QUE SE REALIZARON.\n",
      "                                                                                    descrip\n",
      "estructu                                                                                   \n",
      "240500                       El municipio cuenta con un programa de modernización catastral\n",
      "240501            Institución que coordina y/o apoya el programa de modernización catastral\n",
      "240502                          Acciones del programa de modernización catastral realizadas\n",
      "240503    Periodo en que se realizaron las acciones del programa de modernización catastral\n",
      "\n",
      "\n"
     ]
    }
   ],
   "source": [
    "print('** Descripciones de variables **\\n'.upper())\n",
    "for i in p0306dic.index:\n",
    "    queryvar(i)\n",
    "    print('\\n')"
   ]
  },
  {
   "cell_type": "code",
   "execution_count": 375,
   "metadata": {},
   "outputs": [],
   "source": [
    "# Carga de datos\n",
    "P0306f = tablas['P0306']+'\\\\'+os.listdir(tablas['P0306'])[0]\n",
    "df = pd.read_csv(P0306f, dtype={'ubic_geo':'str'}, index_col=0)\n",
    "P0306 = df.where((pd.notnull(df)), None)"
   ]
  },
  {
   "cell_type": "markdown",
   "metadata": {},
   "source": [
    "El archivo está estructurado de manera inconveniente, teniendo un renglón para cada variable. Lo conveniente es que cada renglón contenga toda la información de un solo municipio."
   ]
  },
  {
   "cell_type": "code",
   "execution_count": 376,
   "metadata": {},
   "outputs": [
    {
     "data": {
      "text/html": [
       "<div>\n",
       "<style>\n",
       "    .dataframe thead tr:only-child th {\n",
       "        text-align: right;\n",
       "    }\n",
       "\n",
       "    .dataframe thead th {\n",
       "        text-align: left;\n",
       "    }\n",
       "\n",
       "    .dataframe tbody tr th {\n",
       "        vertical-align: top;\n",
       "    }\n",
       "</style>\n",
       "<table border=\"1\" class=\"dataframe\">\n",
       "  <thead>\n",
       "    <tr style=\"text-align: right;\">\n",
       "      <th></th>\n",
       "      <th>prog_mod</th>\n",
       "      <th>inst_enc</th>\n",
       "      <th>tip_inst</th>\n",
       "      <th>acc_modr</th>\n",
       "      <th>perio_ac</th>\n",
       "      <th>estructu</th>\n",
       "    </tr>\n",
       "    <tr>\n",
       "      <th>ubic_geo</th>\n",
       "      <th></th>\n",
       "      <th></th>\n",
       "      <th></th>\n",
       "      <th></th>\n",
       "      <th></th>\n",
       "      <th></th>\n",
       "    </tr>\n",
       "  </thead>\n",
       "  <tbody>\n",
       "    <tr>\n",
       "      <th>15045</th>\n",
       "      <td>1</td>\n",
       "      <td>None</td>\n",
       "      <td>None</td>\n",
       "      <td>None</td>\n",
       "      <td>None</td>\n",
       "      <td>240500</td>\n",
       "    </tr>\n",
       "    <tr>\n",
       "      <th>15045</th>\n",
       "      <td>None</td>\n",
       "      <td>1</td>\n",
       "      <td>1</td>\n",
       "      <td>None</td>\n",
       "      <td>None</td>\n",
       "      <td>240501</td>\n",
       "    </tr>\n",
       "    <tr>\n",
       "      <th>15045</th>\n",
       "      <td>None</td>\n",
       "      <td>1</td>\n",
       "      <td>2</td>\n",
       "      <td>None</td>\n",
       "      <td>None</td>\n",
       "      <td>240501</td>\n",
       "    </tr>\n",
       "    <tr>\n",
       "      <th>15045</th>\n",
       "      <td>None</td>\n",
       "      <td>2</td>\n",
       "      <td>2</td>\n",
       "      <td>None</td>\n",
       "      <td>None</td>\n",
       "      <td>240501</td>\n",
       "    </tr>\n",
       "    <tr>\n",
       "      <th>15045</th>\n",
       "      <td>None</td>\n",
       "      <td>None</td>\n",
       "      <td>None</td>\n",
       "      <td>None</td>\n",
       "      <td>2</td>\n",
       "      <td>240503</td>\n",
       "    </tr>\n",
       "    <tr>\n",
       "      <th>15045</th>\n",
       "      <td>None</td>\n",
       "      <td>None</td>\n",
       "      <td>None</td>\n",
       "      <td>1</td>\n",
       "      <td>None</td>\n",
       "      <td>240502</td>\n",
       "    </tr>\n",
       "    <tr>\n",
       "      <th>15045</th>\n",
       "      <td>None</td>\n",
       "      <td>None</td>\n",
       "      <td>None</td>\n",
       "      <td>2</td>\n",
       "      <td>None</td>\n",
       "      <td>240502</td>\n",
       "    </tr>\n",
       "    <tr>\n",
       "      <th>15045</th>\n",
       "      <td>None</td>\n",
       "      <td>None</td>\n",
       "      <td>None</td>\n",
       "      <td>4</td>\n",
       "      <td>None</td>\n",
       "      <td>240502</td>\n",
       "    </tr>\n",
       "    <tr>\n",
       "      <th>15045</th>\n",
       "      <td>None</td>\n",
       "      <td>None</td>\n",
       "      <td>None</td>\n",
       "      <td>5</td>\n",
       "      <td>None</td>\n",
       "      <td>240502</td>\n",
       "    </tr>\n",
       "    <tr>\n",
       "      <th>15045</th>\n",
       "      <td>None</td>\n",
       "      <td>None</td>\n",
       "      <td>None</td>\n",
       "      <td>6</td>\n",
       "      <td>None</td>\n",
       "      <td>240502</td>\n",
       "    </tr>\n",
       "  </tbody>\n",
       "</table>\n",
       "</div>"
      ],
      "text/plain": [
       "         prog_mod inst_enc tip_inst acc_modr perio_ac  estructu\n",
       "ubic_geo                                                       \n",
       "15045           1     None     None     None     None    240500\n",
       "15045        None        1        1     None     None    240501\n",
       "15045        None        1        2     None     None    240501\n",
       "15045        None        2        2     None     None    240501\n",
       "15045        None     None     None     None        2    240503\n",
       "15045        None     None     None        1     None    240502\n",
       "15045        None     None     None        2     None    240502\n",
       "15045        None     None     None        4     None    240502\n",
       "15045        None     None     None        5     None    240502\n",
       "15045        None     None     None        6     None    240502"
      ]
     },
     "execution_count": 376,
     "metadata": {},
     "output_type": "execute_result"
    }
   ],
   "source": [
    "# subset para pruebas\n",
    "test = P0306.loc[15045]\n",
    "test"
   ]
  },
  {
   "cell_type": "markdown",
   "metadata": {},
   "source": [
    "Para corregirlo, primero hacemos dataframes separados para cada variable. Afortunadamente, la columna 'Estructu' sirve para agrupar estructuralmente el dataframe"
   ]
  },
  {
   "cell_type": "code",
   "execution_count": 377,
   "metadata": {
    "scrolled": true
   },
   "outputs": [
    {
     "name": "stdout",
     "output_type": "stream",
     "text": [
      "\"estructu\" :\n",
      "CLASIFICACIÓN DE LOS MUNICIPIOS Y LAS DELEGACIONES DEL DISTRITO FEDERAL DE ACUERDO CON LA EXISTENCIA DEL PROGRAMA DE MODERNIZACIÓN CATASTRAL, ADEMÁS DE LA INSTITUCIÓN QUE COORDINA Y/O APOYA EL PROGRAMA DE MODERNIZACIÓN CATASTRAL, ASÍ COMO LAS ACCIONES DEL PROGRAMA DE MODERNIZACIÓN CATASTRAL REALIZADAS Y DEL PERIODO EN QUE SE REALIZARON.\n",
      "                                                                                    descrip\n",
      "estructu                                                                                   \n",
      "240500                       El municipio cuenta con un programa de modernización catastral\n",
      "240501            Institución que coordina y/o apoya el programa de modernización catastral\n",
      "240502                          Acciones del programa de modernización catastral realizadas\n",
      "240503    Periodo en que se realizaron las acciones del programa de modernización catastral\n"
     ]
    }
   ],
   "source": [
    "queryvar('estructu')"
   ]
  },
  {
   "cell_type": "code",
   "execution_count": 378,
   "metadata": {},
   "outputs": [
    {
     "name": "stdout",
     "output_type": "stream",
     "text": [
      "ubic_geo\n",
      "15045     1\n",
      "15046     2\n",
      "15047     2\n",
      "15048     1\n",
      "15049     2\n",
      "15050     1\n",
      "15051     1\n",
      "15052     1\n",
      "15053     1\n",
      "15054    99\n",
      "Name: prog_mod, dtype: int32\n",
      "--------------------------------------------------\n",
      "\"prog_mod\" :\n",
      "CLASIFICACIÓN DE LOS MUNICIPIOS DE ACUERDO CON EL PROGRAMA DE MODERNIZACIÓN CATASTRAL CON EL QUE CUENTA.\n",
      "            desc_pro\n",
      "prog_mod            \n",
      "1                 Si\n",
      "2                 No\n",
      "99        No se sabe\n"
     ]
    }
   ],
   "source": [
    "# ¿El municipio cuenta con un programa de modernización catastral?\n",
    "P0306_00 = P0306[P0306['estructu'] == 240500]['prog_mod'].astype('int')\n",
    "print(P0306_00.head(10))\n",
    "print('-'*50)\n",
    "queryvar('prog_mod')"
   ]
  },
  {
   "cell_type": "code",
   "execution_count": 379,
   "metadata": {
    "scrolled": false
   },
   "outputs": [
    {
     "name": "stdout",
     "output_type": "stream",
     "text": [
      "ubic_geo\n",
      "1006     1\n",
      "2001     3\n",
      "2002     4\n",
      "2003     1\n",
      "2004     1\n",
      "2005     1\n",
      "3002     2\n",
      "3003    99\n",
      "3008     1\n",
      "3009     5\n",
      "Name: perio_ac, dtype: int32\n",
      "--------------------------------------------------\n",
      "\"perio_ac\" :\n",
      "CLASIFICACIÓN DE LOS MUNICIPIOS DE ACUERDO CON EL PERIODO EN EL QUE SE REALIZARON LAS ACCIONES DEL PROGRAMA DE MODERNIZACIÓN CATASTRAL.\n",
      "                                                    descrip\n",
      "perio_ac                                                   \n",
      "1                         En el transcurso del presente año\n",
      "2                                       Durante el año 2014\n",
      "3                                       Durante el año 2013\n",
      "4                                        Antes del año 2013\n",
      "5         No se han realizado acciones para atender el tema\n",
      "99                                               No se sabe\n"
     ]
    }
   ],
   "source": [
    "# ¿En que periodo se realizaron las acciones del programa de modernización catastral?\n",
    "P0306_03 = P0306[P0306['estructu'] == 240503]['perio_ac'].astype('int')\n",
    "print(P0306_03.head(10))\n",
    "print('-'*50)\n",
    "queryvar('perio_ac')"
   ]
  },
  {
   "cell_type": "code",
   "execution_count": 383,
   "metadata": {
    "scrolled": false
   },
   "outputs": [
    {
     "name": "stdout",
     "output_type": "stream",
     "text": [
      "ubic_geo\n",
      "1006                   [1, 5]\n",
      "2001                [2, 3, 4]\n",
      "2002       [1, 2, 3, 4, 5, 6]\n",
      "2003             [1, 2, 3, 4]\n",
      "2004    [1, 2, 3, 4, 5, 6, 7]\n",
      "2005          [1, 2, 3, 4, 6]\n",
      "3002       [1, 2, 3, 4, 5, 6]\n",
      "3003                     [99]\n",
      "3008       [1, 2, 3, 4, 5, 6]\n",
      "3009                      [7]\n",
      "Name: acc_modr, dtype: object\n",
      "\"acc_modr\" :\n",
      "CLASIFICACIÓN DE LOS MUNICIPIOS DE ACUERDO CON LAS ACCIONES DEL PROGRAMA DE MODERNIZACIÓN CATASTRAL QUE SE HAN REALIZADO EN ELLOS.\n",
      "                                                                                               desc_acc\n",
      "acc_modr                                                                                               \n",
      "1                                                                        Actualizar el padrón catastral\n",
      "2                                                         Generar o actualizar la cartografía catastral\n",
      "3                                                              Adquirir un sistema de gestión catastral\n",
      "4         Adquirir equipamiento e infraestructura (computadoras, servidores, vehículos, comunicaciones)\n",
      "5                                                                           Adecuar los espacio físicos\n",
      "6                                                                      Mejorar los procesos catastrales\n",
      "7                                                                                                  Otro\n",
      "99                                                                                           No se sabe\n"
     ]
    }
   ],
   "source": [
    "# ¿Qué acciones se realizaron?\n",
    "P0306_02 = P0306[P0306['estructu'] == 240502]['acc_modr'].astype('int').groupby('ubic_geo').apply(list)\n",
    "print(P0306_02.head(10))\n",
    "queryvar('acc_modr')"
   ]
  },
  {
   "cell_type": "code",
   "execution_count": 384,
   "metadata": {},
   "outputs": [
    {
     "data": {
      "text/plain": [
       "ubic_geo\n",
       "1006    2\n",
       "2001    3\n",
       "2002    6\n",
       "2003    4\n",
       "2004    7\n",
       "2005    5\n",
       "3002    6\n",
       "3003    1\n",
       "3008    6\n",
       "3009    1\n",
       "Name: n_acc_modr, dtype: int64"
      ]
     },
     "execution_count": 384,
     "metadata": {},
     "output_type": "execute_result"
    }
   ],
   "source": [
    "# ¿Cuantas acciones se realizaron?\n",
    "P0306_02b = P0306_02.apply(len).rename('n_acc_modr')\n",
    "P0306_02b.head(10)"
   ]
  },
  {
   "cell_type": "code",
   "execution_count": 385,
   "metadata": {
    "scrolled": true
   },
   "outputs": [
    {
     "name": "stdout",
     "output_type": "stream",
     "text": [
      "\"inst_enc\" :\n",
      "CLASIFICACIÓN DE LOS MUNICIPIOS DE ACUERDO CON LA INSTITUCIÓN ENCARGADA DE COORDINAR Y/O EJECUTAR EL PROGRAMA DE MODERNIZACIÓN CATASTRAL, ASÍ COMO DE LA QUE SE RECIBEN APOYOS.\n",
      "                                                                                        desc_ins\n",
      "inst_enc                                                                                        \n",
      "1         Institución encargada de coordinar y/o ejecutar el programa de modernización catastral\n",
      "2                                                        institución de la que se reciben apoyos\n"
     ]
    }
   ],
   "source": [
    "queryvar('inst_enc')"
   ]
  },
  {
   "cell_type": "code",
   "execution_count": 387,
   "metadata": {
    "scrolled": true
   },
   "outputs": [
    {
     "data": {
      "text/html": [
       "<div>\n",
       "<style>\n",
       "    .dataframe thead tr:only-child th {\n",
       "        text-align: right;\n",
       "    }\n",
       "\n",
       "    .dataframe thead th {\n",
       "        text-align: left;\n",
       "    }\n",
       "\n",
       "    .dataframe tbody tr th {\n",
       "        vertical-align: top;\n",
       "    }\n",
       "</style>\n",
       "<table border=\"1\" class=\"dataframe\">\n",
       "  <thead>\n",
       "    <tr style=\"text-align: right;\">\n",
       "      <th></th>\n",
       "      <th>inst_enc</th>\n",
       "      <th>tip_inst</th>\n",
       "    </tr>\n",
       "    <tr>\n",
       "      <th>ubic_geo</th>\n",
       "      <th></th>\n",
       "      <th></th>\n",
       "    </tr>\n",
       "  </thead>\n",
       "  <tbody>\n",
       "    <tr>\n",
       "      <th>1006</th>\n",
       "      <td>1</td>\n",
       "      <td>4</td>\n",
       "    </tr>\n",
       "    <tr>\n",
       "      <th>1006</th>\n",
       "      <td>2</td>\n",
       "      <td>4</td>\n",
       "    </tr>\n",
       "    <tr>\n",
       "      <th>2001</th>\n",
       "      <td>1</td>\n",
       "      <td>3</td>\n",
       "    </tr>\n",
       "    <tr>\n",
       "      <th>2001</th>\n",
       "      <td>2</td>\n",
       "      <td>3</td>\n",
       "    </tr>\n",
       "    <tr>\n",
       "      <th>2002</th>\n",
       "      <td>1</td>\n",
       "      <td>3</td>\n",
       "    </tr>\n",
       "  </tbody>\n",
       "</table>\n",
       "</div>"
      ],
      "text/plain": [
       "         inst_enc tip_inst\n",
       "ubic_geo                  \n",
       "1006            1        4\n",
       "1006            2        4\n",
       "2001            1        3\n",
       "2001            2        3\n",
       "2002            1        3"
      ]
     },
     "execution_count": 387,
     "metadata": {},
     "output_type": "execute_result"
    }
   ],
   "source": [
    "# ¿Que instituciones se han involucrado en la modernizacion catastral, y de qué manera?\n",
    "P0306_01t = P0306[P0306['estructu'] == 240501][['inst_enc', 'tip_inst']]    # tipo de apoyo e institucion \n",
    "P0306_01t.head()"
   ]
  },
  {
   "cell_type": "markdown",
   "metadata": {},
   "source": [
    "Se reemplazarán numeros por descripciones en **tip_inst**:"
   ]
  },
  {
   "cell_type": "code",
   "execution_count": 388,
   "metadata": {
    "scrolled": true
   },
   "outputs": [
    {
     "name": "stdout",
     "output_type": "stream",
     "text": [
      "\"tip_inst\" :\n",
      "CLASIFICACIÓN DE LOS MUNICIPIOS DE ACUERDO CON LAS ADMINISTRACIONES PÚBLICAS MUNICIPALES POR ENTIDAD FEDERATIVA SEGÚN INSTITUCIÓN QUE COORDINA EL PROGRAMA DE MODERNIZACIÓN CATASTRAL Y/O RECIBEN EL APOYO.\n",
      "                                                                  descrip\n",
      "tip_inst                                                                 \n",
      "1                         Administración pública de la entidad federativa\n",
      "2                 Banco Nacional de Obras y Servicios Públicos (BANOBRAS)\n",
      "3         Secretaría de Desarrollo Agrario, Territorial y Urbano (SEDATU)\n",
      "4                                                                    Otra\n"
     ]
    }
   ],
   "source": [
    "queryvar('tip_inst')"
   ]
  },
  {
   "cell_type": "code",
   "execution_count": 389,
   "metadata": {
    "scrolled": true
   },
   "outputs": [],
   "source": [
    "# Institucion involucrada\n",
    "instit = {\n",
    "    1:'Administración pública de la entidad federativa',\n",
    "    2:'BANOBRAS',\n",
    "    3:'SEDATU',\n",
    "    4:'OTRA INSTITUCION'\n",
    "}"
   ]
  },
  {
   "cell_type": "code",
   "execution_count": 390,
   "metadata": {},
   "outputs": [
    {
     "data": {
      "text/html": [
       "<div>\n",
       "<style>\n",
       "    .dataframe thead tr:only-child th {\n",
       "        text-align: right;\n",
       "    }\n",
       "\n",
       "    .dataframe thead th {\n",
       "        text-align: left;\n",
       "    }\n",
       "\n",
       "    .dataframe tbody tr th {\n",
       "        vertical-align: top;\n",
       "    }\n",
       "</style>\n",
       "<table border=\"1\" class=\"dataframe\">\n",
       "  <thead>\n",
       "    <tr style=\"text-align: right;\">\n",
       "      <th></th>\n",
       "      <th>inst_enc</th>\n",
       "      <th>tip_inst</th>\n",
       "    </tr>\n",
       "    <tr>\n",
       "      <th>ubic_geo</th>\n",
       "      <th></th>\n",
       "      <th></th>\n",
       "    </tr>\n",
       "  </thead>\n",
       "  <tbody>\n",
       "    <tr>\n",
       "      <th>1006</th>\n",
       "      <td>1</td>\n",
       "      <td>OTRA INSTITUCION</td>\n",
       "    </tr>\n",
       "    <tr>\n",
       "      <th>1006</th>\n",
       "      <td>2</td>\n",
       "      <td>OTRA INSTITUCION</td>\n",
       "    </tr>\n",
       "    <tr>\n",
       "      <th>2001</th>\n",
       "      <td>1</td>\n",
       "      <td>SEDATU</td>\n",
       "    </tr>\n",
       "    <tr>\n",
       "      <th>2001</th>\n",
       "      <td>2</td>\n",
       "      <td>SEDATU</td>\n",
       "    </tr>\n",
       "    <tr>\n",
       "      <th>2002</th>\n",
       "      <td>1</td>\n",
       "      <td>SEDATU</td>\n",
       "    </tr>\n",
       "  </tbody>\n",
       "</table>\n",
       "</div>"
      ],
      "text/plain": [
       "         inst_enc          tip_inst\n",
       "ubic_geo                           \n",
       "1006            1  OTRA INSTITUCION\n",
       "1006            2  OTRA INSTITUCION\n",
       "2001            1            SEDATU\n",
       "2001            2            SEDATU\n",
       "2002            1            SEDATU"
      ]
     },
     "execution_count": 390,
     "metadata": {},
     "output_type": "execute_result"
    }
   ],
   "source": [
    "P0306_01t['tip_inst'] = P0306_01t['tip_inst'].replace(instit)\n",
    "P0306_01t.head()"
   ]
  },
  {
   "cell_type": "markdown",
   "metadata": {},
   "source": [
    "Y se separará la columna 'inst_enc' en 2:"
   ]
  },
  {
   "cell_type": "code",
   "execution_count": 391,
   "metadata": {
    "scrolled": true
   },
   "outputs": [
    {
     "name": "stdout",
     "output_type": "stream",
     "text": [
      "\"inst_enc\" :\n",
      "CLASIFICACIÓN DE LOS MUNICIPIOS DE ACUERDO CON LA INSTITUCIÓN ENCARGADA DE COORDINAR Y/O EJECUTAR EL PROGRAMA DE MODERNIZACIÓN CATASTRAL, ASÍ COMO DE LA QUE SE RECIBEN APOYOS.\n",
      "                                                                                        desc_ins\n",
      "inst_enc                                                                                        \n",
      "1         Institución encargada de coordinar y/o ejecutar el programa de modernización catastral\n",
      "2                                                        institución de la que se reciben apoyos\n"
     ]
    }
   ],
   "source": [
    "queryvar('inst_enc')"
   ]
  },
  {
   "cell_type": "code",
   "execution_count": 392,
   "metadata": {},
   "outputs": [],
   "source": [
    "P0306_01t1 = P0306_01t[P0306_01t['inst_enc'] == 1]['tip_inst'].groupby('ubic_geo').apply(list).rename('i_coord_ejecuta')\n",
    "P0306_01t2 = P0306_01t[P0306_01t['inst_enc'] == 2]['tip_inst'].groupby('ubic_geo').apply(list).rename('i_otorga_apoyos')"
   ]
  },
  {
   "cell_type": "code",
   "execution_count": 393,
   "metadata": {
    "scrolled": false
   },
   "outputs": [
    {
     "data": {
      "text/plain": [
       "ubic_geo\n",
       "1006                                   [OTRA INSTITUCION]\n",
       "2001                                             [SEDATU]\n",
       "2002                                             [SEDATU]\n",
       "2003    [Administración pública de la entidad federativa]\n",
       "2004                                   [OTRA INSTITUCION]\n",
       "Name: i_coord_ejecuta, dtype: object"
      ]
     },
     "execution_count": 393,
     "metadata": {},
     "output_type": "execute_result"
    }
   ],
   "source": [
    "P0306_01t1.head()"
   ]
  },
  {
   "cell_type": "code",
   "execution_count": 326,
   "metadata": {},
   "outputs": [
    {
     "data": {
      "text/plain": [
       "ubic_geo\n",
       "1006    [OTRA INSTITUCION]\n",
       "2001              [SEDATU]\n",
       "2002              [SEDATU]\n",
       "2003              [SEDATU]\n",
       "2004    [OTRA INSTITUCION]\n",
       "Name: i_otorga_apoyos, dtype: object"
      ]
     },
     "execution_count": 326,
     "metadata": {},
     "output_type": "execute_result"
    }
   ],
   "source": [
    "P0306_01t2.head()"
   ]
  },
  {
   "cell_type": "markdown",
   "metadata": {},
   "source": [
    "Finalmente, se unirán todas las series en un solo dataframe"
   ]
  },
  {
   "cell_type": "code",
   "execution_count": 394,
   "metadata": {},
   "outputs": [],
   "source": [
    "# Convertir series en Dataframes\n",
    "P0306_00 = P0306_00.to_frame()\n",
    "P0306_03 = P0306_03.to_frame()\n",
    "P0306_02 = P0306_02.to_frame()\n",
    "P0306_02b = P0306_02b.to_frame()\n",
    "P0306_01t1 = P0306_01t1.to_frame()\n",
    "P0306_01t2 = P0306_01t2.to_frame()"
   ]
  },
  {
   "cell_type": "code",
   "execution_count": 407,
   "metadata": {},
   "outputs": [],
   "source": [
    "# Unir dataframes\n",
    "P0306 = P0306_00.join(P0306_03).join(P0306_02).join(P0306_02b).join(P0306_01t1).join(P0306_01t2)\n",
    "P0306 = P0306.where((pd.notnull(P0306)), None)"
   ]
  },
  {
   "cell_type": "code",
   "execution_count": 408,
   "metadata": {
    "scrolled": true
   },
   "outputs": [
    {
     "data": {
      "text/html": [
       "<div>\n",
       "<style>\n",
       "    .dataframe thead tr:only-child th {\n",
       "        text-align: right;\n",
       "    }\n",
       "\n",
       "    .dataframe thead th {\n",
       "        text-align: left;\n",
       "    }\n",
       "\n",
       "    .dataframe tbody tr th {\n",
       "        vertical-align: top;\n",
       "    }\n",
       "</style>\n",
       "<table border=\"1\" class=\"dataframe\">\n",
       "  <thead>\n",
       "    <tr style=\"text-align: right;\">\n",
       "      <th></th>\n",
       "      <th>prog_mod</th>\n",
       "      <th>perio_ac</th>\n",
       "      <th>acc_modr</th>\n",
       "      <th>n_acc_modr</th>\n",
       "      <th>i_coord_ejecuta</th>\n",
       "      <th>i_otorga_apoyos</th>\n",
       "    </tr>\n",
       "    <tr>\n",
       "      <th>ubic_geo</th>\n",
       "      <th></th>\n",
       "      <th></th>\n",
       "      <th></th>\n",
       "      <th></th>\n",
       "      <th></th>\n",
       "      <th></th>\n",
       "    </tr>\n",
       "  </thead>\n",
       "  <tbody>\n",
       "    <tr>\n",
       "      <th>15045</th>\n",
       "      <td>1</td>\n",
       "      <td>2</td>\n",
       "      <td>[1, 2, 4, 5, 6]</td>\n",
       "      <td>5</td>\n",
       "      <td>[Administración pública de la entidad federati...</td>\n",
       "      <td>[BANOBRAS]</td>\n",
       "    </tr>\n",
       "    <tr>\n",
       "      <th>15046</th>\n",
       "      <td>2</td>\n",
       "      <td>None</td>\n",
       "      <td>None</td>\n",
       "      <td>None</td>\n",
       "      <td>None</td>\n",
       "      <td>None</td>\n",
       "    </tr>\n",
       "    <tr>\n",
       "      <th>15047</th>\n",
       "      <td>2</td>\n",
       "      <td>None</td>\n",
       "      <td>None</td>\n",
       "      <td>None</td>\n",
       "      <td>None</td>\n",
       "      <td>None</td>\n",
       "    </tr>\n",
       "    <tr>\n",
       "      <th>15048</th>\n",
       "      <td>1</td>\n",
       "      <td>2</td>\n",
       "      <td>[1, 2, 3, 4, 6]</td>\n",
       "      <td>5</td>\n",
       "      <td>[SEDATU]</td>\n",
       "      <td>[Administración pública de la entidad federativa]</td>\n",
       "    </tr>\n",
       "    <tr>\n",
       "      <th>15049</th>\n",
       "      <td>2</td>\n",
       "      <td>None</td>\n",
       "      <td>None</td>\n",
       "      <td>None</td>\n",
       "      <td>None</td>\n",
       "      <td>None</td>\n",
       "    </tr>\n",
       "  </tbody>\n",
       "</table>\n",
       "</div>"
      ],
      "text/plain": [
       "          prog_mod perio_ac         acc_modr n_acc_modr  \\\n",
       "ubic_geo                                                  \n",
       "15045            1        2  [1, 2, 4, 5, 6]          5   \n",
       "15046            2     None             None       None   \n",
       "15047            2     None             None       None   \n",
       "15048            1        2  [1, 2, 3, 4, 6]          5   \n",
       "15049            2     None             None       None   \n",
       "\n",
       "                                            i_coord_ejecuta  \\\n",
       "ubic_geo                                                      \n",
       "15045     [Administración pública de la entidad federati...   \n",
       "15046                                                  None   \n",
       "15047                                                  None   \n",
       "15048                                              [SEDATU]   \n",
       "15049                                                  None   \n",
       "\n",
       "                                            i_otorga_apoyos  \n",
       "ubic_geo                                                     \n",
       "15045                                            [BANOBRAS]  \n",
       "15046                                                  None  \n",
       "15047                                                  None  \n",
       "15048     [Administración pública de la entidad federativa]  \n",
       "15049                                                  None  "
      ]
     },
     "execution_count": 408,
     "metadata": {},
     "output_type": "execute_result"
    }
   ],
   "source": [
    "P0306.head()"
   ]
  },
  {
   "cell_type": "markdown",
   "metadata": {},
   "source": [
    "__Metadatos para P0306__"
   ]
  },
  {
   "cell_type": "code",
   "execution_count": null,
   "metadata": {
    "collapsed": true
   },
   "outputs": [],
   "source": [
    "P0306meta = "
   ]
  }
 ],
 "metadata": {
  "kernelspec": {
   "display_name": "Python 3",
   "language": "python",
   "name": "python3"
  },
  "language_info": {
   "codemirror_mode": {
    "name": "ipython",
    "version": 3
   },
   "file_extension": ".py",
   "mimetype": "text/x-python",
   "name": "python",
   "nbconvert_exporter": "python",
   "pygments_lexer": "ipython3",
   "version": "3.6.1"
  }
 },
 "nbformat": 4,
 "nbformat_minor": 2
}
