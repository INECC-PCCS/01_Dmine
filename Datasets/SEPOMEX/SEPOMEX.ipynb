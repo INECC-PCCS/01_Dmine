{
 "cells": [
  {
   "cell_type": "markdown",
   "metadata": {},
   "source": [
    "# Base de datos de códigos postales del Servicio Postal Mexicano\n",
    "## Introduccion\n",
    "Tuve la fortuna de encontrar la base de datos en un repositorio de Github que alguien ya había minado previamente.\n",
    "la URL al repositorio es https://github.com/redrbrt/sepomex-zip-codes\n",
    "## Revision al dataset"
   ]
  },
  {
   "cell_type": "code",
   "execution_count": 1,
   "metadata": {
    "collapsed": true
   },
   "outputs": [],
   "source": [
    "# Librerias utilizadas\n",
    "import pandas as pd\n",
    "import sys\n",
    "import os\n",
    "import csv\n",
    "import urllib"
   ]
  },
  {
   "cell_type": "code",
   "execution_count": 6,
   "metadata": {},
   "outputs": [
    {
     "data": {
      "text/plain": [
       "('D:\\\\PCCS\\\\00_RawData\\\\01_CSV\\\\SEPOMEX\\\\sepomex_abril-2016.csv',\n",
       " <http.client.HTTPMessage at 0x1c7141a860>)"
      ]
     },
     "execution_count": 6,
     "metadata": {},
     "output_type": "execute_result"
    }
   ],
   "source": [
    "# Descarga de archivos a carpeta local\n",
    "fuente = r'https://github.com/redrbrt/sepomex-zip-codes/raw/master/sepomex_abril-2016.csv'\n",
    "destino = r'D:\\PCCS\\00_RawData\\01_CSV\\SEPOMEX\\sepomex_abril-2016.csv'\n",
    "urllib.request.urlretrieve(fuente, destino)\n"
   ]
  },
  {
   "cell_type": "code",
   "execution_count": 15,
   "metadata": {},
   "outputs": [
    {
     "data": {
      "text/html": [
       "<div>\n",
       "<style>\n",
       "    .dataframe thead tr:only-child th {\n",
       "        text-align: right;\n",
       "    }\n",
       "\n",
       "    .dataframe thead th {\n",
       "        text-align: left;\n",
       "    }\n",
       "\n",
       "    .dataframe tbody tr th {\n",
       "        vertical-align: top;\n",
       "    }\n",
       "</style>\n",
       "<table border=\"1\" class=\"dataframe\">\n",
       "  <thead>\n",
       "    <tr style=\"text-align: right;\">\n",
       "      <th></th>\n",
       "      <th>idEstado</th>\n",
       "      <th>estado</th>\n",
       "      <th>idMunicipio</th>\n",
       "      <th>municipio</th>\n",
       "      <th>ciudad</th>\n",
       "      <th>zona</th>\n",
       "      <th>cp</th>\n",
       "      <th>asentamiento</th>\n",
       "      <th>tipo</th>\n",
       "    </tr>\n",
       "  </thead>\n",
       "  <tbody>\n",
       "    <tr>\n",
       "      <th>0</th>\n",
       "      <td>1</td>\n",
       "      <td>Aguascalientes</td>\n",
       "      <td>1</td>\n",
       "      <td>Aguascalientes</td>\n",
       "      <td>Aguascalientes</td>\n",
       "      <td>Urbano</td>\n",
       "      <td>20000</td>\n",
       "      <td>Zona Centro</td>\n",
       "      <td>Colonia</td>\n",
       "    </tr>\n",
       "    <tr>\n",
       "      <th>1</th>\n",
       "      <td>1</td>\n",
       "      <td>Aguascalientes</td>\n",
       "      <td>1</td>\n",
       "      <td>Aguascalientes</td>\n",
       "      <td>Aguascalientes</td>\n",
       "      <td>Urbano</td>\n",
       "      <td>20010</td>\n",
       "      <td>Colinas del Rio</td>\n",
       "      <td>Fraccionamiento</td>\n",
       "    </tr>\n",
       "    <tr>\n",
       "      <th>2</th>\n",
       "      <td>1</td>\n",
       "      <td>Aguascalientes</td>\n",
       "      <td>1</td>\n",
       "      <td>Aguascalientes</td>\n",
       "      <td>Aguascalientes</td>\n",
       "      <td>Urbano</td>\n",
       "      <td>20010</td>\n",
       "      <td>Las Brisas</td>\n",
       "      <td>Fraccionamiento</td>\n",
       "    </tr>\n",
       "  </tbody>\n",
       "</table>\n",
       "</div>"
      ],
      "text/plain": [
       "   idEstado          estado  idMunicipio       municipio          ciudad  \\\n",
       "0         1  Aguascalientes            1  Aguascalientes  Aguascalientes   \n",
       "1         1  Aguascalientes            1  Aguascalientes  Aguascalientes   \n",
       "2         1  Aguascalientes            1  Aguascalientes  Aguascalientes   \n",
       "\n",
       "     zona     cp     asentamiento             tipo  \n",
       "0  Urbano  20000      Zona Centro          Colonia  \n",
       "1  Urbano  20010  Colinas del Rio  Fraccionamiento  \n",
       "2  Urbano  20010       Las Brisas  Fraccionamiento  "
      ]
     },
     "execution_count": 15,
     "metadata": {},
     "output_type": "execute_result"
    }
   ],
   "source": [
    "# Importa el dataset a Python\n",
    "dataset = pd.read_csv(destino)\n",
    "dataset.head(3)"
   ]
  },
  {
   "cell_type": "code",
   "execution_count": 16,
   "metadata": {},
   "outputs": [
    {
     "data": {
      "text/html": [
       "<div>\n",
       "<style>\n",
       "    .dataframe thead tr:only-child th {\n",
       "        text-align: right;\n",
       "    }\n",
       "\n",
       "    .dataframe thead th {\n",
       "        text-align: left;\n",
       "    }\n",
       "\n",
       "    .dataframe tbody tr th {\n",
       "        vertical-align: top;\n",
       "    }\n",
       "</style>\n",
       "<table border=\"1\" class=\"dataframe\">\n",
       "  <thead>\n",
       "    <tr style=\"text-align: right;\">\n",
       "      <th></th>\n",
       "      <th>idEstado</th>\n",
       "      <th>estado</th>\n",
       "      <th>idMunicipio</th>\n",
       "      <th>municipio</th>\n",
       "      <th>ciudad</th>\n",
       "      <th>zona</th>\n",
       "      <th>CP</th>\n",
       "      <th>asentamiento</th>\n",
       "      <th>tipo</th>\n",
       "      <th>CVE_MUN</th>\n",
       "    </tr>\n",
       "  </thead>\n",
       "  <tbody>\n",
       "    <tr>\n",
       "      <th>0</th>\n",
       "      <td>01</td>\n",
       "      <td>Aguascalientes</td>\n",
       "      <td>001</td>\n",
       "      <td>Aguascalientes</td>\n",
       "      <td>Aguascalientes</td>\n",
       "      <td>Urbano</td>\n",
       "      <td>20000</td>\n",
       "      <td>Zona Centro</td>\n",
       "      <td>Colonia</td>\n",
       "      <td>01001</td>\n",
       "    </tr>\n",
       "    <tr>\n",
       "      <th>1</th>\n",
       "      <td>01</td>\n",
       "      <td>Aguascalientes</td>\n",
       "      <td>001</td>\n",
       "      <td>Aguascalientes</td>\n",
       "      <td>Aguascalientes</td>\n",
       "      <td>Urbano</td>\n",
       "      <td>20010</td>\n",
       "      <td>Colinas del Rio</td>\n",
       "      <td>Fraccionamiento</td>\n",
       "      <td>01001</td>\n",
       "    </tr>\n",
       "    <tr>\n",
       "      <th>2</th>\n",
       "      <td>01</td>\n",
       "      <td>Aguascalientes</td>\n",
       "      <td>001</td>\n",
       "      <td>Aguascalientes</td>\n",
       "      <td>Aguascalientes</td>\n",
       "      <td>Urbano</td>\n",
       "      <td>20010</td>\n",
       "      <td>Las Brisas</td>\n",
       "      <td>Fraccionamiento</td>\n",
       "      <td>01001</td>\n",
       "    </tr>\n",
       "  </tbody>\n",
       "</table>\n",
       "</div>"
      ],
      "text/plain": [
       "  idEstado          estado idMunicipio       municipio          ciudad  \\\n",
       "0       01  Aguascalientes         001  Aguascalientes  Aguascalientes   \n",
       "1       01  Aguascalientes         001  Aguascalientes  Aguascalientes   \n",
       "2       01  Aguascalientes         001  Aguascalientes  Aguascalientes   \n",
       "\n",
       "     zona     CP     asentamiento             tipo CVE_MUN  \n",
       "0  Urbano  20000      Zona Centro          Colonia   01001  \n",
       "1  Urbano  20010  Colinas del Rio  Fraccionamiento   01001  \n",
       "2  Urbano  20010       Las Brisas  Fraccionamiento   01001  "
      ]
     },
     "execution_count": 16,
     "metadata": {},
     "output_type": "execute_result"
    }
   ],
   "source": [
    "# Corregir longitud de claves\n",
    "dataset['idEstado'] = dataset.idEstado.apply(lambda x: str(int(x)).zfill(2))   # Correccion a 2 digitos (00)\n",
    "dataset['idMunicipio'] = dataset.idMunicipio.apply(lambda x: str(int(x)).zfill(3))    # Correccion a 3 digitos (000)\n",
    "dataset['cp'] = dataset.cp.apply(lambda x: str(int(x)).zfill(5))     # Correccion a 5 digitos (00000)\n",
    "dataset['CVE_MUN'] = dataset[['idEstado', 'idMunicipio']].apply(lambda x: ''.join(x), axis=1)     # Crea CVE_MUN estandar\n",
    "dataset = dataset.rename(columns={'cp': 'CP'})\n",
    "dataset.head(3)"
   ]
  },
  {
   "cell_type": "code",
   "execution_count": 17,
   "metadata": {},
   "outputs": [],
   "source": [
    "# Creo una copia de trabajo\n",
    "SEPOMEX1 = dataset"
   ]
  },
  {
   "cell_type": "markdown",
   "metadata": {},
   "source": [
    "Debido a que el estado y municipio pueden ser derivados desde la CVE_MUN de 5 dígitos, voy a eliminar las columnas:\n",
    "* idEstado\n",
    "* estado\n",
    "* idMunicipio\n",
    "* municipio\n",
    "\n",
    "Tambien eliminaré otras columnas por diferentes motivos:\n",
    "\n",
    "* Ciudad, pues esta será asignada acorde a la Clave SUN\n",
    "* Zona, porque 'rural/urbano' no se utiliza para la construccion de parametros\n",
    "* Asentamiento, porque es un nivel de desagregación que no se utiliza\n",
    "* tipo, porque no se utiliza para la construccion de parametros"
   ]
  },
  {
   "cell_type": "code",
   "execution_count": 18,
   "metadata": {},
   "outputs": [
    {
     "data": {
      "text/html": [
       "<div>\n",
       "<style>\n",
       "    .dataframe thead tr:only-child th {\n",
       "        text-align: right;\n",
       "    }\n",
       "\n",
       "    .dataframe thead th {\n",
       "        text-align: left;\n",
       "    }\n",
       "\n",
       "    .dataframe tbody tr th {\n",
       "        vertical-align: top;\n",
       "    }\n",
       "</style>\n",
       "<table border=\"1\" class=\"dataframe\">\n",
       "  <thead>\n",
       "    <tr style=\"text-align: right;\">\n",
       "      <th></th>\n",
       "      <th>CP</th>\n",
       "      <th>CVE_MUN</th>\n",
       "    </tr>\n",
       "  </thead>\n",
       "  <tbody>\n",
       "    <tr>\n",
       "      <th>0</th>\n",
       "      <td>20000</td>\n",
       "      <td>01001</td>\n",
       "    </tr>\n",
       "    <tr>\n",
       "      <th>1</th>\n",
       "      <td>20010</td>\n",
       "      <td>01001</td>\n",
       "    </tr>\n",
       "    <tr>\n",
       "      <th>2</th>\n",
       "      <td>20010</td>\n",
       "      <td>01001</td>\n",
       "    </tr>\n",
       "  </tbody>\n",
       "</table>\n",
       "</div>"
      ],
      "text/plain": [
       "      CP CVE_MUN\n",
       "0  20000   01001\n",
       "1  20010   01001\n",
       "2  20010   01001"
      ]
     },
     "execution_count": 18,
     "metadata": {},
     "output_type": "execute_result"
    }
   ],
   "source": [
    "columnasnointeresantes = ['idEstado', 'estado', 'idMunicipio', 'municipio', 'ciudad', 'zona', 'asentamiento', 'tipo']\n",
    "for columna in columnasnointeresantes:\n",
    "    del(SEPOMEX1[columna])\n",
    "orden = ['CP', 'CVE_MUN']\n",
    "SEPOMEX1 = SEPOMEX1[orden]\n",
    "SEPOMEX1.head(3)"
   ]
  },
  {
   "cell_type": "markdown",
   "metadata": {},
   "source": [
    "De este dataset hay que eliminar renglones duplicados (como ejemplo, los renglones 1 y 2 impresos arriba), que existen porque la base de datos del SEPOMEX contiene un renglón individual cada colonia de las que integran un código postal. "
   ]
  },
  {
   "cell_type": "code",
   "execution_count": 19,
   "metadata": {},
   "outputs": [
    {
     "name": "stdout",
     "output_type": "stream",
     "text": [
      "[145908] El dataset inició con 145908 filas, incluyendo repetidas\n",
      "[32467] Al quitar las repetidas, el dataset queda con 32467 filas\n"
     ]
    }
   ],
   "source": [
    "print('[{}] El dataset inició con {} filas, incluyendo repetidas'.format(len(SEPOMEX1), len(SEPOMEX1)))\n",
    "SEPOMEX1 = SEPOMEX1.drop_duplicates(keep='first', subset=['CP'])\n",
    "print('[{}] Al quitar las repetidas, el dataset queda con {} filas'.format(len(SEPOMEX1), len(SEPOMEX1)))"
   ]
  },
  {
   "cell_type": "code",
   "execution_count": 20,
   "metadata": {},
   "outputs": [
    {
     "data": {
      "text/html": [
       "<div>\n",
       "<style>\n",
       "    .dataframe thead tr:only-child th {\n",
       "        text-align: right;\n",
       "    }\n",
       "\n",
       "    .dataframe thead th {\n",
       "        text-align: left;\n",
       "    }\n",
       "\n",
       "    .dataframe tbody tr th {\n",
       "        vertical-align: top;\n",
       "    }\n",
       "</style>\n",
       "<table border=\"1\" class=\"dataframe\">\n",
       "  <thead>\n",
       "    <tr style=\"text-align: right;\">\n",
       "      <th></th>\n",
       "      <th>CP</th>\n",
       "      <th>CVE_MUN</th>\n",
       "    </tr>\n",
       "  </thead>\n",
       "  <tbody>\n",
       "    <tr>\n",
       "      <th>0</th>\n",
       "      <td>20000</td>\n",
       "      <td>01001</td>\n",
       "    </tr>\n",
       "    <tr>\n",
       "      <th>1</th>\n",
       "      <td>20010</td>\n",
       "      <td>01001</td>\n",
       "    </tr>\n",
       "    <tr>\n",
       "      <th>6</th>\n",
       "      <td>20016</td>\n",
       "      <td>01001</td>\n",
       "    </tr>\n",
       "    <tr>\n",
       "      <th>10</th>\n",
       "      <td>20018</td>\n",
       "      <td>01001</td>\n",
       "    </tr>\n",
       "    <tr>\n",
       "      <th>11</th>\n",
       "      <td>20020</td>\n",
       "      <td>01001</td>\n",
       "    </tr>\n",
       "  </tbody>\n",
       "</table>\n",
       "</div>"
      ],
      "text/plain": [
       "       CP CVE_MUN\n",
       "0   20000   01001\n",
       "1   20010   01001\n",
       "6   20016   01001\n",
       "10  20018   01001\n",
       "11  20020   01001"
      ]
     },
     "execution_count": 20,
     "metadata": {},
     "output_type": "execute_result"
    }
   ],
   "source": [
    "SEPOMEX1.head()"
   ]
  },
  {
   "cell_type": "code",
   "execution_count": 22,
   "metadata": {},
   "outputs": [
    {
     "name": "stdout",
     "output_type": "stream",
     "text": [
      "---------------TERMINADO---------------\n"
     ]
    }
   ],
   "source": [
    "# Guardar dataset como archivo excel\n",
    "file = r'D:\\PCCS\\01_Dmine\\Datasets\\SEPOMEX\\sepomex_CP_CVEMUN.xlsx'\n",
    "writer = pd.ExcelWriter(file)\n",
    "SEPOMEX1.to_excel(writer, sheet_name = 'DATOS')\n",
    "writer.save()\n",
    "print('---------------TERMINADO---------------')"
   ]
  }
 ],
 "metadata": {
  "kernelspec": {
   "display_name": "Python 3",
   "language": "python",
   "name": "python3"
  },
  "language_info": {
   "codemirror_mode": {
    "name": "ipython",
    "version": 3
   },
   "file_extension": ".py",
   "mimetype": "text/x-python",
   "name": "python",
   "nbconvert_exporter": "python",
   "pygments_lexer": "ipython3",
   "version": "3.6.1"
  }
 },
 "nbformat": 4,
 "nbformat_minor": 2
}
