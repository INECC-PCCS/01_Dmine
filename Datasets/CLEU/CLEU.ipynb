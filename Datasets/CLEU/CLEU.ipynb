{
 "cells": [
  {
   "cell_type": "markdown",
   "metadata": {},
   "source": [
    "# Limpieza de dataset de Características de las localidades y del entorno urbano 2014\n",
    "## 1. Introduccion\n",
    "\n",
    "Indicadores que salen de deste dataset: \n",
    "\n",
    "ID |Descripción\n",
    "---|:----------\n",
    "P0702|Restricción al paso de automóviles\n",
    "P0703|Restricción al paso a peatones\n",
    "P0704|Vialidades con recubrimiento de la calle\n",
    "P0705|Vialidades con banqueta\n",
    "P0706|Vialidades con guarnición\n",
    "P0713|vialidades con rampa para silla de ruedas\n",
    "\n"
   ]
  },
  {
   "cell_type": "code",
   "execution_count": 2,
   "metadata": {
    "collapsed": true
   },
   "outputs": [],
   "source": [
    "descripciones = {\n",
    "'P0702' : 'Restricción al paso de automóviles',\n",
    "'P0703' : 'Restricción al paso a peatones',\n",
    "'P0704' : 'Vialidades con recubrimiento de la calle',\n",
    "'P0705' : 'Vialidades con banqueta',\n",
    "'P0706' : 'Vialidades con guarnición',\n",
    "'P0713' : 'vialidades con rampa para silla de ruedas',\n",
    "}"
   ]
  },
  {
   "cell_type": "code",
   "execution_count": 3,
   "metadata": {
    "collapsed": true
   },
   "outputs": [],
   "source": [
    "# Librerias utilizadas\n",
    "import pandas as pd\n",
    "import sys\n",
    "import urllib\n",
    "import os\n",
    "import csv\n",
    "import zipfile"
   ]
  },
  {
   "cell_type": "code",
   "execution_count": 4,
   "metadata": {},
   "outputs": [
    {
     "name": "stdout",
     "output_type": "stream",
     "text": [
      "Python 3.6.1 |Anaconda 4.4.0 (64-bit)| (default, May 11 2017, 13:25:24) [MSC v.1900 64 bit (AMD64)] on win32\n",
      "Pandas version: 0.20.1\n",
      "Running on Windows 8.1\n"
     ]
    }
   ],
   "source": [
    "# Configuracion del sistema\n",
    "print('Python {} on {}'.format(sys.version, sys.platform))\n",
    "print('Pandas version: {}'.format(pd.__version__))\n",
    "import platform; print('Running on {} {}'.format(platform.system(), platform.release()))"
   ]
  },
  {
   "cell_type": "code",
   "execution_count": 5,
   "metadata": {
    "collapsed": true
   },
   "outputs": [],
   "source": [
    "# URL Fuente\n",
    "remote_path = r'http://www.beta.inegi.org.mx/contenidos/proyectos/encotras/cleu/2014/tabulados/tab_entorno_2014_xls.zip'\n",
    "\n",
    "# Carpeta destino Local\n",
    "local_path = r'D:\\PCCS\\00_RawData\\01_CSV\\CLEU\\tab_entorno_2014_xls.zip'"
   ]
  },
  {
   "cell_type": "markdown",
   "metadata": {},
   "source": [
    "## Descarga de datos\n",
    "Todos los datos se encuentran en un solo archivo"
   ]
  },
  {
   "cell_type": "code",
   "execution_count": 7,
   "metadata": {},
   "outputs": [
    {
     "name": "stdout",
     "output_type": "stream",
     "text": [
      "Ya existe el archivo: D:\\PCCS\\00_RawData\\01_CSV\\CLEU\\tab_entorno_2014_xls.zip\n"
     ]
    }
   ],
   "source": [
    "# Descarga de archivo\n",
    "if os.path.isfile(local_path):\n",
    "    print('Ya existe el archivo: {}'.format(local_path))\n",
    "else:\n",
    "    print('Descargando {} ... ... ... ... ... '.format(local_path))\n",
    "    urllib.request.urlretrieve(remote_path, local_path) #\n",
    "    print('se descargó {}'.format(local_path))\n"
   ]
  },
  {
   "cell_type": "code",
   "execution_count": 13,
   "metadata": {
    "scrolled": true
   },
   "outputs": [
    {
     "name": "stdout",
     "output_type": "stream",
     "text": [
      "Ya existe el archivo: D:\\PCCS\\00_RawData\\01_CSV\\CLEU\\tab_entorno_2014.xls\n"
     ]
    }
   ],
   "source": [
    "#Descompresión de archivo\n",
    "target = r'D:\\PCCS\\00_RawData\\01_CSV\\CLEU'\n",
    "archivo = target + '\\\\' + 'tab_entorno_2014.xls'\n",
    "\n",
    "if os.path.isfile(target + '\\\\' + 'tab_entorno_2014.xls'):\n",
    "    print('Ya existe el archivo: {}'.format(archivo))\n",
    "else:\n",
    "    print('Descomprimiendo {} ... ... ... ... ... '.format(target))\n",
    "    descomprimir = zipfile.ZipFile(local_path, 'r')\n",
    "    descomprimir.extractall(target)\n",
    "    descomprimir.close"
   ]
  },
  {
   "cell_type": "markdown",
   "metadata": {},
   "source": [
    "## Estandarizacion del dataset"
   ]
  },
  {
   "cell_type": "code",
   "execution_count": 15,
   "metadata": {
    "collapsed": true
   },
   "outputs": [],
   "source": [
    "# Cada parametro se encuentra en una hoja diferente del libro de excel\n",
    "# Ubicacion de datos del cada parametro:\n",
    "hojas = {\n",
    "    'P0702': 'TEU07', # Restricción al paso de automóviles\n",
    "    'P0703': 'TEU07', # Restricción al paso a peatones\n",
    "    'P0704': 'TEU12', # Vialidades con recubrimiento de la calle\n",
    "    'P0705': 'TEU02', # Vialidades con banqueta\n",
    "    'P0706': 'TEU03', # Vialidades con guarnición\n",
    "    'P0713': 'TEU04' # vialidades con rampa para silla de ruedas\n",
    "}"
   ]
  },
  {
   "cell_type": "markdown",
   "metadata": {},
   "source": [
    "Cada hoja tiene columnas diferentes, a continuación se definen para pasar los nombres durante el proceso de lectura de hojas:"
   ]
  },
  {
   "cell_type": "code",
   "execution_count": 19,
   "metadata": {
    "collapsed": true
   },
   "outputs": [],
   "source": [
    "# Nombre de las hojas a partir de su descripcion en el archivo fuente\n",
    "nom_hojas = {\n",
    "    'P0702': 'Manzanas por entidad federativa, municipio, localidad y restricción del paso a automóviles según restricción del paso a peatones en sus vialidades', # Restricción al paso de automóviles\n",
    "    'P0703': 'Manzanas por entidad federativa, municipio, localidad y restricción del paso a automóviles según restricción del paso a peatones en sus vialidades', # Restricción al paso a peatones\n",
    "    'P0704': 'Vialidades por entidad federativa, municipio, localidad y alumbrado público según tipo de recubrimiento de la calle', # Vialidades con recubrimiento de la calle\n",
    "    'P0705': 'Manzanas por entidad federativa, municipio, localidad y disponibilidad de banqueta según disponibilidad de recubrimiento de la calle', # Vialidades con banqueta\n",
    "    'P0706': 'Manzanas por entidad federativa, municipio, localidad y disponibilidad de banqueta según disponibilidad de guarnición en sus vialidades', # Vialidades con guarnición\n",
    "    'P0713': 'Manzanas por entidad federativa, municipio, localidad y disponibilidad de banqueta según disponibilidad de rampa para silla de ruedas en sus vialidades' # vialidades con rampa para silla de ruedas\n",
    "}"
   ]
  },
  {
   "cell_type": "markdown",
   "metadata": {},
   "source": [
    "Debido a que se saltarán renglones al momento de leer cada hoja, será necesario renombrar todas las columnas para cada hoja. De una vez, como en el archivo original todas las columnas tienen nombres similares sin imporatar el tema, en el renombrado de columnas se incluirá el tema al que aluda cada dataset."
   ]
  },
  {
   "cell_type": "code",
   "execution_count": 40,
   "metadata": {
    "collapsed": true
   },
   "outputs": [],
   "source": [
    "dic_hojas = {\n",
    "    'TEU07': [     # Restricción al paso de automóviles\n",
    "        'Clave geoestadística',\n",
    "        'Entidad federativa',\n",
    "        'Municipio',\n",
    "        'Localidad',\n",
    "        'Restricción del paso a automóviles',\n",
    "        'Total de manzanas',\n",
    "        'RPPeatones Todas las vialidades',\n",
    "        'RPPeatones Alguna vialidad',\n",
    "        'RPPeatones Ninguna vialidad',\n",
    "        'RPPeatones No especificado'\n",
    "    ],\n",
    "    'TEU12': [     # Vialidades con recubrimiento de la calle\n",
    "        'Clave geoestadística',\n",
    "        'Entidad federativa',\n",
    "        'Municipio',\n",
    "        'Localidad',\n",
    "        'Disponibilidad de alumbrado público',\n",
    "        'Total de vialidades',\n",
    "        'Pavimento o concreto',\n",
    "        'Empedrado o adoquín',\n",
    "        'Sin recubrimiento',\n",
    "        'Recubrimiento No especificado',\n",
    "    ], \n",
    "    'TEU02': [     # Vialidades con banqueta\n",
    "        'Clave geoestadística',\n",
    "        'Entidad federativa',\n",
    "        'Municipio',\n",
    "        'Localidad',\n",
    "        'Disponibilidad de banqueta',\n",
    "        'Total de manzanas',\n",
    "        'Banqueta en todas las vialidades',\n",
    "        'Banqueta en Alguna vialidad',\n",
    "        'Banqueta en Ninguna vialidad',\n",
    "        'Banqueta No especificado'\n",
    "    ], \n",
    "    'TEU03': [     # Vialidades con guarnición\n",
    "        'Clave geoestadística',\n",
    "        'Entidad federativa',\n",
    "        'Municipio',\n",
    "        'Localidad',\n",
    "        'Disponibilidad de banqueta',\n",
    "        'Total de manzanas',\n",
    "        'Guarnicion en Todas las vialidades',\n",
    "        'Guarnicion en Alguna vialidad',\n",
    "        'Guarnicion en Ninguna vialidad',\n",
    "        'Guarnicion No especificado'\n",
    "    ],\n",
    "    'TEU04': [     # vialidades con rampa para silla de ruedas\n",
    "        'Clave geoestadística',\n",
    "        'Entidad federativa',\n",
    "        'Municipio',\n",
    "        'Localidad',\n",
    "        'Disponibilidad de banqueta',\n",
    "        'Total de manzanas',\n",
    "        'Rampa en Todas las vialidades',\n",
    "        'Rampa en Alguna vialidad',\n",
    "        'Rampa en Ninguna vialidad',\n",
    "        'Rampa No especificado'\n",
    "    ]\n",
    "}\n"
   ]
  },
  {
   "cell_type": "code",
   "execution_count": 23,
   "metadata": {
    "collapsed": true
   },
   "outputs": [],
   "source": [
    "# Numero de filas que se tienen que ignorar en cada hoja antes de llegar a los datos.\n",
    "skip = 8"
   ]
  },
  {
   "cell_type": "code",
   "execution_count": 41,
   "metadata": {
    "collapsed": true
   },
   "outputs": [],
   "source": [
    "# Funcion para leer datos de hojas\n",
    "def cargahoja(hoja, colnames, skip):\n",
    "    raw_data = pd.read_excel(archivo,\n",
    "                              sheetname=hoja,\n",
    "                              skiprows=skip).dropna()\n",
    "    # renombra las columnas\n",
    "    raw_data.columns = colnames\n",
    "    return raw_data"
   ]
  },
  {
   "cell_type": "code",
   "execution_count": 77,
   "metadata": {
    "scrolled": true
   },
   "outputs": [
    {
     "name": "stdout",
     "output_type": "stream",
     "text": [
      "Procesando TEU07 para P0702\n",
      "------terminado------\n",
      "Procesando TEU07 para P0703\n",
      "------terminado------\n",
      "Procesando TEU12 para P0704\n",
      "------terminado------\n",
      "Procesando TEU02 para P0705\n",
      "------terminado------\n",
      "Procesando TEU03 para P0706\n",
      "------terminado------\n",
      "Procesando TEU04 para P0713\n",
      "------terminado------\n"
     ]
    }
   ],
   "source": [
    "datasets = {}\n",
    "for parametro, hoja in hojas.items():\n",
    "    print('Procesando {} para {}'.format(hoja, parametro))\n",
    "    datasets[parametro] = cargahoja(hoja, dic_hojas[hoja], skip)\n",
    "    print('------terminado------')"
   ]
  },
  {
   "cell_type": "code",
   "execution_count": 51,
   "metadata": {},
   "outputs": [
    {
     "data": {
      "text/plain": [
       "dict_keys(['P0702', 'P0703', 'P0704', 'P0705', 'P0706', 'P0713'])"
      ]
     },
     "execution_count": 51,
     "metadata": {},
     "output_type": "execute_result"
    }
   ],
   "source": [
    "datasets.keys()"
   ]
  },
  {
   "cell_type": "code",
   "execution_count": 49,
   "metadata": {
    "scrolled": true
   },
   "outputs": [
    {
     "data": {
      "text/plain": [
       "{'P0702': 'Restricción al paso de automóviles',\n",
       " 'P0703': 'Restricción al paso a peatones',\n",
       " 'P0704': 'Vialidades con recubrimiento de la calle',\n",
       " 'P0705': 'Vialidades con banqueta',\n",
       " 'P0706': 'Vialidades con guarnición',\n",
       " 'P0713': 'vialidades con rampa para silla de ruedas'}"
      ]
     },
     "execution_count": 49,
     "metadata": {},
     "output_type": "execute_result"
    }
   ],
   "source": [
    "descripciones"
   ]
  },
  {
   "cell_type": "markdown",
   "metadata": {},
   "source": [
    "## Limpieza de datasets\n",
    "Hay algunos procesos estandar que se aplican a todos los dataset"
   ]
  },
  {
   "cell_type": "code",
   "execution_count": 73,
   "metadata": {
    "collapsed": true
   },
   "outputs": [],
   "source": [
    "# Limpieza estándar\n",
    "def limpieza(dataset):\n",
    "    # Conserva unicamente los renglones con datos municipales\n",
    "    dataset = dataset[dataset['Clave geoestadística'].str.len() == 5]\n",
    "    \n",
    "    # Elimina columnas que ya no se van a utilizar\n",
    "    del(dataset['Entidad federativa'])\n",
    "    del(dataset['Municipio'])\n",
    "    del(dataset['Localidad'])\n",
    "    \n",
    "    # Renombra la columna correspondiente a CVE_MUN y asignala como index\n",
    "    dataset.set_index('Clave geoestadística', inplace=True)\n",
    "    dataset = dataset.rename_axis('CVE_MUN')\n",
    "    \n",
    "    return dataset"
   ]
  },
  {
   "cell_type": "code",
   "execution_count": 64,
   "metadata": {
    "collapsed": true
   },
   "outputs": [],
   "source": [
    "# Metadatos estándar\n",
    "metadatos = {\n",
    "    'Nombre del Dataset': 'Características de las localidades y del entorno urbano 2014',\n",
    "    'Descripcion del dataset': None,\n",
    "    'Disponibilidad Temporal': '2015',\n",
    "    'Periodo de actualizacion': 'No Determinada',\n",
    "    'Nivel de Desagregacion': 'Proyecto (agregable a municipal, estatal y nacional)',\n",
    "    'Notas': None,\n",
    "    'Fuente': 'INEGI',\n",
    "    'URL_Fuente': 'http://www.beta.inegi.org.mx/proyectos/encotras/cleu/2014/',\n",
    "    'Dataset base': None,\n",
    "}"
   ]
  },
  {
   "cell_type": "code",
   "execution_count": 67,
   "metadata": {},
   "outputs": [
    {
     "data": {
      "text/plain": [
       "['P0702', 'P0703', 'P0704', 'P0705', 'P0706', 'P0713']"
      ]
     },
     "execution_count": 67,
     "metadata": {},
     "output_type": "execute_result"
    }
   ],
   "source": [
    "list(datasets.keys())"
   ]
  },
  {
   "cell_type": "code",
   "execution_count": 78,
   "metadata": {},
   "outputs": [
    {
     "data": {
      "text/html": [
       "<div>\n",
       "<style>\n",
       "    .dataframe thead tr:only-child th {\n",
       "        text-align: right;\n",
       "    }\n",
       "\n",
       "    .dataframe thead th {\n",
       "        text-align: left;\n",
       "    }\n",
       "\n",
       "    .dataframe tbody tr th {\n",
       "        vertical-align: top;\n",
       "    }\n",
       "</style>\n",
       "<table border=\"1\" class=\"dataframe\">\n",
       "  <thead>\n",
       "    <tr style=\"text-align: right;\">\n",
       "      <th></th>\n",
       "      <th>Clave geoestadística</th>\n",
       "      <th>Entidad federativa</th>\n",
       "      <th>Municipio</th>\n",
       "      <th>Localidad</th>\n",
       "      <th>Restricción del paso a automóviles</th>\n",
       "      <th>Total de manzanas</th>\n",
       "      <th>RPPeatones Todas las vialidades</th>\n",
       "      <th>RPPeatones Alguna vialidad</th>\n",
       "      <th>RPPeatones Ninguna vialidad</th>\n",
       "      <th>RPPeatones No especificado</th>\n",
       "    </tr>\n",
       "  </thead>\n",
       "  <tbody>\n",
       "    <tr>\n",
       "      <th>1</th>\n",
       "      <td>00</td>\n",
       "      <td>Estados Unidos Mexicanos</td>\n",
       "      <td>Total</td>\n",
       "      <td>Total</td>\n",
       "      <td>Total</td>\n",
       "      <td>1329936.0</td>\n",
       "      <td>11211.0</td>\n",
       "      <td>48629.0</td>\n",
       "      <td>1228386.0</td>\n",
       "      <td>41710.0</td>\n",
       "    </tr>\n",
       "    <tr>\n",
       "      <th>2</th>\n",
       "      <td>00</td>\n",
       "      <td>Estados Unidos Mexicanos</td>\n",
       "      <td>Total</td>\n",
       "      <td>Total</td>\n",
       "      <td>Restricción del paso a automóviles en todas la...</td>\n",
       "      <td>17362.0</td>\n",
       "      <td>9849.0</td>\n",
       "      <td>601.0</td>\n",
       "      <td>6902.0</td>\n",
       "      <td>10.0</td>\n",
       "    </tr>\n",
       "    <tr>\n",
       "      <th>3</th>\n",
       "      <td>00</td>\n",
       "      <td>Estados Unidos Mexicanos</td>\n",
       "      <td>Total</td>\n",
       "      <td>Total</td>\n",
       "      <td>Restricción del paso a automóviles en alguna v...</td>\n",
       "      <td>157433.0</td>\n",
       "      <td>286.0</td>\n",
       "      <td>42607.0</td>\n",
       "      <td>114519.0</td>\n",
       "      <td>21.0</td>\n",
       "    </tr>\n",
       "  </tbody>\n",
       "</table>\n",
       "</div>"
      ],
      "text/plain": [
       "  Clave geoestadística        Entidad federativa Municipio Localidad  \\\n",
       "1                   00  Estados Unidos Mexicanos     Total     Total   \n",
       "2                   00  Estados Unidos Mexicanos     Total     Total   \n",
       "3                   00  Estados Unidos Mexicanos     Total     Total   \n",
       "\n",
       "                  Restricción del paso a automóviles  Total de manzanas  \\\n",
       "1                                              Total          1329936.0   \n",
       "2  Restricción del paso a automóviles en todas la...            17362.0   \n",
       "3  Restricción del paso a automóviles en alguna v...           157433.0   \n",
       "\n",
       "   RPPeatones Todas las vialidades  RPPeatones Alguna vialidad  \\\n",
       "1                          11211.0                     48629.0   \n",
       "2                           9849.0                       601.0   \n",
       "3                            286.0                     42607.0   \n",
       "\n",
       "   RPPeatones Ninguna vialidad  RPPeatones No especificado  \n",
       "1                    1228386.0                     41710.0  \n",
       "2                       6902.0                        10.0  \n",
       "3                     114519.0                        21.0  "
      ]
     },
     "execution_count": 78,
     "metadata": {},
     "output_type": "execute_result"
    }
   ],
   "source": [
    "datasets['P0702'].head(3)"
   ]
  },
  {
   "cell_type": "code",
   "execution_count": 79,
   "metadata": {
    "scrolled": true
   },
   "outputs": [
    {
     "name": "stdout",
     "output_type": "stream",
     "text": [
      "Limpiando dataset para P0702\n",
      "------terminado------\n",
      "Limpiando dataset para P0703\n",
      "------terminado------\n",
      "Limpiando dataset para P0704\n",
      "------terminado------\n",
      "Limpiando dataset para P0705\n",
      "------terminado------\n",
      "Limpiando dataset para P0706\n",
      "------terminado------\n",
      "Limpiando dataset para P0713\n",
      "------terminado------\n"
     ]
    }
   ],
   "source": [
    "# Limpieza estándar inicial\n",
    "for ds in list(datasets.keys()):\n",
    "    print('Limpiando dataset para {}'.format(ds))\n",
    "    datasets[ds] = limpieza(datasets[ds])\n",
    "    print('------terminado------')"
   ]
  },
  {
   "cell_type": "markdown",
   "metadata": {},
   "source": [
    "### Limpieza de dataset para P0702: Restricción al paso de automóviles"
   ]
  },
  {
   "cell_type": "code",
   "execution_count": 268,
   "metadata": {},
   "outputs": [
    {
     "data": {
      "text/plain": [
       "'Manzanas por entidad federativa, municipio, localidad y restricción del paso a automóviles según restricción del paso a peatones en sus vialidades'"
      ]
     },
     "execution_count": 268,
     "metadata": {},
     "output_type": "execute_result"
    }
   ],
   "source": [
    "nom_hojas['P0702']"
   ]
  },
  {
   "cell_type": "code",
   "execution_count": 93,
   "metadata": {},
   "outputs": [
    {
     "data": {
      "text/html": [
       "<div>\n",
       "<style>\n",
       "    .dataframe thead tr:only-child th {\n",
       "        text-align: right;\n",
       "    }\n",
       "\n",
       "    .dataframe thead th {\n",
       "        text-align: left;\n",
       "    }\n",
       "\n",
       "    .dataframe tbody tr th {\n",
       "        vertical-align: top;\n",
       "    }\n",
       "</style>\n",
       "<table border=\"1\" class=\"dataframe\">\n",
       "  <thead>\n",
       "    <tr style=\"text-align: right;\">\n",
       "      <th></th>\n",
       "      <th>Restricción del paso a automóviles</th>\n",
       "      <th>Total de manzanas</th>\n",
       "      <th>RPPeatones Todas las vialidades</th>\n",
       "      <th>RPPeatones Alguna vialidad</th>\n",
       "      <th>RPPeatones Ninguna vialidad</th>\n",
       "      <th>RPPeatones No especificado</th>\n",
       "    </tr>\n",
       "    <tr>\n",
       "      <th>CVE_MUN</th>\n",
       "      <th></th>\n",
       "      <th></th>\n",
       "      <th></th>\n",
       "      <th></th>\n",
       "      <th></th>\n",
       "      <th></th>\n",
       "    </tr>\n",
       "  </thead>\n",
       "  <tbody>\n",
       "    <tr>\n",
       "      <th>01001</th>\n",
       "      <td>Total</td>\n",
       "      <td>9419.0</td>\n",
       "      <td>278.0</td>\n",
       "      <td>553.0</td>\n",
       "      <td>8397.0</td>\n",
       "      <td>191.0</td>\n",
       "    </tr>\n",
       "    <tr>\n",
       "      <th>01001</th>\n",
       "      <td>Restricción del paso a automóviles en todas la...</td>\n",
       "      <td>305.0</td>\n",
       "      <td>257.0</td>\n",
       "      <td>5.0</td>\n",
       "      <td>43.0</td>\n",
       "      <td>0.0</td>\n",
       "    </tr>\n",
       "    <tr>\n",
       "      <th>01001</th>\n",
       "      <td>Restricción del paso a automóviles en alguna v...</td>\n",
       "      <td>1079.0</td>\n",
       "      <td>4.0</td>\n",
       "      <td>504.0</td>\n",
       "      <td>571.0</td>\n",
       "      <td>0.0</td>\n",
       "    </tr>\n",
       "    <tr>\n",
       "      <th>01001</th>\n",
       "      <td>Restricción del paso a automóviles en ninguna ...</td>\n",
       "      <td>7599.0</td>\n",
       "      <td>5.0</td>\n",
       "      <td>40.0</td>\n",
       "      <td>7554.0</td>\n",
       "      <td>0.0</td>\n",
       "    </tr>\n",
       "    <tr>\n",
       "      <th>01001</th>\n",
       "      <td>No especificado</td>\n",
       "      <td>436.0</td>\n",
       "      <td>12.0</td>\n",
       "      <td>4.0</td>\n",
       "      <td>229.0</td>\n",
       "      <td>191.0</td>\n",
       "    </tr>\n",
       "  </tbody>\n",
       "</table>\n",
       "</div>"
      ],
      "text/plain": [
       "                        Restricción del paso a automóviles  Total de manzanas  \\\n",
       "CVE_MUN                                                                         \n",
       "01001                                                Total             9419.0   \n",
       "01001    Restricción del paso a automóviles en todas la...              305.0   \n",
       "01001    Restricción del paso a automóviles en alguna v...             1079.0   \n",
       "01001    Restricción del paso a automóviles en ninguna ...             7599.0   \n",
       "01001                                      No especificado              436.0   \n",
       "\n",
       "         RPPeatones Todas las vialidades  RPPeatones Alguna vialidad  \\\n",
       "CVE_MUN                                                                \n",
       "01001                              278.0                       553.0   \n",
       "01001                              257.0                         5.0   \n",
       "01001                                4.0                       504.0   \n",
       "01001                                5.0                        40.0   \n",
       "01001                               12.0                         4.0   \n",
       "\n",
       "         RPPeatones Ninguna vialidad  RPPeatones No especificado  \n",
       "CVE_MUN                                                           \n",
       "01001                         8397.0                       191.0  \n",
       "01001                           43.0                         0.0  \n",
       "01001                          571.0                         0.0  \n",
       "01001                         7554.0                         0.0  \n",
       "01001                          229.0                       191.0  "
      ]
     },
     "execution_count": 93,
     "metadata": {},
     "output_type": "execute_result"
    }
   ],
   "source": [
    "datasets['P0702'].head()"
   ]
  },
  {
   "cell_type": "code",
   "execution_count": 164,
   "metadata": {},
   "outputs": [
    {
     "data": {
      "text/plain": [
       "['Total',\n",
       " 'Restricción del paso a automóviles en todas las vialidades',\n",
       " 'Restricción del paso a automóviles en alguna vialidad',\n",
       " 'Restricción del paso a automóviles en ninguna vialidad',\n",
       " 'No especificado']"
      ]
     },
     "execution_count": 164,
     "metadata": {},
     "output_type": "execute_result"
    }
   ],
   "source": [
    "# La columna 'Restricción del paso a automóviles' clasifica las manzanas\n",
    "# que tienen alguna clase de restriccion al paso de automóviles.\n",
    "P0702_raw = datasets['P0702']\n",
    "list(P0702_raw['Restricción del paso a automóviles'].unique())"
   ]
  },
  {
   "cell_type": "code",
   "execution_count": 165,
   "metadata": {
    "scrolled": false
   },
   "outputs": [
    {
     "data": {
      "text/html": [
       "<div>\n",
       "<style>\n",
       "    .dataframe thead tr:only-child th {\n",
       "        text-align: right;\n",
       "    }\n",
       "\n",
       "    .dataframe thead th {\n",
       "        text-align: left;\n",
       "    }\n",
       "\n",
       "    .dataframe tbody tr th {\n",
       "        vertical-align: top;\n",
       "    }\n",
       "</style>\n",
       "<table border=\"1\" class=\"dataframe\">\n",
       "  <thead>\n",
       "    <tr style=\"text-align: right;\">\n",
       "      <th></th>\n",
       "      <th>Restricción del paso a automóviles</th>\n",
       "      <th>Total de manzanas</th>\n",
       "      <th>RPPeatones Todas las vialidades</th>\n",
       "      <th>RPPeatones Alguna vialidad</th>\n",
       "      <th>RPPeatones Ninguna vialidad</th>\n",
       "      <th>RPPeatones No especificado</th>\n",
       "    </tr>\n",
       "    <tr>\n",
       "      <th>CVE_MUN</th>\n",
       "      <th></th>\n",
       "      <th></th>\n",
       "      <th></th>\n",
       "      <th></th>\n",
       "      <th></th>\n",
       "      <th></th>\n",
       "    </tr>\n",
       "  </thead>\n",
       "  <tbody>\n",
       "    <tr>\n",
       "      <th>01001</th>\n",
       "      <td>Total</td>\n",
       "      <td>9419.0</td>\n",
       "      <td>278.0</td>\n",
       "      <td>553.0</td>\n",
       "      <td>8397.0</td>\n",
       "      <td>191.0</td>\n",
       "    </tr>\n",
       "    <tr>\n",
       "      <th>01001</th>\n",
       "      <td>Restricción del paso a automóviles en todas la...</td>\n",
       "      <td>305.0</td>\n",
       "      <td>257.0</td>\n",
       "      <td>5.0</td>\n",
       "      <td>43.0</td>\n",
       "      <td>0.0</td>\n",
       "    </tr>\n",
       "    <tr>\n",
       "      <th>01001</th>\n",
       "      <td>Restricción del paso a automóviles en alguna v...</td>\n",
       "      <td>1079.0</td>\n",
       "      <td>4.0</td>\n",
       "      <td>504.0</td>\n",
       "      <td>571.0</td>\n",
       "      <td>0.0</td>\n",
       "    </tr>\n",
       "    <tr>\n",
       "      <th>01001</th>\n",
       "      <td>Restricción del paso a automóviles en ninguna ...</td>\n",
       "      <td>7599.0</td>\n",
       "      <td>5.0</td>\n",
       "      <td>40.0</td>\n",
       "      <td>7554.0</td>\n",
       "      <td>0.0</td>\n",
       "    </tr>\n",
       "    <tr>\n",
       "      <th>01001</th>\n",
       "      <td>No especificado</td>\n",
       "      <td>436.0</td>\n",
       "      <td>12.0</td>\n",
       "      <td>4.0</td>\n",
       "      <td>229.0</td>\n",
       "      <td>191.0</td>\n",
       "    </tr>\n",
       "  </tbody>\n",
       "</table>\n",
       "</div>"
      ],
      "text/plain": [
       "                        Restricción del paso a automóviles  Total de manzanas  \\\n",
       "CVE_MUN                                                                         \n",
       "01001                                                Total             9419.0   \n",
       "01001    Restricción del paso a automóviles en todas la...              305.0   \n",
       "01001    Restricción del paso a automóviles en alguna v...             1079.0   \n",
       "01001    Restricción del paso a automóviles en ninguna ...             7599.0   \n",
       "01001                                      No especificado              436.0   \n",
       "\n",
       "         RPPeatones Todas las vialidades  RPPeatones Alguna vialidad  \\\n",
       "CVE_MUN                                                                \n",
       "01001                              278.0                       553.0   \n",
       "01001                              257.0                         5.0   \n",
       "01001                                4.0                       504.0   \n",
       "01001                                5.0                        40.0   \n",
       "01001                               12.0                         4.0   \n",
       "\n",
       "         RPPeatones Ninguna vialidad  RPPeatones No especificado  \n",
       "CVE_MUN                                                           \n",
       "01001                         8397.0                       191.0  \n",
       "01001                           43.0                         0.0  \n",
       "01001                          571.0                         0.0  \n",
       "01001                         7554.0                         0.0  \n",
       "01001                          229.0                       191.0  "
      ]
     },
     "execution_count": 165,
     "metadata": {},
     "output_type": "execute_result"
    }
   ],
   "source": [
    "P0702_raw.head()"
   ]
  },
  {
   "cell_type": "code",
   "execution_count": 166,
   "metadata": {},
   "outputs": [
    {
     "data": {
      "text/plain": [
       "['Restricción del paso a automóviles',\n",
       " 'Total de manzanas',\n",
       " 'RPPeatones Todas las vialidades',\n",
       " 'RPPeatones Alguna vialidad',\n",
       " 'RPPeatones Ninguna vialidad',\n",
       " 'RPPeatones No especificado']"
      ]
     },
     "execution_count": 166,
     "metadata": {},
     "output_type": "execute_result"
    }
   ],
   "source": [
    "list(P0702_raw)"
   ]
  },
  {
   "cell_type": "code",
   "execution_count": 167,
   "metadata": {},
   "outputs": [
    {
     "data": {
      "text/plain": [
       "CVE_MUN\n",
       "01001    9419.0\n",
       "01002     140.0\n",
       "01003     585.0\n",
       "01004     144.0\n",
       "01005    1195.0\n",
       "Name: Total de manzanas, dtype: float64"
      ]
     },
     "execution_count": 167,
     "metadata": {},
     "output_type": "execute_result"
    }
   ],
   "source": [
    "# Es conveniente crear un dataset con el total de manzanas por municipio\n",
    "manzanas = P0702_raw[P0702_raw['Restricción del paso a automóviles'] == 'Total']['Total de manzanas']\n",
    "manzanas.head()"
   ]
  },
  {
   "cell_type": "code",
   "execution_count": 168,
   "metadata": {
    "scrolled": true
   },
   "outputs": [
    {
     "data": {
      "text/html": [
       "<div>\n",
       "<style>\n",
       "    .dataframe thead tr:only-child th {\n",
       "        text-align: right;\n",
       "    }\n",
       "\n",
       "    .dataframe thead th {\n",
       "        text-align: left;\n",
       "    }\n",
       "\n",
       "    .dataframe tbody tr th {\n",
       "        vertical-align: top;\n",
       "    }\n",
       "</style>\n",
       "<table border=\"1\" class=\"dataframe\">\n",
       "  <thead>\n",
       "    <tr style=\"text-align: right;\">\n",
       "      <th></th>\n",
       "      <th>Restricción del paso a automóviles</th>\n",
       "      <th>Total de manzanas</th>\n",
       "      <th>RPPeatones Todas las vialidades</th>\n",
       "      <th>RPPeatones Alguna vialidad</th>\n",
       "      <th>RPPeatones Ninguna vialidad</th>\n",
       "      <th>RPPeatones No especificado</th>\n",
       "    </tr>\n",
       "    <tr>\n",
       "      <th>CVE_MUN</th>\n",
       "      <th></th>\n",
       "      <th></th>\n",
       "      <th></th>\n",
       "      <th></th>\n",
       "      <th></th>\n",
       "      <th></th>\n",
       "    </tr>\n",
       "  </thead>\n",
       "  <tbody>\n",
       "    <tr>\n",
       "      <th>01001</th>\n",
       "      <td>Restricción del paso a automóviles en todas la...</td>\n",
       "      <td>305.0</td>\n",
       "      <td>257.0</td>\n",
       "      <td>5.0</td>\n",
       "      <td>43.0</td>\n",
       "      <td>0.0</td>\n",
       "    </tr>\n",
       "    <tr>\n",
       "      <th>01001</th>\n",
       "      <td>Restricción del paso a automóviles en alguna v...</td>\n",
       "      <td>1079.0</td>\n",
       "      <td>4.0</td>\n",
       "      <td>504.0</td>\n",
       "      <td>571.0</td>\n",
       "      <td>0.0</td>\n",
       "    </tr>\n",
       "    <tr>\n",
       "      <th>01002</th>\n",
       "      <td>Restricción del paso a automóviles en alguna v...</td>\n",
       "      <td>6.0</td>\n",
       "      <td>0.0</td>\n",
       "      <td>2.0</td>\n",
       "      <td>4.0</td>\n",
       "      <td>0.0</td>\n",
       "    </tr>\n",
       "    <tr>\n",
       "      <th>01003</th>\n",
       "      <td>Restricción del paso a automóviles en todas la...</td>\n",
       "      <td>1.0</td>\n",
       "      <td>0.0</td>\n",
       "      <td>0.0</td>\n",
       "      <td>1.0</td>\n",
       "      <td>0.0</td>\n",
       "    </tr>\n",
       "    <tr>\n",
       "      <th>01003</th>\n",
       "      <td>Restricción del paso a automóviles en alguna v...</td>\n",
       "      <td>114.0</td>\n",
       "      <td>0.0</td>\n",
       "      <td>9.0</td>\n",
       "      <td>105.0</td>\n",
       "      <td>0.0</td>\n",
       "    </tr>\n",
       "  </tbody>\n",
       "</table>\n",
       "</div>"
      ],
      "text/plain": [
       "                        Restricción del paso a automóviles  Total de manzanas  \\\n",
       "CVE_MUN                                                                         \n",
       "01001    Restricción del paso a automóviles en todas la...              305.0   \n",
       "01001    Restricción del paso a automóviles en alguna v...             1079.0   \n",
       "01002    Restricción del paso a automóviles en alguna v...                6.0   \n",
       "01003    Restricción del paso a automóviles en todas la...                1.0   \n",
       "01003    Restricción del paso a automóviles en alguna v...              114.0   \n",
       "\n",
       "         RPPeatones Todas las vialidades  RPPeatones Alguna vialidad  \\\n",
       "CVE_MUN                                                                \n",
       "01001                              257.0                         5.0   \n",
       "01001                                4.0                       504.0   \n",
       "01002                                0.0                         2.0   \n",
       "01003                                0.0                         0.0   \n",
       "01003                                0.0                         9.0   \n",
       "\n",
       "         RPPeatones Ninguna vialidad  RPPeatones No especificado  \n",
       "CVE_MUN                                                           \n",
       "01001                           43.0                         0.0  \n",
       "01001                          571.0                         0.0  \n",
       "01002                            4.0                         0.0  \n",
       "01003                            1.0                         0.0  \n",
       "01003                          105.0                         0.0  "
      ]
     },
     "execution_count": 168,
     "metadata": {},
     "output_type": "execute_result"
    }
   ],
   "source": [
    "# Para el parametro, hay que filtrar unicamente las columnas que contienen restricciones a la vialidad\n",
    "P0702_1 = P0702_raw.loc[P0702_raw['Restricción del paso a automóviles'].isin([\n",
    "    'Restricción del paso a automóviles en todas las vialidades',\n",
    "    'Restricción del paso a automóviles en alguna vialidad',\n",
    "])]\n",
    "P0702_1.head()"
   ]
  },
  {
   "cell_type": "code",
   "execution_count": 169,
   "metadata": {},
   "outputs": [
    {
     "data": {
      "text/html": [
       "<div>\n",
       "<style>\n",
       "    .dataframe thead tr:only-child th {\n",
       "        text-align: right;\n",
       "    }\n",
       "\n",
       "    .dataframe thead th {\n",
       "        text-align: left;\n",
       "    }\n",
       "\n",
       "    .dataframe tbody tr th {\n",
       "        vertical-align: top;\n",
       "    }\n",
       "</style>\n",
       "<table border=\"1\" class=\"dataframe\">\n",
       "  <thead>\n",
       "    <tr style=\"text-align: right;\">\n",
       "      <th></th>\n",
       "      <th>Restricción del paso a automóviles</th>\n",
       "    </tr>\n",
       "    <tr>\n",
       "      <th>CVE_MUN</th>\n",
       "      <th></th>\n",
       "    </tr>\n",
       "  </thead>\n",
       "  <tbody>\n",
       "    <tr>\n",
       "      <th>01001</th>\n",
       "      <td>1384.0</td>\n",
       "    </tr>\n",
       "    <tr>\n",
       "      <th>01002</th>\n",
       "      <td>6.0</td>\n",
       "    </tr>\n",
       "    <tr>\n",
       "      <th>01003</th>\n",
       "      <td>115.0</td>\n",
       "    </tr>\n",
       "    <tr>\n",
       "      <th>01004</th>\n",
       "      <td>1.0</td>\n",
       "    </tr>\n",
       "    <tr>\n",
       "      <th>01005</th>\n",
       "      <td>132.0</td>\n",
       "    </tr>\n",
       "  </tbody>\n",
       "</table>\n",
       "</div>"
      ],
      "text/plain": [
       "         Restricción del paso a automóviles\n",
       "CVE_MUN                                    \n",
       "01001                                1384.0\n",
       "01002                                   6.0\n",
       "01003                                 115.0\n",
       "01004                                   1.0\n",
       "01005                                 132.0"
      ]
     },
     "execution_count": 169,
     "metadata": {},
     "output_type": "execute_result"
    }
   ],
   "source": [
    "# Una vez filtrados hay que agregar los datos por municipio. También vale la pena quitar las columnas de \n",
    "# restriccion al paso de peatones, pues no son de interes para este parametro.\n",
    "P0702_1 = P0702_1['Total de manzanas'].groupby(level=0).sum().to_frame(name='Restricción del paso a automóviles')\n",
    "P0702_1.head()"
   ]
  },
  {
   "cell_type": "code",
   "execution_count": 170,
   "metadata": {},
   "outputs": [
    {
     "name": "stdout",
     "output_type": "stream",
     "text": [
      "1798\n"
     ]
    },
    {
     "data": {
      "text/html": [
       "<div>\n",
       "<style>\n",
       "    .dataframe thead tr:only-child th {\n",
       "        text-align: right;\n",
       "    }\n",
       "\n",
       "    .dataframe thead th {\n",
       "        text-align: left;\n",
       "    }\n",
       "\n",
       "    .dataframe tbody tr th {\n",
       "        vertical-align: top;\n",
       "    }\n",
       "</style>\n",
       "<table border=\"1\" class=\"dataframe\">\n",
       "  <thead>\n",
       "    <tr style=\"text-align: right;\">\n",
       "      <th></th>\n",
       "      <th>Total de manzanas</th>\n",
       "      <th>Restricción del paso a automóviles</th>\n",
       "    </tr>\n",
       "    <tr>\n",
       "      <th>CVE_MUN</th>\n",
       "      <th></th>\n",
       "      <th></th>\n",
       "    </tr>\n",
       "  </thead>\n",
       "  <tbody>\n",
       "    <tr>\n",
       "      <th>01001</th>\n",
       "      <td>9419.0</td>\n",
       "      <td>1384.0</td>\n",
       "    </tr>\n",
       "    <tr>\n",
       "      <th>01002</th>\n",
       "      <td>140.0</td>\n",
       "      <td>6.0</td>\n",
       "    </tr>\n",
       "    <tr>\n",
       "      <th>01003</th>\n",
       "      <td>585.0</td>\n",
       "      <td>115.0</td>\n",
       "    </tr>\n",
       "    <tr>\n",
       "      <th>01004</th>\n",
       "      <td>144.0</td>\n",
       "      <td>1.0</td>\n",
       "    </tr>\n",
       "    <tr>\n",
       "      <th>01005</th>\n",
       "      <td>1195.0</td>\n",
       "      <td>132.0</td>\n",
       "    </tr>\n",
       "  </tbody>\n",
       "</table>\n",
       "</div>"
      ],
      "text/plain": [
       "         Total de manzanas  Restricción del paso a automóviles\n",
       "CVE_MUN                                                       \n",
       "01001               9419.0                              1384.0\n",
       "01002                140.0                                 6.0\n",
       "01003                585.0                               115.0\n",
       "01004                144.0                                 1.0\n",
       "01005               1195.0                               132.0"
      ]
     },
     "execution_count": 170,
     "metadata": {},
     "output_type": "execute_result"
    }
   ],
   "source": [
    "# Unimos ambos datasets para crear el dataset estandar del parámetro\n",
    "P0702 = manzanas.to_frame().join(P0702_1)\n",
    "print(len(P0702))\n",
    "P0702.head()"
   ]
  },
  {
   "cell_type": "markdown",
   "metadata": {},
   "source": [
    "Después de hacer el join de las columnas del total de manzanas y las manzanas con restricción al paso de automóviles, en algunas celdas de la columna \"Restricción del paso a automóviles\" quedaron sin valores. Para entender a qué se debe, es conveniente agregar las columnas de 'Restricción del paso a automóviles en ninguna vialidad' y 'No Especificado'."
   ]
  },
  {
   "cell_type": "code",
   "execution_count": 171,
   "metadata": {
    "scrolled": true
   },
   "outputs": [
    {
     "data": {
      "text/html": [
       "<div>\n",
       "<style>\n",
       "    .dataframe thead tr:only-child th {\n",
       "        text-align: right;\n",
       "    }\n",
       "\n",
       "    .dataframe thead th {\n",
       "        text-align: left;\n",
       "    }\n",
       "\n",
       "    .dataframe tbody tr th {\n",
       "        vertical-align: top;\n",
       "    }\n",
       "</style>\n",
       "<table border=\"1\" class=\"dataframe\">\n",
       "  <thead>\n",
       "    <tr style=\"text-align: right;\">\n",
       "      <th></th>\n",
       "      <th>Total de manzanas</th>\n",
       "      <th>Restricción del paso a automóviles</th>\n",
       "    </tr>\n",
       "    <tr>\n",
       "      <th>CVE_MUN</th>\n",
       "      <th></th>\n",
       "      <th></th>\n",
       "    </tr>\n",
       "  </thead>\n",
       "  <tbody>\n",
       "    <tr>\n",
       "      <th>04007</th>\n",
       "      <td>86.0</td>\n",
       "      <td>NaN</td>\n",
       "    </tr>\n",
       "    <tr>\n",
       "      <th>05023</th>\n",
       "      <td>190.0</td>\n",
       "      <td>NaN</td>\n",
       "    </tr>\n",
       "    <tr>\n",
       "      <th>05036</th>\n",
       "      <td>81.0</td>\n",
       "      <td>NaN</td>\n",
       "    </tr>\n",
       "    <tr>\n",
       "      <th>05037</th>\n",
       "      <td>357.0</td>\n",
       "      <td>NaN</td>\n",
       "    </tr>\n",
       "    <tr>\n",
       "      <th>06006</th>\n",
       "      <td>99.0</td>\n",
       "      <td>NaN</td>\n",
       "    </tr>\n",
       "    <tr>\n",
       "      <th>07016</th>\n",
       "      <td>149.0</td>\n",
       "      <td>NaN</td>\n",
       "    </tr>\n",
       "    <tr>\n",
       "      <th>07023</th>\n",
       "      <td>77.0</td>\n",
       "      <td>NaN</td>\n",
       "    </tr>\n",
       "    <tr>\n",
       "      <th>07025</th>\n",
       "      <td>71.0</td>\n",
       "      <td>NaN</td>\n",
       "    </tr>\n",
       "    <tr>\n",
       "      <th>07026</th>\n",
       "      <td>97.0</td>\n",
       "      <td>NaN</td>\n",
       "    </tr>\n",
       "    <tr>\n",
       "      <th>07035</th>\n",
       "      <td>82.0</td>\n",
       "      <td>NaN</td>\n",
       "    </tr>\n",
       "    <tr>\n",
       "      <th>07043</th>\n",
       "      <td>105.0</td>\n",
       "      <td>NaN</td>\n",
       "    </tr>\n",
       "    <tr>\n",
       "      <th>07058</th>\n",
       "      <td>105.0</td>\n",
       "      <td>NaN</td>\n",
       "    </tr>\n",
       "    <tr>\n",
       "      <th>07080</th>\n",
       "      <td>63.0</td>\n",
       "      <td>NaN</td>\n",
       "    </tr>\n",
       "    <tr>\n",
       "      <th>07085</th>\n",
       "      <td>92.0</td>\n",
       "      <td>NaN</td>\n",
       "    </tr>\n",
       "    <tr>\n",
       "      <th>07090</th>\n",
       "      <td>31.0</td>\n",
       "      <td>NaN</td>\n",
       "    </tr>\n",
       "    <tr>\n",
       "      <th>07100</th>\n",
       "      <td>88.0</td>\n",
       "      <td>NaN</td>\n",
       "    </tr>\n",
       "    <tr>\n",
       "      <th>07103</th>\n",
       "      <td>98.0</td>\n",
       "      <td>NaN</td>\n",
       "    </tr>\n",
       "    <tr>\n",
       "      <th>07104</th>\n",
       "      <td>258.0</td>\n",
       "      <td>NaN</td>\n",
       "    </tr>\n",
       "    <tr>\n",
       "      <th>07110</th>\n",
       "      <td>104.0</td>\n",
       "      <td>NaN</td>\n",
       "    </tr>\n",
       "    <tr>\n",
       "      <th>07117</th>\n",
       "      <td>72.0</td>\n",
       "      <td>NaN</td>\n",
       "    </tr>\n",
       "    <tr>\n",
       "      <th>07118</th>\n",
       "      <td>35.0</td>\n",
       "      <td>NaN</td>\n",
       "    </tr>\n",
       "    <tr>\n",
       "      <th>07119</th>\n",
       "      <td>10.0</td>\n",
       "      <td>NaN</td>\n",
       "    </tr>\n",
       "    <tr>\n",
       "      <th>08005</th>\n",
       "      <td>578.0</td>\n",
       "      <td>NaN</td>\n",
       "    </tr>\n",
       "    <tr>\n",
       "      <th>08016</th>\n",
       "      <td>195.0</td>\n",
       "      <td>NaN</td>\n",
       "    </tr>\n",
       "    <tr>\n",
       "      <th>08024</th>\n",
       "      <td>194.0</td>\n",
       "      <td>NaN</td>\n",
       "    </tr>\n",
       "    <tr>\n",
       "      <th>08038</th>\n",
       "      <td>106.0</td>\n",
       "      <td>NaN</td>\n",
       "    </tr>\n",
       "    <tr>\n",
       "      <th>08039</th>\n",
       "      <td>106.0</td>\n",
       "      <td>NaN</td>\n",
       "    </tr>\n",
       "    <tr>\n",
       "      <th>08043</th>\n",
       "      <td>127.0</td>\n",
       "      <td>NaN</td>\n",
       "    </tr>\n",
       "    <tr>\n",
       "      <th>08044</th>\n",
       "      <td>265.0</td>\n",
       "      <td>NaN</td>\n",
       "    </tr>\n",
       "    <tr>\n",
       "      <th>08058</th>\n",
       "      <td>47.0</td>\n",
       "      <td>NaN</td>\n",
       "    </tr>\n",
       "    <tr>\n",
       "      <th>...</th>\n",
       "      <td>...</td>\n",
       "      <td>...</td>\n",
       "    </tr>\n",
       "    <tr>\n",
       "      <th>31034</th>\n",
       "      <td>87.0</td>\n",
       "      <td>NaN</td>\n",
       "    </tr>\n",
       "    <tr>\n",
       "      <th>31035</th>\n",
       "      <td>115.0</td>\n",
       "      <td>NaN</td>\n",
       "    </tr>\n",
       "    <tr>\n",
       "      <th>31039</th>\n",
       "      <td>75.0</td>\n",
       "      <td>NaN</td>\n",
       "    </tr>\n",
       "    <tr>\n",
       "      <th>31042</th>\n",
       "      <td>161.0</td>\n",
       "      <td>NaN</td>\n",
       "    </tr>\n",
       "    <tr>\n",
       "      <th>31046</th>\n",
       "      <td>120.0</td>\n",
       "      <td>NaN</td>\n",
       "    </tr>\n",
       "    <tr>\n",
       "      <th>31049</th>\n",
       "      <td>94.0</td>\n",
       "      <td>NaN</td>\n",
       "    </tr>\n",
       "    <tr>\n",
       "      <th>31055</th>\n",
       "      <td>108.0</td>\n",
       "      <td>NaN</td>\n",
       "    </tr>\n",
       "    <tr>\n",
       "      <th>31057</th>\n",
       "      <td>113.0</td>\n",
       "      <td>NaN</td>\n",
       "    </tr>\n",
       "    <tr>\n",
       "      <th>31061</th>\n",
       "      <td>43.0</td>\n",
       "      <td>NaN</td>\n",
       "    </tr>\n",
       "    <tr>\n",
       "      <th>31062</th>\n",
       "      <td>79.0</td>\n",
       "      <td>NaN</td>\n",
       "    </tr>\n",
       "    <tr>\n",
       "      <th>31063</th>\n",
       "      <td>64.0</td>\n",
       "      <td>NaN</td>\n",
       "    </tr>\n",
       "    <tr>\n",
       "      <th>31066</th>\n",
       "      <td>84.0</td>\n",
       "      <td>NaN</td>\n",
       "    </tr>\n",
       "    <tr>\n",
       "      <th>31074</th>\n",
       "      <td>53.0</td>\n",
       "      <td>NaN</td>\n",
       "    </tr>\n",
       "    <tr>\n",
       "      <th>31077</th>\n",
       "      <td>79.0</td>\n",
       "      <td>NaN</td>\n",
       "    </tr>\n",
       "    <tr>\n",
       "      <th>31078</th>\n",
       "      <td>167.0</td>\n",
       "      <td>NaN</td>\n",
       "    </tr>\n",
       "    <tr>\n",
       "      <th>31082</th>\n",
       "      <td>96.0</td>\n",
       "      <td>NaN</td>\n",
       "    </tr>\n",
       "    <tr>\n",
       "      <th>31090</th>\n",
       "      <td>64.0</td>\n",
       "      <td>NaN</td>\n",
       "    </tr>\n",
       "    <tr>\n",
       "      <th>31094</th>\n",
       "      <td>81.0</td>\n",
       "      <td>NaN</td>\n",
       "    </tr>\n",
       "    <tr>\n",
       "      <th>31095</th>\n",
       "      <td>55.0</td>\n",
       "      <td>NaN</td>\n",
       "    </tr>\n",
       "    <tr>\n",
       "      <th>31097</th>\n",
       "      <td>103.0</td>\n",
       "      <td>NaN</td>\n",
       "    </tr>\n",
       "    <tr>\n",
       "      <th>31099</th>\n",
       "      <td>78.0</td>\n",
       "      <td>NaN</td>\n",
       "    </tr>\n",
       "    <tr>\n",
       "      <th>31103</th>\n",
       "      <td>83.0</td>\n",
       "      <td>NaN</td>\n",
       "    </tr>\n",
       "    <tr>\n",
       "      <th>31105</th>\n",
       "      <td>92.0</td>\n",
       "      <td>NaN</td>\n",
       "    </tr>\n",
       "    <tr>\n",
       "      <th>32004</th>\n",
       "      <td>120.0</td>\n",
       "      <td>NaN</td>\n",
       "    </tr>\n",
       "    <tr>\n",
       "      <th>32016</th>\n",
       "      <td>172.0</td>\n",
       "      <td>NaN</td>\n",
       "    </tr>\n",
       "    <tr>\n",
       "      <th>32018</th>\n",
       "      <td>108.0</td>\n",
       "      <td>NaN</td>\n",
       "    </tr>\n",
       "    <tr>\n",
       "      <th>32028</th>\n",
       "      <td>68.0</td>\n",
       "      <td>NaN</td>\n",
       "    </tr>\n",
       "    <tr>\n",
       "      <th>32033</th>\n",
       "      <td>87.0</td>\n",
       "      <td>NaN</td>\n",
       "    </tr>\n",
       "    <tr>\n",
       "      <th>32045</th>\n",
       "      <td>202.0</td>\n",
       "      <td>NaN</td>\n",
       "    </tr>\n",
       "    <tr>\n",
       "      <th>32047</th>\n",
       "      <td>134.0</td>\n",
       "      <td>NaN</td>\n",
       "    </tr>\n",
       "  </tbody>\n",
       "</table>\n",
       "<p>303 rows × 2 columns</p>\n",
       "</div>"
      ],
      "text/plain": [
       "         Total de manzanas  Restricción del paso a automóviles\n",
       "CVE_MUN                                                       \n",
       "04007                 86.0                                 NaN\n",
       "05023                190.0                                 NaN\n",
       "05036                 81.0                                 NaN\n",
       "05037                357.0                                 NaN\n",
       "06006                 99.0                                 NaN\n",
       "07016                149.0                                 NaN\n",
       "07023                 77.0                                 NaN\n",
       "07025                 71.0                                 NaN\n",
       "07026                 97.0                                 NaN\n",
       "07035                 82.0                                 NaN\n",
       "07043                105.0                                 NaN\n",
       "07058                105.0                                 NaN\n",
       "07080                 63.0                                 NaN\n",
       "07085                 92.0                                 NaN\n",
       "07090                 31.0                                 NaN\n",
       "07100                 88.0                                 NaN\n",
       "07103                 98.0                                 NaN\n",
       "07104                258.0                                 NaN\n",
       "07110                104.0                                 NaN\n",
       "07117                 72.0                                 NaN\n",
       "07118                 35.0                                 NaN\n",
       "07119                 10.0                                 NaN\n",
       "08005                578.0                                 NaN\n",
       "08016                195.0                                 NaN\n",
       "08024                194.0                                 NaN\n",
       "08038                106.0                                 NaN\n",
       "08039                106.0                                 NaN\n",
       "08043                127.0                                 NaN\n",
       "08044                265.0                                 NaN\n",
       "08058                 47.0                                 NaN\n",
       "...                    ...                                 ...\n",
       "31034                 87.0                                 NaN\n",
       "31035                115.0                                 NaN\n",
       "31039                 75.0                                 NaN\n",
       "31042                161.0                                 NaN\n",
       "31046                120.0                                 NaN\n",
       "31049                 94.0                                 NaN\n",
       "31055                108.0                                 NaN\n",
       "31057                113.0                                 NaN\n",
       "31061                 43.0                                 NaN\n",
       "31062                 79.0                                 NaN\n",
       "31063                 64.0                                 NaN\n",
       "31066                 84.0                                 NaN\n",
       "31074                 53.0                                 NaN\n",
       "31077                 79.0                                 NaN\n",
       "31078                167.0                                 NaN\n",
       "31082                 96.0                                 NaN\n",
       "31090                 64.0                                 NaN\n",
       "31094                 81.0                                 NaN\n",
       "31095                 55.0                                 NaN\n",
       "31097                103.0                                 NaN\n",
       "31099                 78.0                                 NaN\n",
       "31103                 83.0                                 NaN\n",
       "31105                 92.0                                 NaN\n",
       "32004                120.0                                 NaN\n",
       "32016                172.0                                 NaN\n",
       "32018                108.0                                 NaN\n",
       "32028                 68.0                                 NaN\n",
       "32033                 87.0                                 NaN\n",
       "32045                202.0                                 NaN\n",
       "32047                134.0                                 NaN\n",
       "\n",
       "[303 rows x 2 columns]"
      ]
     },
     "execution_count": 171,
     "metadata": {},
     "output_type": "execute_result"
    }
   ],
   "source": [
    "# celdas de la columna \"Restricción del paso a automóviles\" que quedaron sin valores\n",
    "P0702[P0702['Restricción del paso a automóviles'].isnull()]"
   ]
  },
  {
   "cell_type": "code",
   "execution_count": 172,
   "metadata": {
    "scrolled": true
   },
   "outputs": [
    {
     "data": {
      "text/plain": [
       "array(['Total',\n",
       "       'Restricción del paso a automóviles en todas las vialidades',\n",
       "       'Restricción del paso a automóviles en alguna vialidad',\n",
       "       'Restricción del paso a automóviles en ninguna vialidad',\n",
       "       'No especificado'], dtype=object)"
      ]
     },
     "execution_count": 172,
     "metadata": {},
     "output_type": "execute_result"
    }
   ],
   "source": [
    "P0702_raw['Restricción del paso a automóviles'].unique()"
   ]
  },
  {
   "cell_type": "code",
   "execution_count": 173,
   "metadata": {},
   "outputs": [
    {
     "data": {
      "text/html": [
       "<div>\n",
       "<style>\n",
       "    .dataframe thead tr:only-child th {\n",
       "        text-align: right;\n",
       "    }\n",
       "\n",
       "    .dataframe thead th {\n",
       "        text-align: left;\n",
       "    }\n",
       "\n",
       "    .dataframe tbody tr th {\n",
       "        vertical-align: top;\n",
       "    }\n",
       "</style>\n",
       "<table border=\"1\" class=\"dataframe\">\n",
       "  <thead>\n",
       "    <tr style=\"text-align: right;\">\n",
       "      <th></th>\n",
       "      <th>Restricción del paso a automóviles en ninguna vialidad</th>\n",
       "    </tr>\n",
       "    <tr>\n",
       "      <th>CVE_MUN</th>\n",
       "      <th></th>\n",
       "    </tr>\n",
       "  </thead>\n",
       "  <tbody>\n",
       "    <tr>\n",
       "      <th>01001</th>\n",
       "      <td>7599.0</td>\n",
       "    </tr>\n",
       "    <tr>\n",
       "      <th>01002</th>\n",
       "      <td>134.0</td>\n",
       "    </tr>\n",
       "    <tr>\n",
       "      <th>01003</th>\n",
       "      <td>470.0</td>\n",
       "    </tr>\n",
       "    <tr>\n",
       "      <th>01004</th>\n",
       "      <td>143.0</td>\n",
       "    </tr>\n",
       "    <tr>\n",
       "      <th>01005</th>\n",
       "      <td>1031.0</td>\n",
       "    </tr>\n",
       "  </tbody>\n",
       "</table>\n",
       "</div>"
      ],
      "text/plain": [
       "         Restricción del paso a automóviles en ninguna vialidad\n",
       "CVE_MUN                                                        \n",
       "01001                                               7599.0     \n",
       "01002                                                134.0     \n",
       "01003                                                470.0     \n",
       "01004                                                143.0     \n",
       "01005                                               1031.0     "
      ]
     },
     "execution_count": 173,
     "metadata": {},
     "output_type": "execute_result"
    }
   ],
   "source": [
    "# Columna con manzanas con restriccion al paso de automoviles en ninguna vialidad\n",
    "RPA = 'Restricción del paso a automóviles'\n",
    "TM = 'Total de manzanas'\n",
    "VAR = 'Restricción del paso a automóviles en ninguna vialidad'\n",
    "RPANV = P0702_raw[P0702_raw[RPA] == VAR][TM].to_frame(name = VAR)\n",
    "RPANV.head()"
   ]
  },
  {
   "cell_type": "code",
   "execution_count": 174,
   "metadata": {},
   "outputs": [
    {
     "data": {
      "text/html": [
       "<div>\n",
       "<style>\n",
       "    .dataframe thead tr:only-child th {\n",
       "        text-align: right;\n",
       "    }\n",
       "\n",
       "    .dataframe thead th {\n",
       "        text-align: left;\n",
       "    }\n",
       "\n",
       "    .dataframe tbody tr th {\n",
       "        vertical-align: top;\n",
       "    }\n",
       "</style>\n",
       "<table border=\"1\" class=\"dataframe\">\n",
       "  <thead>\n",
       "    <tr style=\"text-align: right;\">\n",
       "      <th></th>\n",
       "      <th>Restricción del paso a automóviles No especificado</th>\n",
       "    </tr>\n",
       "    <tr>\n",
       "      <th>CVE_MUN</th>\n",
       "      <th></th>\n",
       "    </tr>\n",
       "  </thead>\n",
       "  <tbody>\n",
       "    <tr>\n",
       "      <th>01001</th>\n",
       "      <td>436.0</td>\n",
       "    </tr>\n",
       "    <tr>\n",
       "      <th>01005</th>\n",
       "      <td>32.0</td>\n",
       "    </tr>\n",
       "    <tr>\n",
       "      <th>01006</th>\n",
       "      <td>21.0</td>\n",
       "    </tr>\n",
       "    <tr>\n",
       "      <th>01007</th>\n",
       "      <td>14.0</td>\n",
       "    </tr>\n",
       "    <tr>\n",
       "      <th>01009</th>\n",
       "      <td>2.0</td>\n",
       "    </tr>\n",
       "  </tbody>\n",
       "</table>\n",
       "</div>"
      ],
      "text/plain": [
       "         Restricción del paso a automóviles No especificado\n",
       "CVE_MUN                                                    \n",
       "01001                                                436.0 \n",
       "01005                                                 32.0 \n",
       "01006                                                 21.0 \n",
       "01007                                                 14.0 \n",
       "01009                                                  2.0 "
      ]
     },
     "execution_count": 174,
     "metadata": {},
     "output_type": "execute_result"
    }
   ],
   "source": [
    "# Columna con manzanas con restriccion al paso de automoviles no especificado\n",
    "VAR = 'No especificado'\n",
    "RPANE = P0702_raw[P0702_raw[RPA] == VAR][TM].to_frame(name = 'Restricción del paso a automóviles '+VAR)\n",
    "RPANE.head()"
   ]
  },
  {
   "cell_type": "code",
   "execution_count": 175,
   "metadata": {},
   "outputs": [
    {
     "data": {
      "text/html": [
       "<div>\n",
       "<style>\n",
       "    .dataframe thead tr:only-child th {\n",
       "        text-align: right;\n",
       "    }\n",
       "\n",
       "    .dataframe thead th {\n",
       "        text-align: left;\n",
       "    }\n",
       "\n",
       "    .dataframe tbody tr th {\n",
       "        vertical-align: top;\n",
       "    }\n",
       "</style>\n",
       "<table border=\"1\" class=\"dataframe\">\n",
       "  <thead>\n",
       "    <tr style=\"text-align: right;\">\n",
       "      <th></th>\n",
       "      <th>Total de manzanas</th>\n",
       "      <th>Restricción del paso a automóviles</th>\n",
       "      <th>Restricción del paso a automóviles en ninguna vialidad</th>\n",
       "      <th>Restricción del paso a automóviles No especificado</th>\n",
       "    </tr>\n",
       "    <tr>\n",
       "      <th>CVE_MUN</th>\n",
       "      <th></th>\n",
       "      <th></th>\n",
       "      <th></th>\n",
       "      <th></th>\n",
       "    </tr>\n",
       "  </thead>\n",
       "  <tbody>\n",
       "    <tr>\n",
       "      <th>01001</th>\n",
       "      <td>9419.0</td>\n",
       "      <td>1384.0</td>\n",
       "      <td>7599.0</td>\n",
       "      <td>436.0</td>\n",
       "    </tr>\n",
       "    <tr>\n",
       "      <th>01002</th>\n",
       "      <td>140.0</td>\n",
       "      <td>6.0</td>\n",
       "      <td>134.0</td>\n",
       "      <td>NaN</td>\n",
       "    </tr>\n",
       "    <tr>\n",
       "      <th>01003</th>\n",
       "      <td>585.0</td>\n",
       "      <td>115.0</td>\n",
       "      <td>470.0</td>\n",
       "      <td>NaN</td>\n",
       "    </tr>\n",
       "    <tr>\n",
       "      <th>01004</th>\n",
       "      <td>144.0</td>\n",
       "      <td>1.0</td>\n",
       "      <td>143.0</td>\n",
       "      <td>NaN</td>\n",
       "    </tr>\n",
       "    <tr>\n",
       "      <th>01005</th>\n",
       "      <td>1195.0</td>\n",
       "      <td>132.0</td>\n",
       "      <td>1031.0</td>\n",
       "      <td>32.0</td>\n",
       "    </tr>\n",
       "  </tbody>\n",
       "</table>\n",
       "</div>"
      ],
      "text/plain": [
       "         Total de manzanas  Restricción del paso a automóviles  \\\n",
       "CVE_MUN                                                          \n",
       "01001               9419.0                              1384.0   \n",
       "01002                140.0                                 6.0   \n",
       "01003                585.0                               115.0   \n",
       "01004                144.0                                 1.0   \n",
       "01005               1195.0                               132.0   \n",
       "\n",
       "         Restricción del paso a automóviles en ninguna vialidad  \\\n",
       "CVE_MUN                                                           \n",
       "01001                                               7599.0        \n",
       "01002                                                134.0        \n",
       "01003                                                470.0        \n",
       "01004                                                143.0        \n",
       "01005                                               1031.0        \n",
       "\n",
       "         Restricción del paso a automóviles No especificado  \n",
       "CVE_MUN                                                      \n",
       "01001                                                436.0   \n",
       "01002                                                  NaN   \n",
       "01003                                                  NaN   \n",
       "01004                                                  NaN   \n",
       "01005                                                 32.0   "
      ]
     },
     "execution_count": 175,
     "metadata": {},
     "output_type": "execute_result"
    }
   ],
   "source": [
    "# Union de los dataframes\n",
    "P0702 = P0702.join(RPANV)\n",
    "P0702 = P0702.join(RPANE)\n",
    "P0702.head()"
   ]
  },
  {
   "cell_type": "markdown",
   "metadata": {},
   "source": [
    "Nuevamente, revisamos las celdas que no tienen datos en la columna de \"Restriccion al paso de automóviles\""
   ]
  },
  {
   "cell_type": "code",
   "execution_count": 197,
   "metadata": {
    "scrolled": false
   },
   "outputs": [
    {
     "data": {
      "text/html": [
       "<div>\n",
       "<style>\n",
       "    .dataframe thead tr:only-child th {\n",
       "        text-align: right;\n",
       "    }\n",
       "\n",
       "    .dataframe thead th {\n",
       "        text-align: left;\n",
       "    }\n",
       "\n",
       "    .dataframe tbody tr th {\n",
       "        vertical-align: top;\n",
       "    }\n",
       "</style>\n",
       "<table border=\"1\" class=\"dataframe\">\n",
       "  <thead>\n",
       "    <tr style=\"text-align: right;\">\n",
       "      <th></th>\n",
       "      <th>Total de manzanas</th>\n",
       "      <th>Restricción del paso a automóviles</th>\n",
       "      <th>Restricción del paso a automóviles en ninguna vialidad</th>\n",
       "      <th>Restricción del paso a automóviles No especificado</th>\n",
       "    </tr>\n",
       "    <tr>\n",
       "      <th>CVE_MUN</th>\n",
       "      <th></th>\n",
       "      <th></th>\n",
       "      <th></th>\n",
       "      <th></th>\n",
       "    </tr>\n",
       "  </thead>\n",
       "  <tbody>\n",
       "    <tr>\n",
       "      <th>04007</th>\n",
       "      <td>86.0</td>\n",
       "      <td>NaN</td>\n",
       "      <td>86.0</td>\n",
       "      <td>NaN</td>\n",
       "    </tr>\n",
       "    <tr>\n",
       "      <th>05023</th>\n",
       "      <td>190.0</td>\n",
       "      <td>NaN</td>\n",
       "      <td>190.0</td>\n",
       "      <td>NaN</td>\n",
       "    </tr>\n",
       "    <tr>\n",
       "      <th>05036</th>\n",
       "      <td>81.0</td>\n",
       "      <td>NaN</td>\n",
       "      <td>81.0</td>\n",
       "      <td>NaN</td>\n",
       "    </tr>\n",
       "    <tr>\n",
       "      <th>05037</th>\n",
       "      <td>357.0</td>\n",
       "      <td>NaN</td>\n",
       "      <td>337.0</td>\n",
       "      <td>20.0</td>\n",
       "    </tr>\n",
       "    <tr>\n",
       "      <th>06006</th>\n",
       "      <td>99.0</td>\n",
       "      <td>NaN</td>\n",
       "      <td>99.0</td>\n",
       "      <td>NaN</td>\n",
       "    </tr>\n",
       "  </tbody>\n",
       "</table>\n",
       "</div>"
      ],
      "text/plain": [
       "         Total de manzanas  Restricción del paso a automóviles  \\\n",
       "CVE_MUN                                                          \n",
       "04007                 86.0                                 NaN   \n",
       "05023                190.0                                 NaN   \n",
       "05036                 81.0                                 NaN   \n",
       "05037                357.0                                 NaN   \n",
       "06006                 99.0                                 NaN   \n",
       "\n",
       "         Restricción del paso a automóviles en ninguna vialidad  \\\n",
       "CVE_MUN                                                           \n",
       "04007                                                 86.0        \n",
       "05023                                                190.0        \n",
       "05036                                                 81.0        \n",
       "05037                                                337.0        \n",
       "06006                                                 99.0        \n",
       "\n",
       "         Restricción del paso a automóviles No especificado  \n",
       "CVE_MUN                                                      \n",
       "04007                                                  NaN   \n",
       "05023                                                  NaN   \n",
       "05036                                                  NaN   \n",
       "05037                                                 20.0   \n",
       "06006                                                  NaN   "
      ]
     },
     "execution_count": 197,
     "metadata": {},
     "output_type": "execute_result"
    }
   ],
   "source": [
    "# Celdas de la columna \"Restricción del paso a automóviles\" que quedaron sin valores\n",
    "testframe = P0702[P0702['Restricción del paso a automóviles'].isnull()].head()\n",
    "testframe"
   ]
  },
  {
   "cell_type": "markdown",
   "metadata": {},
   "source": [
    "Hay dos tipos de casos: \n",
    "1. Renglones en donde la columna \"Total de manzanas\" es igual al numero de manzanas en la columna \"Restricción del paso a automóviles en ninguna vialidad\" (Por ejemplo, la CVE_MUN 04007). En estos renglones es seguro asumir que el valor de la columna \"Restricción del paso a automóviles\" es igual a cero.\n",
    "2. Renglones en donde la columna \"Total de manzanas\" no es igual al numero de manzanas en la columna \"Restricción del paso a automóviles en ninguna vialidad\", y la hay una cantidad definida de manzanas en la columna \"Restricción del paso a automóviles No especificado\". (Por ejemplo, la CVE_MUN 050307) En estos renglones no se puede definir con certeza el valor de la columna \"Restricción del paso a automóviles\", por lo que se dejará vacío"
   ]
  },
  {
   "cell_type": "code",
   "execution_count": 198,
   "metadata": {
    "collapsed": true
   },
   "outputs": [],
   "source": [
    "# Funcion para tratar los casos vacios:\n",
    "def llenarestriccion(x):\n",
    "    tm = 'Total de manzanas'\n",
    "    rpanv = 'Restricción del paso a automóviles en ninguna vialidad'\n",
    "    if x[tm] == x[rpanv]:\n",
    "        return 0\n",
    "    else:\n",
    "        return x['Restricción del paso a automóviles']"
   ]
  },
  {
   "cell_type": "code",
   "execution_count": 196,
   "metadata": {
    "scrolled": true
   },
   "outputs": [
    {
     "data": {
      "text/plain": [
       "CVE_MUN\n",
       "04007    0.0\n",
       "05023    0.0\n",
       "05036    0.0\n",
       "05037    NaN\n",
       "06006    0.0\n",
       "dtype: float64"
      ]
     },
     "execution_count": 196,
     "metadata": {},
     "output_type": "execute_result"
    }
   ],
   "source": [
    "# Corrida de prueba\n",
    "testframe.apply(llenarestriccion, axis = 1)"
   ]
  },
  {
   "cell_type": "code",
   "execution_count": 200,
   "metadata": {
    "collapsed": true
   },
   "outputs": [],
   "source": [
    "# Corrida sobre el dataset del paramentro\n",
    "P0702['Restricción del paso a automóviles'] = P0702.apply(llenarestriccion, axis = 1)"
   ]
  },
  {
   "cell_type": "code",
   "execution_count": 215,
   "metadata": {
    "scrolled": true
   },
   "outputs": [
    {
     "data": {
      "text/html": [
       "<div>\n",
       "<style>\n",
       "    .dataframe thead tr:only-child th {\n",
       "        text-align: right;\n",
       "    }\n",
       "\n",
       "    .dataframe thead th {\n",
       "        text-align: left;\n",
       "    }\n",
       "\n",
       "    .dataframe tbody tr th {\n",
       "        vertical-align: top;\n",
       "    }\n",
       "</style>\n",
       "<table border=\"1\" class=\"dataframe\">\n",
       "  <thead>\n",
       "    <tr style=\"text-align: right;\">\n",
       "      <th></th>\n",
       "      <th>Descripcion</th>\n",
       "    </tr>\n",
       "    <tr>\n",
       "      <th>Metadato</th>\n",
       "      <th></th>\n",
       "    </tr>\n",
       "  </thead>\n",
       "  <tbody>\n",
       "    <tr>\n",
       "      <th>Nombre del Dataset</th>\n",
       "      <td>Características de las localidades y del entor...</td>\n",
       "    </tr>\n",
       "    <tr>\n",
       "      <th>Descripcion del dataset</th>\n",
       "      <td>Manzanas por municipio y restricción del paso ...</td>\n",
       "    </tr>\n",
       "    <tr>\n",
       "      <th>Disponibilidad Temporal</th>\n",
       "      <td>2014</td>\n",
       "    </tr>\n",
       "    <tr>\n",
       "      <th>Periodo de actualizacion</th>\n",
       "      <td>No Determinada</td>\n",
       "    </tr>\n",
       "    <tr>\n",
       "      <th>Nivel de Desagregacion</th>\n",
       "      <td>Localidad, Municipal, Estatal, Nacional</td>\n",
       "    </tr>\n",
       "    <tr>\n",
       "      <th>Notas</th>\n",
       "      <td>Se presentan los resultados de 3,993 localidad...</td>\n",
       "    </tr>\n",
       "    <tr>\n",
       "      <th>Fuente</th>\n",
       "      <td>INEGI</td>\n",
       "    </tr>\n",
       "    <tr>\n",
       "      <th>URL_Fuente</th>\n",
       "      <td>http://www.beta.inegi.org.mx/proyectos/encotra...</td>\n",
       "    </tr>\n",
       "    <tr>\n",
       "      <th>Dataset base</th>\n",
       "      <td>None</td>\n",
       "    </tr>\n",
       "  </tbody>\n",
       "</table>\n",
       "</div>"
      ],
      "text/plain": [
       "                                                                Descripcion\n",
       "Metadato                                                                   \n",
       "Nombre del Dataset        Características de las localidades y del entor...\n",
       "Descripcion del dataset   Manzanas por municipio y restricción del paso ...\n",
       "Disponibilidad Temporal                                                2014\n",
       "Periodo de actualizacion                                     No Determinada\n",
       "Nivel de Desagregacion              Localidad, Municipal, Estatal, Nacional\n",
       "Notas                     Se presentan los resultados de 3,993 localidad...\n",
       "Fuente                                                                INEGI\n",
       "URL_Fuente                http://www.beta.inegi.org.mx/proyectos/encotra...\n",
       "Dataset base                                                           None"
      ]
     },
     "execution_count": 215,
     "metadata": {},
     "output_type": "execute_result"
    }
   ],
   "source": [
    "# metadatos especificos para este parametro\n",
    "metadatos['Descripcion del dataset'] = 'Manzanas por municipio y restricción del paso a automóviles'\n",
    "metadatos['Notas'] = 'Se presentan los resultados de 3,993 localidades con información de entorno urbano. Se excluyen 35,839 manzanas que corresponden a edificios de conjuntos habitacionales.'\n",
    "\n",
    "# Convertir metadatos a dataframe\n",
    "P0702meta = pd.DataFrame.from_dict(metadatos, orient='index', dtype=None)\n",
    "P0702meta.columns = ['Descripcion']\n",
    "P0702meta = P0702meta.rename_axis('Metadato')\n",
    "P0702meta"
   ]
  },
  {
   "cell_type": "code",
   "execution_count": 212,
   "metadata": {
    "scrolled": false
   },
   "outputs": [
    {
     "data": {
      "text/html": [
       "<div>\n",
       "<style>\n",
       "    .dataframe thead tr:only-child th {\n",
       "        text-align: right;\n",
       "    }\n",
       "\n",
       "    .dataframe thead th {\n",
       "        text-align: left;\n",
       "    }\n",
       "\n",
       "    .dataframe tbody tr th {\n",
       "        vertical-align: top;\n",
       "    }\n",
       "</style>\n",
       "<table border=\"1\" class=\"dataframe\">\n",
       "  <thead>\n",
       "    <tr style=\"text-align: right;\">\n",
       "      <th></th>\n",
       "      <th>Descripcion</th>\n",
       "    </tr>\n",
       "    <tr>\n",
       "      <th>Mnemonico</th>\n",
       "      <th></th>\n",
       "    </tr>\n",
       "  </thead>\n",
       "  <tbody>\n",
       "    <tr>\n",
       "      <th>Total de manzanas</th>\n",
       "      <td>Total de manzanas</td>\n",
       "    </tr>\n",
       "    <tr>\n",
       "      <th>Restricción del paso a automóviles</th>\n",
       "      <td>Total de manzanas que cuentan con restriccion ...</td>\n",
       "    </tr>\n",
       "    <tr>\n",
       "      <th>Restricción del paso a automóviles en ninguna vialidad</th>\n",
       "      <td>Total de manzanas que no tienen restriccion al...</td>\n",
       "    </tr>\n",
       "    <tr>\n",
       "      <th>Restricción del paso a automóviles No especificado</th>\n",
       "      <td>Total de manzanas en donde no se esspecifican ...</td>\n",
       "    </tr>\n",
       "  </tbody>\n",
       "</table>\n",
       "</div>"
      ],
      "text/plain": [
       "                                                                                          Descripcion\n",
       "Mnemonico                                                                                            \n",
       "Total de manzanas                                                                   Total de manzanas\n",
       "Restricción del paso a automóviles                  Total de manzanas que cuentan con restriccion ...\n",
       "Restricción del paso a automóviles en ninguna v...  Total de manzanas que no tienen restriccion al...\n",
       "Restricción del paso a automóviles No especificado  Total de manzanas en donde no se esspecifican ..."
      ]
     },
     "execution_count": 212,
     "metadata": {},
     "output_type": "execute_result"
    }
   ],
   "source": [
    "# Descripciones de columnas\n",
    "variables = {\n",
    "    'Total de manzanas': 'Total de manzanas',\n",
    "    'Restricción del paso a automóviles': 'Total de manzanas que cuentan con restriccion al paso de automoviles en una o más de sus vialidades',\n",
    "    'Restricción del paso a automóviles en ninguna vialidad': 'Total de manzanas que no tienen restriccion al paso de automoviles en ninguna de sus vialidades',\n",
    "    'Restricción del paso a automóviles No especificado': 'Total de manzanas en donde no se especifican las restricciones al paso de automoviles'\n",
    "}\n",
    "\n",
    "# Convertir descripciones a dataframe\n",
    "P0702vars = pd.DataFrame.from_dict(variables, orient='index', dtype=None)\n",
    "P0702vars.columns = ['Descripcion']\n",
    "P0702vars = P0702vars.rename_axis('Mnemonico')\n",
    "P0702vars.head()"
   ]
  },
  {
   "cell_type": "code",
   "execution_count": 216,
   "metadata": {
    "scrolled": true
   },
   "outputs": [
    {
     "name": "stdout",
     "output_type": "stream",
     "text": [
      "---------------TERMINADO---------------\n"
     ]
    }
   ],
   "source": [
    "# Guardar el dataset\n",
    "file = r'D:\\PCCS\\01_Dmine\\Datasets\\CLEU\\P0702.xlsx'\n",
    "writer = pd.ExcelWriter(file)\n",
    "P0702.to_excel(writer, sheet_name = 'DATOS')\n",
    "P0702meta.to_excel(writer, sheet_name = 'METADATOS')\n",
    "P0702vars.to_excel(writer, sheet_name = 'VARIABLES')\n",
    "writer.save()\n",
    "print('---------------TERMINADO---------------')"
   ]
  },
  {
   "cell_type": "markdown",
   "metadata": {},
   "source": [
    "### Limpieza de dataset para P0703: Restricción al paso a peatones"
   ]
  },
  {
   "cell_type": "code",
   "execution_count": 321,
   "metadata": {
    "scrolled": false
   },
   "outputs": [
    {
     "data": {
      "text/plain": [
       "'Manzanas por entidad federativa, municipio, localidad y restricción del paso a automóviles según restricción del paso a peatones en sus vialidades'"
      ]
     },
     "execution_count": 321,
     "metadata": {},
     "output_type": "execute_result"
    }
   ],
   "source": [
    "nom_hojas['P0703']"
   ]
  },
  {
   "cell_type": "code",
   "execution_count": 228,
   "metadata": {
    "scrolled": true
   },
   "outputs": [
    {
     "data": {
      "text/html": [
       "<div>\n",
       "<style>\n",
       "    .dataframe thead tr:only-child th {\n",
       "        text-align: right;\n",
       "    }\n",
       "\n",
       "    .dataframe thead th {\n",
       "        text-align: left;\n",
       "    }\n",
       "\n",
       "    .dataframe tbody tr th {\n",
       "        vertical-align: top;\n",
       "    }\n",
       "</style>\n",
       "<table border=\"1\" class=\"dataframe\">\n",
       "  <thead>\n",
       "    <tr style=\"text-align: right;\">\n",
       "      <th></th>\n",
       "      <th>Restricción del paso a automóviles</th>\n",
       "      <th>Total de manzanas</th>\n",
       "      <th>RPPeatones Todas las vialidades</th>\n",
       "      <th>RPPeatones Alguna vialidad</th>\n",
       "      <th>RPPeatones Ninguna vialidad</th>\n",
       "      <th>RPPeatones No especificado</th>\n",
       "    </tr>\n",
       "    <tr>\n",
       "      <th>CVE_MUN</th>\n",
       "      <th></th>\n",
       "      <th></th>\n",
       "      <th></th>\n",
       "      <th></th>\n",
       "      <th></th>\n",
       "      <th></th>\n",
       "    </tr>\n",
       "  </thead>\n",
       "  <tbody>\n",
       "    <tr>\n",
       "      <th>01001</th>\n",
       "      <td>Total</td>\n",
       "      <td>9419.0</td>\n",
       "      <td>278.0</td>\n",
       "      <td>553.0</td>\n",
       "      <td>8397.0</td>\n",
       "      <td>191.0</td>\n",
       "    </tr>\n",
       "    <tr>\n",
       "      <th>01001</th>\n",
       "      <td>Restricción del paso a automóviles en todas la...</td>\n",
       "      <td>305.0</td>\n",
       "      <td>257.0</td>\n",
       "      <td>5.0</td>\n",
       "      <td>43.0</td>\n",
       "      <td>0.0</td>\n",
       "    </tr>\n",
       "    <tr>\n",
       "      <th>01001</th>\n",
       "      <td>Restricción del paso a automóviles en alguna v...</td>\n",
       "      <td>1079.0</td>\n",
       "      <td>4.0</td>\n",
       "      <td>504.0</td>\n",
       "      <td>571.0</td>\n",
       "      <td>0.0</td>\n",
       "    </tr>\n",
       "    <tr>\n",
       "      <th>01001</th>\n",
       "      <td>Restricción del paso a automóviles en ninguna ...</td>\n",
       "      <td>7599.0</td>\n",
       "      <td>5.0</td>\n",
       "      <td>40.0</td>\n",
       "      <td>7554.0</td>\n",
       "      <td>0.0</td>\n",
       "    </tr>\n",
       "    <tr>\n",
       "      <th>01001</th>\n",
       "      <td>No especificado</td>\n",
       "      <td>436.0</td>\n",
       "      <td>12.0</td>\n",
       "      <td>4.0</td>\n",
       "      <td>229.0</td>\n",
       "      <td>191.0</td>\n",
       "    </tr>\n",
       "  </tbody>\n",
       "</table>\n",
       "</div>"
      ],
      "text/plain": [
       "                        Restricción del paso a automóviles  Total de manzanas  \\\n",
       "CVE_MUN                                                                         \n",
       "01001                                                Total             9419.0   \n",
       "01001    Restricción del paso a automóviles en todas la...              305.0   \n",
       "01001    Restricción del paso a automóviles en alguna v...             1079.0   \n",
       "01001    Restricción del paso a automóviles en ninguna ...             7599.0   \n",
       "01001                                      No especificado              436.0   \n",
       "\n",
       "         RPPeatones Todas las vialidades  RPPeatones Alguna vialidad  \\\n",
       "CVE_MUN                                                                \n",
       "01001                              278.0                       553.0   \n",
       "01001                              257.0                         5.0   \n",
       "01001                                4.0                       504.0   \n",
       "01001                                5.0                        40.0   \n",
       "01001                               12.0                         4.0   \n",
       "\n",
       "         RPPeatones Ninguna vialidad  RPPeatones No especificado  \n",
       "CVE_MUN                                                           \n",
       "01001                         8397.0                       191.0  \n",
       "01001                           43.0                         0.0  \n",
       "01001                          571.0                         0.0  \n",
       "01001                         7554.0                         0.0  \n",
       "01001                          229.0                       191.0  "
      ]
     },
     "execution_count": 228,
     "metadata": {},
     "output_type": "execute_result"
    }
   ],
   "source": [
    "P0703_raw = datasets['P0703']\n",
    "P0703_raw.head()"
   ]
  },
  {
   "cell_type": "code",
   "execution_count": 237,
   "metadata": {
    "scrolled": true
   },
   "outputs": [
    {
     "data": {
      "text/html": [
       "<div>\n",
       "<style>\n",
       "    .dataframe thead tr:only-child th {\n",
       "        text-align: right;\n",
       "    }\n",
       "\n",
       "    .dataframe thead th {\n",
       "        text-align: left;\n",
       "    }\n",
       "\n",
       "    .dataframe tbody tr th {\n",
       "        vertical-align: top;\n",
       "    }\n",
       "</style>\n",
       "<table border=\"1\" class=\"dataframe\">\n",
       "  <thead>\n",
       "    <tr style=\"text-align: right;\">\n",
       "      <th></th>\n",
       "      <th>Total de manzanas</th>\n",
       "      <th>RPPeatones Todas las vialidades</th>\n",
       "      <th>RPPeatones Alguna vialidad</th>\n",
       "      <th>RPPeatones Ninguna vialidad</th>\n",
       "      <th>RPPeatones No especificado</th>\n",
       "    </tr>\n",
       "    <tr>\n",
       "      <th>CVE_MUN</th>\n",
       "      <th></th>\n",
       "      <th></th>\n",
       "      <th></th>\n",
       "      <th></th>\n",
       "      <th></th>\n",
       "    </tr>\n",
       "  </thead>\n",
       "  <tbody>\n",
       "    <tr>\n",
       "      <th>01001</th>\n",
       "      <td>9419.0</td>\n",
       "      <td>278.0</td>\n",
       "      <td>553.0</td>\n",
       "      <td>8397.0</td>\n",
       "      <td>191.0</td>\n",
       "    </tr>\n",
       "    <tr>\n",
       "      <th>01002</th>\n",
       "      <td>140.0</td>\n",
       "      <td>0.0</td>\n",
       "      <td>2.0</td>\n",
       "      <td>138.0</td>\n",
       "      <td>0.0</td>\n",
       "    </tr>\n",
       "    <tr>\n",
       "      <th>01003</th>\n",
       "      <td>585.0</td>\n",
       "      <td>0.0</td>\n",
       "      <td>11.0</td>\n",
       "      <td>574.0</td>\n",
       "      <td>0.0</td>\n",
       "    </tr>\n",
       "    <tr>\n",
       "      <th>01004</th>\n",
       "      <td>144.0</td>\n",
       "      <td>0.0</td>\n",
       "      <td>0.0</td>\n",
       "      <td>144.0</td>\n",
       "      <td>0.0</td>\n",
       "    </tr>\n",
       "    <tr>\n",
       "      <th>01005</th>\n",
       "      <td>1195.0</td>\n",
       "      <td>10.0</td>\n",
       "      <td>57.0</td>\n",
       "      <td>1097.0</td>\n",
       "      <td>31.0</td>\n",
       "    </tr>\n",
       "  </tbody>\n",
       "</table>\n",
       "</div>"
      ],
      "text/plain": [
       "         Total de manzanas  RPPeatones Todas las vialidades  \\\n",
       "CVE_MUN                                                       \n",
       "01001               9419.0                            278.0   \n",
       "01002                140.0                              0.0   \n",
       "01003                585.0                              0.0   \n",
       "01004                144.0                              0.0   \n",
       "01005               1195.0                             10.0   \n",
       "\n",
       "         RPPeatones Alguna vialidad  RPPeatones Ninguna vialidad  \\\n",
       "CVE_MUN                                                            \n",
       "01001                         553.0                       8397.0   \n",
       "01002                           2.0                        138.0   \n",
       "01003                          11.0                        574.0   \n",
       "01004                           0.0                        144.0   \n",
       "01005                          57.0                       1097.0   \n",
       "\n",
       "         RPPeatones No especificado  \n",
       "CVE_MUN                              \n",
       "01001                         191.0  \n",
       "01002                           0.0  \n",
       "01003                           0.0  \n",
       "01004                           0.0  \n",
       "01005                          31.0  "
      ]
     },
     "execution_count": 237,
     "metadata": {},
     "output_type": "execute_result"
    }
   ],
   "source": [
    "# Solo nos interesan los renglones con totales\n",
    "P0703 = P0703_raw[P0703_raw['Restricción del paso a automóviles'] == 'Total']\n",
    "\n",
    "# Y podemos quitar la columna \"Restricción del paso a automóviles\"\n",
    "del(P0703['Restricción del paso a automóviles'])\n",
    "\n",
    "P0703.head()"
   ]
  },
  {
   "cell_type": "code",
   "execution_count": 258,
   "metadata": {
    "scrolled": true
   },
   "outputs": [
    {
     "data": {
      "text/html": [
       "<div>\n",
       "<style>\n",
       "    .dataframe thead tr:only-child th {\n",
       "        text-align: right;\n",
       "    }\n",
       "\n",
       "    .dataframe thead th {\n",
       "        text-align: left;\n",
       "    }\n",
       "\n",
       "    .dataframe tbody tr th {\n",
       "        vertical-align: top;\n",
       "    }\n",
       "</style>\n",
       "<table border=\"1\" class=\"dataframe\">\n",
       "  <thead>\n",
       "    <tr style=\"text-align: right;\">\n",
       "      <th></th>\n",
       "      <th>Descripcion</th>\n",
       "    </tr>\n",
       "    <tr>\n",
       "      <th>Metadato</th>\n",
       "      <th></th>\n",
       "    </tr>\n",
       "  </thead>\n",
       "  <tbody>\n",
       "    <tr>\n",
       "      <th>Nombre del Dataset</th>\n",
       "      <td>Características de las localidades y del entor...</td>\n",
       "    </tr>\n",
       "    <tr>\n",
       "      <th>Descripcion del dataset</th>\n",
       "      <td>Manzanas por municipio y restricción del paso ...</td>\n",
       "    </tr>\n",
       "    <tr>\n",
       "      <th>Disponibilidad Temporal</th>\n",
       "      <td>2014</td>\n",
       "    </tr>\n",
       "    <tr>\n",
       "      <th>Periodo de actualizacion</th>\n",
       "      <td>No Determinada</td>\n",
       "    </tr>\n",
       "    <tr>\n",
       "      <th>Nivel de Desagregacion</th>\n",
       "      <td>Localidad, Municipal, Estatal, Nacional</td>\n",
       "    </tr>\n",
       "    <tr>\n",
       "      <th>Notas</th>\n",
       "      <td>Se presentan los resultados de 3,993 localidad...</td>\n",
       "    </tr>\n",
       "    <tr>\n",
       "      <th>Fuente</th>\n",
       "      <td>INEGI</td>\n",
       "    </tr>\n",
       "    <tr>\n",
       "      <th>URL_Fuente</th>\n",
       "      <td>http://www.beta.inegi.org.mx/proyectos/encotra...</td>\n",
       "    </tr>\n",
       "    <tr>\n",
       "      <th>Dataset base</th>\n",
       "      <td>None</td>\n",
       "    </tr>\n",
       "  </tbody>\n",
       "</table>\n",
       "</div>"
      ],
      "text/plain": [
       "                                                                Descripcion\n",
       "Metadato                                                                   \n",
       "Nombre del Dataset        Características de las localidades y del entor...\n",
       "Descripcion del dataset   Manzanas por municipio y restricción del paso ...\n",
       "Disponibilidad Temporal                                                2014\n",
       "Periodo de actualizacion                                     No Determinada\n",
       "Nivel de Desagregacion              Localidad, Municipal, Estatal, Nacional\n",
       "Notas                     Se presentan los resultados de 3,993 localidad...\n",
       "Fuente                                                                INEGI\n",
       "URL_Fuente                http://www.beta.inegi.org.mx/proyectos/encotra...\n",
       "Dataset base                                                           None"
      ]
     },
     "execution_count": 258,
     "metadata": {},
     "output_type": "execute_result"
    }
   ],
   "source": [
    "# Y pos ese ya es el dataset para el parámetro, nomás faltan los metadatos y las variables.\n",
    "# metadatos especificos para este parametro\n",
    "metadatos['Descripcion del dataset'] = 'Manzanas por municipio y restricción del paso a peatones'\n",
    "metadatos['Notas'] = 'Se presentan los resultados de 3,993 localidades con información de entorno urbano. Se excluyen 35,839 manzanas que corresponden a edificios de conjuntos habitacionales.'\n",
    "\n",
    "# Convertir metadatos a dataframe\n",
    "P0703meta = pd.DataFrame.from_dict(metadatos, orient='index', dtype=None)\n",
    "P0703meta.columns = ['Descripcion']\n",
    "P0703meta = P0703meta.rename_axis('Metadato')\n",
    "P0703meta"
   ]
  },
  {
   "cell_type": "code",
   "execution_count": 238,
   "metadata": {
    "scrolled": false
   },
   "outputs": [
    {
     "data": {
      "text/plain": [
       "['Total de manzanas',\n",
       " 'RPPeatones Todas las vialidades',\n",
       " 'RPPeatones Alguna vialidad',\n",
       " 'RPPeatones Ninguna vialidad',\n",
       " 'RPPeatones No especificado']"
      ]
     },
     "execution_count": 238,
     "metadata": {},
     "output_type": "execute_result"
    }
   ],
   "source": [
    "# Qué variables tiene este dataset?\n",
    "list(P0703)"
   ]
  },
  {
   "cell_type": "code",
   "execution_count": 259,
   "metadata": {
    "scrolled": false
   },
   "outputs": [
    {
     "data": {
      "text/html": [
       "<div>\n",
       "<style>\n",
       "    .dataframe thead tr:only-child th {\n",
       "        text-align: right;\n",
       "    }\n",
       "\n",
       "    .dataframe thead th {\n",
       "        text-align: left;\n",
       "    }\n",
       "\n",
       "    .dataframe tbody tr th {\n",
       "        vertical-align: top;\n",
       "    }\n",
       "</style>\n",
       "<table border=\"1\" class=\"dataframe\">\n",
       "  <thead>\n",
       "    <tr style=\"text-align: right;\">\n",
       "      <th></th>\n",
       "      <th>Descripcion</th>\n",
       "    </tr>\n",
       "    <tr>\n",
       "      <th>Mnemonico</th>\n",
       "      <th></th>\n",
       "    </tr>\n",
       "  </thead>\n",
       "  <tbody>\n",
       "    <tr>\n",
       "      <th>Total de manzanas</th>\n",
       "      <td>Total de manzanas</td>\n",
       "    </tr>\n",
       "    <tr>\n",
       "      <th>RPPeatones Todas las vialidades</th>\n",
       "      <td>Manzanas con restriccion al paso de peatones e...</td>\n",
       "    </tr>\n",
       "    <tr>\n",
       "      <th>RPPeatones Alguna vialidad</th>\n",
       "      <td>Manzanas con restriccion al paso de peatones e...</td>\n",
       "    </tr>\n",
       "    <tr>\n",
       "      <th>RPPeatones Ninguna vialidad</th>\n",
       "      <td>Manzanas con restriccion al paso de peatones e...</td>\n",
       "    </tr>\n",
       "    <tr>\n",
       "      <th>RPPeatones No especificado</th>\n",
       "      <td>Manzanas sin especificacion de restriccion al ...</td>\n",
       "    </tr>\n",
       "  </tbody>\n",
       "</table>\n",
       "</div>"
      ],
      "text/plain": [
       "                                                                       Descripcion\n",
       "Mnemonico                                                                         \n",
       "Total de manzanas                                                Total de manzanas\n",
       "RPPeatones Todas las vialidades  Manzanas con restriccion al paso de peatones e...\n",
       "RPPeatones Alguna vialidad       Manzanas con restriccion al paso de peatones e...\n",
       "RPPeatones Ninguna vialidad      Manzanas con restriccion al paso de peatones e...\n",
       "RPPeatones No especificado       Manzanas sin especificacion de restriccion al ..."
      ]
     },
     "execution_count": 259,
     "metadata": {},
     "output_type": "execute_result"
    }
   ],
   "source": [
    "# Descripciones de columnas\n",
    "variables = {\n",
    "    'Total de manzanas': 'Total de manzanas',\n",
    "    'RPPeatones Todas las vialidades': 'Manzanas con restriccion al paso de peatones en todas las vialidades',\n",
    "    'RPPeatones Alguna vialidad': 'Manzanas con restriccion al paso de peatones en alguna vialidad',\n",
    "    'RPPeatones Ninguna vialidad': 'Manzanas con restriccion al paso de peatones en ninguna vialidad',\n",
    "    'RPPeatones No especificado': 'Manzanas sin especificacion de restriccion al paso de peatones'\n",
    "}\n",
    "\n",
    "# Convertir descripciones a dataframe\n",
    "P0703vars = pd.DataFrame.from_dict(variables, orient='index', dtype=None)\n",
    "P0703vars.columns = ['Descripcion']\n",
    "P0703vars = P0703vars.rename_axis('Mnemonico')\n",
    "P0703vars"
   ]
  },
  {
   "cell_type": "code",
   "execution_count": 264,
   "metadata": {
    "scrolled": false
   },
   "outputs": [
    {
     "name": "stdout",
     "output_type": "stream",
     "text": [
      "---------------TERMINADO---------------\n"
     ]
    }
   ],
   "source": [
    "# Guardar el dataset\n",
    "file = r'D:\\PCCS\\01_Dmine\\Datasets\\CLEU\\P0703.xlsx'\n",
    "writer = pd.ExcelWriter(file)\n",
    "P0703.to_excel(writer, sheet_name = 'DATOS')\n",
    "P0703meta.to_excel(writer, sheet_name = 'METADATOS')\n",
    "P0703vars.to_excel(writer, sheet_name = 'VARIABLES')\n",
    "writer.save()\n",
    "print('---------------TERMINADO---------------')"
   ]
  },
  {
   "cell_type": "markdown",
   "metadata": {},
   "source": [
    "### Limpieza de dataset para P0704: Vialidades con recubrimiento de la calle"
   ]
  },
  {
   "cell_type": "code",
   "execution_count": 256,
   "metadata": {
    "scrolled": false
   },
   "outputs": [
    {
     "data": {
      "text/plain": [
       "'Vialidades por entidad federativa, municipio, localidad y alumbrado público según tipo de recubrimiento de la calle'"
      ]
     },
     "execution_count": 256,
     "metadata": {},
     "output_type": "execute_result"
    }
   ],
   "source": [
    "nom_hojas['P0704']"
   ]
  },
  {
   "cell_type": "code",
   "execution_count": 246,
   "metadata": {
    "scrolled": false
   },
   "outputs": [
    {
     "data": {
      "text/html": [
       "<div>\n",
       "<style>\n",
       "    .dataframe thead tr:only-child th {\n",
       "        text-align: right;\n",
       "    }\n",
       "\n",
       "    .dataframe thead th {\n",
       "        text-align: left;\n",
       "    }\n",
       "\n",
       "    .dataframe tbody tr th {\n",
       "        vertical-align: top;\n",
       "    }\n",
       "</style>\n",
       "<table border=\"1\" class=\"dataframe\">\n",
       "  <thead>\n",
       "    <tr style=\"text-align: right;\">\n",
       "      <th></th>\n",
       "      <th>Disponibilidad de alumbrado público</th>\n",
       "      <th>Total de vialidades</th>\n",
       "      <th>Pavimento o concreto</th>\n",
       "      <th>Empedrado o adoquín</th>\n",
       "      <th>Sin recubrimiento</th>\n",
       "      <th>Recubrimiento No especificado</th>\n",
       "    </tr>\n",
       "    <tr>\n",
       "      <th>CVE_MUN</th>\n",
       "      <th></th>\n",
       "      <th></th>\n",
       "      <th></th>\n",
       "      <th></th>\n",
       "      <th></th>\n",
       "      <th></th>\n",
       "    </tr>\n",
       "  </thead>\n",
       "  <tbody>\n",
       "    <tr>\n",
       "      <th>01001</th>\n",
       "      <td>Total</td>\n",
       "      <td>44651.0</td>\n",
       "      <td>35050.0</td>\n",
       "      <td>3247.0</td>\n",
       "      <td>3036.0</td>\n",
       "      <td>3318.0</td>\n",
       "    </tr>\n",
       "    <tr>\n",
       "      <th>01001</th>\n",
       "      <td>Dispone de alumbrado público</td>\n",
       "      <td>38286.0</td>\n",
       "      <td>33208.0</td>\n",
       "      <td>3019.0</td>\n",
       "      <td>1969.0</td>\n",
       "      <td>90.0</td>\n",
       "    </tr>\n",
       "    <tr>\n",
       "      <th>01001</th>\n",
       "      <td>No dispone de alumbrado público</td>\n",
       "      <td>3116.0</td>\n",
       "      <td>1822.0</td>\n",
       "      <td>226.0</td>\n",
       "      <td>1064.0</td>\n",
       "      <td>4.0</td>\n",
       "    </tr>\n",
       "    <tr>\n",
       "      <th>01001</th>\n",
       "      <td>No especificado</td>\n",
       "      <td>3249.0</td>\n",
       "      <td>20.0</td>\n",
       "      <td>2.0</td>\n",
       "      <td>3.0</td>\n",
       "      <td>3224.0</td>\n",
       "    </tr>\n",
       "    <tr>\n",
       "      <th>01002</th>\n",
       "      <td>Total</td>\n",
       "      <td>669.0</td>\n",
       "      <td>282.0</td>\n",
       "      <td>53.0</td>\n",
       "      <td>311.0</td>\n",
       "      <td>23.0</td>\n",
       "    </tr>\n",
       "  </tbody>\n",
       "</table>\n",
       "</div>"
      ],
      "text/plain": [
       "        Disponibilidad de alumbrado público  Total de vialidades  \\\n",
       "CVE_MUN                                                            \n",
       "01001                                 Total              44651.0   \n",
       "01001          Dispone de alumbrado público              38286.0   \n",
       "01001       No dispone de alumbrado público               3116.0   \n",
       "01001                       No especificado               3249.0   \n",
       "01002                                 Total                669.0   \n",
       "\n",
       "         Pavimento o concreto  Empedrado o adoquín  Sin recubrimiento  \\\n",
       "CVE_MUN                                                                 \n",
       "01001                 35050.0               3247.0             3036.0   \n",
       "01001                 33208.0               3019.0             1969.0   \n",
       "01001                  1822.0                226.0             1064.0   \n",
       "01001                    20.0                  2.0                3.0   \n",
       "01002                   282.0                 53.0              311.0   \n",
       "\n",
       "         Recubrimiento No especificado  \n",
       "CVE_MUN                                 \n",
       "01001                           3318.0  \n",
       "01001                             90.0  \n",
       "01001                              4.0  \n",
       "01001                           3224.0  \n",
       "01002                             23.0  "
      ]
     },
     "execution_count": 246,
     "metadata": {},
     "output_type": "execute_result"
    }
   ],
   "source": [
    "P0704_raw = datasets['P0704']\n",
    "P0704_raw.head()"
   ]
  },
  {
   "cell_type": "code",
   "execution_count": 253,
   "metadata": {
    "scrolled": false
   },
   "outputs": [
    {
     "data": {
      "text/html": [
       "<div>\n",
       "<style>\n",
       "    .dataframe thead tr:only-child th {\n",
       "        text-align: right;\n",
       "    }\n",
       "\n",
       "    .dataframe thead th {\n",
       "        text-align: left;\n",
       "    }\n",
       "\n",
       "    .dataframe tbody tr th {\n",
       "        vertical-align: top;\n",
       "    }\n",
       "</style>\n",
       "<table border=\"1\" class=\"dataframe\">\n",
       "  <thead>\n",
       "    <tr style=\"text-align: right;\">\n",
       "      <th></th>\n",
       "      <th>Total de vialidades</th>\n",
       "      <th>Pavimento o concreto</th>\n",
       "      <th>Empedrado o adoquín</th>\n",
       "      <th>Sin recubrimiento</th>\n",
       "      <th>Recubrimiento No especificado</th>\n",
       "    </tr>\n",
       "    <tr>\n",
       "      <th>CVE_MUN</th>\n",
       "      <th></th>\n",
       "      <th></th>\n",
       "      <th></th>\n",
       "      <th></th>\n",
       "      <th></th>\n",
       "    </tr>\n",
       "  </thead>\n",
       "  <tbody>\n",
       "    <tr>\n",
       "      <th>01001</th>\n",
       "      <td>44651.0</td>\n",
       "      <td>35050.0</td>\n",
       "      <td>3247.0</td>\n",
       "      <td>3036.0</td>\n",
       "      <td>3318.0</td>\n",
       "    </tr>\n",
       "    <tr>\n",
       "      <th>01002</th>\n",
       "      <td>669.0</td>\n",
       "      <td>282.0</td>\n",
       "      <td>53.0</td>\n",
       "      <td>311.0</td>\n",
       "      <td>23.0</td>\n",
       "    </tr>\n",
       "    <tr>\n",
       "      <th>01003</th>\n",
       "      <td>3500.0</td>\n",
       "      <td>1032.0</td>\n",
       "      <td>1431.0</td>\n",
       "      <td>829.0</td>\n",
       "      <td>208.0</td>\n",
       "    </tr>\n",
       "    <tr>\n",
       "      <th>01004</th>\n",
       "      <td>672.0</td>\n",
       "      <td>412.0</td>\n",
       "      <td>5.0</td>\n",
       "      <td>238.0</td>\n",
       "      <td>17.0</td>\n",
       "    </tr>\n",
       "    <tr>\n",
       "      <th>01005</th>\n",
       "      <td>6314.0</td>\n",
       "      <td>3991.0</td>\n",
       "      <td>355.0</td>\n",
       "      <td>1392.0</td>\n",
       "      <td>576.0</td>\n",
       "    </tr>\n",
       "  </tbody>\n",
       "</table>\n",
       "</div>"
      ],
      "text/plain": [
       "         Total de vialidades  Pavimento o concreto  Empedrado o adoquín  \\\n",
       "CVE_MUN                                                                   \n",
       "01001                44651.0               35050.0               3247.0   \n",
       "01002                  669.0                 282.0                 53.0   \n",
       "01003                 3500.0                1032.0               1431.0   \n",
       "01004                  672.0                 412.0                  5.0   \n",
       "01005                 6314.0                3991.0                355.0   \n",
       "\n",
       "         Sin recubrimiento  Recubrimiento No especificado  \n",
       "CVE_MUN                                                    \n",
       "01001               3036.0                         3318.0  \n",
       "01002                311.0                           23.0  \n",
       "01003                829.0                          208.0  \n",
       "01004                238.0                           17.0  \n",
       "01005               1392.0                          576.0  "
      ]
     },
     "execution_count": 253,
     "metadata": {},
     "output_type": "execute_result"
    }
   ],
   "source": [
    "# Solo nos interesan los renglones con totales\n",
    "P0704 = P0704_raw[P0704_raw['Disponibilidad de alumbrado público'] == 'Total']\n",
    "\n",
    "# Y podemos quitar la columna \"Disponibilidad de alumbrado público\"\n",
    "del(P0704['Disponibilidad de alumbrado público'])\n",
    "P0704.head()"
   ]
  },
  {
   "cell_type": "code",
   "execution_count": 261,
   "metadata": {
    "scrolled": false
   },
   "outputs": [
    {
     "data": {
      "text/html": [
       "<div>\n",
       "<style>\n",
       "    .dataframe thead tr:only-child th {\n",
       "        text-align: right;\n",
       "    }\n",
       "\n",
       "    .dataframe thead th {\n",
       "        text-align: left;\n",
       "    }\n",
       "\n",
       "    .dataframe tbody tr th {\n",
       "        vertical-align: top;\n",
       "    }\n",
       "</style>\n",
       "<table border=\"1\" class=\"dataframe\">\n",
       "  <thead>\n",
       "    <tr style=\"text-align: right;\">\n",
       "      <th></th>\n",
       "      <th>Descripcion</th>\n",
       "    </tr>\n",
       "    <tr>\n",
       "      <th>Metadato</th>\n",
       "      <th></th>\n",
       "    </tr>\n",
       "  </thead>\n",
       "  <tbody>\n",
       "    <tr>\n",
       "      <th>Nombre del Dataset</th>\n",
       "      <td>Características de las localidades y del entor...</td>\n",
       "    </tr>\n",
       "    <tr>\n",
       "      <th>Descripcion del dataset</th>\n",
       "      <td>Vialidades por municipio según tipo de recubri...</td>\n",
       "    </tr>\n",
       "    <tr>\n",
       "      <th>Disponibilidad Temporal</th>\n",
       "      <td>2014</td>\n",
       "    </tr>\n",
       "    <tr>\n",
       "      <th>Periodo de actualizacion</th>\n",
       "      <td>No Determinada</td>\n",
       "    </tr>\n",
       "    <tr>\n",
       "      <th>Nivel de Desagregacion</th>\n",
       "      <td>Localidad, Municipal, Estatal, Nacional</td>\n",
       "    </tr>\n",
       "    <tr>\n",
       "      <th>Notas</th>\n",
       "      <td>Total de vialidades que circundan cada manzana...</td>\n",
       "    </tr>\n",
       "    <tr>\n",
       "      <th>Fuente</th>\n",
       "      <td>INEGI</td>\n",
       "    </tr>\n",
       "    <tr>\n",
       "      <th>URL_Fuente</th>\n",
       "      <td>http://www.beta.inegi.org.mx/proyectos/encotra...</td>\n",
       "    </tr>\n",
       "    <tr>\n",
       "      <th>Dataset base</th>\n",
       "      <td>None</td>\n",
       "    </tr>\n",
       "  </tbody>\n",
       "</table>\n",
       "</div>"
      ],
      "text/plain": [
       "                                                                Descripcion\n",
       "Metadato                                                                   \n",
       "Nombre del Dataset        Características de las localidades y del entor...\n",
       "Descripcion del dataset   Vialidades por municipio según tipo de recubri...\n",
       "Disponibilidad Temporal                                                2014\n",
       "Periodo de actualizacion                                     No Determinada\n",
       "Nivel de Desagregacion              Localidad, Municipal, Estatal, Nacional\n",
       "Notas                     Total de vialidades que circundan cada manzana...\n",
       "Fuente                                                                INEGI\n",
       "URL_Fuente                http://www.beta.inegi.org.mx/proyectos/encotra...\n",
       "Dataset base                                                           None"
      ]
     },
     "execution_count": 261,
     "metadata": {},
     "output_type": "execute_result"
    }
   ],
   "source": [
    "# metadatos especificos para este parametro\n",
    "metadatos['Descripcion del dataset'] = 'Vialidades por municipio según tipo de recubrimiento de la calle'\n",
    "metadatos['Notas'] = 'Total de vialidades que circundan cada manzana. Se presentan los resultados de 3,993 localidades con información de entorno urbano. Se excluyen 35,839 manzanas que corresponden a edificios de conjuntos habitacionales.'\n",
    "\n",
    "# Convertir metadatos a dataframe\n",
    "P0704meta = pd.DataFrame.from_dict(metadatos, orient='index', dtype=None)\n",
    "P0704meta.columns = ['Descripcion']\n",
    "P0704meta = P0704meta.rename_axis('Metadato')\n",
    "P0704meta"
   ]
  },
  {
   "cell_type": "code",
   "execution_count": 254,
   "metadata": {
    "scrolled": true
   },
   "outputs": [
    {
     "data": {
      "text/plain": [
       "['Total de vialidades',\n",
       " 'Pavimento o concreto',\n",
       " 'Empedrado o adoquín',\n",
       " 'Sin recubrimiento',\n",
       " 'Recubrimiento No especificado']"
      ]
     },
     "execution_count": 254,
     "metadata": {},
     "output_type": "execute_result"
    }
   ],
   "source": [
    "# Que Variables tiene este dataset?\n",
    "list(P0704)"
   ]
  },
  {
   "cell_type": "code",
   "execution_count": 262,
   "metadata": {
    "scrolled": true
   },
   "outputs": [
    {
     "data": {
      "text/html": [
       "<div>\n",
       "<style>\n",
       "    .dataframe thead tr:only-child th {\n",
       "        text-align: right;\n",
       "    }\n",
       "\n",
       "    .dataframe thead th {\n",
       "        text-align: left;\n",
       "    }\n",
       "\n",
       "    .dataframe tbody tr th {\n",
       "        vertical-align: top;\n",
       "    }\n",
       "</style>\n",
       "<table border=\"1\" class=\"dataframe\">\n",
       "  <thead>\n",
       "    <tr style=\"text-align: right;\">\n",
       "      <th></th>\n",
       "      <th>Descripcion</th>\n",
       "    </tr>\n",
       "    <tr>\n",
       "      <th>Mnemonico</th>\n",
       "      <th></th>\n",
       "    </tr>\n",
       "  </thead>\n",
       "  <tbody>\n",
       "    <tr>\n",
       "      <th>Total de vialidades</th>\n",
       "      <td>Total de Vialidades</td>\n",
       "    </tr>\n",
       "    <tr>\n",
       "      <th>Pavimento o concreto</th>\n",
       "      <td>Vialidades que cuentan con Pavimento o concreto</td>\n",
       "    </tr>\n",
       "    <tr>\n",
       "      <th>Empedrado o adoquín</th>\n",
       "      <td>Vialidades que cuentan con Empedrado o adoquín</td>\n",
       "    </tr>\n",
       "    <tr>\n",
       "      <th>Sin recubrimiento</th>\n",
       "      <td>Vialidades Sin recubrimiento</td>\n",
       "    </tr>\n",
       "    <tr>\n",
       "      <th>Recubrimiento No especificado</th>\n",
       "      <td>Vialidades con Recubrimiento No especificado</td>\n",
       "    </tr>\n",
       "  </tbody>\n",
       "</table>\n",
       "</div>"
      ],
      "text/plain": [
       "                                                                   Descripcion\n",
       "Mnemonico                                                                     \n",
       "Total de vialidades                                        Total de Vialidades\n",
       "Pavimento o concreto           Vialidades que cuentan con Pavimento o concreto\n",
       "Empedrado o adoquín             Vialidades que cuentan con Empedrado o adoquín\n",
       "Sin recubrimiento                                 Vialidades Sin recubrimiento\n",
       "Recubrimiento No especificado     Vialidades con Recubrimiento No especificado"
      ]
     },
     "execution_count": 262,
     "metadata": {},
     "output_type": "execute_result"
    }
   ],
   "source": [
    "# Descripciones de columnas\n",
    "variables = {\n",
    "    'Total de vialidades': 'Total de Vialidades',\n",
    "    'Pavimento o concreto': 'Vialidades que cuentan con Pavimento o concreto',\n",
    "    'Empedrado o adoquín': 'Vialidades que cuentan con Empedrado o adoquín',\n",
    "    'Sin recubrimiento': 'Vialidades Sin recubrimiento',\n",
    "    'Recubrimiento No especificado': 'Vialidades con Recubrimiento No especificado'\n",
    "}\n",
    "\n",
    "# Convertir descripciones a dataframe\n",
    "P0704vars = pd.DataFrame.from_dict(variables, orient='index', dtype=None)\n",
    "P0704vars.columns = ['Descripcion']\n",
    "P0704vars = P0704vars.rename_axis('Mnemonico')\n",
    "P0704vars"
   ]
  },
  {
   "cell_type": "code",
   "execution_count": 263,
   "metadata": {
    "scrolled": false
   },
   "outputs": [
    {
     "name": "stdout",
     "output_type": "stream",
     "text": [
      "---------------TERMINADO---------------\n"
     ]
    }
   ],
   "source": [
    "# Guardar el dataset\n",
    "file = r'D:\\PCCS\\01_Dmine\\Datasets\\CLEU\\P0704.xlsx'\n",
    "writer = pd.ExcelWriter(file)\n",
    "P0704.to_excel(writer, sheet_name = 'DATOS')\n",
    "P0704meta.to_excel(writer, sheet_name = 'METADATOS')\n",
    "P0704vars.to_excel(writer, sheet_name = 'VARIABLES')\n",
    "writer.save()\n",
    "print('---------------TERMINADO---------------')"
   ]
  },
  {
   "cell_type": "markdown",
   "metadata": {},
   "source": [
    "### Limpieza de dataset para P0705: Vialidades con banqueta"
   ]
  },
  {
   "cell_type": "code",
   "execution_count": 269,
   "metadata": {
    "scrolled": true
   },
   "outputs": [
    {
     "data": {
      "text/plain": [
       "'Manzanas por entidad federativa, municipio, localidad y disponibilidad de banqueta según disponibilidad de recubrimiento de la calle'"
      ]
     },
     "execution_count": 269,
     "metadata": {},
     "output_type": "execute_result"
    }
   ],
   "source": [
    "nom_hojas['P0705']"
   ]
  },
  {
   "cell_type": "code",
   "execution_count": 270,
   "metadata": {
    "scrolled": true
   },
   "outputs": [
    {
     "data": {
      "text/html": [
       "<div>\n",
       "<style>\n",
       "    .dataframe thead tr:only-child th {\n",
       "        text-align: right;\n",
       "    }\n",
       "\n",
       "    .dataframe thead th {\n",
       "        text-align: left;\n",
       "    }\n",
       "\n",
       "    .dataframe tbody tr th {\n",
       "        vertical-align: top;\n",
       "    }\n",
       "</style>\n",
       "<table border=\"1\" class=\"dataframe\">\n",
       "  <thead>\n",
       "    <tr style=\"text-align: right;\">\n",
       "      <th></th>\n",
       "      <th>Disponibilidad de banqueta</th>\n",
       "      <th>Total de manzanas</th>\n",
       "      <th>Banqueta en todas las vialidades</th>\n",
       "      <th>Banqueta en Alguna vialidad</th>\n",
       "      <th>Banqueta en Ninguna vialidad</th>\n",
       "      <th>Banqueta No especificado</th>\n",
       "    </tr>\n",
       "    <tr>\n",
       "      <th>CVE_MUN</th>\n",
       "      <th></th>\n",
       "      <th></th>\n",
       "      <th></th>\n",
       "      <th></th>\n",
       "      <th></th>\n",
       "      <th></th>\n",
       "    </tr>\n",
       "  </thead>\n",
       "  <tbody>\n",
       "    <tr>\n",
       "      <th>01001</th>\n",
       "      <td>Total</td>\n",
       "      <td>9419.0</td>\n",
       "      <td>6963.0</td>\n",
       "      <td>1893.0</td>\n",
       "      <td>301.0</td>\n",
       "      <td>262.0</td>\n",
       "    </tr>\n",
       "    <tr>\n",
       "      <th>01001</th>\n",
       "      <td>Banqueta en todas las vialidades</td>\n",
       "      <td>6609.0</td>\n",
       "      <td>6269.0</td>\n",
       "      <td>298.0</td>\n",
       "      <td>38.0</td>\n",
       "      <td>4.0</td>\n",
       "    </tr>\n",
       "    <tr>\n",
       "      <th>01001</th>\n",
       "      <td>Banqueta en alguna vialidad</td>\n",
       "      <td>2166.0</td>\n",
       "      <td>615.0</td>\n",
       "      <td>1494.0</td>\n",
       "      <td>55.0</td>\n",
       "      <td>2.0</td>\n",
       "    </tr>\n",
       "    <tr>\n",
       "      <th>01001</th>\n",
       "      <td>Banqueta en ninguna vialidad</td>\n",
       "      <td>388.0</td>\n",
       "      <td>79.0</td>\n",
       "      <td>101.0</td>\n",
       "      <td>208.0</td>\n",
       "      <td>0.0</td>\n",
       "    </tr>\n",
       "    <tr>\n",
       "      <th>01001</th>\n",
       "      <td>No especificado</td>\n",
       "      <td>256.0</td>\n",
       "      <td>0.0</td>\n",
       "      <td>0.0</td>\n",
       "      <td>0.0</td>\n",
       "      <td>256.0</td>\n",
       "    </tr>\n",
       "  </tbody>\n",
       "</table>\n",
       "</div>"
      ],
      "text/plain": [
       "               Disponibilidad de banqueta  Total de manzanas  \\\n",
       "CVE_MUN                                                        \n",
       "01001                               Total             9419.0   \n",
       "01001    Banqueta en todas las vialidades             6609.0   \n",
       "01001         Banqueta en alguna vialidad             2166.0   \n",
       "01001        Banqueta en ninguna vialidad              388.0   \n",
       "01001                     No especificado              256.0   \n",
       "\n",
       "         Banqueta en todas las vialidades  Banqueta en Alguna vialidad  \\\n",
       "CVE_MUN                                                                  \n",
       "01001                              6963.0                       1893.0   \n",
       "01001                              6269.0                        298.0   \n",
       "01001                               615.0                       1494.0   \n",
       "01001                                79.0                        101.0   \n",
       "01001                                 0.0                          0.0   \n",
       "\n",
       "         Banqueta en Ninguna vialidad  Banqueta No especificado  \n",
       "CVE_MUN                                                          \n",
       "01001                           301.0                     262.0  \n",
       "01001                            38.0                       4.0  \n",
       "01001                            55.0                       2.0  \n",
       "01001                           208.0                       0.0  \n",
       "01001                             0.0                     256.0  "
      ]
     },
     "execution_count": 270,
     "metadata": {},
     "output_type": "execute_result"
    }
   ],
   "source": [
    "# Dataset base\n",
    "P0705_raw = datasets['P0705']\n",
    "P0705_raw.head()"
   ]
  },
  {
   "cell_type": "code",
   "execution_count": 293,
   "metadata": {
    "scrolled": true
   },
   "outputs": [
    {
     "data": {
      "text/plain": [
       "['Total',\n",
       " 'Banqueta en todas las vialidades',\n",
       " 'Banqueta en alguna vialidad',\n",
       " 'Banqueta en ninguna vialidad',\n",
       " 'No especificado']"
      ]
     },
     "execution_count": 293,
     "metadata": {},
     "output_type": "execute_result"
    }
   ],
   "source": [
    "db = 'Disponibilidad de banqueta'\n",
    "list(P0705_raw[db].unique())"
   ]
  },
  {
   "cell_type": "code",
   "execution_count": 298,
   "metadata": {
    "scrolled": true
   },
   "outputs": [
    {
     "data": {
      "text/html": [
       "<div>\n",
       "<style>\n",
       "    .dataframe thead tr:only-child th {\n",
       "        text-align: right;\n",
       "    }\n",
       "\n",
       "    .dataframe thead th {\n",
       "        text-align: left;\n",
       "    }\n",
       "\n",
       "    .dataframe tbody tr th {\n",
       "        vertical-align: top;\n",
       "    }\n",
       "</style>\n",
       "<table border=\"1\" class=\"dataframe\">\n",
       "  <thead>\n",
       "    <tr style=\"text-align: right;\">\n",
       "      <th></th>\n",
       "      <th>Total de manzanas</th>\n",
       "    </tr>\n",
       "    <tr>\n",
       "      <th>CVE_MUN</th>\n",
       "      <th></th>\n",
       "    </tr>\n",
       "  </thead>\n",
       "  <tbody>\n",
       "    <tr>\n",
       "      <th>01001</th>\n",
       "      <td>9419.0</td>\n",
       "    </tr>\n",
       "    <tr>\n",
       "      <th>01002</th>\n",
       "      <td>140.0</td>\n",
       "    </tr>\n",
       "    <tr>\n",
       "      <th>01003</th>\n",
       "      <td>585.0</td>\n",
       "    </tr>\n",
       "    <tr>\n",
       "      <th>01004</th>\n",
       "      <td>144.0</td>\n",
       "    </tr>\n",
       "    <tr>\n",
       "      <th>01005</th>\n",
       "      <td>1195.0</td>\n",
       "    </tr>\n",
       "  </tbody>\n",
       "</table>\n",
       "</div>"
      ],
      "text/plain": [
       "         Total de manzanas\n",
       "CVE_MUN                   \n",
       "01001               9419.0\n",
       "01002                140.0\n",
       "01003                585.0\n",
       "01004                144.0\n",
       "01005               1195.0"
      ]
     },
     "execution_count": 298,
     "metadata": {},
     "output_type": "execute_result"
    }
   ],
   "source": [
    "# Comenzamos creando un dataset con el total de manzanas por municipio\n",
    "tm = 'Total de manzanas'\n",
    "manzanas = P0705_raw[P0705_raw[db] == 'Total'][tm].to_frame()\n",
    "manzanas.head()"
   ]
  },
  {
   "cell_type": "code",
   "execution_count": 299,
   "metadata": {
    "collapsed": true
   },
   "outputs": [],
   "source": [
    "# Para el parametro, hay que separar la columna \"Disponibilidad de banqueta\" en una columna por cada subset\n",
    "tv = 'Banqueta en todas las vialidades'\n",
    "av = 'Banqueta en alguna vialidad'\n",
    "nv = 'Banqueta en ninguna vialidad'\n",
    "ne = 'No especificado'\n",
    "todasvial = P0705_raw[P0705_raw[db] == tv][tm].to_frame(name = tv)\n",
    "alguvial = P0705_raw[P0705_raw[db] == av][tm].to_frame(name = av)\n",
    "ningvial = P0705_raw[P0705_raw[db] == nv][tm].to_frame(name = nv)\n",
    "nevial = P0705_raw[P0705_raw[db] == ne][tm].to_frame(name = ne)"
   ]
  },
  {
   "cell_type": "code",
   "execution_count": 301,
   "metadata": {
    "scrolled": true
   },
   "outputs": [
    {
     "data": {
      "text/html": [
       "<div>\n",
       "<style>\n",
       "    .dataframe thead tr:only-child th {\n",
       "        text-align: right;\n",
       "    }\n",
       "\n",
       "    .dataframe thead th {\n",
       "        text-align: left;\n",
       "    }\n",
       "\n",
       "    .dataframe tbody tr th {\n",
       "        vertical-align: top;\n",
       "    }\n",
       "</style>\n",
       "<table border=\"1\" class=\"dataframe\">\n",
       "  <thead>\n",
       "    <tr style=\"text-align: right;\">\n",
       "      <th></th>\n",
       "      <th>Total de manzanas</th>\n",
       "      <th>Banqueta en todas las vialidades</th>\n",
       "      <th>Banqueta en alguna vialidad</th>\n",
       "      <th>Banqueta en ninguna vialidad</th>\n",
       "      <th>No especificado</th>\n",
       "    </tr>\n",
       "    <tr>\n",
       "      <th>CVE_MUN</th>\n",
       "      <th></th>\n",
       "      <th></th>\n",
       "      <th></th>\n",
       "      <th></th>\n",
       "      <th></th>\n",
       "    </tr>\n",
       "  </thead>\n",
       "  <tbody>\n",
       "    <tr>\n",
       "      <th>01001</th>\n",
       "      <td>9419.0</td>\n",
       "      <td>6609.0</td>\n",
       "      <td>2166.0</td>\n",
       "      <td>388.0</td>\n",
       "      <td>256.0</td>\n",
       "    </tr>\n",
       "    <tr>\n",
       "      <th>01002</th>\n",
       "      <td>140.0</td>\n",
       "      <td>32.0</td>\n",
       "      <td>60.0</td>\n",
       "      <td>48.0</td>\n",
       "      <td>NaN</td>\n",
       "    </tr>\n",
       "    <tr>\n",
       "      <th>01003</th>\n",
       "      <td>585.0</td>\n",
       "      <td>186.0</td>\n",
       "      <td>302.0</td>\n",
       "      <td>97.0</td>\n",
       "      <td>NaN</td>\n",
       "    </tr>\n",
       "    <tr>\n",
       "      <th>01004</th>\n",
       "      <td>144.0</td>\n",
       "      <td>75.0</td>\n",
       "      <td>48.0</td>\n",
       "      <td>21.0</td>\n",
       "      <td>NaN</td>\n",
       "    </tr>\n",
       "    <tr>\n",
       "      <th>01005</th>\n",
       "      <td>1195.0</td>\n",
       "      <td>574.0</td>\n",
       "      <td>431.0</td>\n",
       "      <td>159.0</td>\n",
       "      <td>31.0</td>\n",
       "    </tr>\n",
       "  </tbody>\n",
       "</table>\n",
       "</div>"
      ],
      "text/plain": [
       "         Total de manzanas  Banqueta en todas las vialidades  \\\n",
       "CVE_MUN                                                        \n",
       "01001               9419.0                            6609.0   \n",
       "01002                140.0                              32.0   \n",
       "01003                585.0                             186.0   \n",
       "01004                144.0                              75.0   \n",
       "01005               1195.0                             574.0   \n",
       "\n",
       "         Banqueta en alguna vialidad  Banqueta en ninguna vialidad  \\\n",
       "CVE_MUN                                                              \n",
       "01001                         2166.0                         388.0   \n",
       "01002                           60.0                          48.0   \n",
       "01003                          302.0                          97.0   \n",
       "01004                           48.0                          21.0   \n",
       "01005                          431.0                         159.0   \n",
       "\n",
       "         No especificado  \n",
       "CVE_MUN                   \n",
       "01001              256.0  \n",
       "01002                NaN  \n",
       "01003                NaN  \n",
       "01004                NaN  \n",
       "01005               31.0  "
      ]
     },
     "execution_count": 301,
     "metadata": {},
     "output_type": "execute_result"
    }
   ],
   "source": [
    "# Después es necesario unir cada serie a partir del dataset 'manzanas'\n",
    "P0705 = manzanas.join(todasvial).join(alguvial).join(ningvial).join(nevial)\n",
    "P0705.head()"
   ]
  },
  {
   "cell_type": "code",
   "execution_count": 308,
   "metadata": {
    "scrolled": true
   },
   "outputs": [
    {
     "data": {
      "text/html": [
       "<div>\n",
       "<style>\n",
       "    .dataframe thead tr:only-child th {\n",
       "        text-align: right;\n",
       "    }\n",
       "\n",
       "    .dataframe thead th {\n",
       "        text-align: left;\n",
       "    }\n",
       "\n",
       "    .dataframe tbody tr th {\n",
       "        vertical-align: top;\n",
       "    }\n",
       "</style>\n",
       "<table border=\"1\" class=\"dataframe\">\n",
       "  <thead>\n",
       "    <tr style=\"text-align: right;\">\n",
       "      <th></th>\n",
       "      <th>Total de manzanas</th>\n",
       "      <th>Banqueta en todas las vialidades</th>\n",
       "      <th>Banqueta en alguna vialidad</th>\n",
       "      <th>Banqueta en ninguna vialidad</th>\n",
       "      <th>No especificado</th>\n",
       "    </tr>\n",
       "    <tr>\n",
       "      <th>CVE_MUN</th>\n",
       "      <th></th>\n",
       "      <th></th>\n",
       "      <th></th>\n",
       "      <th></th>\n",
       "      <th></th>\n",
       "    </tr>\n",
       "  </thead>\n",
       "  <tbody>\n",
       "    <tr>\n",
       "      <th>30098</th>\n",
       "      <td>12.0</td>\n",
       "      <td>NaN</td>\n",
       "      <td>NaN</td>\n",
       "      <td>12.0</td>\n",
       "      <td>NaN</td>\n",
       "    </tr>\n",
       "    <tr>\n",
       "      <th>30107</th>\n",
       "      <td>13.0</td>\n",
       "      <td>NaN</td>\n",
       "      <td>5.0</td>\n",
       "      <td>8.0</td>\n",
       "      <td>NaN</td>\n",
       "    </tr>\n",
       "    <tr>\n",
       "      <th>31036</th>\n",
       "      <td>122.0</td>\n",
       "      <td>NaN</td>\n",
       "      <td>30.0</td>\n",
       "      <td>91.0</td>\n",
       "      <td>1.0</td>\n",
       "    </tr>\n",
       "    <tr>\n",
       "      <th>31053</th>\n",
       "      <td>279.0</td>\n",
       "      <td>NaN</td>\n",
       "      <td>59.0</td>\n",
       "      <td>209.0</td>\n",
       "      <td>11.0</td>\n",
       "    </tr>\n",
       "    <tr>\n",
       "      <th>31105</th>\n",
       "      <td>92.0</td>\n",
       "      <td>NaN</td>\n",
       "      <td>32.0</td>\n",
       "      <td>60.0</td>\n",
       "      <td>NaN</td>\n",
       "    </tr>\n",
       "  </tbody>\n",
       "</table>\n",
       "</div>"
      ],
      "text/plain": [
       "         Total de manzanas  Banqueta en todas las vialidades  \\\n",
       "CVE_MUN                                                        \n",
       "30098                 12.0                               NaN   \n",
       "30107                 13.0                               NaN   \n",
       "31036                122.0                               NaN   \n",
       "31053                279.0                               NaN   \n",
       "31105                 92.0                               NaN   \n",
       "\n",
       "         Banqueta en alguna vialidad  Banqueta en ninguna vialidad  \\\n",
       "CVE_MUN                                                              \n",
       "30098                            NaN                          12.0   \n",
       "30107                            5.0                           8.0   \n",
       "31036                           30.0                          91.0   \n",
       "31053                           59.0                         209.0   \n",
       "31105                           32.0                          60.0   \n",
       "\n",
       "         No especificado  \n",
       "CVE_MUN                   \n",
       "30098                NaN  \n",
       "30107                NaN  \n",
       "31036                1.0  \n",
       "31053               11.0  \n",
       "31105                NaN  "
      ]
     },
     "execution_count": 308,
     "metadata": {},
     "output_type": "execute_result"
    }
   ],
   "source": [
    "# celdas de la columna \"Banqueta en todas las vialidades\" que quedaron sin valores\n",
    "P0705[P0705['Banqueta en todas las vialidades'].isnull()].tail()"
   ]
  },
  {
   "cell_type": "markdown",
   "metadata": {},
   "source": [
    "Para los renglones en donde el valor de la columna \"Total de Manzanas\" es igual al valor de la columna \"Banqueta en ninguna vialidad\" se puede reemplazar el valor NaN por Cero."
   ]
  },
  {
   "cell_type": "code",
   "execution_count": 311,
   "metadata": {
    "scrolled": true
   },
   "outputs": [
    {
     "data": {
      "text/html": [
       "<div>\n",
       "<style>\n",
       "    .dataframe thead tr:only-child th {\n",
       "        text-align: right;\n",
       "    }\n",
       "\n",
       "    .dataframe thead th {\n",
       "        text-align: left;\n",
       "    }\n",
       "\n",
       "    .dataframe tbody tr th {\n",
       "        vertical-align: top;\n",
       "    }\n",
       "</style>\n",
       "<table border=\"1\" class=\"dataframe\">\n",
       "  <thead>\n",
       "    <tr style=\"text-align: right;\">\n",
       "      <th></th>\n",
       "      <th>Total de manzanas</th>\n",
       "      <th>Banqueta en todas las vialidades</th>\n",
       "      <th>Banqueta en alguna vialidad</th>\n",
       "      <th>Banqueta en ninguna vialidad</th>\n",
       "      <th>No especificado</th>\n",
       "    </tr>\n",
       "    <tr>\n",
       "      <th>CVE_MUN</th>\n",
       "      <th></th>\n",
       "      <th></th>\n",
       "      <th></th>\n",
       "      <th></th>\n",
       "      <th></th>\n",
       "    </tr>\n",
       "  </thead>\n",
       "  <tbody>\n",
       "    <tr>\n",
       "      <th>12037</th>\n",
       "      <td>67.0</td>\n",
       "      <td>NaN</td>\n",
       "      <td>NaN</td>\n",
       "      <td>67.0</td>\n",
       "      <td>NaN</td>\n",
       "    </tr>\n",
       "    <tr>\n",
       "      <th>12069</th>\n",
       "      <td>53.0</td>\n",
       "      <td>NaN</td>\n",
       "      <td>NaN</td>\n",
       "      <td>53.0</td>\n",
       "      <td>NaN</td>\n",
       "    </tr>\n",
       "    <tr>\n",
       "      <th>15124</th>\n",
       "      <td>31.0</td>\n",
       "      <td>NaN</td>\n",
       "      <td>NaN</td>\n",
       "      <td>31.0</td>\n",
       "      <td>NaN</td>\n",
       "    </tr>\n",
       "    <tr>\n",
       "      <th>20019</th>\n",
       "      <td>23.0</td>\n",
       "      <td>NaN</td>\n",
       "      <td>NaN</td>\n",
       "      <td>23.0</td>\n",
       "      <td>NaN</td>\n",
       "    </tr>\n",
       "    <tr>\n",
       "      <th>20024</th>\n",
       "      <td>33.0</td>\n",
       "      <td>NaN</td>\n",
       "      <td>NaN</td>\n",
       "      <td>33.0</td>\n",
       "      <td>NaN</td>\n",
       "    </tr>\n",
       "  </tbody>\n",
       "</table>\n",
       "</div>"
      ],
      "text/plain": [
       "         Total de manzanas  Banqueta en todas las vialidades  \\\n",
       "CVE_MUN                                                        \n",
       "12037                 67.0                               NaN   \n",
       "12069                 53.0                               NaN   \n",
       "15124                 31.0                               NaN   \n",
       "20019                 23.0                               NaN   \n",
       "20024                 33.0                               NaN   \n",
       "\n",
       "         Banqueta en alguna vialidad  Banqueta en ninguna vialidad  \\\n",
       "CVE_MUN                                                              \n",
       "12037                            NaN                          67.0   \n",
       "12069                            NaN                          53.0   \n",
       "15124                            NaN                          31.0   \n",
       "20019                            NaN                          23.0   \n",
       "20024                            NaN                          33.0   \n",
       "\n",
       "         No especificado  \n",
       "CVE_MUN                   \n",
       "12037                NaN  \n",
       "12069                NaN  \n",
       "15124                NaN  \n",
       "20019                NaN  \n",
       "20024                NaN  "
      ]
     },
     "execution_count": 311,
     "metadata": {},
     "output_type": "execute_result"
    }
   ],
   "source": [
    "P0705[P0705[tm] == P0705[nv]].head()"
   ]
  },
  {
   "cell_type": "code",
   "execution_count": 312,
   "metadata": {
    "collapsed": true
   },
   "outputs": [],
   "source": [
    "# Funcion para tratar los casos vacios:\n",
    "def llenarestriccion(x):\n",
    "    if x[tm] == x[nv]:\n",
    "        return 0\n",
    "    else:\n",
    "        return x['Banqueta en todas las vialidades']\n",
    "        # Es seguro utilizar la misma funcion para las columnas \n",
    "        # \"Banqueta en todas las vialidades\" como en la columna\n",
    "        # \"Banqueta en alguna vialidad\""
   ]
  },
  {
   "cell_type": "code",
   "execution_count": 315,
   "metadata": {
    "scrolled": true
   },
   "outputs": [
    {
     "data": {
      "text/plain": [
       "Total de manzanas                   67.0\n",
       "Banqueta en todas las vialidades     0.0\n",
       "Banqueta en alguna vialidad          0.0\n",
       "Banqueta en ninguna vialidad        67.0\n",
       "No especificado                      NaN\n",
       "Name: 12037, dtype: float64"
      ]
     },
     "execution_count": 315,
     "metadata": {},
     "output_type": "execute_result"
    }
   ],
   "source": [
    "P0705[tv]= P0705.apply(llenarestriccion, axis = 1)\n",
    "P0705[av]= P0705.apply(llenarestriccion, axis = 1)\n",
    "P0705.loc['12037']"
   ]
  },
  {
   "cell_type": "code",
   "execution_count": 317,
   "metadata": {},
   "outputs": [
    {
     "data": {
      "text/plain": [
       "'Manzanas por entidad federativa, municipio, localidad y disponibilidad de banqueta según disponibilidad de recubrimiento de la calle'"
      ]
     },
     "execution_count": 317,
     "metadata": {},
     "output_type": "execute_result"
    }
   ],
   "source": [
    "nom_hojas['P0705']"
   ]
  },
  {
   "cell_type": "code",
   "execution_count": 318,
   "metadata": {
    "scrolled": false
   },
   "outputs": [
    {
     "data": {
      "text/html": [
       "<div>\n",
       "<style>\n",
       "    .dataframe thead tr:only-child th {\n",
       "        text-align: right;\n",
       "    }\n",
       "\n",
       "    .dataframe thead th {\n",
       "        text-align: left;\n",
       "    }\n",
       "\n",
       "    .dataframe tbody tr th {\n",
       "        vertical-align: top;\n",
       "    }\n",
       "</style>\n",
       "<table border=\"1\" class=\"dataframe\">\n",
       "  <thead>\n",
       "    <tr style=\"text-align: right;\">\n",
       "      <th></th>\n",
       "      <th>Descripcion</th>\n",
       "    </tr>\n",
       "    <tr>\n",
       "      <th>Metadato</th>\n",
       "      <th></th>\n",
       "    </tr>\n",
       "  </thead>\n",
       "  <tbody>\n",
       "    <tr>\n",
       "      <th>Nombre del Dataset</th>\n",
       "      <td>Características de las localidades y del entor...</td>\n",
       "    </tr>\n",
       "    <tr>\n",
       "      <th>Descripcion del dataset</th>\n",
       "      <td>Manzanas por municipio segun disponibilidad de...</td>\n",
       "    </tr>\n",
       "    <tr>\n",
       "      <th>Disponibilidad Temporal</th>\n",
       "      <td>2014</td>\n",
       "    </tr>\n",
       "    <tr>\n",
       "      <th>Periodo de actualizacion</th>\n",
       "      <td>No Determinada</td>\n",
       "    </tr>\n",
       "    <tr>\n",
       "      <th>Nivel de Desagregacion</th>\n",
       "      <td>Localidad, Municipal, Estatal, Nacional</td>\n",
       "    </tr>\n",
       "    <tr>\n",
       "      <th>Notas</th>\n",
       "      <td>Se presentan los resultados de 3,993 localidad...</td>\n",
       "    </tr>\n",
       "    <tr>\n",
       "      <th>Fuente</th>\n",
       "      <td>INEGI</td>\n",
       "    </tr>\n",
       "    <tr>\n",
       "      <th>URL_Fuente</th>\n",
       "      <td>http://www.beta.inegi.org.mx/proyectos/encotra...</td>\n",
       "    </tr>\n",
       "    <tr>\n",
       "      <th>Dataset base</th>\n",
       "      <td>None</td>\n",
       "    </tr>\n",
       "  </tbody>\n",
       "</table>\n",
       "</div>"
      ],
      "text/plain": [
       "                                                                Descripcion\n",
       "Metadato                                                                   \n",
       "Nombre del Dataset        Características de las localidades y del entor...\n",
       "Descripcion del dataset   Manzanas por municipio segun disponibilidad de...\n",
       "Disponibilidad Temporal                                                2014\n",
       "Periodo de actualizacion                                     No Determinada\n",
       "Nivel de Desagregacion              Localidad, Municipal, Estatal, Nacional\n",
       "Notas                     Se presentan los resultados de 3,993 localidad...\n",
       "Fuente                                                                INEGI\n",
       "URL_Fuente                http://www.beta.inegi.org.mx/proyectos/encotra...\n",
       "Dataset base                                                           None"
      ]
     },
     "execution_count": 318,
     "metadata": {},
     "output_type": "execute_result"
    }
   ],
   "source": [
    "# metadatos especificos para este parametro\n",
    "metadatos['Descripcion del dataset'] = 'Manzanas por municipio segun disponibilidad de banqueta en sus vialidades'\n",
    "metadatos['Notas'] = 'Se presentan los resultados de 3,993 localidades con información de entorno urbano. Se excluyen 35,839 manzanas que corresponden a edificios de conjuntos habitacionales.'\n",
    "\n",
    "# Convertir metadatos a dataframe\n",
    "P0705meta = pd.DataFrame.from_dict(metadatos, orient='index', dtype=None)\n",
    "P0705meta.columns = ['Descripcion']\n",
    "P0705meta = P0705meta.rename_axis('Metadato')\n",
    "P0705meta\n"
   ]
  },
  {
   "cell_type": "code",
   "execution_count": 316,
   "metadata": {
    "scrolled": false
   },
   "outputs": [
    {
     "data": {
      "text/plain": [
       "['Total de manzanas',\n",
       " 'Banqueta en todas las vialidades',\n",
       " 'Banqueta en alguna vialidad',\n",
       " 'Banqueta en ninguna vialidad',\n",
       " 'No especificado']"
      ]
     },
     "execution_count": 316,
     "metadata": {},
     "output_type": "execute_result"
    }
   ],
   "source": [
    "list(P0705)"
   ]
  },
  {
   "cell_type": "code",
   "execution_count": 319,
   "metadata": {
    "scrolled": false
   },
   "outputs": [
    {
     "data": {
      "text/html": [
       "<div>\n",
       "<style>\n",
       "    .dataframe thead tr:only-child th {\n",
       "        text-align: right;\n",
       "    }\n",
       "\n",
       "    .dataframe thead th {\n",
       "        text-align: left;\n",
       "    }\n",
       "\n",
       "    .dataframe tbody tr th {\n",
       "        vertical-align: top;\n",
       "    }\n",
       "</style>\n",
       "<table border=\"1\" class=\"dataframe\">\n",
       "  <thead>\n",
       "    <tr style=\"text-align: right;\">\n",
       "      <th></th>\n",
       "      <th>Descripcion</th>\n",
       "    </tr>\n",
       "    <tr>\n",
       "      <th>Mnemonico</th>\n",
       "      <th></th>\n",
       "    </tr>\n",
       "  </thead>\n",
       "  <tbody>\n",
       "    <tr>\n",
       "      <th>Total de manzanas</th>\n",
       "      <td>Total de manzanas</td>\n",
       "    </tr>\n",
       "    <tr>\n",
       "      <th>Banqueta en todas las vialidades</th>\n",
       "      <td>Manzanas que cuentan con banqueta en todas las...</td>\n",
       "    </tr>\n",
       "    <tr>\n",
       "      <th>Banqueta en alguna vialidad</th>\n",
       "      <td>Manzanas que cuentan con banqueta en alguna vi...</td>\n",
       "    </tr>\n",
       "    <tr>\n",
       "      <th>Banqueta en ninguna vialidad</th>\n",
       "      <td>Manzanas que cuentan con banqueta en ninguna v...</td>\n",
       "    </tr>\n",
       "    <tr>\n",
       "      <th>No especificado</th>\n",
       "      <td>Manzanas en donde no se ha especificado si cue...</td>\n",
       "    </tr>\n",
       "  </tbody>\n",
       "</table>\n",
       "</div>"
      ],
      "text/plain": [
       "                                                                        Descripcion\n",
       "Mnemonico                                                                          \n",
       "Total de manzanas                                                 Total de manzanas\n",
       "Banqueta en todas las vialidades  Manzanas que cuentan con banqueta en todas las...\n",
       "Banqueta en alguna vialidad       Manzanas que cuentan con banqueta en alguna vi...\n",
       "Banqueta en ninguna vialidad      Manzanas que cuentan con banqueta en ninguna v...\n",
       "No especificado                   Manzanas en donde no se ha especificado si cue..."
      ]
     },
     "execution_count": 319,
     "metadata": {},
     "output_type": "execute_result"
    }
   ],
   "source": [
    "# Descripciones de columnas\n",
    "variables = {\n",
    "    'Total de manzanas': 'Total de manzanas',\n",
    "    'Banqueta en todas las vialidades': 'Manzanas que cuentan con banqueta en todas las vialidades',\n",
    "    'Banqueta en alguna vialidad': 'Manzanas que cuentan con banqueta en alguna vialidad',\n",
    "    'Banqueta en ninguna vialidad': 'Manzanas que cuentan con banqueta en ninguna vialidad',\n",
    "    'No especificado': 'Manzanas en donde no se ha especificado si cuenta o no con banqueta'\n",
    "}\n",
    "\n",
    "P0705vars = pd.DataFrame.from_dict(variables, orient='index', dtype=None)\n",
    "P0705vars.columns = ['Descripcion']\n",
    "P0705vars = P0705vars.rename_axis('Mnemonico')\n",
    "P0705vars"
   ]
  },
  {
   "cell_type": "code",
   "execution_count": 320,
   "metadata": {
    "scrolled": false
   },
   "outputs": [
    {
     "name": "stdout",
     "output_type": "stream",
     "text": [
      "---------------TERMINADO---------------\n"
     ]
    }
   ],
   "source": [
    "# Guardar el dataset\n",
    "file = r'D:\\PCCS\\01_Dmine\\Datasets\\CLEU\\P0705.xlsx'\n",
    "writer = pd.ExcelWriter(file)\n",
    "P0705.to_excel(writer, sheet_name = 'DATOS')\n",
    "P0705meta.to_excel(writer, sheet_name = 'METADATOS')\n",
    "P0705vars.to_excel(writer, sheet_name = 'VARIABLES')\n",
    "writer.save()\n",
    "print('---------------TERMINADO---------------')"
   ]
  },
  {
   "cell_type": "markdown",
   "metadata": {
    "collapsed": true
   },
   "source": [
    "### Limpieza de dataset para P0706: Vialidades con guarnición"
   ]
  },
  {
   "cell_type": "code",
   "execution_count": 271,
   "metadata": {
    "scrolled": false
   },
   "outputs": [
    {
     "data": {
      "text/plain": [
       "'Manzanas por entidad federativa, municipio, localidad y disponibilidad de banqueta según disponibilidad de guarnición en sus vialidades'"
      ]
     },
     "execution_count": 271,
     "metadata": {},
     "output_type": "execute_result"
    }
   ],
   "source": [
    "nom_hojas['P0706']"
   ]
  },
  {
   "cell_type": "code",
   "execution_count": 272,
   "metadata": {
    "scrolled": false
   },
   "outputs": [
    {
     "data": {
      "text/html": [
       "<div>\n",
       "<style>\n",
       "    .dataframe thead tr:only-child th {\n",
       "        text-align: right;\n",
       "    }\n",
       "\n",
       "    .dataframe thead th {\n",
       "        text-align: left;\n",
       "    }\n",
       "\n",
       "    .dataframe tbody tr th {\n",
       "        vertical-align: top;\n",
       "    }\n",
       "</style>\n",
       "<table border=\"1\" class=\"dataframe\">\n",
       "  <thead>\n",
       "    <tr style=\"text-align: right;\">\n",
       "      <th></th>\n",
       "      <th>Disponibilidad de banqueta</th>\n",
       "      <th>Total de manzanas</th>\n",
       "      <th>Guarnicion en Todas las vialidades</th>\n",
       "      <th>Guarnicion en Alguna vialidad</th>\n",
       "      <th>Guarnicion en Ninguna vialidad</th>\n",
       "      <th>Guarnicion No especificado</th>\n",
       "    </tr>\n",
       "    <tr>\n",
       "      <th>CVE_MUN</th>\n",
       "      <th></th>\n",
       "      <th></th>\n",
       "      <th></th>\n",
       "      <th></th>\n",
       "      <th></th>\n",
       "      <th></th>\n",
       "    </tr>\n",
       "  </thead>\n",
       "  <tbody>\n",
       "    <tr>\n",
       "      <th>01001</th>\n",
       "      <td>Total</td>\n",
       "      <td>9419.0</td>\n",
       "      <td>6448.0</td>\n",
       "      <td>2356.0</td>\n",
       "      <td>359.0</td>\n",
       "      <td>256.0</td>\n",
       "    </tr>\n",
       "    <tr>\n",
       "      <th>01001</th>\n",
       "      <td>Banqueta en todas las vialidades</td>\n",
       "      <td>6609.0</td>\n",
       "      <td>6197.0</td>\n",
       "      <td>346.0</td>\n",
       "      <td>66.0</td>\n",
       "      <td>0.0</td>\n",
       "    </tr>\n",
       "    <tr>\n",
       "      <th>01001</th>\n",
       "      <td>Banqueta en alguna vialidad</td>\n",
       "      <td>2166.0</td>\n",
       "      <td>180.0</td>\n",
       "      <td>1952.0</td>\n",
       "      <td>34.0</td>\n",
       "      <td>0.0</td>\n",
       "    </tr>\n",
       "    <tr>\n",
       "      <th>01001</th>\n",
       "      <td>Banqueta en ninguna vialidad</td>\n",
       "      <td>388.0</td>\n",
       "      <td>71.0</td>\n",
       "      <td>58.0</td>\n",
       "      <td>259.0</td>\n",
       "      <td>0.0</td>\n",
       "    </tr>\n",
       "    <tr>\n",
       "      <th>01001</th>\n",
       "      <td>No especificado</td>\n",
       "      <td>256.0</td>\n",
       "      <td>0.0</td>\n",
       "      <td>0.0</td>\n",
       "      <td>0.0</td>\n",
       "      <td>256.0</td>\n",
       "    </tr>\n",
       "  </tbody>\n",
       "</table>\n",
       "</div>"
      ],
      "text/plain": [
       "               Disponibilidad de banqueta  Total de manzanas  \\\n",
       "CVE_MUN                                                        \n",
       "01001                               Total             9419.0   \n",
       "01001    Banqueta en todas las vialidades             6609.0   \n",
       "01001         Banqueta en alguna vialidad             2166.0   \n",
       "01001        Banqueta en ninguna vialidad              388.0   \n",
       "01001                     No especificado              256.0   \n",
       "\n",
       "         Guarnicion en Todas las vialidades  Guarnicion en Alguna vialidad  \\\n",
       "CVE_MUN                                                                      \n",
       "01001                                6448.0                         2356.0   \n",
       "01001                                6197.0                          346.0   \n",
       "01001                                 180.0                         1952.0   \n",
       "01001                                  71.0                           58.0   \n",
       "01001                                   0.0                            0.0   \n",
       "\n",
       "         Guarnicion en Ninguna vialidad  Guarnicion No especificado  \n",
       "CVE_MUN                                                              \n",
       "01001                             359.0                       256.0  \n",
       "01001                              66.0                         0.0  \n",
       "01001                              34.0                         0.0  \n",
       "01001                             259.0                         0.0  \n",
       "01001                               0.0                       256.0  "
      ]
     },
     "execution_count": 272,
     "metadata": {},
     "output_type": "execute_result"
    }
   ],
   "source": [
    "# Dataset base\n",
    "P0706_raw = datasets['P0706']\n",
    "P0706_raw.head()"
   ]
  },
  {
   "cell_type": "code",
   "execution_count": 273,
   "metadata": {
    "scrolled": true
   },
   "outputs": [
    {
     "data": {
      "text/plain": [
       "['Disponibilidad de banqueta',\n",
       " 'Total de manzanas',\n",
       " 'Guarnicion en Todas las vialidades',\n",
       " 'Guarnicion en Alguna vialidad',\n",
       " 'Guarnicion en Ninguna vialidad',\n",
       " 'Guarnicion No especificado']"
      ]
     },
     "execution_count": 273,
     "metadata": {},
     "output_type": "execute_result"
    }
   ],
   "source": [
    "list(P0706_raw)"
   ]
  },
  {
   "cell_type": "code",
   "execution_count": 274,
   "metadata": {
    "scrolled": false
   },
   "outputs": [
    {
     "data": {
      "text/html": [
       "<div>\n",
       "<style>\n",
       "    .dataframe thead tr:only-child th {\n",
       "        text-align: right;\n",
       "    }\n",
       "\n",
       "    .dataframe thead th {\n",
       "        text-align: left;\n",
       "    }\n",
       "\n",
       "    .dataframe tbody tr th {\n",
       "        vertical-align: top;\n",
       "    }\n",
       "</style>\n",
       "<table border=\"1\" class=\"dataframe\">\n",
       "  <thead>\n",
       "    <tr style=\"text-align: right;\">\n",
       "      <th></th>\n",
       "      <th>Total de manzanas</th>\n",
       "      <th>Guarnicion en Todas las vialidades</th>\n",
       "      <th>Guarnicion en Alguna vialidad</th>\n",
       "      <th>Guarnicion en Ninguna vialidad</th>\n",
       "      <th>Guarnicion No especificado</th>\n",
       "    </tr>\n",
       "    <tr>\n",
       "      <th>CVE_MUN</th>\n",
       "      <th></th>\n",
       "      <th></th>\n",
       "      <th></th>\n",
       "      <th></th>\n",
       "      <th></th>\n",
       "    </tr>\n",
       "  </thead>\n",
       "  <tbody>\n",
       "    <tr>\n",
       "      <th>01001</th>\n",
       "      <td>9419.0</td>\n",
       "      <td>6448.0</td>\n",
       "      <td>2356.0</td>\n",
       "      <td>359.0</td>\n",
       "      <td>256.0</td>\n",
       "    </tr>\n",
       "    <tr>\n",
       "      <th>01002</th>\n",
       "      <td>140.0</td>\n",
       "      <td>32.0</td>\n",
       "      <td>61.0</td>\n",
       "      <td>47.0</td>\n",
       "      <td>0.0</td>\n",
       "    </tr>\n",
       "    <tr>\n",
       "      <th>01003</th>\n",
       "      <td>585.0</td>\n",
       "      <td>219.0</td>\n",
       "      <td>283.0</td>\n",
       "      <td>83.0</td>\n",
       "      <td>0.0</td>\n",
       "    </tr>\n",
       "    <tr>\n",
       "      <th>01004</th>\n",
       "      <td>144.0</td>\n",
       "      <td>74.0</td>\n",
       "      <td>50.0</td>\n",
       "      <td>20.0</td>\n",
       "      <td>0.0</td>\n",
       "    </tr>\n",
       "    <tr>\n",
       "      <th>01005</th>\n",
       "      <td>1195.0</td>\n",
       "      <td>663.0</td>\n",
       "      <td>403.0</td>\n",
       "      <td>98.0</td>\n",
       "      <td>31.0</td>\n",
       "    </tr>\n",
       "  </tbody>\n",
       "</table>\n",
       "</div>"
      ],
      "text/plain": [
       "         Total de manzanas  Guarnicion en Todas las vialidades  \\\n",
       "CVE_MUN                                                          \n",
       "01001               9419.0                              6448.0   \n",
       "01002                140.0                                32.0   \n",
       "01003                585.0                               219.0   \n",
       "01004                144.0                                74.0   \n",
       "01005               1195.0                               663.0   \n",
       "\n",
       "         Guarnicion en Alguna vialidad  Guarnicion en Ninguna vialidad  \\\n",
       "CVE_MUN                                                                  \n",
       "01001                           2356.0                           359.0   \n",
       "01002                             61.0                            47.0   \n",
       "01003                            283.0                            83.0   \n",
       "01004                             50.0                            20.0   \n",
       "01005                            403.0                            98.0   \n",
       "\n",
       "         Guarnicion No especificado  \n",
       "CVE_MUN                              \n",
       "01001                         256.0  \n",
       "01002                           0.0  \n",
       "01003                           0.0  \n",
       "01004                           0.0  \n",
       "01005                          31.0  "
      ]
     },
     "execution_count": 274,
     "metadata": {},
     "output_type": "execute_result"
    }
   ],
   "source": [
    "# Solo nos interesan los renglones con totales\n",
    "P0706 = P0706_raw[P0706_raw['Disponibilidad de banqueta'] == 'Total']\n",
    "\n",
    "# Y podemos quitar la columna \"Disponibilidad de alumbrado público\"\n",
    "del(P0706['Disponibilidad de banqueta'])\n",
    "P0706.head()"
   ]
  },
  {
   "cell_type": "code",
   "execution_count": 275,
   "metadata": {
    "scrolled": true
   },
   "outputs": [
    {
     "data": {
      "text/plain": [
       "{'P0702': 'TEU07',\n",
       " 'P0703': 'TEU07',\n",
       " 'P0704': 'TEU12',\n",
       " 'P0705': 'TEU02',\n",
       " 'P0706': 'TEU03',\n",
       " 'P0713': 'TEU04'}"
      ]
     },
     "execution_count": 275,
     "metadata": {},
     "output_type": "execute_result"
    }
   ],
   "source": [
    "hojas"
   ]
  },
  {
   "cell_type": "code",
   "execution_count": 276,
   "metadata": {
    "scrolled": false
   },
   "outputs": [
    {
     "data": {
      "text/html": [
       "<div>\n",
       "<style>\n",
       "    .dataframe thead tr:only-child th {\n",
       "        text-align: right;\n",
       "    }\n",
       "\n",
       "    .dataframe thead th {\n",
       "        text-align: left;\n",
       "    }\n",
       "\n",
       "    .dataframe tbody tr th {\n",
       "        vertical-align: top;\n",
       "    }\n",
       "</style>\n",
       "<table border=\"1\" class=\"dataframe\">\n",
       "  <thead>\n",
       "    <tr style=\"text-align: right;\">\n",
       "      <th></th>\n",
       "      <th>Descripcion</th>\n",
       "    </tr>\n",
       "    <tr>\n",
       "      <th>Metadato</th>\n",
       "      <th></th>\n",
       "    </tr>\n",
       "  </thead>\n",
       "  <tbody>\n",
       "    <tr>\n",
       "      <th>Nombre del Dataset</th>\n",
       "      <td>Características de las localidades y del entor...</td>\n",
       "    </tr>\n",
       "    <tr>\n",
       "      <th>Descripcion del dataset</th>\n",
       "      <td>Manzanas por municipio segun disponibilidad de...</td>\n",
       "    </tr>\n",
       "    <tr>\n",
       "      <th>Disponibilidad Temporal</th>\n",
       "      <td>2014</td>\n",
       "    </tr>\n",
       "    <tr>\n",
       "      <th>Periodo de actualizacion</th>\n",
       "      <td>No Determinada</td>\n",
       "    </tr>\n",
       "    <tr>\n",
       "      <th>Nivel de Desagregacion</th>\n",
       "      <td>Localidad, Municipal, Estatal, Nacional</td>\n",
       "    </tr>\n",
       "    <tr>\n",
       "      <th>Notas</th>\n",
       "      <td>Se presentan los resultados de 3,993 localidad...</td>\n",
       "    </tr>\n",
       "    <tr>\n",
       "      <th>Fuente</th>\n",
       "      <td>INEGI</td>\n",
       "    </tr>\n",
       "    <tr>\n",
       "      <th>URL_Fuente</th>\n",
       "      <td>http://www.beta.inegi.org.mx/proyectos/encotra...</td>\n",
       "    </tr>\n",
       "    <tr>\n",
       "      <th>Dataset base</th>\n",
       "      <td>None</td>\n",
       "    </tr>\n",
       "  </tbody>\n",
       "</table>\n",
       "</div>"
      ],
      "text/plain": [
       "                                                                Descripcion\n",
       "Metadato                                                                   \n",
       "Nombre del Dataset        Características de las localidades y del entor...\n",
       "Descripcion del dataset   Manzanas por municipio segun disponibilidad de...\n",
       "Disponibilidad Temporal                                                2014\n",
       "Periodo de actualizacion                                     No Determinada\n",
       "Nivel de Desagregacion              Localidad, Municipal, Estatal, Nacional\n",
       "Notas                     Se presentan los resultados de 3,993 localidad...\n",
       "Fuente                                                                INEGI\n",
       "URL_Fuente                http://www.beta.inegi.org.mx/proyectos/encotra...\n",
       "Dataset base                                                           None"
      ]
     },
     "execution_count": 276,
     "metadata": {},
     "output_type": "execute_result"
    }
   ],
   "source": [
    "# metadatos especificos para este parametro\n",
    "metadatos['Descripcion del dataset'] = 'Manzanas por municipio segun disponibilidad de guarnición en sus vialidades'\n",
    "metadatos['Notas'] = 'Se presentan los resultados de 3,993 localidades con información de entorno urbano. Se excluyen 35,839 manzanas que corresponden a edificios de conjuntos habitacionales.'\n",
    "\n",
    "# Convertir metadatos a dataframe\n",
    "P0706meta = pd.DataFrame.from_dict(metadatos, orient='index', dtype=None)\n",
    "P0706meta.columns = ['Descripcion']\n",
    "P0706meta = P0706meta.rename_axis('Metadato')\n",
    "P0706meta"
   ]
  },
  {
   "cell_type": "code",
   "execution_count": 277,
   "metadata": {
    "scrolled": false
   },
   "outputs": [
    {
     "data": {
      "text/plain": [
       "['Total de manzanas',\n",
       " 'Guarnicion en Todas las vialidades',\n",
       " 'Guarnicion en Alguna vialidad',\n",
       " 'Guarnicion en Ninguna vialidad',\n",
       " 'Guarnicion No especificado']"
      ]
     },
     "execution_count": 277,
     "metadata": {},
     "output_type": "execute_result"
    }
   ],
   "source": [
    "# Que Variables tiene este dataset?\n",
    "list(P0706)"
   ]
  },
  {
   "cell_type": "code",
   "execution_count": 287,
   "metadata": {
    "scrolled": false
   },
   "outputs": [
    {
     "data": {
      "text/html": [
       "<div>\n",
       "<style>\n",
       "    .dataframe thead tr:only-child th {\n",
       "        text-align: right;\n",
       "    }\n",
       "\n",
       "    .dataframe thead th {\n",
       "        text-align: left;\n",
       "    }\n",
       "\n",
       "    .dataframe tbody tr th {\n",
       "        vertical-align: top;\n",
       "    }\n",
       "</style>\n",
       "<table border=\"1\" class=\"dataframe\">\n",
       "  <thead>\n",
       "    <tr style=\"text-align: right;\">\n",
       "      <th></th>\n",
       "      <th>Descripcion</th>\n",
       "    </tr>\n",
       "    <tr>\n",
       "      <th>Mnemonico</th>\n",
       "      <th></th>\n",
       "    </tr>\n",
       "  </thead>\n",
       "  <tbody>\n",
       "    <tr>\n",
       "      <th>Total de manzanas</th>\n",
       "      <td>Total de manzanas</td>\n",
       "    </tr>\n",
       "    <tr>\n",
       "      <th>Guarnicion en Todas las vialidades</th>\n",
       "      <td>Manzanas con guarnicion en Todas las vialidades</td>\n",
       "    </tr>\n",
       "    <tr>\n",
       "      <th>Guarnicion en Alguna vialidad</th>\n",
       "      <td>Manzanas con guarnicion en Alguna vialidad</td>\n",
       "    </tr>\n",
       "    <tr>\n",
       "      <th>Guarnicion en Ninguna vialidad</th>\n",
       "      <td>Manzanas con guarnicion en Ninguna vialidad</td>\n",
       "    </tr>\n",
       "    <tr>\n",
       "      <th>Guarnicion No especificado</th>\n",
       "      <td>Manzanas en donde no se ha especificado si cue...</td>\n",
       "    </tr>\n",
       "  </tbody>\n",
       "</table>\n",
       "</div>"
      ],
      "text/plain": [
       "                                                                          Descripcion\n",
       "Mnemonico                                                                            \n",
       "Total de manzanas                                                   Total de manzanas\n",
       "Guarnicion en Todas las vialidades    Manzanas con guarnicion en Todas las vialidades\n",
       "Guarnicion en Alguna vialidad              Manzanas con guarnicion en Alguna vialidad\n",
       "Guarnicion en Ninguna vialidad            Manzanas con guarnicion en Ninguna vialidad\n",
       "Guarnicion No especificado          Manzanas en donde no se ha especificado si cue..."
      ]
     },
     "execution_count": 287,
     "metadata": {},
     "output_type": "execute_result"
    }
   ],
   "source": [
    "# Descripciones de columnas\n",
    "variables = {\n",
    "    'Total de manzanas': 'Total de manzanas',\n",
    "    'Guarnicion en Todas las vialidades': 'Manzanas con guarnicion en Todas las vialidades',\n",
    "    'Guarnicion en Alguna vialidad': 'Manzanas con guarnicion en Alguna vialidad',\n",
    "    'Guarnicion en Ninguna vialidad': 'Manzanas con guarnicion en Ninguna vialidad',\n",
    "    'Guarnicion No especificado': 'Manzanas en donde no se ha especificado si cuenta o no con guarnicion'\n",
    "}\n",
    "\n",
    "P0706vars = pd.DataFrame.from_dict(variables, orient='index', dtype=None)\n",
    "P0706vars.columns = ['Descripcion']\n",
    "P0706vars = P0706vars.rename_axis('Mnemonico')\n",
    "P0706vars"
   ]
  },
  {
   "cell_type": "code",
   "execution_count": 288,
   "metadata": {},
   "outputs": [
    {
     "name": "stdout",
     "output_type": "stream",
     "text": [
      "---------------TERMINADO---------------\n"
     ]
    }
   ],
   "source": [
    "# Guardar el dataset\n",
    "file = r'D:\\PCCS\\01_Dmine\\Datasets\\CLEU\\P0706.xlsx'\n",
    "writer = pd.ExcelWriter(file)\n",
    "P0706.to_excel(writer, sheet_name = 'DATOS')\n",
    "P0706meta.to_excel(writer, sheet_name = 'METADATOS')\n",
    "P0706vars.to_excel(writer, sheet_name = 'VARIABLES')\n",
    "writer.save()\n",
    "print('---------------TERMINADO---------------')"
   ]
  },
  {
   "cell_type": "markdown",
   "metadata": {},
   "source": [
    "### Limpieza de dataset para P0713: Vialidades con rampa para silla de ruedas"
   ]
  },
  {
   "cell_type": "code",
   "execution_count": 280,
   "metadata": {
    "scrolled": true
   },
   "outputs": [
    {
     "data": {
      "text/plain": [
       "'Manzanas por entidad federativa, municipio, localidad y disponibilidad de banqueta según disponibilidad de rampa para silla de ruedas en sus vialidades'"
      ]
     },
     "execution_count": 280,
     "metadata": {},
     "output_type": "execute_result"
    }
   ],
   "source": [
    "nom_hojas['P0713']"
   ]
  },
  {
   "cell_type": "code",
   "execution_count": 281,
   "metadata": {
    "scrolled": true
   },
   "outputs": [
    {
     "data": {
      "text/html": [
       "<div>\n",
       "<style>\n",
       "    .dataframe thead tr:only-child th {\n",
       "        text-align: right;\n",
       "    }\n",
       "\n",
       "    .dataframe thead th {\n",
       "        text-align: left;\n",
       "    }\n",
       "\n",
       "    .dataframe tbody tr th {\n",
       "        vertical-align: top;\n",
       "    }\n",
       "</style>\n",
       "<table border=\"1\" class=\"dataframe\">\n",
       "  <thead>\n",
       "    <tr style=\"text-align: right;\">\n",
       "      <th></th>\n",
       "      <th>Disponibilidad de banqueta</th>\n",
       "      <th>Total de manzanas</th>\n",
       "      <th>Rampa en Todas las vialidades</th>\n",
       "      <th>Rampa en Alguna vialidad</th>\n",
       "      <th>Rampa en Ninguna vialidad</th>\n",
       "      <th>Rampa No especificado</th>\n",
       "    </tr>\n",
       "    <tr>\n",
       "      <th>CVE_MUN</th>\n",
       "      <th></th>\n",
       "      <th></th>\n",
       "      <th></th>\n",
       "      <th></th>\n",
       "      <th></th>\n",
       "      <th></th>\n",
       "    </tr>\n",
       "  </thead>\n",
       "  <tbody>\n",
       "    <tr>\n",
       "      <th>01001</th>\n",
       "      <td>Total</td>\n",
       "      <td>9419.0</td>\n",
       "      <td>1920.0</td>\n",
       "      <td>2741.0</td>\n",
       "      <td>4502.0</td>\n",
       "      <td>256.0</td>\n",
       "    </tr>\n",
       "    <tr>\n",
       "      <th>01001</th>\n",
       "      <td>Banqueta en todas las vialidades</td>\n",
       "      <td>6609.0</td>\n",
       "      <td>1919.0</td>\n",
       "      <td>1624.0</td>\n",
       "      <td>3066.0</td>\n",
       "      <td>0.0</td>\n",
       "    </tr>\n",
       "    <tr>\n",
       "      <th>01001</th>\n",
       "      <td>Banqueta en alguna vialidad</td>\n",
       "      <td>2166.0</td>\n",
       "      <td>1.0</td>\n",
       "      <td>1117.0</td>\n",
       "      <td>1048.0</td>\n",
       "      <td>0.0</td>\n",
       "    </tr>\n",
       "    <tr>\n",
       "      <th>01001</th>\n",
       "      <td>Banqueta en ninguna vialidad</td>\n",
       "      <td>388.0</td>\n",
       "      <td>0.0</td>\n",
       "      <td>0.0</td>\n",
       "      <td>388.0</td>\n",
       "      <td>0.0</td>\n",
       "    </tr>\n",
       "    <tr>\n",
       "      <th>01001</th>\n",
       "      <td>No especificado</td>\n",
       "      <td>256.0</td>\n",
       "      <td>0.0</td>\n",
       "      <td>0.0</td>\n",
       "      <td>0.0</td>\n",
       "      <td>256.0</td>\n",
       "    </tr>\n",
       "  </tbody>\n",
       "</table>\n",
       "</div>"
      ],
      "text/plain": [
       "               Disponibilidad de banqueta  Total de manzanas  \\\n",
       "CVE_MUN                                                        \n",
       "01001                               Total             9419.0   \n",
       "01001    Banqueta en todas las vialidades             6609.0   \n",
       "01001         Banqueta en alguna vialidad             2166.0   \n",
       "01001        Banqueta en ninguna vialidad              388.0   \n",
       "01001                     No especificado              256.0   \n",
       "\n",
       "         Rampa en Todas las vialidades  Rampa en Alguna vialidad  \\\n",
       "CVE_MUN                                                            \n",
       "01001                           1920.0                    2741.0   \n",
       "01001                           1919.0                    1624.0   \n",
       "01001                              1.0                    1117.0   \n",
       "01001                              0.0                       0.0   \n",
       "01001                              0.0                       0.0   \n",
       "\n",
       "         Rampa en Ninguna vialidad  Rampa No especificado  \n",
       "CVE_MUN                                                    \n",
       "01001                       4502.0                  256.0  \n",
       "01001                       3066.0                    0.0  \n",
       "01001                       1048.0                    0.0  \n",
       "01001                        388.0                    0.0  \n",
       "01001                          0.0                  256.0  "
      ]
     },
     "execution_count": 281,
     "metadata": {},
     "output_type": "execute_result"
    }
   ],
   "source": [
    "# Dataset base\n",
    "P0713_raw = datasets['P0713']\n",
    "P0713_raw.head()"
   ]
  },
  {
   "cell_type": "code",
   "execution_count": 282,
   "metadata": {
    "scrolled": true
   },
   "outputs": [
    {
     "data": {
      "text/plain": [
       "['Disponibilidad de banqueta',\n",
       " 'Total de manzanas',\n",
       " 'Rampa en Todas las vialidades',\n",
       " 'Rampa en Alguna vialidad',\n",
       " 'Rampa en Ninguna vialidad',\n",
       " 'Rampa No especificado']"
      ]
     },
     "execution_count": 282,
     "metadata": {},
     "output_type": "execute_result"
    }
   ],
   "source": [
    "list(P0713_raw)"
   ]
  },
  {
   "cell_type": "code",
   "execution_count": 283,
   "metadata": {
    "scrolled": false
   },
   "outputs": [
    {
     "data": {
      "text/html": [
       "<div>\n",
       "<style>\n",
       "    .dataframe thead tr:only-child th {\n",
       "        text-align: right;\n",
       "    }\n",
       "\n",
       "    .dataframe thead th {\n",
       "        text-align: left;\n",
       "    }\n",
       "\n",
       "    .dataframe tbody tr th {\n",
       "        vertical-align: top;\n",
       "    }\n",
       "</style>\n",
       "<table border=\"1\" class=\"dataframe\">\n",
       "  <thead>\n",
       "    <tr style=\"text-align: right;\">\n",
       "      <th></th>\n",
       "      <th>Total de manzanas</th>\n",
       "      <th>Rampa en Todas las vialidades</th>\n",
       "      <th>Rampa en Alguna vialidad</th>\n",
       "      <th>Rampa en Ninguna vialidad</th>\n",
       "      <th>Rampa No especificado</th>\n",
       "    </tr>\n",
       "    <tr>\n",
       "      <th>CVE_MUN</th>\n",
       "      <th></th>\n",
       "      <th></th>\n",
       "      <th></th>\n",
       "      <th></th>\n",
       "      <th></th>\n",
       "    </tr>\n",
       "  </thead>\n",
       "  <tbody>\n",
       "    <tr>\n",
       "      <th>01001</th>\n",
       "      <td>9419.0</td>\n",
       "      <td>1920.0</td>\n",
       "      <td>2741.0</td>\n",
       "      <td>4502.0</td>\n",
       "      <td>256.0</td>\n",
       "    </tr>\n",
       "    <tr>\n",
       "      <th>01002</th>\n",
       "      <td>140.0</td>\n",
       "      <td>0.0</td>\n",
       "      <td>5.0</td>\n",
       "      <td>135.0</td>\n",
       "      <td>0.0</td>\n",
       "    </tr>\n",
       "    <tr>\n",
       "      <th>01003</th>\n",
       "      <td>585.0</td>\n",
       "      <td>3.0</td>\n",
       "      <td>36.0</td>\n",
       "      <td>545.0</td>\n",
       "      <td>1.0</td>\n",
       "    </tr>\n",
       "    <tr>\n",
       "      <th>01004</th>\n",
       "      <td>144.0</td>\n",
       "      <td>3.0</td>\n",
       "      <td>18.0</td>\n",
       "      <td>123.0</td>\n",
       "      <td>0.0</td>\n",
       "    </tr>\n",
       "    <tr>\n",
       "      <th>01005</th>\n",
       "      <td>1195.0</td>\n",
       "      <td>272.0</td>\n",
       "      <td>323.0</td>\n",
       "      <td>569.0</td>\n",
       "      <td>31.0</td>\n",
       "    </tr>\n",
       "  </tbody>\n",
       "</table>\n",
       "</div>"
      ],
      "text/plain": [
       "         Total de manzanas  Rampa en Todas las vialidades  \\\n",
       "CVE_MUN                                                     \n",
       "01001               9419.0                         1920.0   \n",
       "01002                140.0                            0.0   \n",
       "01003                585.0                            3.0   \n",
       "01004                144.0                            3.0   \n",
       "01005               1195.0                          272.0   \n",
       "\n",
       "         Rampa en Alguna vialidad  Rampa en Ninguna vialidad  \\\n",
       "CVE_MUN                                                        \n",
       "01001                      2741.0                     4502.0   \n",
       "01002                         5.0                      135.0   \n",
       "01003                        36.0                      545.0   \n",
       "01004                        18.0                      123.0   \n",
       "01005                       323.0                      569.0   \n",
       "\n",
       "         Rampa No especificado  \n",
       "CVE_MUN                         \n",
       "01001                    256.0  \n",
       "01002                      0.0  \n",
       "01003                      1.0  \n",
       "01004                      0.0  \n",
       "01005                     31.0  "
      ]
     },
     "execution_count": 283,
     "metadata": {},
     "output_type": "execute_result"
    }
   ],
   "source": [
    "# Solo nos interesan los renglones con totales\n",
    "P0713 = P0713_raw[P0713_raw['Disponibilidad de banqueta'] == 'Total']\n",
    "\n",
    "# Y podemos quitar la columna \"Disponibilidad de alumbrado público\"\n",
    "del(P0713['Disponibilidad de banqueta'])\n",
    "P0713.head()"
   ]
  },
  {
   "cell_type": "code",
   "execution_count": 284,
   "metadata": {
    "scrolled": false
   },
   "outputs": [
    {
     "data": {
      "text/plain": [
       "{'Dataset base': None,\n",
       " 'Descripcion del dataset': 'Manzanas por municipio segun disponibilidad de guarnición en sus vialidades',\n",
       " 'Disponibilidad Temporal': '2014',\n",
       " 'Fuente': 'INEGI',\n",
       " 'Nivel de Desagregacion': 'Localidad, Municipal, Estatal, Nacional',\n",
       " 'Nombre del Dataset': 'Características de las localidades y del entorno urbano 2014',\n",
       " 'Notas': 'Se presentan los resultados de 3,993 localidades con información de entorno urbano.\\xa0Se excluyen 35,839 manzanas que corresponden a edificios de conjuntos habitacionales.',\n",
       " 'Periodo de actualizacion': 'No Determinada',\n",
       " 'URL_Fuente': 'http://www.beta.inegi.org.mx/proyectos/encotras/cleu/2014/'}"
      ]
     },
     "execution_count": 284,
     "metadata": {},
     "output_type": "execute_result"
    }
   ],
   "source": [
    "metadatos"
   ]
  },
  {
   "cell_type": "code",
   "execution_count": 285,
   "metadata": {
    "scrolled": false
   },
   "outputs": [
    {
     "data": {
      "text/html": [
       "<div>\n",
       "<style>\n",
       "    .dataframe thead tr:only-child th {\n",
       "        text-align: right;\n",
       "    }\n",
       "\n",
       "    .dataframe thead th {\n",
       "        text-align: left;\n",
       "    }\n",
       "\n",
       "    .dataframe tbody tr th {\n",
       "        vertical-align: top;\n",
       "    }\n",
       "</style>\n",
       "<table border=\"1\" class=\"dataframe\">\n",
       "  <thead>\n",
       "    <tr style=\"text-align: right;\">\n",
       "      <th></th>\n",
       "      <th>Descripcion</th>\n",
       "    </tr>\n",
       "    <tr>\n",
       "      <th>Metadato</th>\n",
       "      <th></th>\n",
       "    </tr>\n",
       "  </thead>\n",
       "  <tbody>\n",
       "    <tr>\n",
       "      <th>Nombre del Dataset</th>\n",
       "      <td>Características de las localidades y del entor...</td>\n",
       "    </tr>\n",
       "    <tr>\n",
       "      <th>Descripcion del dataset</th>\n",
       "      <td>Manzanas municipio según disponibilidad de ram...</td>\n",
       "    </tr>\n",
       "    <tr>\n",
       "      <th>Disponibilidad Temporal</th>\n",
       "      <td>2014</td>\n",
       "    </tr>\n",
       "    <tr>\n",
       "      <th>Periodo de actualizacion</th>\n",
       "      <td>No Determinada</td>\n",
       "    </tr>\n",
       "    <tr>\n",
       "      <th>Nivel de Desagregacion</th>\n",
       "      <td>Localidad, Municipal, Estatal, Nacional</td>\n",
       "    </tr>\n",
       "    <tr>\n",
       "      <th>Notas</th>\n",
       "      <td>Total de vialidades que circundan cada manzana...</td>\n",
       "    </tr>\n",
       "    <tr>\n",
       "      <th>Fuente</th>\n",
       "      <td>INEGI</td>\n",
       "    </tr>\n",
       "    <tr>\n",
       "      <th>URL_Fuente</th>\n",
       "      <td>http://www.beta.inegi.org.mx/proyectos/encotra...</td>\n",
       "    </tr>\n",
       "    <tr>\n",
       "      <th>Dataset base</th>\n",
       "      <td>None</td>\n",
       "    </tr>\n",
       "  </tbody>\n",
       "</table>\n",
       "</div>"
      ],
      "text/plain": [
       "                                                                Descripcion\n",
       "Metadato                                                                   \n",
       "Nombre del Dataset        Características de las localidades y del entor...\n",
       "Descripcion del dataset   Manzanas municipio según disponibilidad de ram...\n",
       "Disponibilidad Temporal                                                2014\n",
       "Periodo de actualizacion                                     No Determinada\n",
       "Nivel de Desagregacion              Localidad, Municipal, Estatal, Nacional\n",
       "Notas                     Total de vialidades que circundan cada manzana...\n",
       "Fuente                                                                INEGI\n",
       "URL_Fuente                http://www.beta.inegi.org.mx/proyectos/encotra...\n",
       "Dataset base                                                           None"
      ]
     },
     "execution_count": 285,
     "metadata": {},
     "output_type": "execute_result"
    }
   ],
   "source": [
    "# metadatos especificos para este parametro\n",
    "metadatos['Descripcion del dataset'] = 'Manzanas municipio según disponibilidad de rampa para silla de ruedas en sus vialidades'\n",
    "metadatos['Notas'] = 'Total de vialidades que circundan cada manzana. Se presentan los resultados de 3,993 localidades con información de entorno urbano. Se excluyen 35,839 manzanas que corresponden a edificios de conjuntos habitacionales.'\n",
    "\n",
    "# Convertir metadatos a dataframe\n",
    "P0713meta = pd.DataFrame.from_dict(metadatos, orient='index', dtype=None)\n",
    "P0713meta.columns = ['Descripcion']\n",
    "P0713meta = P0713meta.rename_axis('Metadato')\n",
    "P0713meta"
   ]
  },
  {
   "cell_type": "code",
   "execution_count": 286,
   "metadata": {
    "scrolled": false
   },
   "outputs": [
    {
     "data": {
      "text/plain": [
       "['Total de manzanas',\n",
       " 'Rampa en Todas las vialidades',\n",
       " 'Rampa en Alguna vialidad',\n",
       " 'Rampa en Ninguna vialidad',\n",
       " 'Rampa No especificado']"
      ]
     },
     "execution_count": 286,
     "metadata": {},
     "output_type": "execute_result"
    }
   ],
   "source": [
    "# Que Variables tiene este dataset?\n",
    "list(P0713)"
   ]
  },
  {
   "cell_type": "code",
   "execution_count": 289,
   "metadata": {
    "scrolled": true
   },
   "outputs": [
    {
     "data": {
      "text/html": [
       "<div>\n",
       "<style>\n",
       "    .dataframe thead tr:only-child th {\n",
       "        text-align: right;\n",
       "    }\n",
       "\n",
       "    .dataframe thead th {\n",
       "        text-align: left;\n",
       "    }\n",
       "\n",
       "    .dataframe tbody tr th {\n",
       "        vertical-align: top;\n",
       "    }\n",
       "</style>\n",
       "<table border=\"1\" class=\"dataframe\">\n",
       "  <thead>\n",
       "    <tr style=\"text-align: right;\">\n",
       "      <th></th>\n",
       "      <th>Descripcion</th>\n",
       "    </tr>\n",
       "    <tr>\n",
       "      <th>Mnemonico</th>\n",
       "      <th></th>\n",
       "    </tr>\n",
       "  </thead>\n",
       "  <tbody>\n",
       "    <tr>\n",
       "      <th>Total de manzanas</th>\n",
       "      <td>Total de manzanas</td>\n",
       "    </tr>\n",
       "    <tr>\n",
       "      <th>Rampa en Todas las vialidades</th>\n",
       "      <td>Manzanas con rampa en Todas las vialidades</td>\n",
       "    </tr>\n",
       "    <tr>\n",
       "      <th>Rampa en Alguna vialidad</th>\n",
       "      <td>Manzanas con rampa en Alguna vialidad</td>\n",
       "    </tr>\n",
       "    <tr>\n",
       "      <th>Rampa en Ninguna vialidad</th>\n",
       "      <td>Manzanas con rampa en Ninguna vialidad</td>\n",
       "    </tr>\n",
       "    <tr>\n",
       "      <th>Rampa No especificado</th>\n",
       "      <td>Manzanas en donde no se ha especificado si cue...</td>\n",
       "    </tr>\n",
       "  </tbody>\n",
       "</table>\n",
       "</div>"
      ],
      "text/plain": [
       "                                                                     Descripcion\n",
       "Mnemonico                                                                       \n",
       "Total de manzanas                                              Total de manzanas\n",
       "Rampa en Todas las vialidades         Manzanas con rampa en Todas las vialidades\n",
       "Rampa en Alguna vialidad                   Manzanas con rampa en Alguna vialidad\n",
       "Rampa en Ninguna vialidad                 Manzanas con rampa en Ninguna vialidad\n",
       "Rampa No especificado          Manzanas en donde no se ha especificado si cue..."
      ]
     },
     "execution_count": 289,
     "metadata": {},
     "output_type": "execute_result"
    }
   ],
   "source": [
    "# Descripciones de columnas\n",
    "variables = {\n",
    "    'Total de manzanas': 'Total de manzanas',\n",
    "    'Rampa en Todas las vialidades': 'Manzanas con rampa en Todas las vialidades',\n",
    "    'Rampa en Alguna vialidad': 'Manzanas con rampa en Alguna vialidad',\n",
    "    'Rampa en Ninguna vialidad': 'Manzanas con rampa en Ninguna vialidad',\n",
    "    'Rampa No especificado': 'Manzanas en donde no se ha especificado si cuenta o no con rampa'\n",
    "}\n",
    "\n",
    "P0713vars = pd.DataFrame.from_dict(variables, orient='index', dtype=None)\n",
    "P0713vars.columns = ['Descripcion']\n",
    "P0713vars = P0713vars.rename_axis('Mnemonico')\n",
    "P0713vars"
   ]
  },
  {
   "cell_type": "code",
   "execution_count": 290,
   "metadata": {
    "scrolled": true
   },
   "outputs": [
    {
     "name": "stdout",
     "output_type": "stream",
     "text": [
      "---------------TERMINADO---------------\n"
     ]
    }
   ],
   "source": [
    "# Guardar el dataset\n",
    "file = r'D:\\PCCS\\01_Dmine\\Datasets\\CLEU\\P0713.xlsx'\n",
    "writer = pd.ExcelWriter(file)\n",
    "P0713.to_excel(writer, sheet_name = 'DATOS')\n",
    "P0713meta.to_excel(writer, sheet_name = 'METADATOS')\n",
    "P0713vars.to_excel(writer, sheet_name = 'VARIABLES')\n",
    "writer.save()\n",
    "print('---------------TERMINADO---------------')\n"
   ]
  }
 ],
 "metadata": {
  "kernelspec": {
   "display_name": "Python 3",
   "language": "python",
   "name": "python3"
  },
  "language_info": {
   "codemirror_mode": {
    "name": "ipython",
    "version": 3
   },
   "file_extension": ".py",
   "mimetype": "text/x-python",
   "name": "python",
   "nbconvert_exporter": "python",
   "pygments_lexer": "ipython3",
   "version": "3.6.1"
  }
 },
 "nbformat": 4,
 "nbformat_minor": 2
}
